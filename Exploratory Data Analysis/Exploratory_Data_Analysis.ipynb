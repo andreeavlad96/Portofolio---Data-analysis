{
 "cells": [
  {
   "cell_type": "markdown",
   "metadata": {},
   "source": [
    "# Research on car sales ads\n",
    "\n",
    "You're an analyst at Crankshaft List. Hundreds of free advertisements for vehicles are published on your site every day.\n",
    "\n",
    "You need to study data collected over the last few years and determine which factors influence the price of a vehicle. "
   ]
  },
  {
   "cell_type": "markdown",
   "metadata": {},
   "source": [
    "### Step 1. Open the data file and study the general information. "
   ]
  },
  {
   "cell_type": "code",
   "execution_count": 1,
   "metadata": {},
   "outputs": [],
   "source": [
    "import pandas as pd\n",
    "vehicles_us = pd.read_csv('/datasets/vehicles_us.csv')"
   ]
  },
  {
   "cell_type": "code",
   "execution_count": 2,
   "metadata": {},
   "outputs": [
    {
     "name": "stdout",
     "output_type": "stream",
     "text": [
      "<class 'pandas.core.frame.DataFrame'>\n",
      "RangeIndex: 51525 entries, 0 to 51524\n",
      "Data columns (total 13 columns):\n",
      "price           51525 non-null int64\n",
      "model_year      47906 non-null float64\n",
      "model           51525 non-null object\n",
      "condition       51525 non-null object\n",
      "cylinders       46265 non-null float64\n",
      "fuel            51525 non-null object\n",
      "odometer        43633 non-null float64\n",
      "transmission    51525 non-null object\n",
      "type            51525 non-null object\n",
      "paint_color     42258 non-null object\n",
      "is_4wd          25572 non-null float64\n",
      "date_posted     51525 non-null object\n",
      "days_listed     51525 non-null int64\n",
      "dtypes: float64(4), int64(2), object(7)\n",
      "memory usage: 5.1+ MB\n"
     ]
    }
   ],
   "source": [
    "vehicles_us.info()"
   ]
  },
  {
   "cell_type": "markdown",
   "metadata": {},
   "source": [
    "Just looking at the data types and column names I think there are some mistakes regarding the data types for some columns( like model_year, date_posted, and maybe is_4wd because if it should be something that implies a condition a boolean type will have much sense."
   ]
  },
  {
   "cell_type": "code",
   "execution_count": 3,
   "metadata": {
    "scrolled": false
   },
   "outputs": [
    {
     "data": {
      "text/html": [
       "<div>\n",
       "<style scoped>\n",
       "    .dataframe tbody tr th:only-of-type {\n",
       "        vertical-align: middle;\n",
       "    }\n",
       "\n",
       "    .dataframe tbody tr th {\n",
       "        vertical-align: top;\n",
       "    }\n",
       "\n",
       "    .dataframe thead th {\n",
       "        text-align: right;\n",
       "    }\n",
       "</style>\n",
       "<table border=\"1\" class=\"dataframe\">\n",
       "  <thead>\n",
       "    <tr style=\"text-align: right;\">\n",
       "      <th></th>\n",
       "      <th>price</th>\n",
       "      <th>model_year</th>\n",
       "      <th>model</th>\n",
       "      <th>condition</th>\n",
       "      <th>cylinders</th>\n",
       "      <th>fuel</th>\n",
       "      <th>odometer</th>\n",
       "      <th>transmission</th>\n",
       "      <th>type</th>\n",
       "      <th>paint_color</th>\n",
       "      <th>is_4wd</th>\n",
       "      <th>date_posted</th>\n",
       "      <th>days_listed</th>\n",
       "    </tr>\n",
       "  </thead>\n",
       "  <tbody>\n",
       "    <tr>\n",
       "      <td>0</td>\n",
       "      <td>9400</td>\n",
       "      <td>2011.0</td>\n",
       "      <td>bmw x5</td>\n",
       "      <td>good</td>\n",
       "      <td>6.0</td>\n",
       "      <td>gas</td>\n",
       "      <td>145000.0</td>\n",
       "      <td>automatic</td>\n",
       "      <td>SUV</td>\n",
       "      <td>NaN</td>\n",
       "      <td>1.0</td>\n",
       "      <td>2018-06-23</td>\n",
       "      <td>19</td>\n",
       "    </tr>\n",
       "    <tr>\n",
       "      <td>1</td>\n",
       "      <td>25500</td>\n",
       "      <td>NaN</td>\n",
       "      <td>ford f-150</td>\n",
       "      <td>good</td>\n",
       "      <td>6.0</td>\n",
       "      <td>gas</td>\n",
       "      <td>88705.0</td>\n",
       "      <td>automatic</td>\n",
       "      <td>pickup</td>\n",
       "      <td>white</td>\n",
       "      <td>1.0</td>\n",
       "      <td>2018-10-19</td>\n",
       "      <td>50</td>\n",
       "    </tr>\n",
       "    <tr>\n",
       "      <td>2</td>\n",
       "      <td>5500</td>\n",
       "      <td>2013.0</td>\n",
       "      <td>hyundai sonata</td>\n",
       "      <td>like new</td>\n",
       "      <td>4.0</td>\n",
       "      <td>gas</td>\n",
       "      <td>110000.0</td>\n",
       "      <td>automatic</td>\n",
       "      <td>sedan</td>\n",
       "      <td>red</td>\n",
       "      <td>NaN</td>\n",
       "      <td>2019-02-07</td>\n",
       "      <td>79</td>\n",
       "    </tr>\n",
       "    <tr>\n",
       "      <td>3</td>\n",
       "      <td>1500</td>\n",
       "      <td>2003.0</td>\n",
       "      <td>ford f-150</td>\n",
       "      <td>fair</td>\n",
       "      <td>8.0</td>\n",
       "      <td>gas</td>\n",
       "      <td>NaN</td>\n",
       "      <td>automatic</td>\n",
       "      <td>pickup</td>\n",
       "      <td>NaN</td>\n",
       "      <td>NaN</td>\n",
       "      <td>2019-03-22</td>\n",
       "      <td>9</td>\n",
       "    </tr>\n",
       "    <tr>\n",
       "      <td>4</td>\n",
       "      <td>14900</td>\n",
       "      <td>2017.0</td>\n",
       "      <td>chrysler 200</td>\n",
       "      <td>excellent</td>\n",
       "      <td>4.0</td>\n",
       "      <td>gas</td>\n",
       "      <td>80903.0</td>\n",
       "      <td>automatic</td>\n",
       "      <td>sedan</td>\n",
       "      <td>black</td>\n",
       "      <td>NaN</td>\n",
       "      <td>2019-04-02</td>\n",
       "      <td>28</td>\n",
       "    </tr>\n",
       "  </tbody>\n",
       "</table>\n",
       "</div>"
      ],
      "text/plain": [
       "   price  model_year           model  condition  cylinders fuel  odometer  \\\n",
       "0   9400      2011.0          bmw x5       good        6.0  gas  145000.0   \n",
       "1  25500         NaN      ford f-150       good        6.0  gas   88705.0   \n",
       "2   5500      2013.0  hyundai sonata   like new        4.0  gas  110000.0   \n",
       "3   1500      2003.0      ford f-150       fair        8.0  gas       NaN   \n",
       "4  14900      2017.0    chrysler 200  excellent        4.0  gas   80903.0   \n",
       "\n",
       "  transmission    type paint_color  is_4wd date_posted  days_listed  \n",
       "0    automatic     SUV         NaN     1.0  2018-06-23           19  \n",
       "1    automatic  pickup       white     1.0  2018-10-19           50  \n",
       "2    automatic   sedan         red     NaN  2019-02-07           79  \n",
       "3    automatic  pickup         NaN     NaN  2019-03-22            9  \n",
       "4    automatic   sedan       black     NaN  2019-04-02           28  "
      ]
     },
     "execution_count": 3,
     "metadata": {},
     "output_type": "execute_result"
    }
   ],
   "source": [
    "vehicles_us.head()"
   ]
  },
  {
   "cell_type": "markdown",
   "metadata": {},
   "source": [
    "As a fist view of the data I see that there are some _NaN_ values, probably they should be there or these are just unknown values.So I should try to understand why this happend,if possible find a connection with other data from the table and fill in  with something that will help my analysis before starting to process the data. "
   ]
  },
  {
   "cell_type": "markdown",
   "metadata": {},
   "source": [
    "### Step 2. Data preprocessing"
   ]
  },
  {
   "cell_type": "code",
   "execution_count": 4,
   "metadata": {},
   "outputs": [
    {
     "data": {
      "text/plain": [
       "price           0.000000\n",
       "model_year      0.070238\n",
       "model           0.000000\n",
       "condition       0.000000\n",
       "cylinders       0.102086\n",
       "fuel            0.000000\n",
       "odometer        0.153168\n",
       "transmission    0.000000\n",
       "type            0.000000\n",
       "paint_color     0.179854\n",
       "is_4wd          0.503697\n",
       "date_posted     0.000000\n",
       "days_listed     0.000000\n",
       "dtype: float64"
      ]
     },
     "execution_count": 4,
     "metadata": {},
     "output_type": "execute_result"
    }
   ],
   "source": [
    "vehicles_us.isnull().sum()/len(vehicles_us)"
   ]
  },
  {
   "cell_type": "markdown",
   "metadata": {},
   "source": [
    "So we have missing values in the following  columns: _model_year_, _cylinders_,_odometer,paint_color_ and _is_4wd_."
   ]
  },
  {
   "cell_type": "code",
   "execution_count": 5,
   "metadata": {},
   "outputs": [],
   "source": [
    "vehicles_us['price'].value_counts()\n",
    "vehicles_us['price'].mean()\n",
    "medianPrice=vehicles_us['price'].median()\n",
    "vehicles_us.loc[vehicles_us['price']<0,'price']= medianPrice"
   ]
  },
  {
   "cell_type": "markdown",
   "metadata": {},
   "source": [
    "_price_ could never be lower than <b>0</b> so I think it is a misspeling and I decide to replace those values with the <b>median</b>."
   ]
  },
  {
   "cell_type": "code",
   "execution_count": 6,
   "metadata": {},
   "outputs": [
    {
     "data": {
      "text/plain": [
       "0.0    25953\n",
       "1.0    25572\n",
       "Name: is_4wd, dtype: int64"
      ]
     },
     "execution_count": 6,
     "metadata": {},
     "output_type": "execute_result"
    }
   ],
   "source": [
    "vehicles_us['is_4wd'].isnull().sum()\n",
    "vehicles_us['is_4wd'] = vehicles_us['is_4wd'].fillna(0)\n",
    "vehicles_us['is_4wd'].value_counts()"
   ]
  },
  {
   "cell_type": "markdown",
   "metadata": {},
   "source": [
    "Since we have only <b>1</b> as value in the _is_4wd_ column and the missing values I assume that this is a <b>boolean condition</b>, so _NaN_ should be 0. I just replaced _NaN_ with <b>0</b> for a better view.   "
   ]
  },
  {
   "cell_type": "code",
   "execution_count": 7,
   "metadata": {},
   "outputs": [
    {
     "data": {
      "text/html": [
       "<div>\n",
       "<style scoped>\n",
       "    .dataframe tbody tr th:only-of-type {\n",
       "        vertical-align: middle;\n",
       "    }\n",
       "\n",
       "    .dataframe tbody tr th {\n",
       "        vertical-align: top;\n",
       "    }\n",
       "\n",
       "    .dataframe thead th {\n",
       "        text-align: right;\n",
       "    }\n",
       "</style>\n",
       "<table border=\"1\" class=\"dataframe\">\n",
       "  <thead>\n",
       "    <tr style=\"text-align: right;\">\n",
       "      <th></th>\n",
       "      <th></th>\n",
       "      <th></th>\n",
       "      <th>cylinders</th>\n",
       "      <th>odometer</th>\n",
       "      <th>model_year</th>\n",
       "    </tr>\n",
       "    <tr>\n",
       "      <th>transmission</th>\n",
       "      <th>type</th>\n",
       "      <th>model</th>\n",
       "      <th></th>\n",
       "      <th></th>\n",
       "      <th></th>\n",
       "    </tr>\n",
       "  </thead>\n",
       "  <tbody>\n",
       "    <tr>\n",
       "      <td rowspan=\"5\" valign=\"top\">automatic</td>\n",
       "      <td rowspan=\"5\" valign=\"top\">SUV</td>\n",
       "      <td>acura tl</td>\n",
       "      <td>6.0</td>\n",
       "      <td>127000.0</td>\n",
       "      <td>2007.0</td>\n",
       "    </tr>\n",
       "    <tr>\n",
       "      <td>bmw x5</td>\n",
       "      <td>6.0</td>\n",
       "      <td>105621.0</td>\n",
       "      <td>2010.0</td>\n",
       "    </tr>\n",
       "    <tr>\n",
       "      <td>buick enclave</td>\n",
       "      <td>6.0</td>\n",
       "      <td>113728.0</td>\n",
       "      <td>2012.0</td>\n",
       "    </tr>\n",
       "    <tr>\n",
       "      <td>cadillac escalade</td>\n",
       "      <td>8.0</td>\n",
       "      <td>130000.0</td>\n",
       "      <td>2009.0</td>\n",
       "    </tr>\n",
       "    <tr>\n",
       "      <td>chevrolet cruze</td>\n",
       "      <td>4.0</td>\n",
       "      <td>158.0</td>\n",
       "      <td>2012.0</td>\n",
       "    </tr>\n",
       "    <tr>\n",
       "      <td>...</td>\n",
       "      <td>...</td>\n",
       "      <td>...</td>\n",
       "      <td>...</td>\n",
       "      <td>...</td>\n",
       "      <td>...</td>\n",
       "    </tr>\n",
       "    <tr>\n",
       "      <td rowspan=\"5\" valign=\"top\">other</td>\n",
       "      <td rowspan=\"5\" valign=\"top\">wagon</td>\n",
       "      <td>jeep wrangler</td>\n",
       "      <td>6.0</td>\n",
       "      <td>99915.0</td>\n",
       "      <td>2007.0</td>\n",
       "    </tr>\n",
       "    <tr>\n",
       "      <td>kia soul</td>\n",
       "      <td>4.0</td>\n",
       "      <td>129015.0</td>\n",
       "      <td>2012.0</td>\n",
       "    </tr>\n",
       "    <tr>\n",
       "      <td>subaru forester</td>\n",
       "      <td>4.0</td>\n",
       "      <td>98074.0</td>\n",
       "      <td>2016.0</td>\n",
       "    </tr>\n",
       "    <tr>\n",
       "      <td>subaru impreza</td>\n",
       "      <td>4.0</td>\n",
       "      <td>35289.0</td>\n",
       "      <td>2018.0</td>\n",
       "    </tr>\n",
       "    <tr>\n",
       "      <td>subaru outback</td>\n",
       "      <td>5.0</td>\n",
       "      <td>111144.0</td>\n",
       "      <td>2014.0</td>\n",
       "    </tr>\n",
       "  </tbody>\n",
       "</table>\n",
       "<p>754 rows × 3 columns</p>\n",
       "</div>"
      ],
      "text/plain": [
       "                                      cylinders  odometer  model_year\n",
       "transmission type  model                                             \n",
       "automatic    SUV   acura tl                 6.0  127000.0      2007.0\n",
       "                   bmw x5                   6.0  105621.0      2010.0\n",
       "                   buick enclave            6.0  113728.0      2012.0\n",
       "                   cadillac escalade        8.0  130000.0      2009.0\n",
       "                   chevrolet cruze          4.0     158.0      2012.0\n",
       "...                                         ...       ...         ...\n",
       "other        wagon jeep wrangler            6.0   99915.0      2007.0\n",
       "                   kia soul                 4.0  129015.0      2012.0\n",
       "                   subaru forester          4.0   98074.0      2016.0\n",
       "                   subaru impreza           4.0   35289.0      2018.0\n",
       "                   subaru outback           5.0  111144.0      2014.0\n",
       "\n",
       "[754 rows x 3 columns]"
      ]
     },
     "execution_count": 7,
     "metadata": {},
     "output_type": "execute_result"
    }
   ],
   "source": [
    "quantitative_missing_values = ['cylinders','odometer','model_year']\n",
    "vehicles_us.groupby(['transmission','type','model'])[quantitative_missing_values].median()"
   ]
  },
  {
   "cell_type": "code",
   "execution_count": 8,
   "metadata": {
    "scrolled": true
   },
   "outputs": [
    {
     "data": {
      "text/html": [
       "<div>\n",
       "<style scoped>\n",
       "    .dataframe tbody tr th:only-of-type {\n",
       "        vertical-align: middle;\n",
       "    }\n",
       "\n",
       "    .dataframe tbody tr th {\n",
       "        vertical-align: top;\n",
       "    }\n",
       "\n",
       "    .dataframe thead th {\n",
       "        text-align: right;\n",
       "    }\n",
       "</style>\n",
       "<table border=\"1\" class=\"dataframe\">\n",
       "  <thead>\n",
       "    <tr style=\"text-align: right;\">\n",
       "      <th></th>\n",
       "      <th></th>\n",
       "      <th></th>\n",
       "      <th>cylinders</th>\n",
       "      <th>odometer</th>\n",
       "      <th>model_year</th>\n",
       "    </tr>\n",
       "    <tr>\n",
       "      <th>transmission</th>\n",
       "      <th>type</th>\n",
       "      <th>model</th>\n",
       "      <th></th>\n",
       "      <th></th>\n",
       "      <th></th>\n",
       "    </tr>\n",
       "  </thead>\n",
       "  <tbody>\n",
       "    <tr>\n",
       "      <td rowspan=\"5\" valign=\"top\">automatic</td>\n",
       "      <td rowspan=\"5\" valign=\"top\">SUV</td>\n",
       "      <td>acura tl</td>\n",
       "      <td>6.000000</td>\n",
       "      <td>127000.000000</td>\n",
       "      <td>2007.000000</td>\n",
       "    </tr>\n",
       "    <tr>\n",
       "      <td>bmw x5</td>\n",
       "      <td>6.362832</td>\n",
       "      <td>109908.299020</td>\n",
       "      <td>2009.220721</td>\n",
       "    </tr>\n",
       "    <tr>\n",
       "      <td>buick enclave</td>\n",
       "      <td>6.000000</td>\n",
       "      <td>112850.467593</td>\n",
       "      <td>2012.238683</td>\n",
       "    </tr>\n",
       "    <tr>\n",
       "      <td>cadillac escalade</td>\n",
       "      <td>7.985663</td>\n",
       "      <td>124539.948000</td>\n",
       "      <td>2008.455197</td>\n",
       "    </tr>\n",
       "    <tr>\n",
       "      <td>chevrolet cruze</td>\n",
       "      <td>4.000000</td>\n",
       "      <td>158.000000</td>\n",
       "      <td>2012.000000</td>\n",
       "    </tr>\n",
       "    <tr>\n",
       "      <td>...</td>\n",
       "      <td>...</td>\n",
       "      <td>...</td>\n",
       "      <td>...</td>\n",
       "      <td>...</td>\n",
       "      <td>...</td>\n",
       "    </tr>\n",
       "    <tr>\n",
       "      <td rowspan=\"5\" valign=\"top\">other</td>\n",
       "      <td rowspan=\"5\" valign=\"top\">wagon</td>\n",
       "      <td>jeep wrangler</td>\n",
       "      <td>6.000000</td>\n",
       "      <td>90926.333333</td>\n",
       "      <td>2007.888889</td>\n",
       "    </tr>\n",
       "    <tr>\n",
       "      <td>kia soul</td>\n",
       "      <td>4.000000</td>\n",
       "      <td>123154.300000</td>\n",
       "      <td>2011.545455</td>\n",
       "    </tr>\n",
       "    <tr>\n",
       "      <td>subaru forester</td>\n",
       "      <td>4.000000</td>\n",
       "      <td>98074.000000</td>\n",
       "      <td>2016.000000</td>\n",
       "    </tr>\n",
       "    <tr>\n",
       "      <td>subaru impreza</td>\n",
       "      <td>4.000000</td>\n",
       "      <td>35289.000000</td>\n",
       "      <td>2018.000000</td>\n",
       "    </tr>\n",
       "    <tr>\n",
       "      <td>subaru outback</td>\n",
       "      <td>5.000000</td>\n",
       "      <td>111144.000000</td>\n",
       "      <td>2014.000000</td>\n",
       "    </tr>\n",
       "  </tbody>\n",
       "</table>\n",
       "<p>754 rows × 3 columns</p>\n",
       "</div>"
      ],
      "text/plain": [
       "                                      cylinders       odometer   model_year\n",
       "transmission type  model                                                   \n",
       "automatic    SUV   acura tl            6.000000  127000.000000  2007.000000\n",
       "                   bmw x5              6.362832  109908.299020  2009.220721\n",
       "                   buick enclave       6.000000  112850.467593  2012.238683\n",
       "                   cadillac escalade   7.985663  124539.948000  2008.455197\n",
       "                   chevrolet cruze     4.000000     158.000000  2012.000000\n",
       "...                                         ...            ...          ...\n",
       "other        wagon jeep wrangler       6.000000   90926.333333  2007.888889\n",
       "                   kia soul            4.000000  123154.300000  2011.545455\n",
       "                   subaru forester     4.000000   98074.000000  2016.000000\n",
       "                   subaru impreza      4.000000   35289.000000  2018.000000\n",
       "                   subaru outback      5.000000  111144.000000  2014.000000\n",
       "\n",
       "[754 rows x 3 columns]"
      ]
     },
     "execution_count": 8,
     "metadata": {},
     "output_type": "execute_result"
    }
   ],
   "source": [
    "vehicles_us.groupby(['transmission','type','model'])[quantitative_missing_values].mean()\n"
   ]
  },
  {
   "cell_type": "markdown",
   "metadata": {},
   "source": [
    "Since the mean and median are not so different and the median has more integer numbers I decide to <b>fill the missing values</b> with the <b>median<b/>."
   ]
  },
  {
   "cell_type": "code",
   "execution_count": 9,
   "metadata": {},
   "outputs": [],
   "source": [
    "medianModelYear = vehicles_us['model_year'].median()\n",
    "medianCylinders = vehicles_us['cylinders'].median()\n",
    "medianOdometer = vehicles_us['odometer'].median()\n",
    "\n",
    "vehicles_us['model_year'] = vehicles_us['model_year'].fillna(medianModelYear)\n",
    "vehicles_us['cylinders'] = vehicles_us['cylinders'].fillna(0)\n",
    "vehicles_us['odometer'] = vehicles_us['odometer'].fillna(medianOdometer)\n",
    "vehicles_us['odometer']=vehicles_us.loc[vehicles_us['odometer']==0.0]['odometer'] =medianOdometer\n"
   ]
  },
  {
   "cell_type": "markdown",
   "metadata": {},
   "source": [
    "Now the missing values for _model_year_ and _odometer_ are filled with the median because I think that it won't affect my analysis and for the cylinders I just filled with 0 as I think this is the best approch since mean and median has no sense here and I couldn't find any connection with other columns. Now I don't have any missing values for the columns with quantitative values and I can start processing them."
   ]
  },
  {
   "cell_type": "code",
   "execution_count": 10,
   "metadata": {},
   "outputs": [
    {
     "data": {
      "text/plain": [
       "price           0\n",
       "model_year      0\n",
       "model           0\n",
       "condition       0\n",
       "cylinders       0\n",
       "fuel            0\n",
       "odometer        0\n",
       "transmission    0\n",
       "type            0\n",
       "paint_color     0\n",
       "is_4wd          0\n",
       "date_posted     0\n",
       "days_listed     0\n",
       "dtype: int64"
      ]
     },
     "execution_count": 10,
     "metadata": {},
     "output_type": "execute_result"
    }
   ],
   "source": [
    "vehicles_us.groupby('condition')['paint_color'].value_counts()\n",
    "vehicles_us.groupby('fuel')['paint_color'].value_counts()\n",
    "vehicles_us.groupby('type')['paint_color'].value_counts()\n",
    "\n",
    "vehicles_us['paint_color'] = vehicles_us['paint_color'].fillna('undef')\n",
    "vehicles_us.isnull().sum()"
   ]
  },
  {
   "cell_type": "markdown",
   "metadata": {},
   "source": [
    "There is no dependency or relationship between _paint_color_ column and other columns and I can't fill the missing values with any specific color so I just replaced it with _undef_. So I also replaced the missing values for categorical values. No missing values for now on ! Next step is looking at the data type ."
   ]
  },
  {
   "cell_type": "code",
   "execution_count": 11,
   "metadata": {},
   "outputs": [
    {
     "name": "stdout",
     "output_type": "stream",
     "text": [
      "<class 'pandas.core.frame.DataFrame'>\n",
      "RangeIndex: 51525 entries, 0 to 51524\n",
      "Data columns (total 13 columns):\n",
      "price           51525 non-null float64\n",
      "model_year      51525 non-null int64\n",
      "model           51525 non-null object\n",
      "condition       51525 non-null object\n",
      "cylinders       51525 non-null int64\n",
      "fuel            51525 non-null object\n",
      "odometer        51525 non-null float64\n",
      "transmission    51525 non-null object\n",
      "type            51525 non-null object\n",
      "paint_color     51525 non-null object\n",
      "is_4wd          51525 non-null bool\n",
      "date_posted     51525 non-null datetime64[ns]\n",
      "days_listed     51525 non-null int64\n",
      "dtypes: bool(1), datetime64[ns](1), float64(2), int64(3), object(6)\n",
      "memory usage: 4.8+ MB\n"
     ]
    }
   ],
   "source": [
    "vehicles_us['model_year']=vehicles_us['model_year'].astype(int)\n",
    "vehicles_us['cylinders']=vehicles_us['cylinders'].astype(int)\n",
    "vehicles_us['is_4wd']=vehicles_us['is_4wd'].astype(bool)\n",
    "vehicles_us['date_posted']=pd.to_datetime(vehicles_us['date_posted'], format='%Y-%m-%d')\n",
    "vehicles_us.info()"
   ]
  },
  {
   "cell_type": "markdown",
   "metadata": {},
   "source": [
    "I just thought that _model_year_ and _cylinders_ should always be integer numbers and I noticed that the _is_4wd_ column has those numbers for True or False conditions so I just changed the type to <b>boolean</b>.\n",
    "Now everything is nice and clean. I don't have any float number for years , the date has also the right type, no missing values so everything is ready to be processed in order to find the right answers."
   ]
  },
  {
   "cell_type": "markdown",
   "metadata": {},
   "source": [
    "### Step 3. Make calculations and add them to the table"
   ]
  },
  {
   "cell_type": "markdown",
   "metadata": {},
   "source": [
    "#### Day of the week, month, and year the ad was placed;\n",
    "#### The vehicle's age (in years) when the ad was placed;\n",
    "#### The vehicle's average mileage per year;"
   ]
  },
  {
   "cell_type": "code",
   "execution_count": 12,
   "metadata": {},
   "outputs": [
    {
     "data": {
      "text/html": [
       "<div>\n",
       "<style scoped>\n",
       "    .dataframe tbody tr th:only-of-type {\n",
       "        vertical-align: middle;\n",
       "    }\n",
       "\n",
       "    .dataframe tbody tr th {\n",
       "        vertical-align: top;\n",
       "    }\n",
       "\n",
       "    .dataframe thead th {\n",
       "        text-align: right;\n",
       "    }\n",
       "</style>\n",
       "<table border=\"1\" class=\"dataframe\">\n",
       "  <thead>\n",
       "    <tr style=\"text-align: right;\">\n",
       "      <th></th>\n",
       "      <th>price</th>\n",
       "      <th>model_year</th>\n",
       "      <th>model</th>\n",
       "      <th>condition</th>\n",
       "      <th>cylinders</th>\n",
       "      <th>fuel</th>\n",
       "      <th>odometer</th>\n",
       "      <th>transmission</th>\n",
       "      <th>type</th>\n",
       "      <th>paint_color</th>\n",
       "      <th>is_4wd</th>\n",
       "      <th>date_posted</th>\n",
       "      <th>days_listed</th>\n",
       "      <th>dayOfWeek</th>\n",
       "      <th>Month</th>\n",
       "      <th>Year</th>\n",
       "      <th>VehicleAge</th>\n",
       "      <th>AverageMileage</th>\n",
       "    </tr>\n",
       "  </thead>\n",
       "  <tbody>\n",
       "    <tr>\n",
       "      <td>19</td>\n",
       "      <td>13990.0</td>\n",
       "      <td>2018</td>\n",
       "      <td>hyundai elantra</td>\n",
       "      <td>excellent</td>\n",
       "      <td>4</td>\n",
       "      <td>gas</td>\n",
       "      <td>113000.0</td>\n",
       "      <td>automatic</td>\n",
       "      <td>sedan</td>\n",
       "      <td>red</td>\n",
       "      <td>False</td>\n",
       "      <td>2018-08-25</td>\n",
       "      <td>27</td>\n",
       "      <td>5</td>\n",
       "      <td>8</td>\n",
       "      <td>2018</td>\n",
       "      <td>0</td>\n",
       "      <td>113000.0</td>\n",
       "    </tr>\n",
       "    <tr>\n",
       "      <td>71</td>\n",
       "      <td>23300.0</td>\n",
       "      <td>2018</td>\n",
       "      <td>nissan frontier crew cab sv</td>\n",
       "      <td>good</td>\n",
       "      <td>6</td>\n",
       "      <td>gas</td>\n",
       "      <td>113000.0</td>\n",
       "      <td>other</td>\n",
       "      <td>pickup</td>\n",
       "      <td>undef</td>\n",
       "      <td>True</td>\n",
       "      <td>2018-10-13</td>\n",
       "      <td>36</td>\n",
       "      <td>5</td>\n",
       "      <td>10</td>\n",
       "      <td>2018</td>\n",
       "      <td>0</td>\n",
       "      <td>113000.0</td>\n",
       "    </tr>\n",
       "    <tr>\n",
       "      <td>78</td>\n",
       "      <td>23800.0</td>\n",
       "      <td>2019</td>\n",
       "      <td>nissan frontier crew cab sv</td>\n",
       "      <td>good</td>\n",
       "      <td>6</td>\n",
       "      <td>gas</td>\n",
       "      <td>113000.0</td>\n",
       "      <td>other</td>\n",
       "      <td>pickup</td>\n",
       "      <td>silver</td>\n",
       "      <td>True</td>\n",
       "      <td>2019-02-28</td>\n",
       "      <td>30</td>\n",
       "      <td>3</td>\n",
       "      <td>2</td>\n",
       "      <td>2019</td>\n",
       "      <td>0</td>\n",
       "      <td>113000.0</td>\n",
       "    </tr>\n",
       "    <tr>\n",
       "      <td>99</td>\n",
       "      <td>39950.0</td>\n",
       "      <td>2018</td>\n",
       "      <td>chevrolet silverado</td>\n",
       "      <td>excellent</td>\n",
       "      <td>8</td>\n",
       "      <td>gas</td>\n",
       "      <td>113000.0</td>\n",
       "      <td>automatic</td>\n",
       "      <td>truck</td>\n",
       "      <td>undef</td>\n",
       "      <td>True</td>\n",
       "      <td>2018-08-05</td>\n",
       "      <td>16</td>\n",
       "      <td>6</td>\n",
       "      <td>8</td>\n",
       "      <td>2018</td>\n",
       "      <td>0</td>\n",
       "      <td>113000.0</td>\n",
       "    </tr>\n",
       "    <tr>\n",
       "      <td>106</td>\n",
       "      <td>21500.0</td>\n",
       "      <td>2019</td>\n",
       "      <td>nissan frontier crew cab sv</td>\n",
       "      <td>good</td>\n",
       "      <td>6</td>\n",
       "      <td>gas</td>\n",
       "      <td>113000.0</td>\n",
       "      <td>other</td>\n",
       "      <td>pickup</td>\n",
       "      <td>white</td>\n",
       "      <td>False</td>\n",
       "      <td>2019-03-29</td>\n",
       "      <td>70</td>\n",
       "      <td>4</td>\n",
       "      <td>3</td>\n",
       "      <td>2019</td>\n",
       "      <td>0</td>\n",
       "      <td>113000.0</td>\n",
       "    </tr>\n",
       "    <tr>\n",
       "      <td>...</td>\n",
       "      <td>...</td>\n",
       "      <td>...</td>\n",
       "      <td>...</td>\n",
       "      <td>...</td>\n",
       "      <td>...</td>\n",
       "      <td>...</td>\n",
       "      <td>...</td>\n",
       "      <td>...</td>\n",
       "      <td>...</td>\n",
       "      <td>...</td>\n",
       "      <td>...</td>\n",
       "      <td>...</td>\n",
       "      <td>...</td>\n",
       "      <td>...</td>\n",
       "      <td>...</td>\n",
       "      <td>...</td>\n",
       "      <td>...</td>\n",
       "      <td>...</td>\n",
       "    </tr>\n",
       "    <tr>\n",
       "      <td>51376</td>\n",
       "      <td>27890.0</td>\n",
       "      <td>2018</td>\n",
       "      <td>ram 1500</td>\n",
       "      <td>excellent</td>\n",
       "      <td>8</td>\n",
       "      <td>gas</td>\n",
       "      <td>113000.0</td>\n",
       "      <td>automatic</td>\n",
       "      <td>truck</td>\n",
       "      <td>undef</td>\n",
       "      <td>True</td>\n",
       "      <td>2018-05-06</td>\n",
       "      <td>39</td>\n",
       "      <td>6</td>\n",
       "      <td>5</td>\n",
       "      <td>2018</td>\n",
       "      <td>0</td>\n",
       "      <td>113000.0</td>\n",
       "    </tr>\n",
       "    <tr>\n",
       "      <td>51442</td>\n",
       "      <td>28990.0</td>\n",
       "      <td>2018</td>\n",
       "      <td>ford f150</td>\n",
       "      <td>excellent</td>\n",
       "      <td>0</td>\n",
       "      <td>gas</td>\n",
       "      <td>113000.0</td>\n",
       "      <td>automatic</td>\n",
       "      <td>truck</td>\n",
       "      <td>white</td>\n",
       "      <td>True</td>\n",
       "      <td>2018-06-13</td>\n",
       "      <td>47</td>\n",
       "      <td>2</td>\n",
       "      <td>6</td>\n",
       "      <td>2018</td>\n",
       "      <td>0</td>\n",
       "      <td>113000.0</td>\n",
       "    </tr>\n",
       "    <tr>\n",
       "      <td>51446</td>\n",
       "      <td>15999.0</td>\n",
       "      <td>2018</td>\n",
       "      <td>chevrolet malibu</td>\n",
       "      <td>excellent</td>\n",
       "      <td>4</td>\n",
       "      <td>gas</td>\n",
       "      <td>113000.0</td>\n",
       "      <td>automatic</td>\n",
       "      <td>sedan</td>\n",
       "      <td>black</td>\n",
       "      <td>False</td>\n",
       "      <td>2018-07-28</td>\n",
       "      <td>8</td>\n",
       "      <td>5</td>\n",
       "      <td>7</td>\n",
       "      <td>2018</td>\n",
       "      <td>0</td>\n",
       "      <td>113000.0</td>\n",
       "    </tr>\n",
       "    <tr>\n",
       "      <td>51447</td>\n",
       "      <td>33990.0</td>\n",
       "      <td>2019</td>\n",
       "      <td>ram 1500</td>\n",
       "      <td>excellent</td>\n",
       "      <td>8</td>\n",
       "      <td>gas</td>\n",
       "      <td>113000.0</td>\n",
       "      <td>automatic</td>\n",
       "      <td>truck</td>\n",
       "      <td>white</td>\n",
       "      <td>True</td>\n",
       "      <td>2019-01-25</td>\n",
       "      <td>36</td>\n",
       "      <td>4</td>\n",
       "      <td>1</td>\n",
       "      <td>2019</td>\n",
       "      <td>0</td>\n",
       "      <td>113000.0</td>\n",
       "    </tr>\n",
       "    <tr>\n",
       "      <td>51504</td>\n",
       "      <td>20481.0</td>\n",
       "      <td>2018</td>\n",
       "      <td>toyota camry</td>\n",
       "      <td>like new</td>\n",
       "      <td>4</td>\n",
       "      <td>gas</td>\n",
       "      <td>113000.0</td>\n",
       "      <td>automatic</td>\n",
       "      <td>sedan</td>\n",
       "      <td>silver</td>\n",
       "      <td>False</td>\n",
       "      <td>2018-12-06</td>\n",
       "      <td>4</td>\n",
       "      <td>3</td>\n",
       "      <td>12</td>\n",
       "      <td>2018</td>\n",
       "      <td>0</td>\n",
       "      <td>113000.0</td>\n",
       "    </tr>\n",
       "  </tbody>\n",
       "</table>\n",
       "<p>2128 rows × 18 columns</p>\n",
       "</div>"
      ],
      "text/plain": [
       "         price  model_year                        model  condition  cylinders  \\\n",
       "19     13990.0        2018              hyundai elantra  excellent          4   \n",
       "71     23300.0        2018  nissan frontier crew cab sv       good          6   \n",
       "78     23800.0        2019  nissan frontier crew cab sv       good          6   \n",
       "99     39950.0        2018          chevrolet silverado  excellent          8   \n",
       "106    21500.0        2019  nissan frontier crew cab sv       good          6   \n",
       "...        ...         ...                          ...        ...        ...   \n",
       "51376  27890.0        2018                     ram 1500  excellent          8   \n",
       "51442  28990.0        2018                    ford f150  excellent          0   \n",
       "51446  15999.0        2018             chevrolet malibu  excellent          4   \n",
       "51447  33990.0        2019                     ram 1500  excellent          8   \n",
       "51504  20481.0        2018                 toyota camry   like new          4   \n",
       "\n",
       "      fuel  odometer transmission    type paint_color  is_4wd date_posted  \\\n",
       "19     gas  113000.0    automatic   sedan         red   False  2018-08-25   \n",
       "71     gas  113000.0        other  pickup       undef    True  2018-10-13   \n",
       "78     gas  113000.0        other  pickup      silver    True  2019-02-28   \n",
       "99     gas  113000.0    automatic   truck       undef    True  2018-08-05   \n",
       "106    gas  113000.0        other  pickup       white   False  2019-03-29   \n",
       "...    ...       ...          ...     ...         ...     ...         ...   \n",
       "51376  gas  113000.0    automatic   truck       undef    True  2018-05-06   \n",
       "51442  gas  113000.0    automatic   truck       white    True  2018-06-13   \n",
       "51446  gas  113000.0    automatic   sedan       black   False  2018-07-28   \n",
       "51447  gas  113000.0    automatic   truck       white    True  2019-01-25   \n",
       "51504  gas  113000.0    automatic   sedan      silver   False  2018-12-06   \n",
       "\n",
       "       days_listed  dayOfWeek  Month  Year  VehicleAge  AverageMileage  \n",
       "19              27          5      8  2018           0        113000.0  \n",
       "71              36          5     10  2018           0        113000.0  \n",
       "78              30          3      2  2019           0        113000.0  \n",
       "99              16          6      8  2018           0        113000.0  \n",
       "106             70          4      3  2019           0        113000.0  \n",
       "...            ...        ...    ...   ...         ...             ...  \n",
       "51376           39          6      5  2018           0        113000.0  \n",
       "51442           47          2      6  2018           0        113000.0  \n",
       "51446            8          5      7  2018           0        113000.0  \n",
       "51447           36          4      1  2019           0        113000.0  \n",
       "51504            4          3     12  2018           0        113000.0  \n",
       "\n",
       "[2128 rows x 18 columns]"
      ]
     },
     "execution_count": 12,
     "metadata": {},
     "output_type": "execute_result"
    }
   ],
   "source": [
    "vehicles_us['dayOfWeek'] = pd.DatetimeIndex(vehicles_us['date_posted']).dayofweek\n",
    "vehicles_us['Month'] = pd.DatetimeIndex(vehicles_us['date_posted']).month\n",
    "vehicles_us['Year'] = pd.DatetimeIndex(vehicles_us['date_posted']).year\n",
    "vehicles_us['VehicleAge'] = vehicles_us['Year']-vehicles_us['model_year']\n",
    "vehicles_us['AverageMileage'] = vehicles_us['odometer']/vehicles_us[vehicles_us['VehicleAge']>0]['VehicleAge']\n",
    "vehicles_us.loc[vehicles_us['VehicleAge']==0,'AverageMileage']= vehicles_us['odometer']\n",
    "vehicles_us.query('VehicleAge==0')"
   ]
  },
  {
   "cell_type": "markdown",
   "metadata": {},
   "source": [
    "#### In the condition column, replace string values with a numeric scale:\n",
    "new = 5;\n",
    "like new = 4;\n",
    "excellent = 3;\n",
    "good = 2;\n",
    "fair = 1;\n",
    "salvage = 0."
   ]
  },
  {
   "cell_type": "code",
   "execution_count": 13,
   "metadata": {
    "scrolled": false
   },
   "outputs": [
    {
     "data": {
      "text/html": [
       "<div>\n",
       "<style scoped>\n",
       "    .dataframe tbody tr th:only-of-type {\n",
       "        vertical-align: middle;\n",
       "    }\n",
       "\n",
       "    .dataframe tbody tr th {\n",
       "        vertical-align: top;\n",
       "    }\n",
       "\n",
       "    .dataframe thead th {\n",
       "        text-align: right;\n",
       "    }\n",
       "</style>\n",
       "<table border=\"1\" class=\"dataframe\">\n",
       "  <thead>\n",
       "    <tr style=\"text-align: right;\">\n",
       "      <th></th>\n",
       "      <th>price</th>\n",
       "      <th>model_year</th>\n",
       "      <th>model</th>\n",
       "      <th>condition</th>\n",
       "      <th>cylinders</th>\n",
       "      <th>fuel</th>\n",
       "      <th>odometer</th>\n",
       "      <th>transmission</th>\n",
       "      <th>type</th>\n",
       "      <th>paint_color</th>\n",
       "      <th>is_4wd</th>\n",
       "      <th>date_posted</th>\n",
       "      <th>days_listed</th>\n",
       "      <th>dayOfWeek</th>\n",
       "      <th>Month</th>\n",
       "      <th>Year</th>\n",
       "      <th>VehicleAge</th>\n",
       "      <th>AverageMileage</th>\n",
       "    </tr>\n",
       "  </thead>\n",
       "  <tbody>\n",
       "    <tr>\n",
       "      <td>0</td>\n",
       "      <td>9400.0</td>\n",
       "      <td>2011</td>\n",
       "      <td>bmw x5</td>\n",
       "      <td>2</td>\n",
       "      <td>6</td>\n",
       "      <td>gas</td>\n",
       "      <td>113000.0</td>\n",
       "      <td>automatic</td>\n",
       "      <td>SUV</td>\n",
       "      <td>undef</td>\n",
       "      <td>True</td>\n",
       "      <td>2018-06-23</td>\n",
       "      <td>19</td>\n",
       "      <td>5</td>\n",
       "      <td>6</td>\n",
       "      <td>2018</td>\n",
       "      <td>7</td>\n",
       "      <td>16142.857143</td>\n",
       "    </tr>\n",
       "    <tr>\n",
       "      <td>1</td>\n",
       "      <td>25500.0</td>\n",
       "      <td>2011</td>\n",
       "      <td>ford f-150</td>\n",
       "      <td>2</td>\n",
       "      <td>6</td>\n",
       "      <td>gas</td>\n",
       "      <td>113000.0</td>\n",
       "      <td>automatic</td>\n",
       "      <td>pickup</td>\n",
       "      <td>white</td>\n",
       "      <td>True</td>\n",
       "      <td>2018-10-19</td>\n",
       "      <td>50</td>\n",
       "      <td>4</td>\n",
       "      <td>10</td>\n",
       "      <td>2018</td>\n",
       "      <td>7</td>\n",
       "      <td>16142.857143</td>\n",
       "    </tr>\n",
       "    <tr>\n",
       "      <td>2</td>\n",
       "      <td>5500.0</td>\n",
       "      <td>2013</td>\n",
       "      <td>hyundai sonata</td>\n",
       "      <td>4</td>\n",
       "      <td>4</td>\n",
       "      <td>gas</td>\n",
       "      <td>113000.0</td>\n",
       "      <td>automatic</td>\n",
       "      <td>sedan</td>\n",
       "      <td>red</td>\n",
       "      <td>False</td>\n",
       "      <td>2019-02-07</td>\n",
       "      <td>79</td>\n",
       "      <td>3</td>\n",
       "      <td>2</td>\n",
       "      <td>2019</td>\n",
       "      <td>6</td>\n",
       "      <td>18833.333333</td>\n",
       "    </tr>\n",
       "    <tr>\n",
       "      <td>3</td>\n",
       "      <td>1500.0</td>\n",
       "      <td>2003</td>\n",
       "      <td>ford f-150</td>\n",
       "      <td>1</td>\n",
       "      <td>8</td>\n",
       "      <td>gas</td>\n",
       "      <td>113000.0</td>\n",
       "      <td>automatic</td>\n",
       "      <td>pickup</td>\n",
       "      <td>undef</td>\n",
       "      <td>False</td>\n",
       "      <td>2019-03-22</td>\n",
       "      <td>9</td>\n",
       "      <td>4</td>\n",
       "      <td>3</td>\n",
       "      <td>2019</td>\n",
       "      <td>16</td>\n",
       "      <td>7062.500000</td>\n",
       "    </tr>\n",
       "    <tr>\n",
       "      <td>4</td>\n",
       "      <td>14900.0</td>\n",
       "      <td>2017</td>\n",
       "      <td>chrysler 200</td>\n",
       "      <td>3</td>\n",
       "      <td>4</td>\n",
       "      <td>gas</td>\n",
       "      <td>113000.0</td>\n",
       "      <td>automatic</td>\n",
       "      <td>sedan</td>\n",
       "      <td>black</td>\n",
       "      <td>False</td>\n",
       "      <td>2019-04-02</td>\n",
       "      <td>28</td>\n",
       "      <td>1</td>\n",
       "      <td>4</td>\n",
       "      <td>2019</td>\n",
       "      <td>2</td>\n",
       "      <td>56500.000000</td>\n",
       "    </tr>\n",
       "  </tbody>\n",
       "</table>\n",
       "</div>"
      ],
      "text/plain": [
       "     price  model_year           model  condition  cylinders fuel  odometer  \\\n",
       "0   9400.0        2011          bmw x5          2          6  gas  113000.0   \n",
       "1  25500.0        2011      ford f-150          2          6  gas  113000.0   \n",
       "2   5500.0        2013  hyundai sonata          4          4  gas  113000.0   \n",
       "3   1500.0        2003      ford f-150          1          8  gas  113000.0   \n",
       "4  14900.0        2017    chrysler 200          3          4  gas  113000.0   \n",
       "\n",
       "  transmission    type paint_color  is_4wd date_posted  days_listed  \\\n",
       "0    automatic     SUV       undef    True  2018-06-23           19   \n",
       "1    automatic  pickup       white    True  2018-10-19           50   \n",
       "2    automatic   sedan         red   False  2019-02-07           79   \n",
       "3    automatic  pickup       undef   False  2019-03-22            9   \n",
       "4    automatic   sedan       black   False  2019-04-02           28   \n",
       "\n",
       "   dayOfWeek  Month  Year  VehicleAge  AverageMileage  \n",
       "0          5      6  2018           7    16142.857143  \n",
       "1          4     10  2018           7    16142.857143  \n",
       "2          3      2  2019           6    18833.333333  \n",
       "3          4      3  2019          16     7062.500000  \n",
       "4          1      4  2019           2    56500.000000  "
      ]
     },
     "execution_count": 13,
     "metadata": {},
     "output_type": "execute_result"
    }
   ],
   "source": [
    "def to_numeric_condition(row):\n",
    "    condition_value = row['condition']\n",
    "    if condition_value == 'new':\n",
    "        return 5\n",
    "    if condition_value == 'like new':\n",
    "        return 4\n",
    "    if condition_value == 'excellent':\n",
    "        return 3\n",
    "    if condition_value == 'good':\n",
    "        return 2\n",
    "    if condition_value == 'fair':\n",
    "        return 1\n",
    "    if condition_value == 'salvage':\n",
    "        return 0\n",
    "\n",
    "vehicles_us['condition'] = vehicles_us.apply(to_numeric_condition, axis=1)\n",
    "vehicles_us.head()"
   ]
  },
  {
   "cell_type": "markdown",
   "metadata": {},
   "source": [
    "We extract some more informations from data, we have a better view and understanding and we can make better hypothesis.Even though we had all the informations before, the way they are showed now, in the new columns, helps us use this data more easily and efficiently."
   ]
  },
  {
   "cell_type": "markdown",
   "metadata": {},
   "source": [
    "### Step 4. Carry out exploratory data analysis"
   ]
  },
  {
   "cell_type": "markdown",
   "metadata": {},
   "source": [
    "#### Study the following parameters: price, vehicle's age when the ad was placed, mileage, number of cylinders, and condition. Plot histograms for each of these parameters. Study how outliers affect the form and readability of the histograms."
   ]
  },
  {
   "cell_type": "code",
   "execution_count": 14,
   "metadata": {},
   "outputs": [
    {
     "data": {
      "image/png": "[encoded data removed]",
      "text/plain": [
       "<Figure size 432x288 with 1 Axes>"
      ]
     },
     "metadata": {
      "needs_background": "light"
     },
     "output_type": "display_data"
    }
   ],
   "source": [
    "import matplotlib.pyplot as plt\n",
    "vehicles_us.plot(y='price',title=\"Vehicle's price\",kind='hist',bins=50, range=(0,70000));"
   ]
  },
  {
   "cell_type": "markdown",
   "metadata": {},
   "source": [
    "There are some vehicles with the price zero which it could be considered outlier, then we see that the average price for a vehicle is between 3000 and 5000 and than the more expensive a vehicles is the less the amount. From 40000 to 70000 we see that there are few to no cars. "
   ]
  },
  {
   "cell_type": "code",
   "execution_count": 15,
   "metadata": {
    "scrolled": true
   },
   "outputs": [
    {
     "data": {
      "image/png": "[encoded data removed]",
      "text/plain": [
       "<Figure size 432x288 with 1 Axes>"
      ]
     },
     "metadata": {
      "needs_background": "light"
     },
     "output_type": "display_data"
    }
   ],
   "source": [
    "Q1 = vehicles_us['price'].quantile(0.25)\n",
    "Q3 = vehicles_us['price'].quantile(0.75)\n",
    "IQR = Q3 - Q1\n",
    "plt.ylim(-20000, 70000)\n",
    "vehicles_us.boxplot('price')\n",
    "plt.hlines(y=[Q1, Q3], xmin=0.5, xmax=1.5, color='red') ;"
   ]
  },
  {
   "cell_type": "code",
   "execution_count": 16,
   "metadata": {
    "scrolled": true
   },
   "outputs": [
    {
     "data": {
      "image/png": "[encoded data removed]",
      "text/plain": [
       "<Figure size 432x288 with 1 Axes>"
      ]
     },
     "metadata": {
      "needs_background": "light"
     },
     "output_type": "display_data"
    }
   ],
   "source": [
    "plt.hlines(y=Q3+1.5*IQR, xmin=0.5, xmax=1.5, color='red'); "
   ]
  },
  {
   "cell_type": "markdown",
   "metadata": {},
   "source": [
    "So the median is almost 10000, the quntiles are 5000 and 7000 and as I expected the outliers are the vehicles with the price more than 34500."
   ]
  },
  {
   "cell_type": "code",
   "execution_count": 17,
   "metadata": {
    "scrolled": true
   },
   "outputs": [
    {
     "data": {
      "image/png": "[encoded data removed]",
      "text/plain": [
       "<Figure size 432x288 with 1 Axes>"
      ]
     },
     "metadata": {
      "needs_background": "light"
     },
     "output_type": "display_data"
    }
   ],
   "source": [
    "vehicles_us.plot(title=\"Vehicle's Age\",y='VehicleAge',kind='hist', bins=30, range=(0,60));"
   ]
  },
  {
   "cell_type": "markdown",
   "metadata": {},
   "source": [
    "There are a lot of zero values but this should be interpreted as the current year, we have a pick for vehicles between 5 and 10 years and very few vehicles older than 30 years."
   ]
  },
  {
   "cell_type": "code",
   "execution_count": 18,
   "metadata": {
    "scrolled": true
   },
   "outputs": [
    {
     "data": {
      "image/png": "[encoded data removed]",
      "text/plain": [
       "<Figure size 432x288 with 1 Axes>"
      ]
     },
     "metadata": {
      "needs_background": "light"
     },
     "output_type": "display_data"
    }
   ],
   "source": [
    "Q1 = vehicles_us['VehicleAge'].quantile(0.25)\n",
    "Q3 = vehicles_us['VehicleAge'].quantile(0.75)\n",
    "IQR = Q3 - Q1\n",
    "plt.ylim(-10, 60)\n",
    "vehicles_us.boxplot('VehicleAge')\n",
    "plt.hlines(y=[Q1, Q3], xmin=0.9, xmax=1.1, color='red'); "
   ]
  },
  {
   "cell_type": "code",
   "execution_count": 19,
   "metadata": {
    "scrolled": true
   },
   "outputs": [
    {
     "data": {
      "image/png": "[encoded data removed]",
      "text/plain": [
       "<Figure size 432x288 with 1 Axes>"
      ]
     },
     "metadata": {
      "needs_background": "light"
     },
     "output_type": "display_data"
    }
   ],
   "source": [
    "plt.hlines(y=Q3+1.5*IQR, xmin=0.5, xmax=1.5, color='red') ;"
   ]
  },
  {
   "cell_type": "markdown",
   "metadata": {},
   "source": [
    "So the most popular cars are those aged between 5 and 12. The outliers are noticed for cars older than 24."
   ]
  },
  {
   "cell_type": "code",
   "execution_count": 20,
   "metadata": {
    "scrolled": false
   },
   "outputs": [
    {
     "data": {
      "image/png": "[encoded data removed]",
      "text/plain": [
       "<Figure size 432x288 with 1 Axes>"
      ]
     },
     "metadata": {
      "needs_background": "light"
     },
     "output_type": "display_data"
    }
   ],
   "source": [
    "vehicles_us.plot(title='Average Mileage',y='AverageMileage',kind='hist',bins=40, range=(-100,125000));"
   ]
  },
  {
   "cell_type": "markdown",
   "metadata": {},
   "source": [
    "It's clear to see that values above 25000 are outliers and most of the cars have the mileage between 5000 and 15000."
   ]
  },
  {
   "cell_type": "code",
   "execution_count": 21,
   "metadata": {},
   "outputs": [
    {
     "data": {
      "image/png": "[encoded data removed]",
      "text/plain": [
       "<Figure size 432x288 with 1 Axes>"
      ]
     },
     "metadata": {
      "needs_background": "light"
     },
     "output_type": "display_data"
    }
   ],
   "source": [
    "Q1 = vehicles_us['AverageMileage'].quantile(0.25)\n",
    "Q3 = vehicles_us['AverageMileage'].quantile(0.75)\n",
    "IQR = Q3 - Q1\n",
    "plt.ylim(-100,125000)\n",
    "vehicles_us.boxplot('AverageMileage')\n",
    "plt.hlines(y=[Q1, Q3], xmin=0.9, xmax=1.1, color='red') ;"
   ]
  },
  {
   "cell_type": "code",
   "execution_count": 22,
   "metadata": {
    "scrolled": true
   },
   "outputs": [
    {
     "data": {
      "image/png": "[encoded data removed]",
      "text/plain": [
       "<Figure size 432x288 with 1 Axes>"
      ]
     },
     "metadata": {
      "needs_background": "light"
     },
     "output_type": "display_data"
    }
   ],
   "source": [
    "plt.hlines(y=Q3+1.5*IQR, xmin=0.5, xmax=1.5, color='red') ;"
   ]
  },
  {
   "cell_type": "markdown",
   "metadata": {},
   "source": [
    "The value for the lower outlier is not much higher than 0 which is understandable but the upper outlier is way higher from the rest of the values and maybe that's the mileage for the newer cars, with less than one year."
   ]
  },
  {
   "cell_type": "code",
   "execution_count": 23,
   "metadata": {
    "scrolled": true
   },
   "outputs": [
    {
     "data": {
      "image/png": "[encoded data removed]",
      "text/plain": [
       "<Figure size 432x288 with 1 Axes>"
      ]
     },
     "metadata": {
      "needs_background": "light"
     },
     "output_type": "display_data"
    }
   ],
   "source": [
    "vehicles_us.plot(title='Cylinders',y='cylinders',kind='hist',bins=15, range=(0,15));"
   ]
  },
  {
   "cell_type": "markdown",
   "metadata": {},
   "source": [
    "Most of the vehicles have between 4 and 10 cylinders and just a few of them have 3,5 and  more than 10. 0 values are the cars with unknown values for cylinders. "
   ]
  },
  {
   "cell_type": "code",
   "execution_count": 24,
   "metadata": {},
   "outputs": [
    {
     "data": {
      "image/png": "[encoded data removed]",
      "text/plain": [
       "<Figure size 432x288 with 1 Axes>"
      ]
     },
     "metadata": {
      "needs_background": "light"
     },
     "output_type": "display_data"
    }
   ],
   "source": [
    "Q1 = vehicles_us['cylinders'].quantile(0.25)\n",
    "Q3 = vehicles_us['cylinders'].quantile(0.75)\n",
    "IQR = Q3 - Q1\n",
    "plt.ylim(0,20)\n",
    "vehicles_us.boxplot('cylinders')\n",
    "plt.hlines(y=[Q1, Q3], xmin=0.9, xmax=1.1, color='red') ;"
   ]
  },
  {
   "cell_type": "code",
   "execution_count": 25,
   "metadata": {
    "scrolled": true
   },
   "outputs": [
    {
     "data": {
      "image/png": "[encoded data removed]",
      "text/plain": [
       "<Figure size 432x288 with 1 Axes>"
      ]
     },
     "metadata": {
      "needs_background": "light"
     },
     "output_type": "display_data"
    }
   ],
   "source": [
    "plt.hlines(y=Q3+1.5*IQR, xmin=0.5, xmax=1.5, color='red'); "
   ]
  },
  {
   "cell_type": "markdown",
   "metadata": {},
   "source": [
    "Even though we see that outliers are founded for vehicles with more than 14 cylinders, there are a few so not noticeble in our graph. "
   ]
  },
  {
   "cell_type": "code",
   "execution_count": 26,
   "metadata": {
    "scrolled": true
   },
   "outputs": [
    {
     "data": {
      "image/png": "[encoded data removed]",
      "text/plain": [
       "<Figure size 432x288 with 1 Axes>"
      ]
     },
     "metadata": {
      "needs_background": "light"
     },
     "output_type": "display_data"
    }
   ],
   "source": [
    "vehicles_us['condition'].plot(title='The condition of the vehicle',y='condition',kind='hist',bins=20);"
   ]
  },
  {
   "cell_type": "code",
   "execution_count": 27,
   "metadata": {},
   "outputs": [
    {
     "data": {
      "image/png": "[encoded data removed]",
      "text/plain": [
       "<Figure size 432x288 with 1 Axes>"
      ]
     },
     "metadata": {
      "needs_background": "light"
     },
     "output_type": "display_data"
    }
   ],
   "source": [
    "Q1 = vehicles_us['condition'].quantile(0.25)\n",
    "Q3 = vehicles_us['condition'].quantile(0.75)\n",
    "IQR = Q3 - Q1\n",
    "plt.ylim(0,10)\n",
    "vehicles_us.boxplot('condition')\n",
    "plt.hlines(y=[Q1, Q3], xmin=0.9, xmax=1.1, color='red');"
   ]
  },
  {
   "cell_type": "code",
   "execution_count": 28,
   "metadata": {},
   "outputs": [
    {
     "data": {
      "image/png": "[encoded data removed]",
      "text/plain": [
       "<Figure size 432x288 with 1 Axes>"
      ]
     },
     "metadata": {
      "needs_background": "light"
     },
     "output_type": "display_data"
    }
   ],
   "source": [
    "plt.hlines(y=Q3+1.5*IQR, xmin=0.5, xmax=1.5, color='red') ;"
   ]
  },
  {
   "cell_type": "code",
   "execution_count": 29,
   "metadata": {},
   "outputs": [
    {
     "data": {
      "image/png": "[encoded data removed]",
      "text/plain": [
       "<Figure size 432x288 with 1 Axes>"
      ]
     },
     "metadata": {
      "needs_background": "light"
     },
     "output_type": "display_data"
    }
   ],
   "source": [
    "plt.hlines(y=Q1-1.5*IQR, xmin=0.5, xmax=1.5, color='red') ;"
   ]
  },
  {
   "cell_type": "markdown",
   "metadata": {},
   "source": [
    "These graphs show a clear evidence. Almost all of the cars have excellent or good condition."
   ]
  },
  {
   "cell_type": "code",
   "execution_count": 30,
   "metadata": {},
   "outputs": [
    {
     "data": {
      "text/html": [
       "<div>\n",
       "<style scoped>\n",
       "    .dataframe tbody tr th:only-of-type {\n",
       "        vertical-align: middle;\n",
       "    }\n",
       "\n",
       "    .dataframe tbody tr th {\n",
       "        vertical-align: top;\n",
       "    }\n",
       "\n",
       "    .dataframe thead th {\n",
       "        text-align: right;\n",
       "    }\n",
       "</style>\n",
       "<table border=\"1\" class=\"dataframe\">\n",
       "  <thead>\n",
       "    <tr style=\"text-align: right;\">\n",
       "      <th></th>\n",
       "      <th>price</th>\n",
       "      <th>model_year</th>\n",
       "      <th>condition</th>\n",
       "      <th>cylinders</th>\n",
       "      <th>odometer</th>\n",
       "      <th>days_listed</th>\n",
       "      <th>dayOfWeek</th>\n",
       "      <th>Month</th>\n",
       "      <th>Year</th>\n",
       "      <th>VehicleAge</th>\n",
       "      <th>AverageMileage</th>\n",
       "    </tr>\n",
       "  </thead>\n",
       "  <tbody>\n",
       "    <tr>\n",
       "      <td>count</td>\n",
       "      <td>51525.000000</td>\n",
       "      <td>51525.000000</td>\n",
       "      <td>51525.000000</td>\n",
       "      <td>51525.000000</td>\n",
       "      <td>51525.0</td>\n",
       "      <td>51525.00000</td>\n",
       "      <td>51525.000000</td>\n",
       "      <td>51525.000000</td>\n",
       "      <td>51525.000000</td>\n",
       "      <td>51525.000000</td>\n",
       "      <td>51525.000000</td>\n",
       "    </tr>\n",
       "    <tr>\n",
       "      <td>mean</td>\n",
       "      <td>12132.464920</td>\n",
       "      <td>2009.838234</td>\n",
       "      <td>2.637535</td>\n",
       "      <td>5.499932</td>\n",
       "      <td>113000.0</td>\n",
       "      <td>39.55476</td>\n",
       "      <td>3.005434</td>\n",
       "      <td>6.628491</td>\n",
       "      <td>2018.307462</td>\n",
       "      <td>8.469229</td>\n",
       "      <td>25923.773749</td>\n",
       "    </tr>\n",
       "    <tr>\n",
       "      <td>std</td>\n",
       "      <td>10040.803015</td>\n",
       "      <td>6.065836</td>\n",
       "      <td>0.712447</td>\n",
       "      <td>2.431985</td>\n",
       "      <td>0.0</td>\n",
       "      <td>28.20427</td>\n",
       "      <td>1.997759</td>\n",
       "      <td>3.474134</td>\n",
       "      <td>0.461447</td>\n",
       "      <td>6.079773</td>\n",
       "      <td>28763.171852</td>\n",
       "    </tr>\n",
       "    <tr>\n",
       "      <td>min</td>\n",
       "      <td>1.000000</td>\n",
       "      <td>1908.000000</td>\n",
       "      <td>0.000000</td>\n",
       "      <td>0.000000</td>\n",
       "      <td>113000.0</td>\n",
       "      <td>0.00000</td>\n",
       "      <td>0.000000</td>\n",
       "      <td>1.000000</td>\n",
       "      <td>2018.000000</td>\n",
       "      <td>0.000000</td>\n",
       "      <td>1027.272727</td>\n",
       "    </tr>\n",
       "    <tr>\n",
       "      <td>25%</td>\n",
       "      <td>5000.000000</td>\n",
       "      <td>2007.000000</td>\n",
       "      <td>2.000000</td>\n",
       "      <td>4.000000</td>\n",
       "      <td>113000.0</td>\n",
       "      <td>19.00000</td>\n",
       "      <td>1.000000</td>\n",
       "      <td>3.000000</td>\n",
       "      <td>2018.000000</td>\n",
       "      <td>4.000000</td>\n",
       "      <td>9416.666667</td>\n",
       "    </tr>\n",
       "    <tr>\n",
       "      <td>50%</td>\n",
       "      <td>9000.000000</td>\n",
       "      <td>2011.000000</td>\n",
       "      <td>3.000000</td>\n",
       "      <td>6.000000</td>\n",
       "      <td>113000.0</td>\n",
       "      <td>33.00000</td>\n",
       "      <td>3.000000</td>\n",
       "      <td>7.000000</td>\n",
       "      <td>2018.000000</td>\n",
       "      <td>7.000000</td>\n",
       "      <td>16142.857143</td>\n",
       "    </tr>\n",
       "    <tr>\n",
       "      <td>75%</td>\n",
       "      <td>16839.000000</td>\n",
       "      <td>2014.000000</td>\n",
       "      <td>3.000000</td>\n",
       "      <td>8.000000</td>\n",
       "      <td>113000.0</td>\n",
       "      <td>53.00000</td>\n",
       "      <td>5.000000</td>\n",
       "      <td>10.000000</td>\n",
       "      <td>2019.000000</td>\n",
       "      <td>12.000000</td>\n",
       "      <td>28250.000000</td>\n",
       "    </tr>\n",
       "    <tr>\n",
       "      <td>max</td>\n",
       "      <td>375000.000000</td>\n",
       "      <td>2019.000000</td>\n",
       "      <td>5.000000</td>\n",
       "      <td>12.000000</td>\n",
       "      <td>113000.0</td>\n",
       "      <td>271.00000</td>\n",
       "      <td>6.000000</td>\n",
       "      <td>12.000000</td>\n",
       "      <td>2019.000000</td>\n",
       "      <td>110.000000</td>\n",
       "      <td>113000.000000</td>\n",
       "    </tr>\n",
       "  </tbody>\n",
       "</table>\n",
       "</div>"
      ],
      "text/plain": [
       "               price    model_year     condition     cylinders  odometer  \\\n",
       "count   51525.000000  51525.000000  51525.000000  51525.000000   51525.0   \n",
       "mean    12132.464920   2009.838234      2.637535      5.499932  113000.0   \n",
       "std     10040.803015      6.065836      0.712447      2.431985       0.0   \n",
       "min         1.000000   1908.000000      0.000000      0.000000  113000.0   \n",
       "25%      5000.000000   2007.000000      2.000000      4.000000  113000.0   \n",
       "50%      9000.000000   2011.000000      3.000000      6.000000  113000.0   \n",
       "75%     16839.000000   2014.000000      3.000000      8.000000  113000.0   \n",
       "max    375000.000000   2019.000000      5.000000     12.000000  113000.0   \n",
       "\n",
       "       days_listed     dayOfWeek         Month          Year    VehicleAge  \\\n",
       "count  51525.00000  51525.000000  51525.000000  51525.000000  51525.000000   \n",
       "mean      39.55476      3.005434      6.628491   2018.307462      8.469229   \n",
       "std       28.20427      1.997759      3.474134      0.461447      6.079773   \n",
       "min        0.00000      0.000000      1.000000   2018.000000      0.000000   \n",
       "25%       19.00000      1.000000      3.000000   2018.000000      4.000000   \n",
       "50%       33.00000      3.000000      7.000000   2018.000000      7.000000   \n",
       "75%       53.00000      5.000000     10.000000   2019.000000     12.000000   \n",
       "max      271.00000      6.000000     12.000000   2019.000000    110.000000   \n",
       "\n",
       "       AverageMileage  \n",
       "count    51525.000000  \n",
       "mean     25923.773749  \n",
       "std      28763.171852  \n",
       "min       1027.272727  \n",
       "25%       9416.666667  \n",
       "50%      16142.857143  \n",
       "75%      28250.000000  \n",
       "max     113000.000000  "
      ]
     },
     "execution_count": 30,
     "metadata": {},
     "output_type": "execute_result"
    }
   ],
   "source": [
    "vehicles_us.describe()"
   ]
  },
  {
   "cell_type": "markdown",
   "metadata": {},
   "source": [
    "#### Determine the upper limits of outliers, remove the outliers and store them in a separate DataFrame, and continue your work with the filtered data."
   ]
  },
  {
   "cell_type": "code",
   "execution_count": 31,
   "metadata": {
    "scrolled": true
   },
   "outputs": [
    {
     "data": {
      "text/html": [
       "<div>\n",
       "<style scoped>\n",
       "    .dataframe tbody tr th:only-of-type {\n",
       "        vertical-align: middle;\n",
       "    }\n",
       "\n",
       "    .dataframe tbody tr th {\n",
       "        vertical-align: top;\n",
       "    }\n",
       "\n",
       "    .dataframe thead th {\n",
       "        text-align: right;\n",
       "    }\n",
       "</style>\n",
       "<table border=\"1\" class=\"dataframe\">\n",
       "  <thead>\n",
       "    <tr style=\"text-align: right;\">\n",
       "      <th></th>\n",
       "      <th>price</th>\n",
       "      <th>model_year</th>\n",
       "      <th>model</th>\n",
       "      <th>condition</th>\n",
       "      <th>cylinders</th>\n",
       "      <th>fuel</th>\n",
       "      <th>odometer</th>\n",
       "      <th>transmission</th>\n",
       "      <th>type</th>\n",
       "      <th>paint_color</th>\n",
       "      <th>is_4wd</th>\n",
       "      <th>date_posted</th>\n",
       "      <th>days_listed</th>\n",
       "      <th>dayOfWeek</th>\n",
       "      <th>Month</th>\n",
       "      <th>Year</th>\n",
       "      <th>VehicleAge</th>\n",
       "      <th>AverageMileage</th>\n",
       "    </tr>\n",
       "  </thead>\n",
       "  <tbody>\n",
       "    <tr>\n",
       "      <td>0</td>\n",
       "      <td>9400.0</td>\n",
       "      <td>2011</td>\n",
       "      <td>bmw x5</td>\n",
       "      <td>2</td>\n",
       "      <td>6</td>\n",
       "      <td>gas</td>\n",
       "      <td>113000.0</td>\n",
       "      <td>automatic</td>\n",
       "      <td>SUV</td>\n",
       "      <td>undef</td>\n",
       "      <td>True</td>\n",
       "      <td>2018-06-23</td>\n",
       "      <td>19</td>\n",
       "      <td>5</td>\n",
       "      <td>6</td>\n",
       "      <td>2018</td>\n",
       "      <td>7</td>\n",
       "      <td>16142.857143</td>\n",
       "    </tr>\n",
       "    <tr>\n",
       "      <td>1</td>\n",
       "      <td>25500.0</td>\n",
       "      <td>2011</td>\n",
       "      <td>ford f-150</td>\n",
       "      <td>2</td>\n",
       "      <td>6</td>\n",
       "      <td>gas</td>\n",
       "      <td>113000.0</td>\n",
       "      <td>automatic</td>\n",
       "      <td>pickup</td>\n",
       "      <td>white</td>\n",
       "      <td>True</td>\n",
       "      <td>2018-10-19</td>\n",
       "      <td>50</td>\n",
       "      <td>4</td>\n",
       "      <td>10</td>\n",
       "      <td>2018</td>\n",
       "      <td>7</td>\n",
       "      <td>16142.857143</td>\n",
       "    </tr>\n",
       "    <tr>\n",
       "      <td>2</td>\n",
       "      <td>5500.0</td>\n",
       "      <td>2013</td>\n",
       "      <td>hyundai sonata</td>\n",
       "      <td>4</td>\n",
       "      <td>4</td>\n",
       "      <td>gas</td>\n",
       "      <td>113000.0</td>\n",
       "      <td>automatic</td>\n",
       "      <td>sedan</td>\n",
       "      <td>red</td>\n",
       "      <td>False</td>\n",
       "      <td>2019-02-07</td>\n",
       "      <td>79</td>\n",
       "      <td>3</td>\n",
       "      <td>2</td>\n",
       "      <td>2019</td>\n",
       "      <td>6</td>\n",
       "      <td>18833.333333</td>\n",
       "    </tr>\n",
       "    <tr>\n",
       "      <td>5</td>\n",
       "      <td>14990.0</td>\n",
       "      <td>2014</td>\n",
       "      <td>chrysler 300</td>\n",
       "      <td>3</td>\n",
       "      <td>6</td>\n",
       "      <td>gas</td>\n",
       "      <td>113000.0</td>\n",
       "      <td>automatic</td>\n",
       "      <td>sedan</td>\n",
       "      <td>black</td>\n",
       "      <td>True</td>\n",
       "      <td>2018-06-20</td>\n",
       "      <td>15</td>\n",
       "      <td>2</td>\n",
       "      <td>6</td>\n",
       "      <td>2018</td>\n",
       "      <td>4</td>\n",
       "      <td>28250.000000</td>\n",
       "    </tr>\n",
       "    <tr>\n",
       "      <td>6</td>\n",
       "      <td>12990.0</td>\n",
       "      <td>2015</td>\n",
       "      <td>toyota camry</td>\n",
       "      <td>3</td>\n",
       "      <td>4</td>\n",
       "      <td>gas</td>\n",
       "      <td>113000.0</td>\n",
       "      <td>automatic</td>\n",
       "      <td>sedan</td>\n",
       "      <td>white</td>\n",
       "      <td>False</td>\n",
       "      <td>2018-12-27</td>\n",
       "      <td>73</td>\n",
       "      <td>3</td>\n",
       "      <td>12</td>\n",
       "      <td>2018</td>\n",
       "      <td>3</td>\n",
       "      <td>37666.666667</td>\n",
       "    </tr>\n",
       "    <tr>\n",
       "      <td>...</td>\n",
       "      <td>...</td>\n",
       "      <td>...</td>\n",
       "      <td>...</td>\n",
       "      <td>...</td>\n",
       "      <td>...</td>\n",
       "      <td>...</td>\n",
       "      <td>...</td>\n",
       "      <td>...</td>\n",
       "      <td>...</td>\n",
       "      <td>...</td>\n",
       "      <td>...</td>\n",
       "      <td>...</td>\n",
       "      <td>...</td>\n",
       "      <td>...</td>\n",
       "      <td>...</td>\n",
       "      <td>...</td>\n",
       "      <td>...</td>\n",
       "      <td>...</td>\n",
       "    </tr>\n",
       "    <tr>\n",
       "      <td>51519</td>\n",
       "      <td>11750.0</td>\n",
       "      <td>2015</td>\n",
       "      <td>honda accord</td>\n",
       "      <td>3</td>\n",
       "      <td>4</td>\n",
       "      <td>gas</td>\n",
       "      <td>113000.0</td>\n",
       "      <td>automatic</td>\n",
       "      <td>coupe</td>\n",
       "      <td>undef</td>\n",
       "      <td>False</td>\n",
       "      <td>2018-11-24</td>\n",
       "      <td>89</td>\n",
       "      <td>5</td>\n",
       "      <td>11</td>\n",
       "      <td>2018</td>\n",
       "      <td>3</td>\n",
       "      <td>37666.666667</td>\n",
       "    </tr>\n",
       "    <tr>\n",
       "      <td>51520</td>\n",
       "      <td>9249.0</td>\n",
       "      <td>2013</td>\n",
       "      <td>nissan maxima</td>\n",
       "      <td>4</td>\n",
       "      <td>6</td>\n",
       "      <td>gas</td>\n",
       "      <td>113000.0</td>\n",
       "      <td>automatic</td>\n",
       "      <td>sedan</td>\n",
       "      <td>black</td>\n",
       "      <td>False</td>\n",
       "      <td>2018-10-03</td>\n",
       "      <td>37</td>\n",
       "      <td>2</td>\n",
       "      <td>10</td>\n",
       "      <td>2018</td>\n",
       "      <td>5</td>\n",
       "      <td>22600.000000</td>\n",
       "    </tr>\n",
       "    <tr>\n",
       "      <td>51522</td>\n",
       "      <td>3950.0</td>\n",
       "      <td>2009</td>\n",
       "      <td>hyundai sonata</td>\n",
       "      <td>3</td>\n",
       "      <td>4</td>\n",
       "      <td>gas</td>\n",
       "      <td>113000.0</td>\n",
       "      <td>automatic</td>\n",
       "      <td>sedan</td>\n",
       "      <td>blue</td>\n",
       "      <td>False</td>\n",
       "      <td>2018-11-15</td>\n",
       "      <td>32</td>\n",
       "      <td>3</td>\n",
       "      <td>11</td>\n",
       "      <td>2018</td>\n",
       "      <td>9</td>\n",
       "      <td>12555.555556</td>\n",
       "    </tr>\n",
       "    <tr>\n",
       "      <td>51523</td>\n",
       "      <td>7455.0</td>\n",
       "      <td>2013</td>\n",
       "      <td>toyota corolla</td>\n",
       "      <td>2</td>\n",
       "      <td>4</td>\n",
       "      <td>gas</td>\n",
       "      <td>113000.0</td>\n",
       "      <td>automatic</td>\n",
       "      <td>sedan</td>\n",
       "      <td>black</td>\n",
       "      <td>False</td>\n",
       "      <td>2018-07-02</td>\n",
       "      <td>71</td>\n",
       "      <td>0</td>\n",
       "      <td>7</td>\n",
       "      <td>2018</td>\n",
       "      <td>5</td>\n",
       "      <td>22600.000000</td>\n",
       "    </tr>\n",
       "    <tr>\n",
       "      <td>51524</td>\n",
       "      <td>6300.0</td>\n",
       "      <td>2014</td>\n",
       "      <td>nissan altima</td>\n",
       "      <td>2</td>\n",
       "      <td>4</td>\n",
       "      <td>gas</td>\n",
       "      <td>113000.0</td>\n",
       "      <td>automatic</td>\n",
       "      <td>sedan</td>\n",
       "      <td>undef</td>\n",
       "      <td>False</td>\n",
       "      <td>2018-06-05</td>\n",
       "      <td>10</td>\n",
       "      <td>1</td>\n",
       "      <td>6</td>\n",
       "      <td>2018</td>\n",
       "      <td>4</td>\n",
       "      <td>28250.000000</td>\n",
       "    </tr>\n",
       "  </tbody>\n",
       "</table>\n",
       "<p>36951 rows × 18 columns</p>\n",
       "</div>"
      ],
      "text/plain": [
       "         price  model_year           model  condition  cylinders fuel  \\\n",
       "0       9400.0        2011          bmw x5          2          6  gas   \n",
       "1      25500.0        2011      ford f-150          2          6  gas   \n",
       "2       5500.0        2013  hyundai sonata          4          4  gas   \n",
       "5      14990.0        2014    chrysler 300          3          6  gas   \n",
       "6      12990.0        2015    toyota camry          3          4  gas   \n",
       "...        ...         ...             ...        ...        ...  ...   \n",
       "51519  11750.0        2015    honda accord          3          4  gas   \n",
       "51520   9249.0        2013   nissan maxima          4          6  gas   \n",
       "51522   3950.0        2009  hyundai sonata          3          4  gas   \n",
       "51523   7455.0        2013  toyota corolla          2          4  gas   \n",
       "51524   6300.0        2014   nissan altima          2          4  gas   \n",
       "\n",
       "       odometer transmission    type paint_color  is_4wd date_posted  \\\n",
       "0      113000.0    automatic     SUV       undef    True  2018-06-23   \n",
       "1      113000.0    automatic  pickup       white    True  2018-10-19   \n",
       "2      113000.0    automatic   sedan         red   False  2019-02-07   \n",
       "5      113000.0    automatic   sedan       black    True  2018-06-20   \n",
       "6      113000.0    automatic   sedan       white   False  2018-12-27   \n",
       "...         ...          ...     ...         ...     ...         ...   \n",
       "51519  113000.0    automatic   coupe       undef   False  2018-11-24   \n",
       "51520  113000.0    automatic   sedan       black   False  2018-10-03   \n",
       "51522  113000.0    automatic   sedan        blue   False  2018-11-15   \n",
       "51523  113000.0    automatic   sedan       black   False  2018-07-02   \n",
       "51524  113000.0    automatic   sedan       undef   False  2018-06-05   \n",
       "\n",
       "       days_listed  dayOfWeek  Month  Year  VehicleAge  AverageMileage  \n",
       "0               19          5      6  2018           7    16142.857143  \n",
       "1               50          4     10  2018           7    16142.857143  \n",
       "2               79          3      2  2019           6    18833.333333  \n",
       "5               15          2      6  2018           4    28250.000000  \n",
       "6               73          3     12  2018           3    37666.666667  \n",
       "...            ...        ...    ...   ...         ...             ...  \n",
       "51519           89          5     11  2018           3    37666.666667  \n",
       "51520           37          2     10  2018           5    22600.000000  \n",
       "51522           32          3     11  2018           9    12555.555556  \n",
       "51523           71          0      7  2018           5    22600.000000  \n",
       "51524           10          1      6  2018           4    28250.000000  \n",
       "\n",
       "[36951 rows x 18 columns]"
      ]
     },
     "execution_count": 31,
     "metadata": {},
     "output_type": "execute_result"
    }
   ],
   "source": [
    "NoOutliers_vehicle = vehicles_us.query('price<35000 & VehicleAge<24 & AverageMileage<40000 & cylinders<10 & cylinders>0 & condition<4.5 & condition>1')\n",
    "NoOutliers_vehicle  "
   ]
  },
  {
   "cell_type": "markdown",
   "metadata": {},
   "source": [
    "Based on the previous analysis I determinated the outliers and store the data without them in the variable called _NoOultiers_vehicle_."
   ]
  },
  {
   "cell_type": "markdown",
   "metadata": {},
   "source": [
    "#### Use the filtered data to plot new histograms. Compare them with the earlier histograms (the ones that included outliers). Draw conclusions for each histogram."
   ]
  },
  {
   "cell_type": "code",
   "execution_count": 32,
   "metadata": {},
   "outputs": [
    {
     "data": {
      "image/png": "[encoded data removed]",
      "text/plain": [
       "<Figure size 432x288 with 1 Axes>"
      ]
     },
     "metadata": {
      "needs_background": "light"
     },
     "output_type": "display_data"
    },
    {
     "data": {
      "image/png": "[encoded data removed]",
      "text/plain": [
       "<Figure size 432x288 with 1 Axes>"
      ]
     },
     "metadata": {
      "needs_background": "light"
     },
     "output_type": "display_data"
    }
   ],
   "source": [
    "vehicles_us.plot(title='The price with outliers',y='price',kind='hist',color='red');\n",
    "NoOutliers_vehicle.plot(title='The price without outliers',y='price',kind='hist',color='blue');"
   ]
  },
  {
   "cell_type": "markdown",
   "metadata": {},
   "source": [
    "Seems like there were a lot of outliners but at least I can see a peak."
   ]
  },
  {
   "cell_type": "code",
   "execution_count": 33,
   "metadata": {},
   "outputs": [
    {
     "data": {
      "image/png": "[encoded data removed]",
      "text/plain": [
       "<Figure size 432x288 with 1 Axes>"
      ]
     },
     "metadata": {
      "needs_background": "light"
     },
     "output_type": "display_data"
    }
   ],
   "source": [
    "vehicles_us['VehicleAge'].plot(title='Vehicle Age',kind='hist',color='red');\n",
    "NoOutliers_vehicle['VehicleAge'].plot(title='Vehicle Age',kind='hist',color='blue');"
   ]
  },
  {
   "cell_type": "markdown",
   "metadata": {},
   "source": [
    "No outliers makes the graph look more compact,so now we can see a peak for the vehicle's age which is less than 10 years. "
   ]
  },
  {
   "cell_type": "code",
   "execution_count": 34,
   "metadata": {},
   "outputs": [
    {
     "data": {
      "image/png": "[encoded data removed]",
      "text/plain": [
       "<Figure size 432x288 with 1 Axes>"
      ]
     },
     "metadata": {
      "needs_background": "light"
     },
     "output_type": "display_data"
    }
   ],
   "source": [
    "vehicles_us['AverageMileage'].hist(color='red');\n",
    "NoOutliers_vehicle['AverageMileage'].hist(color='blue');"
   ]
  },
  {
   "cell_type": "markdown",
   "metadata": {},
   "source": [
    "The data with values greater than 100000 for _AverageMileage_ column was definetly an outlier we should get rid off."
   ]
  },
  {
   "cell_type": "code",
   "execution_count": 35,
   "metadata": {},
   "outputs": [
    {
     "data": {
      "image/png": "[encoded data removed]",
      "text/plain": [
       "<Figure size 432x288 with 1 Axes>"
      ]
     },
     "metadata": {
      "needs_background": "light"
     },
     "output_type": "display_data"
    }
   ],
   "source": [
    "vehicles_us['cylinders'].plot(title='Cylinders',kind='hist',color='red');\n",
    "NoOutliers_vehicle['cylinders'].plot(title='Cylinders',kind='hist',color='blue');"
   ]
  },
  {
   "cell_type": "markdown",
   "metadata": {},
   "source": [
    "Now we got rid of 0 values and the data looks much better."
   ]
  },
  {
   "cell_type": "code",
   "execution_count": 36,
   "metadata": {},
   "outputs": [
    {
     "data": {
      "image/png": "[encoded data removed]",
      "text/plain": [
       "<Figure size 432x288 with 1 Axes>"
      ]
     },
     "metadata": {
      "needs_background": "light"
     },
     "output_type": "display_data"
    }
   ],
   "source": [
    "vehicles_us.hist('condition',color='red');\n",
    "NoOutliers_vehicle['condition'].hist(color='blue');"
   ]
  },
  {
   "cell_type": "code",
   "execution_count": 37,
   "metadata": {},
   "outputs": [
    {
     "data": {
      "text/html": [
       "<div>\n",
       "<style scoped>\n",
       "    .dataframe tbody tr th:only-of-type {\n",
       "        vertical-align: middle;\n",
       "    }\n",
       "\n",
       "    .dataframe tbody tr th {\n",
       "        vertical-align: top;\n",
       "    }\n",
       "\n",
       "    .dataframe thead th {\n",
       "        text-align: right;\n",
       "    }\n",
       "</style>\n",
       "<table border=\"1\" class=\"dataframe\">\n",
       "  <thead>\n",
       "    <tr style=\"text-align: right;\">\n",
       "      <th></th>\n",
       "      <th>price</th>\n",
       "      <th>model_year</th>\n",
       "      <th>condition</th>\n",
       "      <th>cylinders</th>\n",
       "      <th>odometer</th>\n",
       "      <th>days_listed</th>\n",
       "      <th>dayOfWeek</th>\n",
       "      <th>Month</th>\n",
       "      <th>Year</th>\n",
       "      <th>VehicleAge</th>\n",
       "      <th>AverageMileage</th>\n",
       "    </tr>\n",
       "  </thead>\n",
       "  <tbody>\n",
       "    <tr>\n",
       "      <td>count</td>\n",
       "      <td>36951.000000</td>\n",
       "      <td>36951.000000</td>\n",
       "      <td>36951.000000</td>\n",
       "      <td>36951.000000</td>\n",
       "      <td>36951.0</td>\n",
       "      <td>36951.000000</td>\n",
       "      <td>36951.000000</td>\n",
       "      <td>36951.000000</td>\n",
       "      <td>36951.000000</td>\n",
       "      <td>36951.000000</td>\n",
       "      <td>36951.000000</td>\n",
       "    </tr>\n",
       "    <tr>\n",
       "      <td>mean</td>\n",
       "      <td>10526.069470</td>\n",
       "      <td>2009.278937</td>\n",
       "      <td>2.647506</td>\n",
       "      <td>6.064843</td>\n",
       "      <td>113000.0</td>\n",
       "      <td>39.643609</td>\n",
       "      <td>2.994344</td>\n",
       "      <td>6.557360</td>\n",
       "      <td>2018.318719</td>\n",
       "      <td>9.039782</td>\n",
       "      <td>16051.268221</td>\n",
       "    </tr>\n",
       "    <tr>\n",
       "      <td>std</td>\n",
       "      <td>7124.004843</td>\n",
       "      <td>4.401009</td>\n",
       "      <td>0.618387</td>\n",
       "      <td>1.606909</td>\n",
       "      <td>0.0</td>\n",
       "      <td>28.250597</td>\n",
       "      <td>1.997277</td>\n",
       "      <td>3.486406</td>\n",
       "      <td>0.465986</td>\n",
       "      <td>4.398817</td>\n",
       "      <td>8506.600022</td>\n",
       "    </tr>\n",
       "    <tr>\n",
       "      <td>min</td>\n",
       "      <td>1.000000</td>\n",
       "      <td>1995.000000</td>\n",
       "      <td>2.000000</td>\n",
       "      <td>3.000000</td>\n",
       "      <td>113000.0</td>\n",
       "      <td>0.000000</td>\n",
       "      <td>0.000000</td>\n",
       "      <td>1.000000</td>\n",
       "      <td>2018.000000</td>\n",
       "      <td>3.000000</td>\n",
       "      <td>4913.043478</td>\n",
       "    </tr>\n",
       "    <tr>\n",
       "      <td>25%</td>\n",
       "      <td>4999.000000</td>\n",
       "      <td>2006.000000</td>\n",
       "      <td>2.000000</td>\n",
       "      <td>4.000000</td>\n",
       "      <td>113000.0</td>\n",
       "      <td>19.000000</td>\n",
       "      <td>1.000000</td>\n",
       "      <td>3.000000</td>\n",
       "      <td>2018.000000</td>\n",
       "      <td>6.000000</td>\n",
       "      <td>9416.666667</td>\n",
       "    </tr>\n",
       "    <tr>\n",
       "      <td>50%</td>\n",
       "      <td>8499.000000</td>\n",
       "      <td>2011.000000</td>\n",
       "      <td>3.000000</td>\n",
       "      <td>6.000000</td>\n",
       "      <td>113000.0</td>\n",
       "      <td>33.000000</td>\n",
       "      <td>3.000000</td>\n",
       "      <td>7.000000</td>\n",
       "      <td>2018.000000</td>\n",
       "      <td>8.000000</td>\n",
       "      <td>14125.000000</td>\n",
       "    </tr>\n",
       "    <tr>\n",
       "      <td>75%</td>\n",
       "      <td>14500.000000</td>\n",
       "      <td>2013.000000</td>\n",
       "      <td>3.000000</td>\n",
       "      <td>8.000000</td>\n",
       "      <td>113000.0</td>\n",
       "      <td>53.000000</td>\n",
       "      <td>5.000000</td>\n",
       "      <td>10.000000</td>\n",
       "      <td>2019.000000</td>\n",
       "      <td>12.000000</td>\n",
       "      <td>18833.333333</td>\n",
       "    </tr>\n",
       "    <tr>\n",
       "      <td>max</td>\n",
       "      <td>34999.000000</td>\n",
       "      <td>2016.000000</td>\n",
       "      <td>4.000000</td>\n",
       "      <td>8.000000</td>\n",
       "      <td>113000.0</td>\n",
       "      <td>271.000000</td>\n",
       "      <td>6.000000</td>\n",
       "      <td>12.000000</td>\n",
       "      <td>2019.000000</td>\n",
       "      <td>23.000000</td>\n",
       "      <td>37666.666667</td>\n",
       "    </tr>\n",
       "  </tbody>\n",
       "</table>\n",
       "</div>"
      ],
      "text/plain": [
       "              price    model_year     condition     cylinders  odometer  \\\n",
       "count  36951.000000  36951.000000  36951.000000  36951.000000   36951.0   \n",
       "mean   10526.069470   2009.278937      2.647506      6.064843  113000.0   \n",
       "std     7124.004843      4.401009      0.618387      1.606909       0.0   \n",
       "min        1.000000   1995.000000      2.000000      3.000000  113000.0   \n",
       "25%     4999.000000   2006.000000      2.000000      4.000000  113000.0   \n",
       "50%     8499.000000   2011.000000      3.000000      6.000000  113000.0   \n",
       "75%    14500.000000   2013.000000      3.000000      8.000000  113000.0   \n",
       "max    34999.000000   2016.000000      4.000000      8.000000  113000.0   \n",
       "\n",
       "        days_listed     dayOfWeek         Month          Year    VehicleAge  \\\n",
       "count  36951.000000  36951.000000  36951.000000  36951.000000  36951.000000   \n",
       "mean      39.643609      2.994344      6.557360   2018.318719      9.039782   \n",
       "std       28.250597      1.997277      3.486406      0.465986      4.398817   \n",
       "min        0.000000      0.000000      1.000000   2018.000000      3.000000   \n",
       "25%       19.000000      1.000000      3.000000   2018.000000      6.000000   \n",
       "50%       33.000000      3.000000      7.000000   2018.000000      8.000000   \n",
       "75%       53.000000      5.000000     10.000000   2019.000000     12.000000   \n",
       "max      271.000000      6.000000     12.000000   2019.000000     23.000000   \n",
       "\n",
       "       AverageMileage  \n",
       "count    36951.000000  \n",
       "mean     16051.268221  \n",
       "std       8506.600022  \n",
       "min       4913.043478  \n",
       "25%       9416.666667  \n",
       "50%      14125.000000  \n",
       "75%      18833.333333  \n",
       "max      37666.666667  "
      ]
     },
     "execution_count": 37,
     "metadata": {},
     "output_type": "execute_result"
    }
   ],
   "source": [
    "NoOutliers_vehicle.describe()"
   ]
  },
  {
   "cell_type": "markdown",
   "metadata": {},
   "source": [
    "#### Study how many days advertisements were displayed (days_listed). Plot a histogram. Calculate the mean and median. Describe the typical lifetime of an ad. Determine when ads were removed quickly, and when they were listed for an abnormally long time."
   ]
  },
  {
   "cell_type": "code",
   "execution_count": 38,
   "metadata": {},
   "outputs": [
    {
     "data": {
      "text/plain": [
       "18     959\n",
       "24     950\n",
       "22     945\n",
       "19     941\n",
       "20     934\n",
       "      ... \n",
       "263      1\n",
       "182      1\n",
       "261      1\n",
       "217      1\n",
       "223      1\n",
       "Name: days_listed, Length: 227, dtype: int64"
      ]
     },
     "execution_count": 38,
     "metadata": {},
     "output_type": "execute_result"
    }
   ],
   "source": [
    "vehicles_us['days_listed'].value_counts()"
   ]
  },
  {
   "cell_type": "code",
   "execution_count": 39,
   "metadata": {},
   "outputs": [
    {
     "data": {
      "image/png": "[encoded data removed]",
      "text/plain": [
       "<Figure size 432x288 with 1 Axes>"
      ]
     },
     "metadata": {
      "needs_background": "light"
     },
     "output_type": "display_data"
    }
   ],
   "source": [
    "vehicles_us.hist('days_listed',bins=100, range=(0,200));"
   ]
  },
  {
   "cell_type": "markdown",
   "metadata": {},
   "source": [
    "So the grapf above shows that the ad lifetime is usually between <b>10</b> and <b>30</b> days ."
   ]
  },
  {
   "cell_type": "code",
   "execution_count": 40,
   "metadata": {},
   "outputs": [
    {
     "data": {
      "text/plain": [
       "39.55475982532751"
      ]
     },
     "execution_count": 40,
     "metadata": {},
     "output_type": "execute_result"
    }
   ],
   "source": [
    "vehicles_us['days_listed'].mean()"
   ]
  },
  {
   "cell_type": "code",
   "execution_count": 41,
   "metadata": {},
   "outputs": [
    {
     "data": {
      "text/plain": [
       "33.0"
      ]
     },
     "execution_count": 41,
     "metadata": {},
     "output_type": "execute_result"
    }
   ],
   "source": [
    "vehicles_us['days_listed'].median()"
   ]
  },
  {
   "cell_type": "code",
   "execution_count": 42,
   "metadata": {},
   "outputs": [
    {
     "data": {
      "image/png": "[encoded data removed]",
      "text/plain": [
       "<Figure size 432x288 with 1 Axes>"
      ]
     },
     "metadata": {
      "needs_background": "light"
     },
     "output_type": "display_data"
    }
   ],
   "source": [
    "vehicles_us.hist('days_listed',bins=20, range=(0,10));"
   ]
  },
  {
   "cell_type": "code",
   "execution_count": 43,
   "metadata": {},
   "outputs": [
    {
     "data": {
      "image/png": "[encoded data removed]",
      "text/plain": [
       "<Figure size 432x288 with 1 Axes>"
      ]
     },
     "metadata": {
      "needs_background": "light"
     },
     "output_type": "display_data"
    }
   ],
   "source": [
    "vehicles_us.hist('days_listed',bins=20, range=(100,200));"
   ]
  },
  {
   "cell_type": "code",
   "execution_count": 44,
   "metadata": {},
   "outputs": [
    {
     "data": {
      "image/png": "[encoded data removed]",
      "text/plain": [
       "<Figure size 432x288 with 1 Axes>"
      ]
     },
     "metadata": {
      "needs_background": "light"
     },
     "output_type": "display_data"
    }
   ],
   "source": [
    "Q1 = vehicles_us['days_listed'].quantile(0.25)\n",
    "Q3 = vehicles_us['days_listed'].quantile(0.75)\n",
    "IQR = Q3 - Q1\n",
    "plt.ylim(0, 200)\n",
    "vehicles_us.boxplot('days_listed')\n",
    "plt.hlines(y=[Q1, Q3], xmin=0.5, xmax=1.5, color='red');"
   ]
  },
  {
   "cell_type": "code",
   "execution_count": 45,
   "metadata": {},
   "outputs": [
    {
     "data": {
      "image/png": "[encoded data removed]",
      "text/plain": [
       "<Figure size 432x288 with 1 Axes>"
      ]
     },
     "metadata": {
      "needs_background": "light"
     },
     "output_type": "display_data"
    }
   ],
   "source": [
    "plt.hlines(y=Q3+1.5*IQR, xmin=0.5, xmax=1.5, color='red') ;\n",
    "vehicles_us['quick_remove']=vehicles_us['days_listed']<10\n",
    "vehicles_us['long_time']=vehicles_us['days_listed']>100"
   ]
  },
  {
   "cell_type": "markdown",
   "metadata": {},
   "source": [
    "<b>Less</b> than <b>10 days</b> should be considered a quick remove of an ad and more that <b>100</b> days could be associated with an abnormal long period of time. "
   ]
  },
  {
   "cell_type": "markdown",
   "metadata": {},
   "source": [
    "#### Analyze the number of ads and the average price for each type of vehicle. Plot a graph showing the dependence of the number of ads on the vehicle type. Select the two types with the greatest number of ads."
   ]
  },
  {
   "cell_type": "code",
   "execution_count": 46,
   "metadata": {},
   "outputs": [
    {
     "data": {
      "text/html": [
       "<div>\n",
       "<style scoped>\n",
       "    .dataframe tbody tr th:only-of-type {\n",
       "        vertical-align: middle;\n",
       "    }\n",
       "\n",
       "    .dataframe tbody tr th {\n",
       "        vertical-align: top;\n",
       "    }\n",
       "\n",
       "    .dataframe thead th {\n",
       "        text-align: right;\n",
       "    }\n",
       "</style>\n",
       "<table border=\"1\" class=\"dataframe\">\n",
       "  <thead>\n",
       "    <tr style=\"text-align: right;\">\n",
       "      <th></th>\n",
       "      <th>days_listed</th>\n",
       "    </tr>\n",
       "    <tr>\n",
       "      <th>model</th>\n",
       "      <th></th>\n",
       "    </tr>\n",
       "  </thead>\n",
       "  <tbody>\n",
       "    <tr>\n",
       "      <td>ford f-150</td>\n",
       "      <td>78934</td>\n",
       "    </tr>\n",
       "    <tr>\n",
       "      <td>chevrolet silverado 1500</td>\n",
       "      <td>60931</td>\n",
       "    </tr>\n",
       "    <tr>\n",
       "      <td>ram 1500</td>\n",
       "      <td>48777</td>\n",
       "    </tr>\n",
       "    <tr>\n",
       "      <td>chevrolet silverado</td>\n",
       "      <td>35546</td>\n",
       "    </tr>\n",
       "    <tr>\n",
       "      <td>jeep wrangler</td>\n",
       "      <td>32517</td>\n",
       "    </tr>\n",
       "    <tr>\n",
       "      <td>toyota camry</td>\n",
       "      <td>30978</td>\n",
       "    </tr>\n",
       "    <tr>\n",
       "      <td>honda accord</td>\n",
       "      <td>29729</td>\n",
       "    </tr>\n",
       "    <tr>\n",
       "      <td>ram 2500</td>\n",
       "      <td>28749</td>\n",
       "    </tr>\n",
       "    <tr>\n",
       "      <td>gmc sierra 1500</td>\n",
       "      <td>27936</td>\n",
       "    </tr>\n",
       "    <tr>\n",
       "      <td>chevrolet silverado 2500hd</td>\n",
       "      <td>26067</td>\n",
       "    </tr>\n",
       "    <tr>\n",
       "      <td>ford explorer</td>\n",
       "      <td>25866</td>\n",
       "    </tr>\n",
       "    <tr>\n",
       "      <td>ford escape</td>\n",
       "      <td>25434</td>\n",
       "    </tr>\n",
       "    <tr>\n",
       "      <td>jeep grand cherokee</td>\n",
       "      <td>24074</td>\n",
       "    </tr>\n",
       "    <tr>\n",
       "      <td>toyota tacoma</td>\n",
       "      <td>23815</td>\n",
       "    </tr>\n",
       "    <tr>\n",
       "      <td>honda civic</td>\n",
       "      <td>22858</td>\n",
       "    </tr>\n",
       "    <tr>\n",
       "      <td>honda cr-v</td>\n",
       "      <td>22707</td>\n",
       "    </tr>\n",
       "    <tr>\n",
       "      <td>chevrolet tahoe</td>\n",
       "      <td>21665</td>\n",
       "    </tr>\n",
       "    <tr>\n",
       "      <td>nissan altima</td>\n",
       "      <td>21516</td>\n",
       "    </tr>\n",
       "    <tr>\n",
       "      <td>ford focus</td>\n",
       "      <td>21477</td>\n",
       "    </tr>\n",
       "    <tr>\n",
       "      <td>chevrolet impala</td>\n",
       "      <td>20707</td>\n",
       "    </tr>\n",
       "  </tbody>\n",
       "</table>\n",
       "</div>"
      ],
      "text/plain": [
       "                            days_listed\n",
       "model                                  \n",
       "ford f-150                        78934\n",
       "chevrolet silverado 1500          60931\n",
       "ram 1500                          48777\n",
       "chevrolet silverado               35546\n",
       "jeep wrangler                     32517\n",
       "toyota camry                      30978\n",
       "honda accord                      29729\n",
       "ram 2500                          28749\n",
       "gmc sierra 1500                   27936\n",
       "chevrolet silverado 2500hd        26067\n",
       "ford explorer                     25866\n",
       "ford escape                       25434\n",
       "jeep grand cherokee               24074\n",
       "toyota tacoma                     23815\n",
       "honda civic                       22858\n",
       "honda cr-v                        22707\n",
       "chevrolet tahoe                   21665\n",
       "nissan altima                     21516\n",
       "ford focus                        21477\n",
       "chevrolet impala                  20707"
      ]
     },
     "execution_count": 46,
     "metadata": {},
     "output_type": "execute_result"
    }
   ],
   "source": [
    "new_data=NoOutliers_vehicle.pivot_table(index='model', values='days_listed',aggfunc='sum')\n",
    "new_data.sort_values('days_listed',ascending=False).head(20)"
   ]
  },
  {
   "cell_type": "code",
   "execution_count": 47,
   "metadata": {
    "scrolled": true
   },
   "outputs": [
    {
     "data": {
      "text/html": [
       "<div>\n",
       "<style scoped>\n",
       "    .dataframe tbody tr th:only-of-type {\n",
       "        vertical-align: middle;\n",
       "    }\n",
       "\n",
       "    .dataframe tbody tr th {\n",
       "        vertical-align: top;\n",
       "    }\n",
       "\n",
       "    .dataframe thead th {\n",
       "        text-align: right;\n",
       "    }\n",
       "</style>\n",
       "<table border=\"1\" class=\"dataframe\">\n",
       "  <thead>\n",
       "    <tr style=\"text-align: right;\">\n",
       "      <th></th>\n",
       "      <th>price</th>\n",
       "    </tr>\n",
       "    <tr>\n",
       "      <th>model</th>\n",
       "      <th></th>\n",
       "    </tr>\n",
       "  </thead>\n",
       "  <tbody>\n",
       "    <tr>\n",
       "      <td>gmc sierra 1500</td>\n",
       "      <td>14447.091581</td>\n",
       "    </tr>\n",
       "    <tr>\n",
       "      <td>ford f350 super duty</td>\n",
       "      <td>14633.529412</td>\n",
       "    </tr>\n",
       "    <tr>\n",
       "      <td>jeep wrangler</td>\n",
       "      <td>14704.907767</td>\n",
       "    </tr>\n",
       "    <tr>\n",
       "      <td>ford f250</td>\n",
       "      <td>15043.136364</td>\n",
       "    </tr>\n",
       "    <tr>\n",
       "      <td>chevrolet silverado 2500hd</td>\n",
       "      <td>16356.047619</td>\n",
       "    </tr>\n",
       "    <tr>\n",
       "      <td>ford f350</td>\n",
       "      <td>17704.910256</td>\n",
       "    </tr>\n",
       "    <tr>\n",
       "      <td>chevrolet corvette</td>\n",
       "      <td>17836.047619</td>\n",
       "    </tr>\n",
       "    <tr>\n",
       "      <td>gmc sierra 2500hd</td>\n",
       "      <td>17853.785942</td>\n",
       "    </tr>\n",
       "    <tr>\n",
       "      <td>ram 2500</td>\n",
       "      <td>18153.897759</td>\n",
       "    </tr>\n",
       "    <tr>\n",
       "      <td>chevrolet camaro lt coupe 2d</td>\n",
       "      <td>18253.398058</td>\n",
       "    </tr>\n",
       "    <tr>\n",
       "      <td>ford f-250 sd</td>\n",
       "      <td>19467.671429</td>\n",
       "    </tr>\n",
       "    <tr>\n",
       "      <td>nissan frontier crew cab sv</td>\n",
       "      <td>19714.931507</td>\n",
       "    </tr>\n",
       "    <tr>\n",
       "      <td>ram 3500</td>\n",
       "      <td>20704.451852</td>\n",
       "    </tr>\n",
       "    <tr>\n",
       "      <td>jeep wrangler unlimited</td>\n",
       "      <td>20963.758209</td>\n",
       "    </tr>\n",
       "    <tr>\n",
       "      <td>chevrolet silverado 3500hd</td>\n",
       "      <td>21341.780220</td>\n",
       "    </tr>\n",
       "    <tr>\n",
       "      <td>ford f-350 sd</td>\n",
       "      <td>21821.600000</td>\n",
       "    </tr>\n",
       "    <tr>\n",
       "      <td>ford f150 supercrew cab xlt</td>\n",
       "      <td>22992.200980</td>\n",
       "    </tr>\n",
       "    <tr>\n",
       "      <td>ford mustang gt coupe 2d</td>\n",
       "      <td>23132.105691</td>\n",
       "    </tr>\n",
       "    <tr>\n",
       "      <td>chevrolet silverado 1500 crew</td>\n",
       "      <td>26124.516129</td>\n",
       "    </tr>\n",
       "    <tr>\n",
       "      <td>mercedes-benz benze sprinter 2500</td>\n",
       "      <td>34900.000000</td>\n",
       "    </tr>\n",
       "  </tbody>\n",
       "</table>\n",
       "</div>"
      ],
      "text/plain": [
       "                                          price\n",
       "model                                          \n",
       "gmc sierra 1500                    14447.091581\n",
       "ford f350 super duty               14633.529412\n",
       "jeep wrangler                      14704.907767\n",
       "ford f250                          15043.136364\n",
       "chevrolet silverado 2500hd         16356.047619\n",
       "ford f350                          17704.910256\n",
       "chevrolet corvette                 17836.047619\n",
       "gmc sierra 2500hd                  17853.785942\n",
       "ram 2500                           18153.897759\n",
       "chevrolet camaro lt coupe 2d       18253.398058\n",
       "ford f-250 sd                      19467.671429\n",
       "nissan frontier crew cab sv        19714.931507\n",
       "ram 3500                           20704.451852\n",
       "jeep wrangler unlimited            20963.758209\n",
       "chevrolet silverado 3500hd         21341.780220\n",
       "ford f-350 sd                      21821.600000\n",
       "ford f150 supercrew cab xlt        22992.200980\n",
       "ford mustang gt coupe 2d           23132.105691\n",
       "chevrolet silverado 1500 crew      26124.516129\n",
       "mercedes-benz benze sprinter 2500  34900.000000"
      ]
     },
     "execution_count": 47,
     "metadata": {},
     "output_type": "execute_result"
    }
   ],
   "source": [
    "new_data=NoOutliers_vehicle.pivot_table(index='model', values='price')\n",
    "new_data.sort_values('price').tail(20)"
   ]
  },
  {
   "cell_type": "code",
   "execution_count": 48,
   "metadata": {},
   "outputs": [
    {
     "data": {
      "image/png": "[encoded data removed]",
      "text/plain": [
       "<Figure size 1440x360 with 1 Axes>"
      ]
     },
     "metadata": {
      "needs_background": "light"
     },
     "output_type": "display_data"
    }
   ],
   "source": [
    "NoOutliers_vehicle.pivot_table(index='type', values='days_listed', aggfunc='sum').plot(kind='bar',grid=True, figsize=(20,5));"
   ]
  },
  {
   "cell_type": "markdown",
   "metadata": {},
   "source": [
    "The two types with the greatest number of ads are <b>SUV</b> and <b>sedan</b>."
   ]
  },
  {
   "cell_type": "code",
   "execution_count": 49,
   "metadata": {
    "scrolled": false
   },
   "outputs": [
    {
     "data": {
      "image/png": "[encoded data removed]",
      "text/plain": [
       "<Figure size 432x288 with 1 Axes>"
      ]
     },
     "metadata": {
      "needs_background": "light"
     },
     "output_type": "display_data"
    },
    {
     "data": {
      "image/png": "[encoded data removed]",
      "text/plain": [
       "<Figure size 432x288 with 1 Axes>"
      ]
     },
     "metadata": {
      "needs_background": "light"
     },
     "output_type": "display_data"
    },
    {
     "data": {
      "image/png": "[encoded data removed]",
      "text/plain": [
       "<Figure size 432x288 with 1 Axes>"
      ]
     },
     "metadata": {
      "needs_background": "light"
     },
     "output_type": "display_data"
    },
    {
     "data": {
      "image/png": "[encoded data removed]",
      "text/plain": [
       "<Figure size 432x288 with 1 Axes>"
      ]
     },
     "metadata": {
      "needs_background": "light"
     },
     "output_type": "display_data"
    },
    {
     "data": {
      "image/png": "[encoded data removed]",
      "text/plain": [
       "<Figure size 432x288 with 1 Axes>"
      ]
     },
     "metadata": {
      "needs_background": "light"
     },
     "output_type": "display_data"
    },
    {
     "data": {
      "image/png": "[encoded data removed]",
      "text/plain": [
       "<Figure size 432x288 with 1 Axes>"
      ]
     },
     "metadata": {
      "needs_background": "light"
     },
     "output_type": "display_data"
    }
   ],
   "source": [
    "group_data=NoOutliers_vehicle.query('type==\"SUV\"')\n",
    "group_data.plot(x='VehicleAge',y='price',kind='scatter', grid = True);\n",
    "group_data.plot(x='AverageMileage',y='price',kind='scatter', grid = True);\n",
    "group_data.plot(x='condition',y='price',kind='scatter', grid = True);\n",
    "\n",
    "group_data2=NoOutliers_vehicle.query('type==\"sedan\"')\n",
    "group_data2.plot(x='VehicleAge',y='price',kind='scatter', grid = True);\n",
    "group_data2.plot(x='AverageMileage',y='price',kind='scatter', grid = True);\n",
    "group_data2.plot(x='condition',y='price',kind='scatter', grid = True);\n"
   ]
  },
  {
   "cell_type": "code",
   "execution_count": 50,
   "metadata": {},
   "outputs": [],
   "source": [
    "import sys\n",
    "import warnings\n",
    "if not sys.warnoptions:\n",
    "       warnings.simplefilter(\"ignore\")"
   ]
  },
  {
   "cell_type": "code",
   "execution_count": 51,
   "metadata": {},
   "outputs": [
    {
     "data": {
      "image/png": "[encoded data removed]",
      "text/plain": [
       "<Figure size 432x288 with 1 Axes>"
      ]
     },
     "metadata": {
      "needs_background": "light"
     },
     "output_type": "display_data"
    },
    {
     "data": {
      "image/png": "[encoded data removed]",
      "text/plain": [
       "<Figure size 432x288 with 1 Axes>"
      ]
     },
     "metadata": {
      "needs_background": "light"
     },
     "output_type": "display_data"
    }
   ],
   "source": [
    "group_data_new=group_data.query('days_listed>50');\n",
    "group_data_new.boxplot(column='price', by='paint_color');\n",
    "group_data_new.boxplot(column='price', by='transmission');\n",
    "  "
   ]
  },
  {
   "cell_type": "code",
   "execution_count": 52,
   "metadata": {
    "scrolled": true
   },
   "outputs": [
    {
     "data": {
      "image/png": "[encoded data removed]",
      "text/plain": [
       "<Figure size 432x288 with 1 Axes>"
      ]
     },
     "metadata": {
      "needs_background": "light"
     },
     "output_type": "display_data"
    },
    {
     "data": {
      "image/png": "[encoded data removed]",
      "text/plain": [
       "<Figure size 432x288 with 1 Axes>"
      ]
     },
     "metadata": {
      "needs_background": "light"
     },
     "output_type": "display_data"
    }
   ],
   "source": [
    "group_data2_new=group_data2.query('days_listed>50')\n",
    "group_data2_new.boxplot(column='price', by='paint_color');\n",
    "group_data2_new.boxplot(column='price', by='transmission');"
   ]
  },
  {
   "cell_type": "markdown",
   "metadata": {},
   "source": [
    "Based on the graphs for these specific types I can say that the price for vehicles <b>older than 10 years</b> is <b>less than 20000</b> and the <b>newer ones</b> can reach up to <b>35000</b>."
   ]
  },
  {
   "cell_type": "markdown",
   "metadata": {},
   "source": [
    "The mileage has also an influence on the price because I can see that most of the vehicles have the mileage between <b>5000</b> and <b>10000</b> and the price for these vehicles usually is <b>not higher than 15000</b>."
   ]
  },
  {
   "cell_type": "markdown",
   "metadata": {},
   "source": [
    "Regarding the condition, the vehicle types with the greatest number of ads have : <b> like new, excellent or good condition</b> and the price differences for each category are not that high."
   ]
  },
  {
   "cell_type": "markdown",
   "metadata": {},
   "source": [
    "For the color, I can only notice that <b>orange</b> vehicles cost a little more than the rest of the vehicles."
   ]
  },
  {
   "cell_type": "markdown",
   "metadata": {},
   "source": [
    "As I have the _other_ category for _transmission_ column and looking at these graphs I can't say that the transmission has also an influence on the price because it depends a lot on the unknown values."
   ]
  },
  {
   "cell_type": "markdown",
   "metadata": {},
   "source": [
    "For determinating which factors influence the price more I looked at the data and fiiled the missing values for having more valid data to analyse and for better hypothesis.The following missing values were founded :model_year, cylinders,odometer,paint_color and is_4wd.\n",
    "Then I changed the data type for columns that had an ambiguos or not so precise type. \n",
    "When I started preprocessing the data I added some new columns to have more detailed and specific data to compare with. \n",
    "After having all data ready, I started using different graphs for the columns and than associating them with the price.\n",
    "This helped me see which data is is an outlier and can be savetly removed and which one should be used for a better precision.\n",
    "As a conclusion, going through all these steps I can say that the price of a vehicle is not depending much on the color of the car or transmission but the vehicle's age, mileage and condition are definitely factors that influence the price of a vehicle. A vehicle newer than 10 years in good condition will definitely cost more than an older one. "
   ]
  }
 ],
 "metadata": {
  "kernelspec": {
   "display_name": "Python 3",
   "language": "python",
   "name": "python3"
  },
  "language_info": {
   "codemirror_mode": {
    "name": "ipython",
    "version": 3
   },
   "file_extension": ".py",
   "mimetype": "text/x-python",
   "name": "python",
   "nbconvert_exporter": "python",
   "pygments_lexer": "ipython3",
   "version": "3.8.8"
  },
  "toc": {
   "base_numbering": 1,
   "nav_menu": {},
   "number_sections": true,
   "sideBar": true,
   "skip_h1_title": false,
   "title_cell": "Table of Contents",
   "title_sidebar": "Contents",
   "toc_cell": false,
   "toc_position": {},
   "toc_section_display": true,
   "toc_window_display": false
  }
 },
 "nbformat": 4,
 "nbformat_minor": 4
}
