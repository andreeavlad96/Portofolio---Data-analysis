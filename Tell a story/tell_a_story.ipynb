{
 "cells": [
  {
   "cell_type": "markdown",
   "metadata": {},
   "source": [
    "# Robot-run cafe"
   ]
  },
  {
   "cell_type": "markdown",
   "metadata": {},
   "source": [
    "## Having the data on establishments in LA, prepare a market reseach in order to attract investors for the small robot-run cafe."
   ]
  },
  {
   "cell_type": "markdown",
   "metadata": {},
   "source": [
    "1. [Opening data](#start)\n",
    "2. [Preprocessing data](#preprocessing)\n",
    "    * [Processing missing values](#null)\n",
    "    * [Processing duplicate data/data types](#duplicates) \n",
    "    * [Conclusion](#conclusion)<br>\n",
    "3.[Data analysing](#analysing)\n",
    "    * [Investigate the proportions of the various types of establishments](#proportionstype)\n",
    "    * [Investigate the proportions of chain and nonchain establishments.](#proportionschain)\n",
    "    * [Which type of establishment is typically a chain?](#typicallychain)\n",
    "    * [What characterizes chains: many establishments with a small number of seats or a few establishments with a lot of seats?](#characterizechains)\n",
    "    * [Determine the average number of seats for each type of establishment. On average, which type of establishment has the greatest number of seats?](#averagefortype)\n",
    "    * [Put the data on street names from the address column in a separate column.](#separate)\n",
    "    * [Plot a graph of the top ten streets by number of establishments.](#topten)\n",
    "    * [Find the number of streets that only have one establishment.](#onlyone)\n",
    "    * [For streets with a lot of establishments, look at the distribution of the number of seats. What trends can you see?](#trends)\n",
    "   \n"
   ]
  },
  {
   "cell_type": "markdown",
   "metadata": {},
   "source": [
    "## General conclusion <a id=\"general\"></a>"
   ]
  },
  {
   "cell_type": "markdown",
   "metadata": {},
   "source": [
    "As a conclusion we can say the following :<br>\n",
    "    * when it comes to the type of the establishment the best options are restaurant, fast food or cafe;\n",
    "    * the establishment should be part of a chain with less than 20 establishments;\n",
    "    * it is better not to have more than 50 seats in the establishment;\n",
    "    * the best place for the establishment should also be on the top ten streets( Sunset, Wilshire, Pico ..);"
   ]
  },
  {
   "cell_type": "markdown",
   "metadata": {},
   "source": [
    "The goal of the project is to find out if opening a robot-run cafe in LA is a good choice or not and also how(part of a chain or not) and where it should be located. "
   ]
  },
  {
   "cell_type": "markdown",
   "metadata": {},
   "source": [
    "## Opening data <a id=\"start\"></a>"
   ]
  },
  {
   "cell_type": "code",
   "execution_count": 1,
   "metadata": {},
   "outputs": [
    {
     "name": "stdout",
     "output_type": "stream",
     "text": [
      "Defaulting to user installation because normal site-packages is not writeable\n",
      "Collecting usaddress\n",
      "  Downloading usaddress-0.5.10-py2.py3-none-any.whl (63 kB)\n",
      "\u001b[K     |████████████████████████████████| 63 kB 781 kB/s eta 0:00:011\n",
      "\u001b[?25hCollecting python-crfsuite>=0.7\n",
      "  Downloading python_crfsuite-0.9.7-cp37-cp37m-manylinux1_x86_64.whl (743 kB)\n",
      "\u001b[K     |████████████████████████████████| 743 kB 1.8 MB/s eta 0:00:01\n",
      "\u001b[?25hCollecting probableparsing\n",
      "  Downloading probableparsing-0.0.1-py2.py3-none-any.whl (3.1 kB)\n",
      "Requirement already satisfied: future>=0.14 in /opt/conda/lib/python3.7/site-packages (from usaddress) (0.18.2)\n",
      "Installing collected packages: python-crfsuite, probableparsing, usaddress\n",
      "Successfully installed probableparsing-0.0.1 python-crfsuite-0.9.7 usaddress-0.5.10\n"
     ]
    }
   ],
   "source": [
    "!pip install usaddress"
   ]
  },
  {
   "cell_type": "code",
   "execution_count": 2,
   "metadata": {},
   "outputs": [],
   "source": [
    "import pandas as pd\n",
    "import matplotlib.pyplot as plt\n",
    "import usaddress"
   ]
  },
  {
   "cell_type": "code",
   "execution_count": 3,
   "metadata": {},
   "outputs": [],
   "source": [
    "path ='/datasets/'\n",
    "restaurants = pd.read_csv(path + 'rest_data_us.csv')"
   ]
  },
  {
   "cell_type": "code",
   "execution_count": 4,
   "metadata": {},
   "outputs": [
    {
     "data": {
      "text/html": [
       "<div>\n",
       "<style scoped>\n",
       "    .dataframe tbody tr th:only-of-type {\n",
       "        vertical-align: middle;\n",
       "    }\n",
       "\n",
       "    .dataframe tbody tr th {\n",
       "        vertical-align: top;\n",
       "    }\n",
       "\n",
       "    .dataframe thead th {\n",
       "        text-align: right;\n",
       "    }\n",
       "</style>\n",
       "<table border=\"1\" class=\"dataframe\">\n",
       "  <thead>\n",
       "    <tr style=\"text-align: right;\">\n",
       "      <th></th>\n",
       "      <th>id</th>\n",
       "      <th>object_name</th>\n",
       "      <th>address</th>\n",
       "      <th>chain</th>\n",
       "      <th>object_type</th>\n",
       "      <th>number</th>\n",
       "    </tr>\n",
       "  </thead>\n",
       "  <tbody>\n",
       "    <tr>\n",
       "      <td>0</td>\n",
       "      <td>11786</td>\n",
       "      <td>HABITAT COFFEE SHOP</td>\n",
       "      <td>3708 N EAGLE ROCK BLVD</td>\n",
       "      <td>False</td>\n",
       "      <td>Cafe</td>\n",
       "      <td>26</td>\n",
       "    </tr>\n",
       "    <tr>\n",
       "      <td>1</td>\n",
       "      <td>11787</td>\n",
       "      <td>REILLY'S</td>\n",
       "      <td>100 WORLD WAY # 120</td>\n",
       "      <td>False</td>\n",
       "      <td>Restaurant</td>\n",
       "      <td>9</td>\n",
       "    </tr>\n",
       "    <tr>\n",
       "      <td>2</td>\n",
       "      <td>11788</td>\n",
       "      <td>STREET CHURROS</td>\n",
       "      <td>6801 HOLLYWOOD BLVD # 253</td>\n",
       "      <td>False</td>\n",
       "      <td>Fast Food</td>\n",
       "      <td>20</td>\n",
       "    </tr>\n",
       "    <tr>\n",
       "      <td>3</td>\n",
       "      <td>11789</td>\n",
       "      <td>TRINITI ECHO PARK</td>\n",
       "      <td>1814 W SUNSET BLVD</td>\n",
       "      <td>False</td>\n",
       "      <td>Restaurant</td>\n",
       "      <td>22</td>\n",
       "    </tr>\n",
       "    <tr>\n",
       "      <td>4</td>\n",
       "      <td>11790</td>\n",
       "      <td>POLLEN</td>\n",
       "      <td>2100 ECHO PARK AVE</td>\n",
       "      <td>False</td>\n",
       "      <td>Restaurant</td>\n",
       "      <td>20</td>\n",
       "    </tr>\n",
       "    <tr>\n",
       "      <td>5</td>\n",
       "      <td>11791</td>\n",
       "      <td>THE SPOT GRILL</td>\n",
       "      <td>10004 NATIONAL BLVD</td>\n",
       "      <td>False</td>\n",
       "      <td>Restaurant</td>\n",
       "      <td>14</td>\n",
       "    </tr>\n",
       "    <tr>\n",
       "      <td>6</td>\n",
       "      <td>11792</td>\n",
       "      <td>CPK</td>\n",
       "      <td>100 WORLD WAY # 126</td>\n",
       "      <td>False</td>\n",
       "      <td>Restaurant</td>\n",
       "      <td>100</td>\n",
       "    </tr>\n",
       "    <tr>\n",
       "      <td>7</td>\n",
       "      <td>11793</td>\n",
       "      <td>PHO LALA</td>\n",
       "      <td>3500 W 6TH ST STE 226</td>\n",
       "      <td>False</td>\n",
       "      <td>Restaurant</td>\n",
       "      <td>7</td>\n",
       "    </tr>\n",
       "    <tr>\n",
       "      <td>8</td>\n",
       "      <td>11794</td>\n",
       "      <td>ABC DONUTS</td>\n",
       "      <td>3027 N SAN FERNANDO RD UNIT 103</td>\n",
       "      <td>True</td>\n",
       "      <td>Fast Food</td>\n",
       "      <td>1</td>\n",
       "    </tr>\n",
       "    <tr>\n",
       "      <td>9</td>\n",
       "      <td>11795</td>\n",
       "      <td>UPSTAIRS</td>\n",
       "      <td>3707 N CAHUENGA BLVD</td>\n",
       "      <td>False</td>\n",
       "      <td>Restaurant</td>\n",
       "      <td>35</td>\n",
       "    </tr>\n",
       "    <tr>\n",
       "      <td>10</td>\n",
       "      <td>11796</td>\n",
       "      <td>EL POLLO LOCO</td>\n",
       "      <td>5319 W SUNSET BLVD</td>\n",
       "      <td>True</td>\n",
       "      <td>Restaurant</td>\n",
       "      <td>38</td>\n",
       "    </tr>\n",
       "    <tr>\n",
       "      <td>11</td>\n",
       "      <td>11797</td>\n",
       "      <td>POONG NYUN BAKERY</td>\n",
       "      <td>928 S WESTERN AVE STE 109</td>\n",
       "      <td>True</td>\n",
       "      <td>Bakery</td>\n",
       "      <td>17</td>\n",
       "    </tr>\n",
       "    <tr>\n",
       "      <td>12</td>\n",
       "      <td>11798</td>\n",
       "      <td>EMC RESTAURANT GROUP LLC</td>\n",
       "      <td>3500 W 6TH ST STE 101</td>\n",
       "      <td>True</td>\n",
       "      <td>Restaurant</td>\n",
       "      <td>133</td>\n",
       "    </tr>\n",
       "    <tr>\n",
       "      <td>13</td>\n",
       "      <td>11799</td>\n",
       "      <td>POPULAR DONUTS</td>\n",
       "      <td>3614 W SLAUSON AVE</td>\n",
       "      <td>False</td>\n",
       "      <td>Fast Food</td>\n",
       "      <td>18</td>\n",
       "    </tr>\n",
       "    <tr>\n",
       "      <td>14</td>\n",
       "      <td>11800</td>\n",
       "      <td>CUSCATLECA BAKERY</td>\n",
       "      <td>2501 W SUNSET BLVD #A</td>\n",
       "      <td>True</td>\n",
       "      <td>Bakery</td>\n",
       "      <td>26</td>\n",
       "    </tr>\n",
       "    <tr>\n",
       "      <td>15</td>\n",
       "      <td>11801</td>\n",
       "      <td>FOOD COURT TRAY WASHING AREA</td>\n",
       "      <td>928 S WESTERN AVE STE 300</td>\n",
       "      <td>True</td>\n",
       "      <td>Restaurant</td>\n",
       "      <td>21</td>\n",
       "    </tr>\n",
       "    <tr>\n",
       "      <td>16</td>\n",
       "      <td>11802</td>\n",
       "      <td>HMS BOUNTY</td>\n",
       "      <td>3357 WILSHIRE BLVD</td>\n",
       "      <td>False</td>\n",
       "      <td>Restaurant</td>\n",
       "      <td>147</td>\n",
       "    </tr>\n",
       "    <tr>\n",
       "      <td>17</td>\n",
       "      <td>11803</td>\n",
       "      <td>AN'S CHAN BANG</td>\n",
       "      <td>244 S OXFORD AVE # 5</td>\n",
       "      <td>False</td>\n",
       "      <td>Restaurant</td>\n",
       "      <td>10</td>\n",
       "    </tr>\n",
       "    <tr>\n",
       "      <td>18</td>\n",
       "      <td>11804</td>\n",
       "      <td>MURAKAMI</td>\n",
       "      <td>7160 MELROSE AVE</td>\n",
       "      <td>False</td>\n",
       "      <td>Restaurant</td>\n",
       "      <td>139</td>\n",
       "    </tr>\n",
       "    <tr>\n",
       "      <td>19</td>\n",
       "      <td>11805</td>\n",
       "      <td>DELTA SKY CLUB T3</td>\n",
       "      <td>300 WORLD WAY</td>\n",
       "      <td>False</td>\n",
       "      <td>Restaurant</td>\n",
       "      <td>103</td>\n",
       "    </tr>\n",
       "  </tbody>\n",
       "</table>\n",
       "</div>"
      ],
      "text/plain": [
       "       id                   object_name                          address  \\\n",
       "0   11786           HABITAT COFFEE SHOP           3708 N EAGLE ROCK BLVD   \n",
       "1   11787                      REILLY'S              100 WORLD WAY # 120   \n",
       "2   11788                STREET CHURROS        6801 HOLLYWOOD BLVD # 253   \n",
       "3   11789             TRINITI ECHO PARK               1814 W SUNSET BLVD   \n",
       "4   11790                        POLLEN               2100 ECHO PARK AVE   \n",
       "5   11791                THE SPOT GRILL              10004 NATIONAL BLVD   \n",
       "6   11792                           CPK              100 WORLD WAY # 126   \n",
       "7   11793                      PHO LALA            3500 W 6TH ST STE 226   \n",
       "8   11794                    ABC DONUTS  3027 N SAN FERNANDO RD UNIT 103   \n",
       "9   11795                      UPSTAIRS             3707 N CAHUENGA BLVD   \n",
       "10  11796                 EL POLLO LOCO               5319 W SUNSET BLVD   \n",
       "11  11797             POONG NYUN BAKERY        928 S WESTERN AVE STE 109   \n",
       "12  11798      EMC RESTAURANT GROUP LLC            3500 W 6TH ST STE 101   \n",
       "13  11799                POPULAR DONUTS               3614 W SLAUSON AVE   \n",
       "14  11800             CUSCATLECA BAKERY            2501 W SUNSET BLVD #A   \n",
       "15  11801  FOOD COURT TRAY WASHING AREA        928 S WESTERN AVE STE 300   \n",
       "16  11802                    HMS BOUNTY               3357 WILSHIRE BLVD   \n",
       "17  11803                AN'S CHAN BANG             244 S OXFORD AVE # 5   \n",
       "18  11804                      MURAKAMI                 7160 MELROSE AVE   \n",
       "19  11805             DELTA SKY CLUB T3                    300 WORLD WAY   \n",
       "\n",
       "    chain object_type  number  \n",
       "0   False        Cafe      26  \n",
       "1   False  Restaurant       9  \n",
       "2   False   Fast Food      20  \n",
       "3   False  Restaurant      22  \n",
       "4   False  Restaurant      20  \n",
       "5   False  Restaurant      14  \n",
       "6   False  Restaurant     100  \n",
       "7   False  Restaurant       7  \n",
       "8    True   Fast Food       1  \n",
       "9   False  Restaurant      35  \n",
       "10   True  Restaurant      38  \n",
       "11   True      Bakery      17  \n",
       "12   True  Restaurant     133  \n",
       "13  False   Fast Food      18  \n",
       "14   True      Bakery      26  \n",
       "15   True  Restaurant      21  \n",
       "16  False  Restaurant     147  \n",
       "17  False  Restaurant      10  \n",
       "18  False  Restaurant     139  \n",
       "19  False  Restaurant     103  "
      ]
     },
     "metadata": {},
     "output_type": "display_data"
    },
    {
     "name": "stdout",
     "output_type": "stream",
     "text": [
      "<class 'pandas.core.frame.DataFrame'>\n",
      "RangeIndex: 9651 entries, 0 to 9650\n",
      "Data columns (total 6 columns):\n",
      "id             9651 non-null int64\n",
      "object_name    9651 non-null object\n",
      "address        9651 non-null object\n",
      "chain          9648 non-null object\n",
      "object_type    9651 non-null object\n",
      "number         9651 non-null int64\n",
      "dtypes: int64(2), object(4)\n",
      "memory usage: 452.5+ KB\n"
     ]
    },
    {
     "data": {
      "text/plain": [
       "None"
      ]
     },
     "metadata": {},
     "output_type": "display_data"
    }
   ],
   "source": [
    "display(restaurants.head(20))\n",
    "display(restaurants.info())"
   ]
  },
  {
   "cell_type": "markdown",
   "metadata": {},
   "source": [
    "The data provided has informations about different establishments from LA. There is the id of each establishment, the type, the name and the address of the establishment. Also there are the numbers of seats and the information if an establishment is a chain or not."
   ]
  },
  {
   "cell_type": "markdown",
   "metadata": {},
   "source": [
    "## Preprocessing data <a id =\"preprocessing\"></a>"
   ]
  },
  {
   "cell_type": "markdown",
   "metadata": {},
   "source": [
    "### Processing missing values <a id=\"null\"></a>"
   ]
  },
  {
   "cell_type": "code",
   "execution_count": 5,
   "metadata": {},
   "outputs": [
    {
     "data": {
      "text/plain": [
       "id             0\n",
       "object_name    0\n",
       "address        0\n",
       "chain          3\n",
       "object_type    0\n",
       "number         0\n",
       "dtype: int64"
      ]
     },
     "execution_count": 5,
     "metadata": {},
     "output_type": "execute_result"
    }
   ],
   "source": [
    "restaurants.isnull().sum()"
   ]
  },
  {
   "cell_type": "code",
   "execution_count": 6,
   "metadata": {},
   "outputs": [
    {
     "data": {
      "text/html": [
       "<div>\n",
       "<style scoped>\n",
       "    .dataframe tbody tr th:only-of-type {\n",
       "        vertical-align: middle;\n",
       "    }\n",
       "\n",
       "    .dataframe tbody tr th {\n",
       "        vertical-align: top;\n",
       "    }\n",
       "\n",
       "    .dataframe thead th {\n",
       "        text-align: right;\n",
       "    }\n",
       "</style>\n",
       "<table border=\"1\" class=\"dataframe\">\n",
       "  <thead>\n",
       "    <tr style=\"text-align: right;\">\n",
       "      <th></th>\n",
       "      <th>id</th>\n",
       "      <th>object_name</th>\n",
       "      <th>address</th>\n",
       "      <th>chain</th>\n",
       "      <th>object_type</th>\n",
       "      <th>number</th>\n",
       "    </tr>\n",
       "  </thead>\n",
       "  <tbody>\n",
       "    <tr>\n",
       "      <td>7408</td>\n",
       "      <td>19194</td>\n",
       "      <td>TAQUERIA LOS 3 CARNALES</td>\n",
       "      <td>5000 E WHITTIER BLVD</td>\n",
       "      <td>NaN</td>\n",
       "      <td>Restaurant</td>\n",
       "      <td>14</td>\n",
       "    </tr>\n",
       "    <tr>\n",
       "      <td>7523</td>\n",
       "      <td>19309</td>\n",
       "      <td>JAMMIN JIMMY'S PIZZA</td>\n",
       "      <td>1641 FIRESTONE BLVD</td>\n",
       "      <td>NaN</td>\n",
       "      <td>Pizza</td>\n",
       "      <td>1</td>\n",
       "    </tr>\n",
       "    <tr>\n",
       "      <td>8648</td>\n",
       "      <td>20434</td>\n",
       "      <td>THE LEXINGTON THEATER</td>\n",
       "      <td>129 E 3RD ST</td>\n",
       "      <td>NaN</td>\n",
       "      <td>Restaurant</td>\n",
       "      <td>35</td>\n",
       "    </tr>\n",
       "  </tbody>\n",
       "</table>\n",
       "</div>"
      ],
      "text/plain": [
       "         id              object_name               address chain object_type  \\\n",
       "7408  19194  TAQUERIA LOS 3 CARNALES  5000 E WHITTIER BLVD   NaN  Restaurant   \n",
       "7523  19309     JAMMIN JIMMY'S PIZZA   1641 FIRESTONE BLVD   NaN       Pizza   \n",
       "8648  20434    THE LEXINGTON THEATER          129 E 3RD ST   NaN  Restaurant   \n",
       "\n",
       "      number  \n",
       "7408      14  \n",
       "7523       1  \n",
       "8648      35  "
      ]
     },
     "execution_count": 6,
     "metadata": {},
     "output_type": "execute_result"
    }
   ],
   "source": [
    "restaurants[restaurants['chain'].isnull()]"
   ]
  },
  {
   "cell_type": "code",
   "execution_count": 7,
   "metadata": {},
   "outputs": [
    {
     "data": {
      "text/plain": [
       "False    5972\n",
       "True     3676\n",
       "Name: chain, dtype: int64"
      ]
     },
     "execution_count": 7,
     "metadata": {},
     "output_type": "execute_result"
    }
   ],
   "source": [
    "restaurants['chain'].value_counts()"
   ]
  },
  {
   "cell_type": "code",
   "execution_count": 8,
   "metadata": {},
   "outputs": [
    {
     "data": {
      "text/plain": [
       "id             0\n",
       "object_name    0\n",
       "address        0\n",
       "chain          0\n",
       "object_type    0\n",
       "number         0\n",
       "dtype: int64"
      ]
     },
     "execution_count": 8,
     "metadata": {},
     "output_type": "execute_result"
    }
   ],
   "source": [
    "restaurants[restaurants['object_type']=='Restaurant']['chain'].value_counts()\n",
    "restaurants[restaurants['object_type']=='Pizza']['chain'].value_counts()\n",
    "\n",
    "restaurants[restaurants['object_name'].str.contains(\"JAMMIN\")]\n",
    "\n",
    "restaurants[restaurants['object_name'].str.contains(\"TAQUERIA \")]\n",
    "\n",
    "restaurants[restaurants['object_name'].str.contains(\"THEATER\")]\n",
    "\n",
    "restaurants =restaurants.fillna('False')\n",
    "restaurants.isnull().sum()"
   ]
  },
  {
   "cell_type": "markdown",
   "metadata": {},
   "source": [
    "The dataset had 3 missing values in the chain column. The name of the objects for those chains is unique and other objects containing parts of that name were having ( most of them ) False values in the chain column so that's the reason for filling the missing values with 'False'. "
   ]
  },
  {
   "cell_type": "markdown",
   "metadata": {},
   "source": [
    "### Processing duplicate data / data types <a id=\"duplicates\"></a>"
   ]
  },
  {
   "cell_type": "code",
   "execution_count": 9,
   "metadata": {},
   "outputs": [
    {
     "data": {
      "text/plain": [
       "0"
      ]
     },
     "execution_count": 9,
     "metadata": {},
     "output_type": "execute_result"
    }
   ],
   "source": [
    "restaurants.duplicated().sum()"
   ]
  },
  {
   "cell_type": "code",
   "execution_count": 10,
   "metadata": {
    "scrolled": true
   },
   "outputs": [
    {
     "data": {
      "text/plain": [
       "SUBWAY                        152\n",
       "STARBUCKS                     129\n",
       "MCDONALD'S                     82\n",
       "THE COFFEE BEAN & TEA LEAF     47\n",
       "EL POLLO LOCO                  38\n",
       "TACO BELL                      31\n",
       "TRIMANA                        27\n",
       "PANDA EXPRESS                  25\n",
       "CARL'S JR                      24\n",
       "YOGURTLAND                     21\n",
       "LOUISIANA FRIED CHICKEN        20\n",
       "BASKIN ROBBINS                 19\n",
       "CHIPOTLE MEXICAN GRILL         19\n",
       "KENTUCKY FRIED CHICKEN         17\n",
       "WABA GRILL                     16\n",
       "HONG KONG EXPRESS              16\n",
       "WINGSTOP                       15\n",
       "DOMINO'S PIZZA                 15\n",
       "KFC                            14\n",
       "PAPA JOHN'S PIZZA              14\n",
       "LITTLE CAESARS                 14\n",
       "CHINATOWN EXPRESS              12\n",
       "PINKBERRY                      12\n",
       "JERSEY MIKE'S SUBS             11\n",
       "CHINA EXPRESS                  11\n",
       "FATBURGER                      11\n",
       "BLUE BOTTLE COFFEE              9\n",
       "POLLO CAMPERO                   6\n",
       "WETZEL'S PRETZELS               6\n",
       "MENDOCINO FARMS                 6\n",
       "LA MONARCA BAKERY               6\n",
       "WHOLE FOODS MARKET              6\n",
       "JIMMY JOHN'S                    5\n",
       "HONG KONG BOWL                  5\n",
       "BAJA FRESH                      5\n",
       "Name: object_name, dtype: int64"
      ]
     },
     "execution_count": 10,
     "metadata": {},
     "output_type": "execute_result"
    }
   ],
   "source": [
    "restaurants.loc[restaurants['object_name'].str.contains('SUBWAY', case=False),'object_name']='SUBWAY'\n",
    "restaurants.loc[restaurants['object_name'].str.contains(\"WABA GRILL\", case=False),'object_name']=\"WABA GRILL\"\n",
    "restaurants.loc[restaurants['object_name'].str.contains(\"KENTUCKY FRIED CHICKEN\", case=False),'object_name']=\"KENTUCKY FRIED CHICKEN\"\n",
    "restaurants.loc[restaurants['object_name'].str.contains(\"TRIMANA\", case=False),'object_name']=\"TRIMANA\"\n",
    "restaurants.loc[restaurants['object_name'].str.contains(\"MCDONALD'S\", case=False),'object_name']=\"MCDONALD'S\"\n",
    "restaurants.loc[restaurants['object_name'].str.contains(\"PAPA JOHN'S PIZZA\", case=False),'object_name']=\"PAPA JOHN'S PIZZA\"\n",
    "restaurants.loc[restaurants['object_name'].str.contains(\"YOGURTLAND\", case=False),'object_name']=\"YOGURTLAND\"\n",
    "restaurants.loc[restaurants['object_name'].str.contains(\"HONG KONG EXPRESS\",case=False),'object_name']=\"HONG KONG EXPRESS\"\n",
    "restaurants.loc[restaurants['object_name'].str.contains(\"EL POLLO LOCO\",case=False),'object_name']=\"EL POLLO LOCO\"\n",
    "restaurants.loc[restaurants['object_name'].str.contains(\"STARBUCKS\",case=False),'object_name']=\"STARBUCKS\"\n",
    "restaurants.loc[restaurants['object_name'].str.contains(\"CHIPOTLE MEXICAN GRILL\",case=False),'object_name']=\"CHIPOTLE MEXICAN GRILL\"\n",
    "restaurants.loc[restaurants['object_name'].str.contains(\"WINGSTOP\",case=False),'object_name']=\"WINGSTOP\"\n",
    "restaurants.loc[restaurants['object_name'].str.contains(\"LOUISIANA FRIED CHICKEN\",case=False),'object_name']=\"LOUISIANA FRIED CHICKEN\"\n",
    "restaurants.loc[restaurants['object_name'].str.contains(\"KFC\",case=False),'object_name']=\"KFC\"\n",
    "restaurants.loc[restaurants['object_name'].str.contains(\"CARL'S JR\",case=False),'object_name']=\"CARL'S JR\"\n",
    "restaurants.loc[restaurants['object_name'].str.contains(\"JERSEY MIKE'S SUBS\",case=False),'object_name']=\"JERSEY MIKE'S SUBS\"\n",
    "restaurants.loc[restaurants['object_name'].str.contains(\"BASKIN ROBBINS\",case=False),'object_name']=\"BASKIN ROBBINS\"\n",
    "restaurants.loc[restaurants['object_name'].str.contains(\"PINKBERRY\",case=False),'object_name']=\"PINKBERRY\"\n",
    "restaurants.loc[restaurants['object_name'].str.contains(\"CHINA EXPRESS\",case=False),'object_name']=\"CHINA EXPRESS\"\n",
    "restaurants.loc[restaurants['object_name'].str.contains(\"FATBURGER\",case=False),'object_name']=\"FATBURGER\"\n",
    "restaurants.loc[restaurants['object_name'].str.contains(\"CHINATOWN EXPRESS\",case=False),'object_name']=\"CHINATOWN EXPRESS\"\n",
    "restaurants.loc[restaurants['object_name'].str.contains(\"PANDA EXPRESS\",case=False),'object_name']=\"PANDA EXPRESS\"\n",
    "restaurants.loc[restaurants['object_name'].str.contains(\"LITTLE CAESARS\",case=False),'object_name']=\"LITTLE CAESARS\"\n",
    "restaurants.loc[restaurants['object_name'].str.contains(\"TACO BELL\",case=False),'object_name']=\"TACO BELL\"\n",
    "restaurants.loc[restaurants['object_name'].str.contains(\"MENDOCINO FARMS\",case=False),'object_name']=\"MENDOCINO FARMS\"\n",
    "\n",
    "restaurants['object_name'].value_counts().head(35)"
   ]
  },
  {
   "cell_type": "markdown",
   "metadata": {},
   "source": [
    "Now we get rid of most of the duplicates."
   ]
  },
  {
   "cell_type": "code",
   "execution_count": 11,
   "metadata": {},
   "outputs": [
    {
     "name": "stdout",
     "output_type": "stream",
     "text": [
      "<class 'pandas.core.frame.DataFrame'>\n",
      "RangeIndex: 9651 entries, 0 to 9650\n",
      "Data columns (total 6 columns):\n",
      "id             9651 non-null int64\n",
      "object_name    9651 non-null object\n",
      "address        9651 non-null object\n",
      "chain          9651 non-null object\n",
      "object_type    9651 non-null object\n",
      "number         9651 non-null int64\n",
      "dtypes: int64(2), object(4)\n",
      "memory usage: 452.5+ KB\n"
     ]
    }
   ],
   "source": [
    "restaurants.info()"
   ]
  },
  {
   "cell_type": "code",
   "execution_count": 12,
   "metadata": {},
   "outputs": [
    {
     "name": "stdout",
     "output_type": "stream",
     "text": [
      "<class 'pandas.core.frame.DataFrame'>\n",
      "RangeIndex: 9651 entries, 0 to 9650\n",
      "Data columns (total 6 columns):\n",
      "id             9651 non-null int64\n",
      "object_name    9651 non-null object\n",
      "address        9651 non-null object\n",
      "chain          9651 non-null bool\n",
      "object_type    9651 non-null object\n",
      "number         9651 non-null int64\n",
      "dtypes: bool(1), int64(2), object(3)\n",
      "memory usage: 386.5+ KB\n"
     ]
    }
   ],
   "source": [
    "restaurants['chain'] = restaurants['chain'].astype('bool')\n",
    "restaurants.info()"
   ]
  },
  {
   "cell_type": "markdown",
   "metadata": {},
   "source": [
    "The dataset has no duplicates and since the chain column has only True and False values we changed the data type to boolean."
   ]
  },
  {
   "cell_type": "markdown",
   "metadata": {},
   "source": [
    "#### Now that the dataset has no duplicates, no missing values and the data types are correct, we are ready to analyse the data.<a id=\"conclusion\"><a/>"
   ]
  },
  {
   "cell_type": "markdown",
   "metadata": {},
   "source": [
    "## Data analysing <a id=\"analysing\"><a/>"
   ]
  },
  {
   "cell_type": "markdown",
   "metadata": {},
   "source": [
    "### Investigate the proportions of the various types of establishments <a id=\"proportionstype\"><a/> "
   ]
  },
  {
   "cell_type": "code",
   "execution_count": 13,
   "metadata": {},
   "outputs": [
    {
     "name": "stdout",
     "output_type": "stream",
     "text": [
      "9651\n"
     ]
    },
    {
     "data": {
      "text/plain": [
       "Restaurant    7255\n",
       "Fast Food     1066\n",
       "Cafe           435\n",
       "Pizza          320\n",
       "Bar            292\n",
       "Bakery         283\n",
       "Name: object_type, dtype: int64"
      ]
     },
     "execution_count": 13,
     "metadata": {},
     "output_type": "execute_result"
    }
   ],
   "source": [
    "total_types = restaurants['object_type'].count()\n",
    "print(total_types)\n",
    "restaurants['object_type'].value_counts()"
   ]
  },
  {
   "cell_type": "code",
   "execution_count": 14,
   "metadata": {},
   "outputs": [
    {
     "data": {
      "image/png": "[encoded data removed]",
      "text/plain": [
       "<Figure size 432x288 with 1 Axes>"
      ]
     },
     "metadata": {
      "needs_background": "light"
     },
     "output_type": "display_data"
    }
   ],
   "source": [
    "rest_restaurant = restaurants[restaurants['object_type']=='Restaurant']['object_type'].count()\n",
    "rest_fastfood = restaurants[restaurants['object_type']=='Fast Food']['object_type'].count()\n",
    "rest_cafe = restaurants[restaurants['object_type']=='Cafe']['object_type'].count()\n",
    "rest_pizza = restaurants[restaurants['object_type']=='Pizza']['object_type'].count()\n",
    "rest_bar = restaurants[restaurants['object_type']=='Bar']['object_type'].count()\n",
    "rest_bakery = restaurants[restaurants['object_type']=='Bakery']['object_type'].count()\n",
    "\n",
    "rest_obj = [rest_restaurant/total_types, rest_fastfood/total_types, rest_cafe/total_types, rest_pizza/total_types, rest_bar/total_types, rest_bakery/total_types]\n",
    "rest_name = ['Restaurant', 'Fast Food','Cafe','Pizza','Bar','Bakery']\n",
    "plt.bar(rest_name, rest_obj)\n",
    "plt.title('Different types of establishments');"
   ]
  },
  {
   "cell_type": "markdown",
   "metadata": {},
   "source": [
    "Restaurants are the most popular establishments with 70% from the total and maybe that's because it is a more complex establishment than the others.There is diversity,the estabishment having both food,drinks and sweets.Then is followed by Fast Food with only 10% and the rest of the establishments not being more than 10%."
   ]
  },
  {
   "cell_type": "markdown",
   "metadata": {},
   "source": [
    "### Investigate the proportions of chain and nonchain establishments <a id=\"proportionschain\"><a/>"
   ]
  },
  {
   "cell_type": "code",
   "execution_count": 15,
   "metadata": {},
   "outputs": [
    {
     "data": {
      "text/plain": [
       "3679"
      ]
     },
     "execution_count": 15,
     "metadata": {},
     "output_type": "execute_result"
    },
    {
     "data": {
      "image/png": "[encoded data removed]",
      "text/plain": [
       "<Figure size 432x288 with 1 Axes>"
      ]
     },
     "metadata": {
      "needs_background": "light"
     },
     "output_type": "display_data"
    }
   ],
   "source": [
    "total_chains = restaurants['chain'].count()\n",
    "\n",
    "rest_chain = restaurants[restaurants['chain']==1]['chain'].count()\n",
    "rest_nonchain = restaurants[restaurants['chain']==0]['chain'].count()\n",
    "\n",
    "rest_chains = ['chain','nonchain']\n",
    "rest_chain_nr =[rest_chain/total_chains, rest_nonchain/total_chains]\n",
    "\n",
    "plt.bar(rest_chains, rest_chain_nr);\n",
    "plt.title('Chain and nonchain establishments');\n",
    "rest_chain"
   ]
  },
  {
   "cell_type": "markdown",
   "metadata": {},
   "source": [
    "There are much more nonchain than chain establishments, the nonchain values being almost doubled the chain values and maybe that's because it is a big city with a variaty of cultures and nonchain establishments are having succes for their authenticity and unicity. "
   ]
  },
  {
   "cell_type": "markdown",
   "metadata": {},
   "source": [
    "### Which type of establishment is typically a chain? <a id =\"typicallychain\"><a/>"
   ]
  },
  {
   "cell_type": "code",
   "execution_count": 16,
   "metadata": {},
   "outputs": [
    {
     "data": {
      "image/png": "[encoded data removed]",
      "text/plain": [
       "<Figure size 432x288 with 1 Axes>"
      ]
     },
     "metadata": {
      "needs_background": "light"
     },
     "output_type": "display_data"
    }
   ],
   "source": [
    "total_type_rest = restaurants[restaurants['chain']==1]['object_type'].count()\n",
    "\n",
    "type_rest = restaurants[(restaurants['chain']==1) & (restaurants['object_type']=='Restaurant')]['object_type'].count()\n",
    "type_fastfood = restaurants[(restaurants['object_type']=='Fast Food')&(restaurants['chain']==1)]['object_type'].count()\n",
    "type_cafe = restaurants[(restaurants['object_type']=='Cafe')&(restaurants['chain']==1)]['object_type'].count()\n",
    "type_pizza = restaurants[(restaurants['object_type']=='Pizza')&(restaurants['chain']==1)]['object_type'].count()\n",
    "type_bar = restaurants[(restaurants['object_type']=='Bar')&(restaurants['chain']==1)]['object_type'].count()\n",
    "type_bakery = restaurants[(restaurants['object_type']=='Bakery')&(restaurants['chain']==1)]['object_type'].count()\n",
    "\n",
    "type_chains = ['Restaurant','Fast Food', 'Cafe', 'Pizza', 'Bar','Bakery']\n",
    "chains_nr = [type_rest/total_type_rest, type_fastfood/total_type_rest, type_cafe/total_type_rest, type_pizza/total_type_rest, type_bar/total_type_rest, type_bakery/total_type_rest]\n",
    "\n",
    "plt.bar(type_chains, chains_nr);\n",
    "plt.title('Chain establishments');"
   ]
  },
  {
   "cell_type": "markdown",
   "metadata": {},
   "source": [
    "Restaurant is also the most popular in chain establishments followed with way lower values by fast food and bakery."
   ]
  },
  {
   "cell_type": "markdown",
   "metadata": {},
   "source": [
    "### What characterizes chains: many establishments with a small number of seats or a few establishments with a lot of seats? <a id=\"characterizechains\"><a/>"
   ]
  },
  {
   "cell_type": "code",
   "execution_count": 17,
   "metadata": {},
   "outputs": [
    {
     "data": {
      "image/png": "[encoded data removed]",
      "text/plain": [
       "<Figure size 1080x720 with 1 Axes>"
      ]
     },
     "metadata": {
      "needs_background": "light"
     },
     "output_type": "display_data"
    }
   ],
   "source": [
    "fig, test = plt.subplots()\n",
    "name_chain = restaurants[restaurants['chain']==1].groupby('object_name')['object_name'].count()\n",
    "number_seats = restaurants[restaurants['chain']==1].groupby('object_name')['number'].mean()\n",
    "test.scatter(name_chain,number_seats)\n",
    "test.set_title('Establishments by number of seats');\n",
    "test.set_xlabel('number of establishments');\n",
    "test.set_ylabel('number of seats');\n",
    "\n",
    "fig.set_figheight(10);\n",
    "fig.set_figwidth(15);\n"
   ]
  },
  {
   "cell_type": "markdown",
   "metadata": {},
   "source": [
    "The majority of the chains have few establishments with usually less than 50 seats. It also can be seen that chains with many establishments have also less than 50 seats which means that both chains are focusing on less seats for the establishments."
   ]
  },
  {
   "cell_type": "markdown",
   "metadata": {},
   "source": [
    "### Determine the average number of seats for each type of establishment. On average, which type of establishment has the greatest number of seats? <a id=\"averagefortype\"></a>"
   ]
  },
  {
   "cell_type": "code",
   "execution_count": 18,
   "metadata": {},
   "outputs": [
    {
     "data": {
      "image/png": "[encoded data removed]",
      "text/plain": [
       "<Figure size 432x288 with 1 Axes>"
      ]
     },
     "metadata": {
      "needs_background": "light"
     },
     "output_type": "display_data"
    }
   ],
   "source": [
    "avg_for_type = restaurants.groupby('object_type', as_index=False).agg({'number':'mean'})\n",
    "avg_for_type.columns =['object','mean']\n",
    "#display(avg_for_type)\n",
    "\n",
    "avg_rest = restaurants[restaurants['object_type']=='Restaurant']['number'].mean()\n",
    "avg_fastfood = restaurants[restaurants['object_type']=='Fast Food']['number'].mean()\n",
    "avg_cafe = restaurants[(restaurants['object_type']=='Cafe')]['number'].mean()\n",
    "avg_pizza = restaurants[(restaurants['object_type']=='Pizza')]['number'].mean()\n",
    "avg_bar = restaurants[(restaurants['object_type']=='Bar')]['number'].mean()\n",
    "avg_bakery = restaurants[(restaurants['object_type']=='Bakery')]['number'].mean()\n",
    "\n",
    "avg_for_type_2 =(avg_rest, avg_fastfood, avg_cafe, avg_pizza, avg_bar, avg_bakery)\n",
    "type_chains_2 = ['Restaurant','Fast Food', 'Cafe', 'Pizza', 'Bar','Bakery']\n",
    "\n",
    "plt.bar(type_chains_2, avg_for_type_2);\n",
    "plt.title('The average number of seats');"
   ]
  },
  {
   "cell_type": "markdown",
   "metadata": {},
   "source": [
    "Restaurant and Bar have the greatest number of seats, almost 50 seats and that's kind of normal because these are the estabishments where the majority of clients like to spend a lot of time in there so more seats means more incomes. For the rest of the establishments with less than 30 seats maybe having not so many seats is not affecting the income because clients are not spending much time in there."
   ]
  },
  {
   "cell_type": "markdown",
   "metadata": {},
   "source": [
    "### Put the data on street names from the address column in a separate column. <a id=\"separate\"></a>"
   ]
  },
  {
   "cell_type": "code",
   "execution_count": 1,
   "metadata": {},
   "outputs": [
    {
     "ename": "NameError",
     "evalue": "name 'restaurants' is not defined",
     "output_type": "error",
     "traceback": [
      "\u001b[1;31m---------------------------------------------------------------------------\u001b[0m",
      "\u001b[1;31mNameError\u001b[0m                                 Traceback (most recent call last)",
      "\u001b[1;32m<ipython-input-1-c8fd16450cd2>\u001b[0m in \u001b[0;36m<module>\u001b[1;34m\u001b[0m\n\u001b[0;32m     19\u001b[0m         \u001b[1;32mreturn\u001b[0m \u001b[1;34m'no street or number'\u001b[0m\u001b[1;33m\u001b[0m\u001b[1;33m\u001b[0m\u001b[0m\n\u001b[0;32m     20\u001b[0m \u001b[1;33m\u001b[0m\u001b[0m\n\u001b[1;32m---> 21\u001b[1;33m \u001b[0mrestaurants\u001b[0m\u001b[1;33m[\u001b[0m\u001b[1;34m'clean_street_check'\u001b[0m\u001b[1;33m]\u001b[0m \u001b[1;33m=\u001b[0m \u001b[0mrestaurants\u001b[0m\u001b[1;33m.\u001b[0m\u001b[0maddress\u001b[0m\u001b[1;33m.\u001b[0m\u001b[0mapply\u001b[0m\u001b[1;33m(\u001b[0m\u001b[0mcleaning_check\u001b[0m\u001b[1;33m)\u001b[0m\u001b[1;33m\u001b[0m\u001b[1;33m\u001b[0m\u001b[0m\n\u001b[0m\u001b[0;32m     22\u001b[0m \u001b[0mrestaurants\u001b[0m\u001b[1;33m[\u001b[0m\u001b[0mrestaurants\u001b[0m\u001b[1;33m[\u001b[0m\u001b[1;34m'clean_street_check'\u001b[0m\u001b[1;33m]\u001b[0m\u001b[1;33m==\u001b[0m\u001b[1;34m'no street or number'\u001b[0m\u001b[1;33m]\u001b[0m\u001b[1;33m\u001b[0m\u001b[1;33m\u001b[0m\u001b[0m\n\u001b[0;32m     23\u001b[0m \u001b[1;33m\u001b[0m\u001b[0m\n",
      "\u001b[1;31mNameError\u001b[0m: name 'restaurants' is not defined"
     ]
    }
   ],
   "source": [
    "def cleaning_1(raw):\n",
    "    raw_address=usaddress.parse(raw)\n",
    "    dict_address={}\n",
    "    for i in raw_address:\n",
    "        dict_address.update({i[1]:i[0]})\n",
    "    clean_adress=dict_address['AddressNumber']+\",\"+str(dict_address['StreetName'])\n",
    "    return clean_adress\n",
    "\n",
    "def cleaning_check(raw):\n",
    "    raw_address=usaddress.parse(raw)\n",
    "    dict_address={}\n",
    "    for i in raw_address:\n",
    "        dict_address.update({i[1]:i[0]})\n",
    "     \n",
    "    if 'StreetName' in dict_address.keys() and 'AddressNumber' in dict_address.keys():\n",
    "        clean_adress=dict_address['AddressNumber']+\",\"+str(dict_address['StreetName'])\n",
    "        return clean_adress\n",
    "    else:\n",
    "        return 'no street or number'\n",
    "\n",
    "restaurants['clean_street_check'] = restaurants.address.apply(cleaning_check)\n",
    "restaurants[restaurants['clean_street_check']=='no street or number']\n",
    "    \n",
    "def cleaning_final(raw):\n",
    "    if raw.startswith('OLVERA'):\n",
    "        clean_adress='OLVERA'\n",
    "    elif raw.startswith('1033 1/2 LOS ANGELES'):\n",
    "        clean_adress='LOS ANGELES ST'\n",
    "    else:\n",
    "        raw_address=usaddress.parse(raw)\n",
    "        dict_address={}\n",
    "        for i in raw_address:\n",
    "            dict_address.update({i[1]:i[0]})\n",
    "        clean_adress=str(dict_address['StreetName'])\n",
    "    return clean_adress\n",
    "\n",
    "restaurants['street_name']=restaurants.address.apply(cleaning_final)\n",
    "restaurants"
   ]
  },
  {
   "cell_type": "markdown",
   "metadata": {},
   "source": [
    "### Plot a graph of the top ten streets by number of establishments.<a id=\"topten\"></a>"
   ]
  },
  {
   "cell_type": "code",
   "execution_count": 20,
   "metadata": {},
   "outputs": [
    {
     "data": {
      "image/png": "[encoded data removed]",
      "text/plain": [
       "<Figure size 1080x720 with 1 Axes>"
      ]
     },
     "metadata": {
      "needs_background": "light"
     },
     "output_type": "display_data"
    }
   ],
   "source": [
    "top_ten = restaurants.groupby(\"street_name\", as_index=False).agg({'object_name':'count'}).sort_values(by='object_name',ascending=False)\n",
    "top_ten.columns =['street_name','nr_rest']\n",
    "f,ax=plt.subplots()\n",
    "plt.bar(top_ten['street_name'].head(10),top_ten['nr_rest'].head(10));\n",
    "f.set_figheight(10);\n",
    "f.set_figwidth(15);\n",
    "plt.title('Top ten streets by number of establishments');"
   ]
  },
  {
   "cell_type": "markdown",
   "metadata": {},
   "source": [
    "The top ten streets have more than 200 establishments, the one on the top having around 400 establishments and that's because these streets are very famous and popular all over the world and so frequented by a lot of people . That's a lot and maybe it is better to open an establishment on one of these streets because these are the most popular and frequented streets but it should be taken into consideration that the competition is very high."
   ]
  },
  {
   "cell_type": "markdown",
   "metadata": {},
   "source": [
    "### Find the number of streets that only have one establishment.<a id=\"onlyone\"></a>"
   ]
  },
  {
   "cell_type": "code",
   "execution_count": 21,
   "metadata": {},
   "outputs": [
    {
     "data": {
      "text/plain": [
       "SIFFORD       1\n",
       "NORTON        1\n",
       "LA            1\n",
       "TAMPA         1\n",
       "GARDNER       1\n",
       "TOWNSEND      1\n",
       "VENTURA       1\n",
       "ALTURA        1\n",
       "2             1\n",
       "ENTERPRISE    1\n",
       "Name: street_name, dtype: int64"
      ]
     },
     "metadata": {},
     "output_type": "display_data"
    },
    {
     "data": {
      "text/plain": [
       "185"
      ]
     },
     "execution_count": 21,
     "metadata": {},
     "output_type": "execute_result"
    }
   ],
   "source": [
    "one_estab = top_ten[top_ten['nr_rest']==1]['street_name'].value_counts()\n",
    "display(one_estab.head(10))\n",
    "one_estab.count()"
   ]
  },
  {
   "cell_type": "markdown",
   "metadata": {},
   "source": [
    "Seems like there are a lot of streets with only one establishment maybe because these are not so popular streets,small, and maybe out of town and the flow of people is not that high. So we could take these streets in consideration when building the estabishment because the competition is not that high but there are less chances to gain popularity."
   ]
  },
  {
   "cell_type": "markdown",
   "metadata": {},
   "source": [
    "### For streets with a lot of establishments, look at the distribution of the number of seats. What trends can you see?<a id=\"trends\"></a>"
   ]
  },
  {
   "cell_type": "code",
   "execution_count": 22,
   "metadata": {},
   "outputs": [
    {
     "data": {
      "image/png": "[encoded data removed]",
      "text/plain": [
       "<Figure size 432x288 with 1 Axes>"
      ]
     },
     "metadata": {
      "needs_background": "light"
     },
     "output_type": "display_data"
    }
   ],
   "source": [
    "distr_top =restaurants.groupby(\"street_name\", as_index=False).agg({'object_name':'count','number':'mean'}).sort_values(by='object_name',ascending=False).head(10)\n",
    "fig2,test2 = plt.subplots()\n",
    "test2.scatter(distr_top['object_name'],distr_top['number']);\n",
    "test2.set_title('Distribution of the number of seats');\n",
    "test2.set_xlabel('number of establishments');\n",
    "test2.set_ylabel('number of seats');"
   ]
  },
  {
   "cell_type": "markdown",
   "metadata": {},
   "source": [
    "The average values range from 30 to 60 seats for streets with many establishments.It seems like the focus is not on big number of seats but maybe on delivery service, reducing the costs ."
   ]
  },
  {
   "cell_type": "markdown",
   "metadata": {},
   "source": [
    "Conclusion :<br>\n",
    "    The most popular establishment in LA is the restaurant, followed by fast-food and cafe;<br>\n",
    "    There are significantly more nonchain than chain establishments;<br>\n",
    "    The restaurants are typically a chain, not saying the same about cafe;<br>\n",
    "    Usually chain establishments have, on average, maximum 50 seats;<br> \n",
    "    The number of seats depends on how complex an establishment is so only bars and restaurants have bigger numbers of seats;<br>\n",
    "    More establishments can be found on popular and big streets and usually small and bad located streets don't have more than one establishment;<br>\n",
    "\n",
    "Having these results, the idea of a small Robot-Run Cafe doesn't sound bad and we can attract investors as long as we take the following suggestions into account: <br>\n",
    "    Cafe is in top 3 most popular establishments and if we choose the nonchain type than we won't have much costs and we won't need much money from the investors(which is also perfect for the investors);<br>\n",
    "    Also a cafe is not a complex establishment so not so many seats are needed;<br>\n",
    "    The location is also very important so the top 10 streets by the number of establishments are the best places to think of;"
   ]
  },
  {
   "cell_type": "markdown",
   "metadata": {},
   "source": [
    "Presentation : <https://drive.google.com/file/d/1C9b599Kb9SzgSwCroQSZiWwp10xEs-LA/view?usp=sharing> "
   ]
  }
 ],
 "metadata": {
  "kernelspec": {
   "display_name": "Python 3",
   "language": "python",
   "name": "python3"
  },
  "language_info": {
   "codemirror_mode": {
    "name": "ipython",
    "version": 3
   },
   "file_extension": ".py",
   "mimetype": "text/x-python",
   "name": "python",
   "nbconvert_exporter": "python",
   "pygments_lexer": "ipython3",
   "version": "3.8.8"
  },
  "toc": {
   "base_numbering": 1,
   "nav_menu": {},
   "number_sections": true,
   "sideBar": true,
   "skip_h1_title": true,
   "title_cell": "Table of Contents",
   "title_sidebar": "Contents",
   "toc_cell": false,
   "toc_position": {},
   "toc_section_display": true,
   "toc_window_display": false
  }
 },
 "nbformat": 4,
 "nbformat_minor": 4
}
