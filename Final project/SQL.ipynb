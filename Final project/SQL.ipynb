{
 "cells": [
  {
   "cell_type": "markdown",
   "id": "9dc444e7",
   "metadata": {},
   "source": [
    "#### Project description\n",
    "The startup is developing new apps for book lovers and the database provided is of one of the services competing in this market. It contains data on books, publishers, authors, and customer ratings and reviews of books. This information will be used to generate a value proposition for a new product."
   ]
  },
  {
   "cell_type": "code",
   "execution_count": 1,
   "id": "22da8f35",
   "metadata": {},
   "outputs": [],
   "source": [
    "import pandas as pd\n",
    "from sqlalchemy import create_engine\n",
    "\n",
    "db_config = {'user': 'praktikum_student',         # user name\n",
    "             'pwd': 'Sdf4$2;d-d30pp', # password\n",
    "             'host': 'rc1b-wcoijxj3yxfsf3fs.mdb.yandexcloud.net',\n",
    "             'port': 6432,              # connection port\n",
    "             'db': 'data-analyst-final-project-db'}          # the name of the data base\n",
    "\n",
    "connection_string = 'postgresql://{}:{}@{}:{}/{}'.format(db_config['user'],\n",
    "                                                                     db_config['pwd'],\n",
    "                                                                       db_config['host'],\n",
    "                                                                       db_config['port'],\n",
    "                                                                       db_config['db'])\n",
    "\n",
    "engine = create_engine(connection_string, connect_args={'sslmode':'require'})\n"
   ]
  },
  {
   "cell_type": "code",
   "execution_count": 2,
   "id": "171eea84",
   "metadata": {},
   "outputs": [
    {
     "data": {
      "text/html": [
       "<div>\n",
       "<style scoped>\n",
       "    .dataframe tbody tr th:only-of-type {\n",
       "        vertical-align: middle;\n",
       "    }\n",
       "\n",
       "    .dataframe tbody tr th {\n",
       "        vertical-align: top;\n",
       "    }\n",
       "\n",
       "    .dataframe thead th {\n",
       "        text-align: right;\n",
       "    }\n",
       "</style>\n",
       "<table border=\"1\" class=\"dataframe\">\n",
       "  <thead>\n",
       "    <tr style=\"text-align: right;\">\n",
       "      <th></th>\n",
       "      <th>book_id</th>\n",
       "      <th>author_id</th>\n",
       "      <th>title</th>\n",
       "      <th>num_pages</th>\n",
       "      <th>publication_date</th>\n",
       "      <th>publisher_id</th>\n",
       "    </tr>\n",
       "  </thead>\n",
       "  <tbody>\n",
       "    <tr>\n",
       "      <td>0</td>\n",
       "      <td>1</td>\n",
       "      <td>546</td>\n",
       "      <td>'Salem's Lot</td>\n",
       "      <td>594</td>\n",
       "      <td>2005-11-01</td>\n",
       "      <td>93</td>\n",
       "    </tr>\n",
       "    <tr>\n",
       "      <td>1</td>\n",
       "      <td>2</td>\n",
       "      <td>465</td>\n",
       "      <td>1 000 Places to See Before You Die</td>\n",
       "      <td>992</td>\n",
       "      <td>2003-05-22</td>\n",
       "      <td>336</td>\n",
       "    </tr>\n",
       "    <tr>\n",
       "      <td>2</td>\n",
       "      <td>3</td>\n",
       "      <td>407</td>\n",
       "      <td>13 Little Blue Envelopes (Little Blue Envelope...</td>\n",
       "      <td>322</td>\n",
       "      <td>2010-12-21</td>\n",
       "      <td>135</td>\n",
       "    </tr>\n",
       "    <tr>\n",
       "      <td>3</td>\n",
       "      <td>4</td>\n",
       "      <td>82</td>\n",
       "      <td>1491: New Revelations of the Americas Before C...</td>\n",
       "      <td>541</td>\n",
       "      <td>2006-10-10</td>\n",
       "      <td>309</td>\n",
       "    </tr>\n",
       "    <tr>\n",
       "      <td>4</td>\n",
       "      <td>5</td>\n",
       "      <td>125</td>\n",
       "      <td>1776</td>\n",
       "      <td>386</td>\n",
       "      <td>2006-07-04</td>\n",
       "      <td>268</td>\n",
       "    </tr>\n",
       "    <tr>\n",
       "      <td>...</td>\n",
       "      <td>...</td>\n",
       "      <td>...</td>\n",
       "      <td>...</td>\n",
       "      <td>...</td>\n",
       "      <td>...</td>\n",
       "      <td>...</td>\n",
       "    </tr>\n",
       "    <tr>\n",
       "      <td>995</td>\n",
       "      <td>996</td>\n",
       "      <td>571</td>\n",
       "      <td>Wyrd Sisters (Discworld  #6; Witches #2)</td>\n",
       "      <td>265</td>\n",
       "      <td>2001-02-06</td>\n",
       "      <td>147</td>\n",
       "    </tr>\n",
       "    <tr>\n",
       "      <td>996</td>\n",
       "      <td>997</td>\n",
       "      <td>454</td>\n",
       "      <td>Xenocide (Ender's Saga  #3)</td>\n",
       "      <td>592</td>\n",
       "      <td>1996-07-15</td>\n",
       "      <td>297</td>\n",
       "    </tr>\n",
       "    <tr>\n",
       "      <td>997</td>\n",
       "      <td>998</td>\n",
       "      <td>201</td>\n",
       "      <td>Year of Wonders</td>\n",
       "      <td>358</td>\n",
       "      <td>2002-04-30</td>\n",
       "      <td>212</td>\n",
       "    </tr>\n",
       "    <tr>\n",
       "      <td>998</td>\n",
       "      <td>999</td>\n",
       "      <td>94</td>\n",
       "      <td>You Suck (A Love Story  #2)</td>\n",
       "      <td>328</td>\n",
       "      <td>2007-01-16</td>\n",
       "      <td>331</td>\n",
       "    </tr>\n",
       "    <tr>\n",
       "      <td>999</td>\n",
       "      <td>1000</td>\n",
       "      <td>509</td>\n",
       "      <td>Zen and the Art of Motorcycle Maintenance: An ...</td>\n",
       "      <td>540</td>\n",
       "      <td>2006-04-25</td>\n",
       "      <td>143</td>\n",
       "    </tr>\n",
       "  </tbody>\n",
       "</table>\n",
       "<p>1000 rows × 6 columns</p>\n",
       "</div>"
      ],
      "text/plain": [
       "     book_id  author_id                                              title  \\\n",
       "0          1        546                                       'Salem's Lot   \n",
       "1          2        465                 1 000 Places to See Before You Die   \n",
       "2          3        407  13 Little Blue Envelopes (Little Blue Envelope...   \n",
       "3          4         82  1491: New Revelations of the Americas Before C...   \n",
       "4          5        125                                               1776   \n",
       "..       ...        ...                                                ...   \n",
       "995      996        571           Wyrd Sisters (Discworld  #6; Witches #2)   \n",
       "996      997        454                        Xenocide (Ender's Saga  #3)   \n",
       "997      998        201                                    Year of Wonders   \n",
       "998      999         94                        You Suck (A Love Story  #2)   \n",
       "999     1000        509  Zen and the Art of Motorcycle Maintenance: An ...   \n",
       "\n",
       "     num_pages publication_date  publisher_id  \n",
       "0          594       2005-11-01            93  \n",
       "1          992       2003-05-22           336  \n",
       "2          322       2010-12-21           135  \n",
       "3          541       2006-10-10           309  \n",
       "4          386       2006-07-04           268  \n",
       "..         ...              ...           ...  \n",
       "995        265       2001-02-06           147  \n",
       "996        592       1996-07-15           297  \n",
       "997        358       2002-04-30           212  \n",
       "998        328       2007-01-16           331  \n",
       "999        540       2006-04-25           143  \n",
       "\n",
       "[1000 rows x 6 columns]"
      ]
     },
     "execution_count": 2,
     "metadata": {},
     "output_type": "execute_result"
    }
   ],
   "source": [
    "book =pd.io.sql.read_sql('books',con = engine)\n",
    "book"
   ]
  },
  {
   "cell_type": "code",
   "execution_count": 3,
   "id": "2b9dda9f",
   "metadata": {},
   "outputs": [
    {
     "data": {
      "text/html": [
       "<div>\n",
       "<style scoped>\n",
       "    .dataframe tbody tr th:only-of-type {\n",
       "        vertical-align: middle;\n",
       "    }\n",
       "\n",
       "    .dataframe tbody tr th {\n",
       "        vertical-align: top;\n",
       "    }\n",
       "\n",
       "    .dataframe thead th {\n",
       "        text-align: right;\n",
       "    }\n",
       "</style>\n",
       "<table border=\"1\" class=\"dataframe\">\n",
       "  <thead>\n",
       "    <tr style=\"text-align: right;\">\n",
       "      <th></th>\n",
       "      <th>author_id</th>\n",
       "      <th>author</th>\n",
       "    </tr>\n",
       "  </thead>\n",
       "  <tbody>\n",
       "    <tr>\n",
       "      <td>0</td>\n",
       "      <td>1</td>\n",
       "      <td>A.S. Byatt</td>\n",
       "    </tr>\n",
       "    <tr>\n",
       "      <td>1</td>\n",
       "      <td>2</td>\n",
       "      <td>Aesop/Laura Harris/Laura Gibbs</td>\n",
       "    </tr>\n",
       "    <tr>\n",
       "      <td>2</td>\n",
       "      <td>3</td>\n",
       "      <td>Agatha Christie</td>\n",
       "    </tr>\n",
       "    <tr>\n",
       "      <td>3</td>\n",
       "      <td>4</td>\n",
       "      <td>Alan Brennert</td>\n",
       "    </tr>\n",
       "    <tr>\n",
       "      <td>4</td>\n",
       "      <td>5</td>\n",
       "      <td>Alan Moore/David   Lloyd</td>\n",
       "    </tr>\n",
       "    <tr>\n",
       "      <td>...</td>\n",
       "      <td>...</td>\n",
       "      <td>...</td>\n",
       "    </tr>\n",
       "    <tr>\n",
       "      <td>631</td>\n",
       "      <td>632</td>\n",
       "      <td>William Strunk Jr./E.B. White</td>\n",
       "    </tr>\n",
       "    <tr>\n",
       "      <td>632</td>\n",
       "      <td>633</td>\n",
       "      <td>Zadie Smith</td>\n",
       "    </tr>\n",
       "    <tr>\n",
       "      <td>633</td>\n",
       "      <td>634</td>\n",
       "      <td>Zilpha Keatley Snyder</td>\n",
       "    </tr>\n",
       "    <tr>\n",
       "      <td>634</td>\n",
       "      <td>635</td>\n",
       "      <td>Zora Neale Hurston</td>\n",
       "    </tr>\n",
       "    <tr>\n",
       "      <td>635</td>\n",
       "      <td>636</td>\n",
       "      <td>Åsne Seierstad/Ingrid Christopherson</td>\n",
       "    </tr>\n",
       "  </tbody>\n",
       "</table>\n",
       "<p>636 rows × 2 columns</p>\n",
       "</div>"
      ],
      "text/plain": [
       "     author_id                                author\n",
       "0            1                            A.S. Byatt\n",
       "1            2        Aesop/Laura Harris/Laura Gibbs\n",
       "2            3                       Agatha Christie\n",
       "3            4                         Alan Brennert\n",
       "4            5              Alan Moore/David   Lloyd\n",
       "..         ...                                   ...\n",
       "631        632         William Strunk Jr./E.B. White\n",
       "632        633                           Zadie Smith\n",
       "633        634                 Zilpha Keatley Snyder\n",
       "634        635                    Zora Neale Hurston\n",
       "635        636  Åsne Seierstad/Ingrid Christopherson\n",
       "\n",
       "[636 rows x 2 columns]"
      ]
     },
     "execution_count": 3,
     "metadata": {},
     "output_type": "execute_result"
    }
   ],
   "source": [
    "author =pd.io.sql.read_sql('authors',con = engine)\n",
    "author"
   ]
  },
  {
   "cell_type": "code",
   "execution_count": 4,
   "id": "f98407fb",
   "metadata": {},
   "outputs": [
    {
     "data": {
      "text/html": [
       "<div>\n",
       "<style scoped>\n",
       "    .dataframe tbody tr th:only-of-type {\n",
       "        vertical-align: middle;\n",
       "    }\n",
       "\n",
       "    .dataframe tbody tr th {\n",
       "        vertical-align: top;\n",
       "    }\n",
       "\n",
       "    .dataframe thead th {\n",
       "        text-align: right;\n",
       "    }\n",
       "</style>\n",
       "<table border=\"1\" class=\"dataframe\">\n",
       "  <thead>\n",
       "    <tr style=\"text-align: right;\">\n",
       "      <th></th>\n",
       "      <th>publisher_id</th>\n",
       "      <th>publisher</th>\n",
       "    </tr>\n",
       "  </thead>\n",
       "  <tbody>\n",
       "    <tr>\n",
       "      <td>0</td>\n",
       "      <td>1</td>\n",
       "      <td>Ace</td>\n",
       "    </tr>\n",
       "    <tr>\n",
       "      <td>1</td>\n",
       "      <td>2</td>\n",
       "      <td>Ace Book</td>\n",
       "    </tr>\n",
       "    <tr>\n",
       "      <td>2</td>\n",
       "      <td>3</td>\n",
       "      <td>Ace Books</td>\n",
       "    </tr>\n",
       "    <tr>\n",
       "      <td>3</td>\n",
       "      <td>4</td>\n",
       "      <td>Ace Hardcover</td>\n",
       "    </tr>\n",
       "    <tr>\n",
       "      <td>4</td>\n",
       "      <td>5</td>\n",
       "      <td>Addison Wesley Publishing Company</td>\n",
       "    </tr>\n",
       "    <tr>\n",
       "      <td>...</td>\n",
       "      <td>...</td>\n",
       "      <td>...</td>\n",
       "    </tr>\n",
       "    <tr>\n",
       "      <td>335</td>\n",
       "      <td>336</td>\n",
       "      <td>Workman Publishing Company</td>\n",
       "    </tr>\n",
       "    <tr>\n",
       "      <td>336</td>\n",
       "      <td>337</td>\n",
       "      <td>Wyatt Book</td>\n",
       "    </tr>\n",
       "    <tr>\n",
       "      <td>337</td>\n",
       "      <td>338</td>\n",
       "      <td>Yale University Press</td>\n",
       "    </tr>\n",
       "    <tr>\n",
       "      <td>338</td>\n",
       "      <td>339</td>\n",
       "      <td>Yearling</td>\n",
       "    </tr>\n",
       "    <tr>\n",
       "      <td>339</td>\n",
       "      <td>340</td>\n",
       "      <td>Yearling Books</td>\n",
       "    </tr>\n",
       "  </tbody>\n",
       "</table>\n",
       "<p>340 rows × 2 columns</p>\n",
       "</div>"
      ],
      "text/plain": [
       "     publisher_id                          publisher\n",
       "0               1                                Ace\n",
       "1               2                           Ace Book\n",
       "2               3                          Ace Books\n",
       "3               4                      Ace Hardcover\n",
       "4               5  Addison Wesley Publishing Company\n",
       "..            ...                                ...\n",
       "335           336         Workman Publishing Company\n",
       "336           337                         Wyatt Book\n",
       "337           338              Yale University Press\n",
       "338           339                           Yearling\n",
       "339           340                     Yearling Books\n",
       "\n",
       "[340 rows x 2 columns]"
      ]
     },
     "execution_count": 4,
     "metadata": {},
     "output_type": "execute_result"
    }
   ],
   "source": [
    "publisher = pd.io.sql.read_sql('publishers',con = engine)\n",
    "publisher"
   ]
  },
  {
   "cell_type": "code",
   "execution_count": 5,
   "id": "266e51b6",
   "metadata": {
    "scrolled": true
   },
   "outputs": [
    {
     "data": {
      "text/html": [
       "<div>\n",
       "<style scoped>\n",
       "    .dataframe tbody tr th:only-of-type {\n",
       "        vertical-align: middle;\n",
       "    }\n",
       "\n",
       "    .dataframe tbody tr th {\n",
       "        vertical-align: top;\n",
       "    }\n",
       "\n",
       "    .dataframe thead th {\n",
       "        text-align: right;\n",
       "    }\n",
       "</style>\n",
       "<table border=\"1\" class=\"dataframe\">\n",
       "  <thead>\n",
       "    <tr style=\"text-align: right;\">\n",
       "      <th></th>\n",
       "      <th>rating_id</th>\n",
       "      <th>book_id</th>\n",
       "      <th>username</th>\n",
       "      <th>rating</th>\n",
       "    </tr>\n",
       "  </thead>\n",
       "  <tbody>\n",
       "    <tr>\n",
       "      <td>0</td>\n",
       "      <td>1</td>\n",
       "      <td>1</td>\n",
       "      <td>ryanfranco</td>\n",
       "      <td>4</td>\n",
       "    </tr>\n",
       "    <tr>\n",
       "      <td>1</td>\n",
       "      <td>2</td>\n",
       "      <td>1</td>\n",
       "      <td>grantpatricia</td>\n",
       "      <td>2</td>\n",
       "    </tr>\n",
       "    <tr>\n",
       "      <td>2</td>\n",
       "      <td>3</td>\n",
       "      <td>1</td>\n",
       "      <td>brandtandrea</td>\n",
       "      <td>5</td>\n",
       "    </tr>\n",
       "    <tr>\n",
       "      <td>3</td>\n",
       "      <td>4</td>\n",
       "      <td>2</td>\n",
       "      <td>lorichen</td>\n",
       "      <td>3</td>\n",
       "    </tr>\n",
       "    <tr>\n",
       "      <td>4</td>\n",
       "      <td>5</td>\n",
       "      <td>2</td>\n",
       "      <td>mariokeller</td>\n",
       "      <td>2</td>\n",
       "    </tr>\n",
       "    <tr>\n",
       "      <td>...</td>\n",
       "      <td>...</td>\n",
       "      <td>...</td>\n",
       "      <td>...</td>\n",
       "      <td>...</td>\n",
       "    </tr>\n",
       "    <tr>\n",
       "      <td>6451</td>\n",
       "      <td>6452</td>\n",
       "      <td>1000</td>\n",
       "      <td>carolrodriguez</td>\n",
       "      <td>4</td>\n",
       "    </tr>\n",
       "    <tr>\n",
       "      <td>6452</td>\n",
       "      <td>6453</td>\n",
       "      <td>1000</td>\n",
       "      <td>wendy18</td>\n",
       "      <td>4</td>\n",
       "    </tr>\n",
       "    <tr>\n",
       "      <td>6453</td>\n",
       "      <td>6454</td>\n",
       "      <td>1000</td>\n",
       "      <td>jarvispaul</td>\n",
       "      <td>5</td>\n",
       "    </tr>\n",
       "    <tr>\n",
       "      <td>6454</td>\n",
       "      <td>6455</td>\n",
       "      <td>1000</td>\n",
       "      <td>zross</td>\n",
       "      <td>2</td>\n",
       "    </tr>\n",
       "    <tr>\n",
       "      <td>6455</td>\n",
       "      <td>6456</td>\n",
       "      <td>1000</td>\n",
       "      <td>fharris</td>\n",
       "      <td>5</td>\n",
       "    </tr>\n",
       "  </tbody>\n",
       "</table>\n",
       "<p>6456 rows × 4 columns</p>\n",
       "</div>"
      ],
      "text/plain": [
       "      rating_id  book_id        username  rating\n",
       "0             1        1      ryanfranco       4\n",
       "1             2        1   grantpatricia       2\n",
       "2             3        1    brandtandrea       5\n",
       "3             4        2        lorichen       3\n",
       "4             5        2     mariokeller       2\n",
       "...         ...      ...             ...     ...\n",
       "6451       6452     1000  carolrodriguez       4\n",
       "6452       6453     1000         wendy18       4\n",
       "6453       6454     1000      jarvispaul       5\n",
       "6454       6455     1000           zross       2\n",
       "6455       6456     1000         fharris       5\n",
       "\n",
       "[6456 rows x 4 columns]"
      ]
     },
     "execution_count": 5,
     "metadata": {},
     "output_type": "execute_result"
    }
   ],
   "source": [
    "rating = pd.io.sql.read_sql('ratings',con = engine)\n",
    "rating"
   ]
  },
  {
   "cell_type": "code",
   "execution_count": 6,
   "id": "6d51c09d",
   "metadata": {},
   "outputs": [
    {
     "data": {
      "text/html": [
       "<div>\n",
       "<style scoped>\n",
       "    .dataframe tbody tr th:only-of-type {\n",
       "        vertical-align: middle;\n",
       "    }\n",
       "\n",
       "    .dataframe tbody tr th {\n",
       "        vertical-align: top;\n",
       "    }\n",
       "\n",
       "    .dataframe thead th {\n",
       "        text-align: right;\n",
       "    }\n",
       "</style>\n",
       "<table border=\"1\" class=\"dataframe\">\n",
       "  <thead>\n",
       "    <tr style=\"text-align: right;\">\n",
       "      <th></th>\n",
       "      <th>review_id</th>\n",
       "      <th>book_id</th>\n",
       "      <th>username</th>\n",
       "      <th>text</th>\n",
       "    </tr>\n",
       "  </thead>\n",
       "  <tbody>\n",
       "    <tr>\n",
       "      <td>0</td>\n",
       "      <td>1</td>\n",
       "      <td>1</td>\n",
       "      <td>brandtandrea</td>\n",
       "      <td>Mention society tell send professor analysis. ...</td>\n",
       "    </tr>\n",
       "    <tr>\n",
       "      <td>1</td>\n",
       "      <td>2</td>\n",
       "      <td>1</td>\n",
       "      <td>ryanfranco</td>\n",
       "      <td>Foot glass pretty audience hit themselves. Amo...</td>\n",
       "    </tr>\n",
       "    <tr>\n",
       "      <td>2</td>\n",
       "      <td>3</td>\n",
       "      <td>2</td>\n",
       "      <td>lorichen</td>\n",
       "      <td>Listen treat keep worry. Miss husband tax but ...</td>\n",
       "    </tr>\n",
       "    <tr>\n",
       "      <td>3</td>\n",
       "      <td>4</td>\n",
       "      <td>3</td>\n",
       "      <td>johnsonamanda</td>\n",
       "      <td>Finally month interesting blue could nature cu...</td>\n",
       "    </tr>\n",
       "    <tr>\n",
       "      <td>4</td>\n",
       "      <td>5</td>\n",
       "      <td>3</td>\n",
       "      <td>scotttamara</td>\n",
       "      <td>Nation purpose heavy give wait song will. List...</td>\n",
       "    </tr>\n",
       "    <tr>\n",
       "      <td>...</td>\n",
       "      <td>...</td>\n",
       "      <td>...</td>\n",
       "      <td>...</td>\n",
       "      <td>...</td>\n",
       "    </tr>\n",
       "    <tr>\n",
       "      <td>2788</td>\n",
       "      <td>2789</td>\n",
       "      <td>999</td>\n",
       "      <td>martinadam</td>\n",
       "      <td>Later hospital turn easy community. Fact same ...</td>\n",
       "    </tr>\n",
       "    <tr>\n",
       "      <td>2789</td>\n",
       "      <td>2790</td>\n",
       "      <td>1000</td>\n",
       "      <td>wknight</td>\n",
       "      <td>Change lose answer close pressure. Spend so now.</td>\n",
       "    </tr>\n",
       "    <tr>\n",
       "      <td>2790</td>\n",
       "      <td>2791</td>\n",
       "      <td>1000</td>\n",
       "      <td>carolrodriguez</td>\n",
       "      <td>Authority go who television entire hair guy po...</td>\n",
       "    </tr>\n",
       "    <tr>\n",
       "      <td>2791</td>\n",
       "      <td>2792</td>\n",
       "      <td>1000</td>\n",
       "      <td>wendy18</td>\n",
       "      <td>Or western offer wonder ask. More hear phone f...</td>\n",
       "    </tr>\n",
       "    <tr>\n",
       "      <td>2792</td>\n",
       "      <td>2793</td>\n",
       "      <td>1000</td>\n",
       "      <td>jarvispaul</td>\n",
       "      <td>Republican staff bit eat material measure plan...</td>\n",
       "    </tr>\n",
       "  </tbody>\n",
       "</table>\n",
       "<p>2793 rows × 4 columns</p>\n",
       "</div>"
      ],
      "text/plain": [
       "      review_id  book_id        username  \\\n",
       "0             1        1    brandtandrea   \n",
       "1             2        1      ryanfranco   \n",
       "2             3        2        lorichen   \n",
       "3             4        3   johnsonamanda   \n",
       "4             5        3     scotttamara   \n",
       "...         ...      ...             ...   \n",
       "2788       2789      999      martinadam   \n",
       "2789       2790     1000         wknight   \n",
       "2790       2791     1000  carolrodriguez   \n",
       "2791       2792     1000         wendy18   \n",
       "2792       2793     1000      jarvispaul   \n",
       "\n",
       "                                                   text  \n",
       "0     Mention society tell send professor analysis. ...  \n",
       "1     Foot glass pretty audience hit themselves. Amo...  \n",
       "2     Listen treat keep worry. Miss husband tax but ...  \n",
       "3     Finally month interesting blue could nature cu...  \n",
       "4     Nation purpose heavy give wait song will. List...  \n",
       "...                                                 ...  \n",
       "2788  Later hospital turn easy community. Fact same ...  \n",
       "2789   Change lose answer close pressure. Spend so now.  \n",
       "2790  Authority go who television entire hair guy po...  \n",
       "2791  Or western offer wonder ask. More hear phone f...  \n",
       "2792  Republican staff bit eat material measure plan...  \n",
       "\n",
       "[2793 rows x 4 columns]"
      ]
     },
     "execution_count": 6,
     "metadata": {},
     "output_type": "execute_result"
    }
   ],
   "source": [
    "review = pd.io.sql.read_sql('reviews',con = engine)\n",
    "review"
   ]
  },
  {
   "cell_type": "markdown",
   "id": "73a61682",
   "metadata": {},
   "source": [
    "####  Find the number of books released after January 1, 2000."
   ]
  },
  {
   "cell_type": "code",
   "execution_count": 7,
   "id": "1cd534d6",
   "metadata": {},
   "outputs": [
    {
     "data": {
      "text/html": [
       "<div>\n",
       "<style scoped>\n",
       "    .dataframe tbody tr th:only-of-type {\n",
       "        vertical-align: middle;\n",
       "    }\n",
       "\n",
       "    .dataframe tbody tr th {\n",
       "        vertical-align: top;\n",
       "    }\n",
       "\n",
       "    .dataframe thead th {\n",
       "        text-align: right;\n",
       "    }\n",
       "</style>\n",
       "<table border=\"1\" class=\"dataframe\">\n",
       "  <thead>\n",
       "    <tr style=\"text-align: right;\">\n",
       "      <th></th>\n",
       "      <th>nr_books</th>\n",
       "    </tr>\n",
       "  </thead>\n",
       "  <tbody>\n",
       "    <tr>\n",
       "      <td>0</td>\n",
       "      <td>819</td>\n",
       "    </tr>\n",
       "  </tbody>\n",
       "</table>\n",
       "</div>"
      ],
      "text/plain": [
       "   nr_books\n",
       "0       819"
      ]
     },
     "execution_count": 7,
     "metadata": {},
     "output_type": "execute_result"
    }
   ],
   "source": [
    "nr_books = '''\n",
    "SELECT count( publication_date) as nr_books\n",
    "FROM \n",
    "    books\n",
    "WHERE publication_date > '2000-01-01'\n",
    "'''\n",
    "pd.io.sql.read_sql(nr_books, con = engine)"
   ]
  },
  {
   "cell_type": "markdown",
   "id": "fd27f2fe",
   "metadata": {},
   "source": [
    "Seems like a lot of books were released in a short period of time."
   ]
  },
  {
   "cell_type": "markdown",
   "id": "5a11d305",
   "metadata": {},
   "source": [
    "#### Find the number of user reviews and the average rating for each book."
   ]
  },
  {
   "cell_type": "code",
   "execution_count": 8,
   "id": "0b150185",
   "metadata": {},
   "outputs": [
    {
     "data": {
      "text/html": [
       "<div>\n",
       "<style scoped>\n",
       "    .dataframe tbody tr th:only-of-type {\n",
       "        vertical-align: middle;\n",
       "    }\n",
       "\n",
       "    .dataframe tbody tr th {\n",
       "        vertical-align: top;\n",
       "    }\n",
       "\n",
       "    .dataframe thead th {\n",
       "        text-align: right;\n",
       "    }\n",
       "</style>\n",
       "<table border=\"1\" class=\"dataframe\">\n",
       "  <thead>\n",
       "    <tr style=\"text-align: right;\">\n",
       "      <th></th>\n",
       "      <th>username</th>\n",
       "      <th>nr_reviews</th>\n",
       "    </tr>\n",
       "  </thead>\n",
       "  <tbody>\n",
       "    <tr>\n",
       "      <td>0</td>\n",
       "      <td>susan85</td>\n",
       "      <td>29</td>\n",
       "    </tr>\n",
       "    <tr>\n",
       "      <td>1</td>\n",
       "      <td>sfitzgerald</td>\n",
       "      <td>28</td>\n",
       "    </tr>\n",
       "    <tr>\n",
       "      <td>2</td>\n",
       "      <td>martinadam</td>\n",
       "      <td>27</td>\n",
       "    </tr>\n",
       "    <tr>\n",
       "      <td>3</td>\n",
       "      <td>lesliegibbs</td>\n",
       "      <td>26</td>\n",
       "    </tr>\n",
       "    <tr>\n",
       "      <td>4</td>\n",
       "      <td>eallen</td>\n",
       "      <td>26</td>\n",
       "    </tr>\n",
       "    <tr>\n",
       "      <td>...</td>\n",
       "      <td>...</td>\n",
       "      <td>...</td>\n",
       "    </tr>\n",
       "    <tr>\n",
       "      <td>155</td>\n",
       "      <td>todd65</td>\n",
       "      <td>10</td>\n",
       "    </tr>\n",
       "    <tr>\n",
       "      <td>156</td>\n",
       "      <td>joseph14</td>\n",
       "      <td>10</td>\n",
       "    </tr>\n",
       "    <tr>\n",
       "      <td>157</td>\n",
       "      <td>dwayne09</td>\n",
       "      <td>10</td>\n",
       "    </tr>\n",
       "    <tr>\n",
       "      <td>158</td>\n",
       "      <td>robert00</td>\n",
       "      <td>9</td>\n",
       "    </tr>\n",
       "    <tr>\n",
       "      <td>159</td>\n",
       "      <td>millernicholas</td>\n",
       "      <td>5</td>\n",
       "    </tr>\n",
       "  </tbody>\n",
       "</table>\n",
       "<p>160 rows × 2 columns</p>\n",
       "</div>"
      ],
      "text/plain": [
       "           username  nr_reviews\n",
       "0           susan85          29\n",
       "1       sfitzgerald          28\n",
       "2        martinadam          27\n",
       "3       lesliegibbs          26\n",
       "4            eallen          26\n",
       "..              ...         ...\n",
       "155          todd65          10\n",
       "156        joseph14          10\n",
       "157        dwayne09          10\n",
       "158        robert00           9\n",
       "159  millernicholas           5\n",
       "\n",
       "[160 rows x 2 columns]"
      ]
     },
     "execution_count": 8,
     "metadata": {},
     "output_type": "execute_result"
    }
   ],
   "source": [
    "nr_reviews = ''' \n",
    "SELECT  username,count(review_id) AS nr_reviews\n",
    "FROM reviews\n",
    "GROUP BY username\n",
    "ORDER BY nr_reviews DESC\n",
    "'''\n",
    "pd.io.sql.read_sql(nr_reviews, con=engine)"
   ]
  },
  {
   "cell_type": "markdown",
   "id": "617b32d2",
   "metadata": {},
   "source": [
    "The highest value is 29 and the lowest 5. A 29 user reviews is really good and the fact that there are no values lower than 5 is even better ."
   ]
  },
  {
   "cell_type": "markdown",
   "id": "6046000d",
   "metadata": {},
   "source": [
    "#### New code below : "
   ]
  },
  {
   "cell_type": "code",
   "execution_count": 9,
   "id": "b1f99306",
   "metadata": {},
   "outputs": [
    {
     "data": {
      "text/html": [
       "<div>\n",
       "<style scoped>\n",
       "    .dataframe tbody tr th:only-of-type {\n",
       "        vertical-align: middle;\n",
       "    }\n",
       "\n",
       "    .dataframe tbody tr th {\n",
       "        vertical-align: top;\n",
       "    }\n",
       "\n",
       "    .dataframe thead th {\n",
       "        text-align: right;\n",
       "    }\n",
       "</style>\n",
       "<table border=\"1\" class=\"dataframe\">\n",
       "  <thead>\n",
       "    <tr style=\"text-align: right;\">\n",
       "      <th></th>\n",
       "      <th>title</th>\n",
       "      <th>average_rating</th>\n",
       "      <th>cnt</th>\n",
       "    </tr>\n",
       "  </thead>\n",
       "  <tbody>\n",
       "    <tr>\n",
       "      <td>0</td>\n",
       "      <td>Twilight (Twilight  #1)</td>\n",
       "      <td>3.662500</td>\n",
       "      <td>1120</td>\n",
       "    </tr>\n",
       "    <tr>\n",
       "      <td>1</td>\n",
       "      <td>The Hobbit  or There and Back Again</td>\n",
       "      <td>4.125000</td>\n",
       "      <td>528</td>\n",
       "    </tr>\n",
       "    <tr>\n",
       "      <td>2</td>\n",
       "      <td>The Catcher in the Rye</td>\n",
       "      <td>3.825581</td>\n",
       "      <td>516</td>\n",
       "    </tr>\n",
       "    <tr>\n",
       "      <td>3</td>\n",
       "      <td>Harry Potter and the Prisoner of Azkaban (Harr...</td>\n",
       "      <td>4.414634</td>\n",
       "      <td>492</td>\n",
       "    </tr>\n",
       "    <tr>\n",
       "      <td>4</td>\n",
       "      <td>Harry Potter and the Chamber of Secrets (Harry...</td>\n",
       "      <td>4.287500</td>\n",
       "      <td>480</td>\n",
       "    </tr>\n",
       "    <tr>\n",
       "      <td>...</td>\n",
       "      <td>...</td>\n",
       "      <td>...</td>\n",
       "      <td>...</td>\n",
       "    </tr>\n",
       "    <tr>\n",
       "      <td>994</td>\n",
       "      <td>The Natural Way to Draw</td>\n",
       "      <td>3.000000</td>\n",
       "      <td>0</td>\n",
       "    </tr>\n",
       "    <tr>\n",
       "      <td>995</td>\n",
       "      <td>Essential Tales and Poems</td>\n",
       "      <td>4.000000</td>\n",
       "      <td>0</td>\n",
       "    </tr>\n",
       "    <tr>\n",
       "      <td>996</td>\n",
       "      <td>The Cat in the Hat and Other Dr. Seuss Favorites</td>\n",
       "      <td>5.000000</td>\n",
       "      <td>0</td>\n",
       "    </tr>\n",
       "    <tr>\n",
       "      <td>997</td>\n",
       "      <td>Leonardo's Notebooks</td>\n",
       "      <td>4.000000</td>\n",
       "      <td>0</td>\n",
       "    </tr>\n",
       "    <tr>\n",
       "      <td>998</td>\n",
       "      <td>Disney's Beauty and the Beast (A Little Golden...</td>\n",
       "      <td>4.000000</td>\n",
       "      <td>0</td>\n",
       "    </tr>\n",
       "  </tbody>\n",
       "</table>\n",
       "<p>999 rows × 3 columns</p>\n",
       "</div>"
      ],
      "text/plain": [
       "                                                 title  average_rating   cnt\n",
       "0                              Twilight (Twilight  #1)        3.662500  1120\n",
       "1                  The Hobbit  or There and Back Again        4.125000   528\n",
       "2                               The Catcher in the Rye        3.825581   516\n",
       "3    Harry Potter and the Prisoner of Azkaban (Harr...        4.414634   492\n",
       "4    Harry Potter and the Chamber of Secrets (Harry...        4.287500   480\n",
       "..                                                 ...             ...   ...\n",
       "994                            The Natural Way to Draw        3.000000     0\n",
       "995                          Essential Tales and Poems        4.000000     0\n",
       "996   The Cat in the Hat and Other Dr. Seuss Favorites        5.000000     0\n",
       "997                               Leonardo's Notebooks        4.000000     0\n",
       "998  Disney's Beauty and the Beast (A Little Golden...        4.000000     0\n",
       "\n",
       "[999 rows x 3 columns]"
      ]
     },
     "execution_count": 9,
     "metadata": {},
     "output_type": "execute_result"
    }
   ],
   "source": [
    "avg_rating = '''\n",
    "SELECT subq.title,subq.average_rating,subq.cnt\n",
    "FROM (\n",
    "SELECT title,AVG(rating) as average_rating, COUNT(review_id) as cnt\n",
    "FROM books\n",
    "LEFT JOIN ratings ON ratings.book_id = books.book_id\n",
    "LEFT JOIN reviews ON reviews.book_id = books.book_id\n",
    "GROUP BY title\n",
    "ORDER BY cnt DESC) as subq\n",
    "'''\n",
    "pd.io.sql.read_sql(avg_rating, con=engine)"
   ]
  },
  {
   "cell_type": "markdown",
   "id": "679330c4",
   "metadata": {},
   "source": [
    "Looks like clients love the provided books since there is no average rating lower than 3."
   ]
  },
  {
   "cell_type": "markdown",
   "id": "f399b4e5",
   "metadata": {},
   "source": [
    "####  Identify the publisher that has released the greatest number of books with more than 50 pages (this will help you exclude brochures and similar publications from your analysis)."
   ]
  },
  {
   "cell_type": "code",
   "execution_count": 10,
   "id": "d33f7f9b",
   "metadata": {},
   "outputs": [
    {
     "data": {
      "text/html": [
       "<div>\n",
       "<style scoped>\n",
       "    .dataframe tbody tr th:only-of-type {\n",
       "        vertical-align: middle;\n",
       "    }\n",
       "\n",
       "    .dataframe tbody tr th {\n",
       "        vertical-align: top;\n",
       "    }\n",
       "\n",
       "    .dataframe thead th {\n",
       "        text-align: right;\n",
       "    }\n",
       "</style>\n",
       "<table border=\"1\" class=\"dataframe\">\n",
       "  <thead>\n",
       "    <tr style=\"text-align: right;\">\n",
       "      <th></th>\n",
       "      <th>publisher</th>\n",
       "      <th>nr_books</th>\n",
       "    </tr>\n",
       "  </thead>\n",
       "  <tbody>\n",
       "    <tr>\n",
       "      <td>0</td>\n",
       "      <td>Penguin Books</td>\n",
       "      <td>42</td>\n",
       "    </tr>\n",
       "  </tbody>\n",
       "</table>\n",
       "</div>"
      ],
      "text/plain": [
       "       publisher  nr_books\n",
       "0  Penguin Books        42"
      ]
     },
     "execution_count": 10,
     "metadata": {},
     "output_type": "execute_result"
    }
   ],
   "source": [
    "publisher = '''\n",
    "SELECT subq.publisher, subq.nr_books\n",
    "FROM \n",
    "(SELECT publisher, COUNT(DISTINCT book_id) AS nr_books \n",
    "FROM books\n",
    "LEFT JOIN publishers ON books.publisher_id = publishers.publisher_id\n",
    "WHERE num_pages > 50\n",
    "GROUP BY publisher\n",
    "ORDER BY nr_books DESC\n",
    "LIMIT 1) AS subq\n",
    "\n",
    "'''\n",
    "pd.io.sql.read_sql(publisher, con = engine)"
   ]
  },
  {
   "cell_type": "markdown",
   "id": "b00a3140",
   "metadata": {},
   "source": [
    "Penguin Books has the greatest number of books, 42. Maybe they have a lot of succes and the clients really like this kind of books."
   ]
  },
  {
   "cell_type": "markdown",
   "id": "7248405f",
   "metadata": {},
   "source": [
    "#### Identify the author with the highest average book rating (look only at books with at least 50 ratings)."
   ]
  },
  {
   "cell_type": "code",
   "execution_count": 11,
   "id": "6f9a1152",
   "metadata": {
    "scrolled": true
   },
   "outputs": [
    {
     "data": {
      "text/html": [
       "<div>\n",
       "<style scoped>\n",
       "    .dataframe tbody tr th:only-of-type {\n",
       "        vertical-align: middle;\n",
       "    }\n",
       "\n",
       "    .dataframe tbody tr th {\n",
       "        vertical-align: top;\n",
       "    }\n",
       "\n",
       "    .dataframe thead th {\n",
       "        text-align: right;\n",
       "    }\n",
       "</style>\n",
       "<table border=\"1\" class=\"dataframe\">\n",
       "  <thead>\n",
       "    <tr style=\"text-align: right;\">\n",
       "      <th></th>\n",
       "      <th>author</th>\n",
       "      <th>avg_rating</th>\n",
       "    </tr>\n",
       "  </thead>\n",
       "  <tbody>\n",
       "    <tr>\n",
       "      <td>0</td>\n",
       "      <td>Diana Gabaldon</td>\n",
       "      <td>4.3</td>\n",
       "    </tr>\n",
       "  </tbody>\n",
       "</table>\n",
       "</div>"
      ],
      "text/plain": [
       "           author  avg_rating\n",
       "0  Diana Gabaldon         4.3"
      ]
     },
     "execution_count": 11,
     "metadata": {},
     "output_type": "execute_result"
    }
   ],
   "source": [
    "author = '''\n",
    "SELECT subq.author, subq.avg_rating\n",
    "FROM\n",
    "( SELECT author, AVG(rating) as avg_rating\n",
    "FROM books\n",
    "LEFT JOIN ratings ON books.book_id = ratings.book_id\n",
    "LEFT JOIN authors ON books.author_id = authors.author_id\n",
    "GROUP BY author\n",
    "HAVING COUNT( rating) >= 50 \n",
    "ORDER BY avg_rating DESC\n",
    "LIMIT 1) AS subq\n",
    "'''\n",
    "pd.io.sql.read_sql(author, con=engine)"
   ]
  },
  {
   "cell_type": "markdown",
   "id": "e2aed0bb",
   "metadata": {},
   "source": [
    "Diana Gabaldon is the favorite author with a very good rating of 4.3 so her books have a higher probability to be purchased than books from other authors."
   ]
  },
  {
   "cell_type": "markdown",
   "id": "a0d11e64",
   "metadata": {},
   "source": [
    "#### Find the average number of text reviews among users who rated more than 50 books."
   ]
  },
  {
   "cell_type": "code",
   "execution_count": 12,
   "id": "df69437b",
   "metadata": {},
   "outputs": [
    {
     "data": {
      "text/html": [
       "<div>\n",
       "<style scoped>\n",
       "    .dataframe tbody tr th:only-of-type {\n",
       "        vertical-align: middle;\n",
       "    }\n",
       "\n",
       "    .dataframe tbody tr th {\n",
       "        vertical-align: top;\n",
       "    }\n",
       "\n",
       "    .dataframe thead th {\n",
       "        text-align: right;\n",
       "    }\n",
       "</style>\n",
       "<table border=\"1\" class=\"dataframe\">\n",
       "  <thead>\n",
       "    <tr style=\"text-align: right;\">\n",
       "      <th></th>\n",
       "      <th>avg</th>\n",
       "    </tr>\n",
       "  </thead>\n",
       "  <tbody>\n",
       "    <tr>\n",
       "      <td>0</td>\n",
       "      <td>24.333333</td>\n",
       "    </tr>\n",
       "  </tbody>\n",
       "</table>\n",
       "</div>"
      ],
      "text/plain": [
       "         avg\n",
       "0  24.333333"
      ]
     },
     "execution_count": 12,
     "metadata": {},
     "output_type": "execute_result"
    }
   ],
   "source": [
    "text_reviews = ''' SELECT avg(SUBQ.text)\n",
    "FROM (\n",
    "SELECT COUNT(text) AS text\n",
    "FROM reviews\n",
    "WHERE username in ( SELECT username\n",
    "FROM ratings\n",
    "GROUP BY username\n",
    "HAVING COUNT(rating) > 50)\n",
    "GROUP BY username) AS SUBQ\n",
    "'''\n",
    "\n",
    "pd.io.sql.read_sql(text_reviews, con= engine)"
   ]
  },
  {
   "cell_type": "markdown",
   "id": "a869d9e6",
   "metadata": {},
   "source": [
    "Book lovers like to give more text reviews than user reviews, the difference in the number of reviews been way bigger than expected."
   ]
  }
 ],
 "metadata": {
  "ExecuteTimeLog": [
   {
    "duration": 1529,
    "start_time": "2021-07-09T08:50:02.707Z"
   },
   {
    "duration": 265,
    "start_time": "2021-07-09T08:50:04.239Z"
   },
   {
    "duration": 97,
    "start_time": "2021-07-09T08:50:04.512Z"
   },
   {
    "duration": 40,
    "start_time": "2021-07-09T08:50:04.611Z"
   },
   {
    "duration": 156,
    "start_time": "2021-07-09T08:50:04.703Z"
   },
   {
    "duration": 200,
    "start_time": "2021-07-09T08:50:04.902Z"
   },
   {
    "duration": 18,
    "start_time": "2021-07-09T08:50:05.105Z"
   },
   {
    "duration": 82,
    "start_time": "2021-07-09T08:50:05.125Z"
   },
   {
    "duration": 25,
    "start_time": "2021-07-09T08:50:05.211Z"
   },
   {
    "duration": 87,
    "start_time": "2021-07-09T08:50:05.239Z"
   },
   {
    "duration": 22,
    "start_time": "2021-07-09T08:50:05.329Z"
   },
   {
    "duration": 32,
    "start_time": "2021-07-09T08:50:05.402Z"
   },
   {
    "duration": 20,
    "start_time": "2021-07-09T08:56:34.816Z"
   },
   {
    "duration": 21,
    "start_time": "2021-07-09T08:56:39.879Z"
   },
   {
    "duration": 300,
    "start_time": "2021-07-09T10:01:57.944Z"
   },
   {
    "duration": 848,
    "start_time": "2021-07-09T10:02:09.609Z"
   },
   {
    "duration": 703,
    "start_time": "2021-07-09T10:02:10.459Z"
   },
   {
    "duration": 233,
    "start_time": "2021-07-09T10:02:11.165Z"
   },
   {
    "duration": 231,
    "start_time": "2021-07-09T10:02:11.400Z"
   },
   {
    "duration": 630,
    "start_time": "2021-07-09T10:02:11.633Z"
   },
   {
    "duration": 618,
    "start_time": "2021-07-09T10:02:12.265Z"
   },
   {
    "duration": 70,
    "start_time": "2021-07-09T10:02:12.885Z"
   },
   {
    "duration": 81,
    "start_time": "2021-07-09T10:02:12.957Z"
   },
   {
    "duration": 82,
    "start_time": "2021-07-09T10:02:13.041Z"
   },
   {
    "duration": 77,
    "start_time": "2021-07-09T10:02:13.125Z"
   },
   {
    "duration": 78,
    "start_time": "2021-07-09T10:02:13.204Z"
   },
   {
    "duration": 99,
    "start_time": "2021-07-09T10:02:13.284Z"
   },
   {
    "duration": 424,
    "start_time": "2021-07-09T10:02:54.211Z"
   },
   {
    "duration": 82,
    "start_time": "2021-07-09T10:03:06.940Z"
   },
   {
    "duration": 370,
    "start_time": "2021-07-09T10:07:49.875Z"
   },
   {
    "duration": 323,
    "start_time": "2021-07-09T10:08:17.611Z"
   },
   {
    "duration": 79,
    "start_time": "2021-07-09T10:09:53.463Z"
   },
   {
    "duration": 75,
    "start_time": "2021-07-09T10:10:10.081Z"
   },
   {
    "duration": 78,
    "start_time": "2021-07-09T10:13:21.301Z"
   },
   {
    "duration": 355,
    "start_time": "2021-07-09T10:14:57.906Z"
   },
   {
    "duration": 330,
    "start_time": "2021-07-09T10:20:37.601Z"
   },
   {
    "duration": 354,
    "start_time": "2021-07-09T10:21:09.070Z"
   },
   {
    "duration": 110,
    "start_time": "2021-07-09T10:21:23.728Z"
   },
   {
    "duration": 110,
    "start_time": "2021-07-09T10:21:49.777Z"
   },
   {
    "duration": 82,
    "start_time": "2021-07-09T10:23:56.230Z"
   },
   {
    "duration": 87,
    "start_time": "2021-07-09T10:25:05.396Z"
   },
   {
    "duration": 88,
    "start_time": "2021-07-09T10:25:14.836Z"
   },
   {
    "duration": 83,
    "start_time": "2021-07-09T10:27:42.654Z"
   },
   {
    "duration": 336,
    "start_time": "2021-07-09T10:32:29.193Z"
   },
   {
    "duration": 84,
    "start_time": "2021-07-09T10:32:57.481Z"
   },
   {
    "duration": 78,
    "start_time": "2021-07-09T10:35:39.088Z"
   },
   {
    "duration": 77,
    "start_time": "2021-07-09T10:35:51.864Z"
   },
   {
    "duration": 81,
    "start_time": "2021-07-09T10:36:42.121Z"
   },
   {
    "duration": 102,
    "start_time": "2021-07-09T10:37:52.911Z"
   },
   {
    "duration": 81,
    "start_time": "2021-07-09T10:38:05.146Z"
   },
   {
    "duration": 105,
    "start_time": "2021-07-09T10:38:16.304Z"
   },
   {
    "duration": 98,
    "start_time": "2021-07-09T10:38:32.715Z"
   },
   {
    "duration": 108,
    "start_time": "2021-07-09T10:39:47.771Z"
   },
   {
    "duration": 101,
    "start_time": "2021-07-09T10:40:03.076Z"
   },
   {
    "duration": 81,
    "start_time": "2021-07-09T10:40:28.439Z"
   },
   {
    "duration": 362,
    "start_time": "2021-07-09T10:40:43.516Z"
   },
   {
    "duration": 472,
    "start_time": "2021-07-09T10:41:20.141Z"
   },
   {
    "duration": 81,
    "start_time": "2021-07-09T10:43:11.392Z"
   },
   {
    "duration": 83,
    "start_time": "2021-07-09T10:43:22.681Z"
   },
   {
    "duration": 96,
    "start_time": "2021-07-09T10:44:18.176Z"
   },
   {
    "duration": 95,
    "start_time": "2021-07-09T10:44:27.349Z"
   },
   {
    "duration": 97,
    "start_time": "2021-07-09T10:44:36.096Z"
   },
   {
    "duration": 80,
    "start_time": "2021-07-09T10:46:11.421Z"
   },
   {
    "duration": 102,
    "start_time": "2021-07-09T10:47:31.325Z"
   },
   {
    "duration": 376,
    "start_time": "2021-07-09T10:48:50.052Z"
   },
   {
    "duration": 82,
    "start_time": "2021-07-09T10:48:58.537Z"
   },
   {
    "duration": 437,
    "start_time": "2021-07-09T10:58:51.196Z"
   },
   {
    "duration": 519,
    "start_time": "2021-07-09T10:59:05.888Z"
   },
   {
    "duration": 407,
    "start_time": "2021-07-09T11:00:18.078Z"
   },
   {
    "duration": 625,
    "start_time": "2021-07-09T11:00:53.680Z"
   },
   {
    "duration": 384,
    "start_time": "2021-07-09T11:01:04.903Z"
   },
   {
    "duration": 373,
    "start_time": "2021-07-09T11:02:06.361Z"
   },
   {
    "duration": 336,
    "start_time": "2021-07-09T11:02:23.419Z"
   },
   {
    "duration": 761,
    "start_time": "2021-07-09T11:03:02.324Z"
   },
   {
    "duration": 536,
    "start_time": "2021-07-09T11:05:25.229Z"
   },
   {
    "duration": 342,
    "start_time": "2021-07-09T11:06:18.649Z"
   },
   {
    "duration": 377,
    "start_time": "2021-07-09T11:06:58.576Z"
   },
   {
    "duration": 533,
    "start_time": "2021-07-09T11:07:26.396Z"
   },
   {
    "duration": 399,
    "start_time": "2021-07-09T11:07:56.381Z"
   },
   {
    "duration": 76,
    "start_time": "2021-07-09T11:08:20.737Z"
   },
   {
    "duration": 76,
    "start_time": "2021-07-09T11:08:37.146Z"
   },
   {
    "duration": 76,
    "start_time": "2021-07-09T11:09:02.713Z"
   },
   {
    "duration": 75,
    "start_time": "2021-07-09T11:09:09.765Z"
   },
   {
    "duration": 76,
    "start_time": "2021-07-09T11:09:17.362Z"
   },
   {
    "duration": 75,
    "start_time": "2021-07-09T11:09:43.073Z"
   },
   {
    "duration": 79,
    "start_time": "2021-07-09T11:10:12.625Z"
   },
   {
    "duration": 77,
    "start_time": "2021-07-09T11:10:20.808Z"
   },
   {
    "duration": 375,
    "start_time": "2021-07-09T11:11:05.017Z"
   },
   {
    "duration": 403,
    "start_time": "2021-07-09T11:12:11.522Z"
   },
   {
    "duration": 75,
    "start_time": "2021-07-09T11:12:31.272Z"
   },
   {
    "duration": 77,
    "start_time": "2021-07-09T11:12:59.949Z"
   },
   {
    "duration": 76,
    "start_time": "2021-07-09T11:13:16.624Z"
   },
   {
    "duration": 423,
    "start_time": "2021-07-09T11:15:18.893Z"
   },
   {
    "duration": 388,
    "start_time": "2021-07-09T11:15:30.535Z"
   },
   {
    "duration": 466,
    "start_time": "2021-07-09T11:15:59.313Z"
   },
   {
    "duration": 76,
    "start_time": "2021-07-09T11:16:47.423Z"
   },
   {
    "duration": 76,
    "start_time": "2021-07-09T11:17:06.871Z"
   },
   {
    "duration": 414,
    "start_time": "2021-07-09T11:17:39.929Z"
   },
   {
    "duration": 421,
    "start_time": "2021-07-09T11:18:02.189Z"
   },
   {
    "duration": 76,
    "start_time": "2021-07-09T11:18:19.073Z"
   },
   {
    "duration": 374,
    "start_time": "2021-07-09T11:18:28.074Z"
   },
   {
    "duration": 400,
    "start_time": "2021-07-09T11:18:51.845Z"
   },
   {
    "duration": 74,
    "start_time": "2021-07-09T11:18:57.369Z"
   },
   {
    "duration": 74,
    "start_time": "2021-07-09T11:19:08.812Z"
   },
   {
    "duration": 440,
    "start_time": "2021-07-09T11:19:23.855Z"
   },
   {
    "duration": 75,
    "start_time": "2021-07-09T11:19:28.296Z"
   },
   {
    "duration": 75,
    "start_time": "2021-07-09T11:19:35.179Z"
   },
   {
    "duration": 595,
    "start_time": "2021-07-09T11:19:53.787Z"
   },
   {
    "duration": 1013,
    "start_time": "2021-07-09T11:20:04.531Z"
   },
   {
    "duration": 77,
    "start_time": "2021-07-09T11:20:41.985Z"
   },
   {
    "duration": 76,
    "start_time": "2021-07-09T11:20:48.149Z"
   },
   {
    "duration": 75,
    "start_time": "2021-07-09T11:22:23.360Z"
   },
   {
    "duration": 77,
    "start_time": "2021-07-09T11:22:35.581Z"
   },
   {
    "duration": 339,
    "start_time": "2021-07-09T11:23:28.990Z"
   },
   {
    "duration": 348,
    "start_time": "2021-07-09T11:23:35.058Z"
   },
   {
    "duration": 411,
    "start_time": "2021-07-09T11:24:11.776Z"
   },
   {
    "duration": 396,
    "start_time": "2021-07-09T11:24:21.020Z"
   },
   {
    "duration": 483,
    "start_time": "2021-07-09T11:24:36.883Z"
   },
   {
    "duration": 76,
    "start_time": "2021-07-09T11:25:00.529Z"
   },
   {
    "duration": 77,
    "start_time": "2021-07-09T11:26:25.998Z"
   },
   {
    "duration": 74,
    "start_time": "2021-07-09T11:28:06.331Z"
   },
   {
    "duration": 334,
    "start_time": "2021-07-09T11:29:46.975Z"
   },
   {
    "duration": 345,
    "start_time": "2021-07-09T11:29:56.962Z"
   },
   {
    "duration": 350,
    "start_time": "2021-07-09T11:30:13.806Z"
   },
   {
    "duration": 75,
    "start_time": "2021-07-09T11:30:23.853Z"
   },
   {
    "duration": 341,
    "start_time": "2021-07-09T11:30:52.679Z"
   },
   {
    "duration": 77,
    "start_time": "2021-07-09T11:31:09.809Z"
   },
   {
    "duration": 75,
    "start_time": "2021-07-09T11:31:48.763Z"
   },
   {
    "duration": 75,
    "start_time": "2021-07-09T11:32:02.863Z"
   },
   {
    "duration": 76,
    "start_time": "2021-07-09T11:32:29.312Z"
   },
   {
    "duration": 75,
    "start_time": "2021-07-09T11:33:17.658Z"
   },
   {
    "duration": 76,
    "start_time": "2021-07-09T11:33:21.699Z"
   },
   {
    "duration": 83,
    "start_time": "2021-07-09T11:33:27.343Z"
   },
   {
    "duration": 75,
    "start_time": "2021-07-09T11:33:32.848Z"
   },
   {
    "duration": 331,
    "start_time": "2021-07-09T11:35:31.753Z"
   },
   {
    "duration": 77,
    "start_time": "2021-07-09T11:36:04.251Z"
   },
   {
    "duration": 75,
    "start_time": "2021-07-09T11:39:13.255Z"
   },
   {
    "duration": 76,
    "start_time": "2021-07-09T11:39:51.040Z"
   },
   {
    "duration": 76,
    "start_time": "2021-07-09T11:40:00.418Z"
   },
   {
    "duration": 338,
    "start_time": "2021-07-09T11:40:55.439Z"
   },
   {
    "duration": 75,
    "start_time": "2021-07-09T11:41:03.935Z"
   },
   {
    "duration": 327,
    "start_time": "2021-07-09T11:41:24.308Z"
   },
   {
    "duration": 337,
    "start_time": "2021-07-09T11:41:36.467Z"
   },
   {
    "duration": 75,
    "start_time": "2021-07-09T11:41:42.276Z"
   },
   {
    "duration": 340,
    "start_time": "2021-07-09T11:42:17.552Z"
   },
   {
    "duration": 74,
    "start_time": "2021-07-09T11:42:34.104Z"
   },
   {
    "duration": 76,
    "start_time": "2021-07-09T11:47:50.490Z"
   },
   {
    "duration": 76,
    "start_time": "2021-07-09T11:48:22.460Z"
   },
   {
    "duration": 73,
    "start_time": "2021-07-09T11:48:58.347Z"
   },
   {
    "duration": 74,
    "start_time": "2021-07-09T11:49:18.444Z"
   },
   {
    "duration": 73,
    "start_time": "2021-07-09T11:49:34.312Z"
   },
   {
    "duration": 73,
    "start_time": "2021-07-09T11:49:53.479Z"
   },
   {
    "duration": 74,
    "start_time": "2021-07-09T11:53:33.596Z"
   },
   {
    "duration": 79,
    "start_time": "2021-07-09T11:53:39.863Z"
   },
   {
    "duration": 331,
    "start_time": "2021-07-09T11:54:27.550Z"
   },
   {
    "duration": 339,
    "start_time": "2021-07-09T11:54:38.223Z"
   },
   {
    "duration": 344,
    "start_time": "2021-07-09T11:55:29.812Z"
   },
   {
    "duration": 319,
    "start_time": "2021-07-09T11:55:39.641Z"
   },
   {
    "duration": 317,
    "start_time": "2021-07-09T11:55:49.070Z"
   },
   {
    "duration": 331,
    "start_time": "2021-07-09T11:57:50.606Z"
   },
   {
    "duration": 330,
    "start_time": "2021-07-09T11:58:15.415Z"
   },
   {
    "duration": 325,
    "start_time": "2021-07-09T11:58:42.381Z"
   },
   {
    "duration": 339,
    "start_time": "2021-07-09T12:00:22.219Z"
   },
   {
    "duration": 338,
    "start_time": "2021-07-09T12:00:30.195Z"
   },
   {
    "duration": 353,
    "start_time": "2021-07-09T12:00:37.087Z"
   },
   {
    "duration": 81,
    "start_time": "2021-07-09T12:01:14.438Z"
   },
   {
    "duration": 79,
    "start_time": "2021-07-09T12:01:21.968Z"
   },
   {
    "duration": 78,
    "start_time": "2021-07-09T12:01:37.062Z"
   },
   {
    "duration": 74,
    "start_time": "2021-07-09T12:01:54.660Z"
   },
   {
    "duration": 73,
    "start_time": "2021-07-09T12:02:03.339Z"
   },
   {
    "duration": 429,
    "start_time": "2021-07-09T12:05:15.852Z"
   },
   {
    "duration": 339,
    "start_time": "2021-07-09T12:05:50.266Z"
   },
   {
    "duration": 74,
    "start_time": "2021-07-09T12:06:06.084Z"
   },
   {
    "duration": 886,
    "start_time": "2021-07-09T12:51:22.026Z"
   },
   {
    "duration": 591,
    "start_time": "2021-07-09T12:51:22.915Z"
   },
   {
    "duration": 195,
    "start_time": "2021-07-09T12:51:23.509Z"
   },
   {
    "duration": 192,
    "start_time": "2021-07-09T12:51:23.707Z"
   },
   {
    "duration": 526,
    "start_time": "2021-07-09T12:51:23.901Z"
   },
   {
    "duration": 520,
    "start_time": "2021-07-09T12:51:24.429Z"
   },
   {
    "duration": 61,
    "start_time": "2021-07-09T12:51:24.951Z"
   },
   {
    "duration": 65,
    "start_time": "2021-07-09T12:51:25.016Z"
   },
   {
    "duration": 79,
    "start_time": "2021-07-09T12:51:25.083Z"
   },
   {
    "duration": 62,
    "start_time": "2021-07-09T12:51:25.164Z"
   },
   {
    "duration": 64,
    "start_time": "2021-07-09T12:51:25.228Z"
   },
   {
    "duration": 62,
    "start_time": "2021-07-09T12:51:25.294Z"
   }
  ],
  "kernelspec": {
   "display_name": "Python 3",
   "language": "python",
   "name": "python3"
  },
  "language_info": {
   "codemirror_mode": {
    "name": "ipython",
    "version": 3
   },
   "file_extension": ".py",
   "mimetype": "text/x-python",
   "name": "python",
   "nbconvert_exporter": "python",
   "pygments_lexer": "ipython3",
   "version": "3.8.8"
  },
  "toc": {
   "base_numbering": 1,
   "nav_menu": {},
   "number_sections": true,
   "sideBar": true,
   "skip_h1_title": true,
   "title_cell": "Table of Contents",
   "title_sidebar": "Contents",
   "toc_cell": false,
   "toc_position": {},
   "toc_section_display": true,
   "toc_window_display": false
  }
 },
 "nbformat": 4,
 "nbformat_minor": 5
}
