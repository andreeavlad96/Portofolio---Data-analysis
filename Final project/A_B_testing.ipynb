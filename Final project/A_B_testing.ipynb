{
 "cells": [
  {
   "cell_type": "markdown",
   "metadata": {},
   "source": [
    "The datasets contains data from an international online store. An A/B test was launched by another analyst but stopped before the due date and our task is to analyse the data and see if the A/B test was carried out correctly. Having the tehnical specifications and test results from the predecessor, show that within 14 days of signing up, users show better conversion for each stage of the funnel, at least 10% increase. "
   ]
  },
  {
   "cell_type": "code",
   "execution_count": 17,
   "metadata": {},
   "outputs": [],
   "source": [
    "import pandas as pd\n",
    "import numpy as np\n",
    "import seaborn as sns\n",
    "import matplotlib.pyplot as plt\n",
    "from scipy import stats as st\n",
    "import math as mth"
   ]
  },
  {
   "cell_type": "code",
   "execution_count": 18,
   "metadata": {},
   "outputs": [],
   "source": [
    "marketing_events = pd.read_csv('/datasets/ab_project_marketing_events_us.csv')\n",
    "users_upd = pd.read_csv('/datasets/final_ab_new_users_upd_us.csv')\n",
    "events_upd = pd.read_csv('/datasets/final_ab_events_upd_us.csv')\n",
    "participants_upd = pd.read_csv('/datasets/final_ab_participants_upd_us.csv')"
   ]
  },
  {
   "cell_type": "code",
   "execution_count": 19,
   "metadata": {
    "scrolled": true
   },
   "outputs": [
    {
     "name": "stdout",
     "output_type": "stream",
     "text": [
      "Project marketing events\n"
     ]
    },
    {
     "data": {
      "text/html": [
       "<div>\n",
       "<style scoped>\n",
       "    .dataframe tbody tr th:only-of-type {\n",
       "        vertical-align: middle;\n",
       "    }\n",
       "\n",
       "    .dataframe tbody tr th {\n",
       "        vertical-align: top;\n",
       "    }\n",
       "\n",
       "    .dataframe thead th {\n",
       "        text-align: right;\n",
       "    }\n",
       "</style>\n",
       "<table border=\"1\" class=\"dataframe\">\n",
       "  <thead>\n",
       "    <tr style=\"text-align: right;\">\n",
       "      <th></th>\n",
       "      <th>name</th>\n",
       "      <th>regions</th>\n",
       "      <th>start_dt</th>\n",
       "      <th>finish_dt</th>\n",
       "    </tr>\n",
       "  </thead>\n",
       "  <tbody>\n",
       "    <tr>\n",
       "      <td>0</td>\n",
       "      <td>Christmas&amp;New Year Promo</td>\n",
       "      <td>EU, N.America</td>\n",
       "      <td>2020-12-25</td>\n",
       "      <td>2021-01-03</td>\n",
       "    </tr>\n",
       "    <tr>\n",
       "      <td>1</td>\n",
       "      <td>St. Valentine's Day Giveaway</td>\n",
       "      <td>EU, CIS, APAC, N.America</td>\n",
       "      <td>2020-02-14</td>\n",
       "      <td>2020-02-16</td>\n",
       "    </tr>\n",
       "    <tr>\n",
       "      <td>2</td>\n",
       "      <td>St. Patric's Day Promo</td>\n",
       "      <td>EU, N.America</td>\n",
       "      <td>2020-03-17</td>\n",
       "      <td>2020-03-19</td>\n",
       "    </tr>\n",
       "    <tr>\n",
       "      <td>3</td>\n",
       "      <td>Easter Promo</td>\n",
       "      <td>EU, CIS, APAC, N.America</td>\n",
       "      <td>2020-04-12</td>\n",
       "      <td>2020-04-19</td>\n",
       "    </tr>\n",
       "    <tr>\n",
       "      <td>4</td>\n",
       "      <td>4th of July Promo</td>\n",
       "      <td>N.America</td>\n",
       "      <td>2020-07-04</td>\n",
       "      <td>2020-07-11</td>\n",
       "    </tr>\n",
       "    <tr>\n",
       "      <td>5</td>\n",
       "      <td>Black Friday Ads Campaign</td>\n",
       "      <td>EU, CIS, APAC, N.America</td>\n",
       "      <td>2020-11-26</td>\n",
       "      <td>2020-12-01</td>\n",
       "    </tr>\n",
       "    <tr>\n",
       "      <td>6</td>\n",
       "      <td>Chinese New Year Promo</td>\n",
       "      <td>APAC</td>\n",
       "      <td>2020-01-25</td>\n",
       "      <td>2020-02-07</td>\n",
       "    </tr>\n",
       "    <tr>\n",
       "      <td>7</td>\n",
       "      <td>Labor day (May 1st) Ads Campaign</td>\n",
       "      <td>EU, CIS, APAC</td>\n",
       "      <td>2020-05-01</td>\n",
       "      <td>2020-05-03</td>\n",
       "    </tr>\n",
       "    <tr>\n",
       "      <td>8</td>\n",
       "      <td>International Women's Day Promo</td>\n",
       "      <td>EU, CIS, APAC</td>\n",
       "      <td>2020-03-08</td>\n",
       "      <td>2020-03-10</td>\n",
       "    </tr>\n",
       "    <tr>\n",
       "      <td>9</td>\n",
       "      <td>Victory Day CIS (May 9th) Event</td>\n",
       "      <td>CIS</td>\n",
       "      <td>2020-05-09</td>\n",
       "      <td>2020-05-11</td>\n",
       "    </tr>\n",
       "    <tr>\n",
       "      <td>10</td>\n",
       "      <td>CIS New Year Gift Lottery</td>\n",
       "      <td>CIS</td>\n",
       "      <td>2020-12-30</td>\n",
       "      <td>2021-01-07</td>\n",
       "    </tr>\n",
       "    <tr>\n",
       "      <td>11</td>\n",
       "      <td>Dragon Boat Festival Giveaway</td>\n",
       "      <td>APAC</td>\n",
       "      <td>2020-06-25</td>\n",
       "      <td>2020-07-01</td>\n",
       "    </tr>\n",
       "    <tr>\n",
       "      <td>12</td>\n",
       "      <td>Single's Day Gift Promo</td>\n",
       "      <td>APAC</td>\n",
       "      <td>2020-11-11</td>\n",
       "      <td>2020-11-12</td>\n",
       "    </tr>\n",
       "    <tr>\n",
       "      <td>13</td>\n",
       "      <td>Chinese Moon Festival</td>\n",
       "      <td>APAC</td>\n",
       "      <td>2020-10-01</td>\n",
       "      <td>2020-10-07</td>\n",
       "    </tr>\n",
       "  </tbody>\n",
       "</table>\n",
       "</div>"
      ],
      "text/plain": [
       "                                name                   regions    start_dt  \\\n",
       "0           Christmas&New Year Promo             EU, N.America  2020-12-25   \n",
       "1       St. Valentine's Day Giveaway  EU, CIS, APAC, N.America  2020-02-14   \n",
       "2             St. Patric's Day Promo             EU, N.America  2020-03-17   \n",
       "3                       Easter Promo  EU, CIS, APAC, N.America  2020-04-12   \n",
       "4                  4th of July Promo                 N.America  2020-07-04   \n",
       "5          Black Friday Ads Campaign  EU, CIS, APAC, N.America  2020-11-26   \n",
       "6             Chinese New Year Promo                      APAC  2020-01-25   \n",
       "7   Labor day (May 1st) Ads Campaign             EU, CIS, APAC  2020-05-01   \n",
       "8    International Women's Day Promo             EU, CIS, APAC  2020-03-08   \n",
       "9    Victory Day CIS (May 9th) Event                       CIS  2020-05-09   \n",
       "10         CIS New Year Gift Lottery                       CIS  2020-12-30   \n",
       "11     Dragon Boat Festival Giveaway                      APAC  2020-06-25   \n",
       "12           Single's Day Gift Promo                      APAC  2020-11-11   \n",
       "13             Chinese Moon Festival                      APAC  2020-10-01   \n",
       "\n",
       "     finish_dt  \n",
       "0   2021-01-03  \n",
       "1   2020-02-16  \n",
       "2   2020-03-19  \n",
       "3   2020-04-19  \n",
       "4   2020-07-11  \n",
       "5   2020-12-01  \n",
       "6   2020-02-07  \n",
       "7   2020-05-03  \n",
       "8   2020-03-10  \n",
       "9   2020-05-11  \n",
       "10  2021-01-07  \n",
       "11  2020-07-01  \n",
       "12  2020-11-12  \n",
       "13  2020-10-07  "
      ]
     },
     "metadata": {},
     "output_type": "display_data"
    },
    {
     "name": "stdout",
     "output_type": "stream",
     "text": [
      "New users update\n"
     ]
    },
    {
     "data": {
      "text/html": [
       "<div>\n",
       "<style scoped>\n",
       "    .dataframe tbody tr th:only-of-type {\n",
       "        vertical-align: middle;\n",
       "    }\n",
       "\n",
       "    .dataframe tbody tr th {\n",
       "        vertical-align: top;\n",
       "    }\n",
       "\n",
       "    .dataframe thead th {\n",
       "        text-align: right;\n",
       "    }\n",
       "</style>\n",
       "<table border=\"1\" class=\"dataframe\">\n",
       "  <thead>\n",
       "    <tr style=\"text-align: right;\">\n",
       "      <th></th>\n",
       "      <th>user_id</th>\n",
       "      <th>first_date</th>\n",
       "      <th>region</th>\n",
       "      <th>device</th>\n",
       "    </tr>\n",
       "  </thead>\n",
       "  <tbody>\n",
       "    <tr>\n",
       "      <td>0</td>\n",
       "      <td>D72A72121175D8BE</td>\n",
       "      <td>2020-12-07</td>\n",
       "      <td>EU</td>\n",
       "      <td>PC</td>\n",
       "    </tr>\n",
       "    <tr>\n",
       "      <td>1</td>\n",
       "      <td>F1C668619DFE6E65</td>\n",
       "      <td>2020-12-07</td>\n",
       "      <td>N.America</td>\n",
       "      <td>Android</td>\n",
       "    </tr>\n",
       "    <tr>\n",
       "      <td>2</td>\n",
       "      <td>2E1BF1D4C37EA01F</td>\n",
       "      <td>2020-12-07</td>\n",
       "      <td>EU</td>\n",
       "      <td>PC</td>\n",
       "    </tr>\n",
       "    <tr>\n",
       "      <td>3</td>\n",
       "      <td>50734A22C0C63768</td>\n",
       "      <td>2020-12-07</td>\n",
       "      <td>EU</td>\n",
       "      <td>iPhone</td>\n",
       "    </tr>\n",
       "    <tr>\n",
       "      <td>4</td>\n",
       "      <td>E1BDDCE0DAFA2679</td>\n",
       "      <td>2020-12-07</td>\n",
       "      <td>N.America</td>\n",
       "      <td>iPhone</td>\n",
       "    </tr>\n",
       "    <tr>\n",
       "      <td>...</td>\n",
       "      <td>...</td>\n",
       "      <td>...</td>\n",
       "      <td>...</td>\n",
       "      <td>...</td>\n",
       "    </tr>\n",
       "    <tr>\n",
       "      <td>58698</td>\n",
       "      <td>1DB53B933257165D</td>\n",
       "      <td>2020-12-20</td>\n",
       "      <td>EU</td>\n",
       "      <td>Android</td>\n",
       "    </tr>\n",
       "    <tr>\n",
       "      <td>58699</td>\n",
       "      <td>538643EB4527ED03</td>\n",
       "      <td>2020-12-20</td>\n",
       "      <td>EU</td>\n",
       "      <td>Mac</td>\n",
       "    </tr>\n",
       "    <tr>\n",
       "      <td>58700</td>\n",
       "      <td>7ADEE837D5D8CBBD</td>\n",
       "      <td>2020-12-20</td>\n",
       "      <td>EU</td>\n",
       "      <td>PC</td>\n",
       "    </tr>\n",
       "    <tr>\n",
       "      <td>58701</td>\n",
       "      <td>1C7D23927835213F</td>\n",
       "      <td>2020-12-20</td>\n",
       "      <td>EU</td>\n",
       "      <td>iPhone</td>\n",
       "    </tr>\n",
       "    <tr>\n",
       "      <td>58702</td>\n",
       "      <td>8F04273BB2860229</td>\n",
       "      <td>2020-12-20</td>\n",
       "      <td>EU</td>\n",
       "      <td>Android</td>\n",
       "    </tr>\n",
       "  </tbody>\n",
       "</table>\n",
       "<p>58703 rows × 4 columns</p>\n",
       "</div>"
      ],
      "text/plain": [
       "                user_id  first_date     region   device\n",
       "0      D72A72121175D8BE  2020-12-07         EU       PC\n",
       "1      F1C668619DFE6E65  2020-12-07  N.America  Android\n",
       "2      2E1BF1D4C37EA01F  2020-12-07         EU       PC\n",
       "3      50734A22C0C63768  2020-12-07         EU   iPhone\n",
       "4      E1BDDCE0DAFA2679  2020-12-07  N.America   iPhone\n",
       "...                 ...         ...        ...      ...\n",
       "58698  1DB53B933257165D  2020-12-20         EU  Android\n",
       "58699  538643EB4527ED03  2020-12-20         EU      Mac\n",
       "58700  7ADEE837D5D8CBBD  2020-12-20         EU       PC\n",
       "58701  1C7D23927835213F  2020-12-20         EU   iPhone\n",
       "58702  8F04273BB2860229  2020-12-20         EU  Android\n",
       "\n",
       "[58703 rows x 4 columns]"
      ]
     },
     "metadata": {},
     "output_type": "display_data"
    },
    {
     "name": "stdout",
     "output_type": "stream",
     "text": [
      "Events update\n"
     ]
    },
    {
     "data": {
      "text/html": [
       "<div>\n",
       "<style scoped>\n",
       "    .dataframe tbody tr th:only-of-type {\n",
       "        vertical-align: middle;\n",
       "    }\n",
       "\n",
       "    .dataframe tbody tr th {\n",
       "        vertical-align: top;\n",
       "    }\n",
       "\n",
       "    .dataframe thead th {\n",
       "        text-align: right;\n",
       "    }\n",
       "</style>\n",
       "<table border=\"1\" class=\"dataframe\">\n",
       "  <thead>\n",
       "    <tr style=\"text-align: right;\">\n",
       "      <th></th>\n",
       "      <th>user_id</th>\n",
       "      <th>event_dt</th>\n",
       "      <th>event_name</th>\n",
       "      <th>details</th>\n",
       "    </tr>\n",
       "  </thead>\n",
       "  <tbody>\n",
       "    <tr>\n",
       "      <td>0</td>\n",
       "      <td>E1BDDCE0DAFA2679</td>\n",
       "      <td>2020-12-07 20:22:03</td>\n",
       "      <td>purchase</td>\n",
       "      <td>99.99</td>\n",
       "    </tr>\n",
       "    <tr>\n",
       "      <td>1</td>\n",
       "      <td>7B6452F081F49504</td>\n",
       "      <td>2020-12-07 09:22:53</td>\n",
       "      <td>purchase</td>\n",
       "      <td>9.99</td>\n",
       "    </tr>\n",
       "    <tr>\n",
       "      <td>2</td>\n",
       "      <td>9CD9F34546DF254C</td>\n",
       "      <td>2020-12-07 12:59:29</td>\n",
       "      <td>purchase</td>\n",
       "      <td>4.99</td>\n",
       "    </tr>\n",
       "    <tr>\n",
       "      <td>3</td>\n",
       "      <td>96F27A054B191457</td>\n",
       "      <td>2020-12-07 04:02:40</td>\n",
       "      <td>purchase</td>\n",
       "      <td>4.99</td>\n",
       "    </tr>\n",
       "    <tr>\n",
       "      <td>4</td>\n",
       "      <td>1FD7660FDF94CA1F</td>\n",
       "      <td>2020-12-07 10:15:09</td>\n",
       "      <td>purchase</td>\n",
       "      <td>4.99</td>\n",
       "    </tr>\n",
       "    <tr>\n",
       "      <td>...</td>\n",
       "      <td>...</td>\n",
       "      <td>...</td>\n",
       "      <td>...</td>\n",
       "      <td>...</td>\n",
       "    </tr>\n",
       "    <tr>\n",
       "      <td>423756</td>\n",
       "      <td>245E85F65C358E08</td>\n",
       "      <td>2020-12-30 19:35:55</td>\n",
       "      <td>login</td>\n",
       "      <td>NaN</td>\n",
       "    </tr>\n",
       "    <tr>\n",
       "      <td>423757</td>\n",
       "      <td>9385A108F5A0A7A7</td>\n",
       "      <td>2020-12-30 10:54:15</td>\n",
       "      <td>login</td>\n",
       "      <td>NaN</td>\n",
       "    </tr>\n",
       "    <tr>\n",
       "      <td>423758</td>\n",
       "      <td>DB650B7559AC6EAC</td>\n",
       "      <td>2020-12-30 10:59:09</td>\n",
       "      <td>login</td>\n",
       "      <td>NaN</td>\n",
       "    </tr>\n",
       "    <tr>\n",
       "      <td>423759</td>\n",
       "      <td>F80C9BDDEA02E53C</td>\n",
       "      <td>2020-12-30 09:53:39</td>\n",
       "      <td>login</td>\n",
       "      <td>NaN</td>\n",
       "    </tr>\n",
       "    <tr>\n",
       "      <td>423760</td>\n",
       "      <td>7AEC61159B672CC5</td>\n",
       "      <td>2020-12-30 11:36:13</td>\n",
       "      <td>login</td>\n",
       "      <td>NaN</td>\n",
       "    </tr>\n",
       "  </tbody>\n",
       "</table>\n",
       "<p>423761 rows × 4 columns</p>\n",
       "</div>"
      ],
      "text/plain": [
       "                 user_id             event_dt event_name  details\n",
       "0       E1BDDCE0DAFA2679  2020-12-07 20:22:03   purchase    99.99\n",
       "1       7B6452F081F49504  2020-12-07 09:22:53   purchase     9.99\n",
       "2       9CD9F34546DF254C  2020-12-07 12:59:29   purchase     4.99\n",
       "3       96F27A054B191457  2020-12-07 04:02:40   purchase     4.99\n",
       "4       1FD7660FDF94CA1F  2020-12-07 10:15:09   purchase     4.99\n",
       "...                  ...                  ...        ...      ...\n",
       "423756  245E85F65C358E08  2020-12-30 19:35:55      login      NaN\n",
       "423757  9385A108F5A0A7A7  2020-12-30 10:54:15      login      NaN\n",
       "423758  DB650B7559AC6EAC  2020-12-30 10:59:09      login      NaN\n",
       "423759  F80C9BDDEA02E53C  2020-12-30 09:53:39      login      NaN\n",
       "423760  7AEC61159B672CC5  2020-12-30 11:36:13      login      NaN\n",
       "\n",
       "[423761 rows x 4 columns]"
      ]
     },
     "metadata": {},
     "output_type": "display_data"
    },
    {
     "name": "stdout",
     "output_type": "stream",
     "text": [
      "Participants update\n"
     ]
    },
    {
     "data": {
      "text/html": [
       "<div>\n",
       "<style scoped>\n",
       "    .dataframe tbody tr th:only-of-type {\n",
       "        vertical-align: middle;\n",
       "    }\n",
       "\n",
       "    .dataframe tbody tr th {\n",
       "        vertical-align: top;\n",
       "    }\n",
       "\n",
       "    .dataframe thead th {\n",
       "        text-align: right;\n",
       "    }\n",
       "</style>\n",
       "<table border=\"1\" class=\"dataframe\">\n",
       "  <thead>\n",
       "    <tr style=\"text-align: right;\">\n",
       "      <th></th>\n",
       "      <th>user_id</th>\n",
       "      <th>group</th>\n",
       "      <th>ab_test</th>\n",
       "    </tr>\n",
       "  </thead>\n",
       "  <tbody>\n",
       "    <tr>\n",
       "      <td>0</td>\n",
       "      <td>D1ABA3E2887B6A73</td>\n",
       "      <td>A</td>\n",
       "      <td>recommender_system_test</td>\n",
       "    </tr>\n",
       "    <tr>\n",
       "      <td>1</td>\n",
       "      <td>A7A3664BD6242119</td>\n",
       "      <td>A</td>\n",
       "      <td>recommender_system_test</td>\n",
       "    </tr>\n",
       "    <tr>\n",
       "      <td>2</td>\n",
       "      <td>DABC14FDDFADD29E</td>\n",
       "      <td>A</td>\n",
       "      <td>recommender_system_test</td>\n",
       "    </tr>\n",
       "    <tr>\n",
       "      <td>3</td>\n",
       "      <td>04988C5DF189632E</td>\n",
       "      <td>A</td>\n",
       "      <td>recommender_system_test</td>\n",
       "    </tr>\n",
       "    <tr>\n",
       "      <td>4</td>\n",
       "      <td>4FF2998A348C484F</td>\n",
       "      <td>A</td>\n",
       "      <td>recommender_system_test</td>\n",
       "    </tr>\n",
       "    <tr>\n",
       "      <td>...</td>\n",
       "      <td>...</td>\n",
       "      <td>...</td>\n",
       "      <td>...</td>\n",
       "    </tr>\n",
       "    <tr>\n",
       "      <td>14520</td>\n",
       "      <td>1D302F8688B91781</td>\n",
       "      <td>B</td>\n",
       "      <td>interface_eu_test</td>\n",
       "    </tr>\n",
       "    <tr>\n",
       "      <td>14521</td>\n",
       "      <td>3DE51B726983B657</td>\n",
       "      <td>A</td>\n",
       "      <td>interface_eu_test</td>\n",
       "    </tr>\n",
       "    <tr>\n",
       "      <td>14522</td>\n",
       "      <td>F501F79D332BE86C</td>\n",
       "      <td>A</td>\n",
       "      <td>interface_eu_test</td>\n",
       "    </tr>\n",
       "    <tr>\n",
       "      <td>14523</td>\n",
       "      <td>63FBE257B05F2245</td>\n",
       "      <td>A</td>\n",
       "      <td>interface_eu_test</td>\n",
       "    </tr>\n",
       "    <tr>\n",
       "      <td>14524</td>\n",
       "      <td>79F9ABFB029CF724</td>\n",
       "      <td>B</td>\n",
       "      <td>interface_eu_test</td>\n",
       "    </tr>\n",
       "  </tbody>\n",
       "</table>\n",
       "<p>14525 rows × 3 columns</p>\n",
       "</div>"
      ],
      "text/plain": [
       "                user_id group                  ab_test\n",
       "0      D1ABA3E2887B6A73     A  recommender_system_test\n",
       "1      A7A3664BD6242119     A  recommender_system_test\n",
       "2      DABC14FDDFADD29E     A  recommender_system_test\n",
       "3      04988C5DF189632E     A  recommender_system_test\n",
       "4      4FF2998A348C484F     A  recommender_system_test\n",
       "...                 ...   ...                      ...\n",
       "14520  1D302F8688B91781     B        interface_eu_test\n",
       "14521  3DE51B726983B657     A        interface_eu_test\n",
       "14522  F501F79D332BE86C     A        interface_eu_test\n",
       "14523  63FBE257B05F2245     A        interface_eu_test\n",
       "14524  79F9ABFB029CF724     B        interface_eu_test\n",
       "\n",
       "[14525 rows x 3 columns]"
      ]
     },
     "metadata": {},
     "output_type": "display_data"
    }
   ],
   "source": [
    "print('Project marketing events')\n",
    "display(marketing_events)\n",
    "print('New users update')\n",
    "display(users_upd)\n",
    "print('Events update')\n",
    "display(events_upd)\n",
    "print('Participants update')\n",
    "display(participants_upd)"
   ]
  },
  {
   "cell_type": "code",
   "execution_count": 20,
   "metadata": {
    "scrolled": true
   },
   "outputs": [
    {
     "name": "stdout",
     "output_type": "stream",
     "text": [
      "<class 'pandas.core.frame.DataFrame'>\n",
      "RangeIndex: 14 entries, 0 to 13\n",
      "Data columns (total 4 columns):\n",
      "name         14 non-null object\n",
      "regions      14 non-null object\n",
      "start_dt     14 non-null object\n",
      "finish_dt    14 non-null object\n",
      "dtypes: object(4)\n",
      "memory usage: 576.0+ bytes\n"
     ]
    },
    {
     "data": {
      "text/plain": [
       "None"
      ]
     },
     "metadata": {},
     "output_type": "display_data"
    },
    {
     "name": "stdout",
     "output_type": "stream",
     "text": [
      "<class 'pandas.core.frame.DataFrame'>\n",
      "RangeIndex: 58703 entries, 0 to 58702\n",
      "Data columns (total 4 columns):\n",
      "user_id       58703 non-null object\n",
      "first_date    58703 non-null object\n",
      "region        58703 non-null object\n",
      "device        58703 non-null object\n",
      "dtypes: object(4)\n",
      "memory usage: 1.8+ MB\n"
     ]
    },
    {
     "data": {
      "text/plain": [
       "None"
      ]
     },
     "metadata": {},
     "output_type": "display_data"
    },
    {
     "name": "stdout",
     "output_type": "stream",
     "text": [
      "<class 'pandas.core.frame.DataFrame'>\n",
      "RangeIndex: 423761 entries, 0 to 423760\n",
      "Data columns (total 4 columns):\n",
      "user_id       423761 non-null object\n",
      "event_dt      423761 non-null object\n",
      "event_name    423761 non-null object\n",
      "details       60314 non-null float64\n",
      "dtypes: float64(1), object(3)\n",
      "memory usage: 12.9+ MB\n"
     ]
    },
    {
     "data": {
      "text/plain": [
       "None"
      ]
     },
     "metadata": {},
     "output_type": "display_data"
    },
    {
     "name": "stdout",
     "output_type": "stream",
     "text": [
      "<class 'pandas.core.frame.DataFrame'>\n",
      "RangeIndex: 14525 entries, 0 to 14524\n",
      "Data columns (total 3 columns):\n",
      "user_id    14525 non-null object\n",
      "group      14525 non-null object\n",
      "ab_test    14525 non-null object\n",
      "dtypes: object(3)\n",
      "memory usage: 340.6+ KB\n"
     ]
    },
    {
     "data": {
      "text/plain": [
       "None"
      ]
     },
     "metadata": {},
     "output_type": "display_data"
    }
   ],
   "source": [
    "display(marketing_events.info())\n",
    "display(users_upd.info())\n",
    "display(events_upd.info())\n",
    "display(participants_upd.info())"
   ]
  },
  {
   "cell_type": "markdown",
   "metadata": {},
   "source": [
    "Changing dates to the right datatype. From object to datetime."
   ]
  },
  {
   "cell_type": "code",
   "execution_count": 21,
   "metadata": {},
   "outputs": [],
   "source": [
    "marketing_events['start_dt'] = pd.to_datetime(marketing_events['start_dt'])\n",
    "marketing_events['finish_dt'] = pd.to_datetime(marketing_events['finish_dt'])\n",
    "\n",
    "users_upd ['first_date'] = pd.to_datetime(users_upd['first_date'])\n",
    "\n",
    "events_upd ['event_dt'] = pd.to_datetime(events_upd['event_dt'])\n"
   ]
  },
  {
   "cell_type": "code",
   "execution_count": 22,
   "metadata": {},
   "outputs": [
    {
     "name": "stdout",
     "output_type": "stream",
     "text": [
      "<class 'pandas.core.frame.DataFrame'>\n",
      "RangeIndex: 14 entries, 0 to 13\n",
      "Data columns (total 4 columns):\n",
      "name         14 non-null object\n",
      "regions      14 non-null object\n",
      "start_dt     14 non-null datetime64[ns]\n",
      "finish_dt    14 non-null datetime64[ns]\n",
      "dtypes: datetime64[ns](2), object(2)\n",
      "memory usage: 576.0+ bytes\n"
     ]
    },
    {
     "data": {
      "text/plain": [
       "None"
      ]
     },
     "metadata": {},
     "output_type": "display_data"
    },
    {
     "name": "stdout",
     "output_type": "stream",
     "text": [
      "<class 'pandas.core.frame.DataFrame'>\n",
      "RangeIndex: 58703 entries, 0 to 58702\n",
      "Data columns (total 4 columns):\n",
      "user_id       58703 non-null object\n",
      "first_date    58703 non-null datetime64[ns]\n",
      "region        58703 non-null object\n",
      "device        58703 non-null object\n",
      "dtypes: datetime64[ns](1), object(3)\n",
      "memory usage: 1.8+ MB\n"
     ]
    },
    {
     "data": {
      "text/plain": [
       "None"
      ]
     },
     "metadata": {},
     "output_type": "display_data"
    },
    {
     "name": "stdout",
     "output_type": "stream",
     "text": [
      "<class 'pandas.core.frame.DataFrame'>\n",
      "RangeIndex: 423761 entries, 0 to 423760\n",
      "Data columns (total 4 columns):\n",
      "user_id       423761 non-null object\n",
      "event_dt      423761 non-null datetime64[ns]\n",
      "event_name    423761 non-null object\n",
      "details       60314 non-null float64\n",
      "dtypes: datetime64[ns](1), float64(1), object(2)\n",
      "memory usage: 12.9+ MB\n"
     ]
    },
    {
     "data": {
      "text/plain": [
       "None"
      ]
     },
     "metadata": {},
     "output_type": "display_data"
    },
    {
     "name": "stdout",
     "output_type": "stream",
     "text": [
      "<class 'pandas.core.frame.DataFrame'>\n",
      "RangeIndex: 14525 entries, 0 to 14524\n",
      "Data columns (total 3 columns):\n",
      "user_id    14525 non-null object\n",
      "group      14525 non-null object\n",
      "ab_test    14525 non-null object\n",
      "dtypes: object(3)\n",
      "memory usage: 340.6+ KB\n"
     ]
    },
    {
     "data": {
      "text/plain": [
       "None"
      ]
     },
     "metadata": {},
     "output_type": "display_data"
    }
   ],
   "source": [
    "display(marketing_events.info())\n",
    "display(users_upd.info())\n",
    "display(events_upd.info())\n",
    "display(participants_upd.info())"
   ]
  },
  {
   "cell_type": "code",
   "execution_count": 23,
   "metadata": {},
   "outputs": [
    {
     "data": {
      "text/plain": [
       "name         0\n",
       "regions      0\n",
       "start_dt     0\n",
       "finish_dt    0\n",
       "dtype: int64"
      ]
     },
     "metadata": {},
     "output_type": "display_data"
    },
    {
     "data": {
      "text/plain": [
       "0"
      ]
     },
     "metadata": {},
     "output_type": "display_data"
    },
    {
     "data": {
      "text/plain": [
       "user_id       0\n",
       "first_date    0\n",
       "region        0\n",
       "device        0\n",
       "dtype: int64"
      ]
     },
     "metadata": {},
     "output_type": "display_data"
    },
    {
     "data": {
      "text/plain": [
       "0"
      ]
     },
     "metadata": {},
     "output_type": "display_data"
    },
    {
     "data": {
      "text/plain": [
       "user_id            0\n",
       "event_dt           0\n",
       "event_name         0\n",
       "details       363447\n",
       "dtype: int64"
      ]
     },
     "metadata": {},
     "output_type": "display_data"
    },
    {
     "data": {
      "text/plain": [
       "0"
      ]
     },
     "metadata": {},
     "output_type": "display_data"
    },
    {
     "data": {
      "text/plain": [
       "user_id    0\n",
       "group      0\n",
       "ab_test    0\n",
       "dtype: int64"
      ]
     },
     "metadata": {},
     "output_type": "display_data"
    },
    {
     "data": {
      "text/plain": [
       "0"
      ]
     },
     "metadata": {},
     "output_type": "display_data"
    }
   ],
   "source": [
    "display(marketing_events.isnull().sum())\n",
    "display(marketing_events.duplicated().sum())\n",
    "\n",
    "display(users_upd.isnull().sum())\n",
    "display(users_upd.duplicated().sum())\n",
    "\n",
    "display(events_upd.isnull().sum())\n",
    "display(events_upd.duplicated().sum())\n",
    "\n",
    "display(participants_upd.isnull().sum())\n",
    "display(participants_upd.duplicated().sum())"
   ]
  },
  {
   "cell_type": "code",
   "execution_count": 24,
   "metadata": {},
   "outputs": [
    {
     "data": {
      "text/plain": [
       "user_id       0\n",
       "event_dt      0\n",
       "event_name    0\n",
       "details       0\n",
       "dtype: int64"
      ]
     },
     "execution_count": 24,
     "metadata": {},
     "output_type": "execute_result"
    }
   ],
   "source": [
    "events_upd = events_upd.fillna(0)\n",
    "events_upd.isnull().sum()"
   ]
  },
  {
   "cell_type": "markdown",
   "metadata": {},
   "source": [
    "There were missing values in details column and since that is a column with optional informations that are not affecting the dataset, I just filled the missing values with 0. "
   ]
  },
  {
   "cell_type": "markdown",
   "metadata": {},
   "source": [
    "#### Study conversion at different funnel stages"
   ]
  },
  {
   "cell_type": "code",
   "execution_count": 25,
   "metadata": {
    "scrolled": true
   },
   "outputs": [
    {
     "name": "stdout",
     "output_type": "stream",
     "text": [
      "event_name    ab_test                \n",
      "login         interface_eu_test          33868\n",
      "              recommender_system_test    10837\n",
      "product_cart  interface_eu_test          11158\n",
      "              recommender_system_test     3160\n",
      "product_page  interface_eu_test          22259\n",
      "              recommender_system_test     6702\n",
      "purchase      interface_eu_test          11644\n",
      "              recommender_system_test     3210\n",
      "Name: user_id, dtype: int64\n",
      "Interface_eu_test\n",
      "product page 65.7%\n",
      "product cart 32.9%\n",
      "purchase  34.4%\n",
      "Recommender_system_test\n",
      "product page 61.8%\n",
      "product cart 29.2%\n",
      "purchase  29.6%\n"
     ]
    }
   ],
   "source": [
    "conv_by_tests = events_upd.merge(participants_upd, on='user_id')\n",
    "\n",
    "event2 = conv_by_tests.groupby(['event_name','ab_test'])['user_id'].count()\n",
    "print(event2)\n",
    "print('Interface_eu_test')\n",
    "conversion_page1 = event2[4] / event2[0]\n",
    "print('product page','{:.1%}'.format(conversion_page1))\n",
    "conversion_cart1 = event2[2] / event2[0]\n",
    "print('product cart','{:.1%}'.format(conversion_cart1))\n",
    "conversion_purchase1 = event2[6] / event2[0]\n",
    "print('purchase ','{:.1%}'.format(conversion_purchase1))\n",
    "\n",
    "print('Recommender_system_test')\n",
    "conversion_page2 = event2[5] / event2[1]\n",
    "print('product page','{:.1%}'.format(conversion_page2))\n",
    "conversion_cart2 = event2[3] / event2[1]\n",
    "print('product cart','{:.1%}'.format(conversion_cart2))\n",
    "conversion_purchase2 = event2[7] / event2[1]\n",
    "print('purchase ','{:.1%}'.format(conversion_purchase2))"
   ]
  },
  {
   "cell_type": "markdown",
   "metadata": {},
   "source": [
    "#### Is the number of events per user distributed equally in the samples?\n"
   ]
  },
  {
   "cell_type": "code",
   "execution_count": 26,
   "metadata": {},
   "outputs": [
    {
     "data": {
      "text/plain": [
       "ab_test\n",
       "interface_eu_test          78929\n",
       "recommender_system_test    23909\n",
       "Name: event_name, dtype: int64"
      ]
     },
     "metadata": {},
     "output_type": "display_data"
    },
    {
     "data": {
      "text/plain": [
       "user_id           ab_test                  group\n",
       "0002CE61FF2C4011  interface_eu_test        A        12\n",
       "001064FEAAB631A1  interface_eu_test        B         6\n",
       "                  recommender_system_test  B         6\n",
       "0010A1C096941592  recommender_system_test  A        12\n",
       "001E72F50D1C48FA  interface_eu_test        B         6\n",
       "002412F1EB3F6E38  interface_eu_test        A         6\n",
       "002540BE89C930FB  interface_eu_test        A         9\n",
       "0031F1B5E9FBF708  interface_eu_test        B         4\n",
       "003346BB64227D0C  interface_eu_test        A         3\n",
       "00341D8401F0F665  interface_eu_test        A         2\n",
       "                  recommender_system_test  A         2\n",
       "0036BE15EE4D319D  interface_eu_test        B         2\n",
       "003DF44D7589BBD4  recommender_system_test  A        15\n",
       "003F86A34B575D27  interface_eu_test        B         4\n",
       "004C58ADE7CA8C4A  interface_eu_test        A         6\n",
       "Name: event_name, dtype: int64"
      ]
     },
     "execution_count": 26,
     "metadata": {},
     "output_type": "execute_result"
    }
   ],
   "source": [
    "merged_datas = events_upd.merge(participants_upd, on = 'user_id')\n",
    "merged_data = merged_datas.merge(users_upd, on = 'user_id')\n",
    "\n",
    "display(merged_data.groupby(['ab_test'])['event_name'].count())\n",
    "merged_data.groupby(['user_id','ab_test','group'])['event_name'].count().head(15)"
   ]
  },
  {
   "cell_type": "markdown",
   "metadata": {},
   "source": [
    "Yes, there are differences between the number of events of the users since there could be from 1 to 15 events for one user but this could be considered normal.So, the values look normal. "
   ]
  },
  {
   "cell_type": "markdown",
   "metadata": {},
   "source": [
    "#### Are there users who enter both samples?"
   ]
  },
  {
   "cell_type": "code",
   "execution_count": 27,
   "metadata": {},
   "outputs": [
    {
     "name": "stdout",
     "output_type": "stream",
     "text": [
      "                  ab_test\n",
      "user_id                  \n",
      "001064FEAAB631A1        2\n",
      "00341D8401F0F665        2\n",
      "0082295A41A867B5        2\n",
      "00E68F103C66C1F7        2\n",
      "00EFA157F7B6E1C4        2\n",
      "...                   ...\n",
      "FEA0C585A53E7027        2\n",
      "FEC0BCA6C323872F        2\n",
      "FF2174A1AA0EAD20        2\n",
      "FF44696E39039D29        2\n",
      "FFF28D02B1EACBE1        2\n",
      "\n",
      "[887 rows x 1 columns]\n"
     ]
    },
    {
     "data": {
      "text/plain": [
       "[A]       7433\n",
       "[B]       5764\n",
       "[B, A]       1\n",
       "[A, B]       1\n",
       "[A, B]       1\n",
       "          ... \n",
       "[B, A]       1\n",
       "[B, A]       1\n",
       "[A, B]       1\n",
       "[A, B]       1\n",
       "[A, B]       1\n",
       "Name: group, Length: 443, dtype: int64"
      ]
     },
     "metadata": {},
     "output_type": "display_data"
    },
    {
     "data": {
      "text/plain": [
       "[A]    5467\n",
       "[B]    5383\n",
       "Name: group, dtype: int64"
      ]
     },
     "metadata": {},
     "output_type": "display_data"
    },
    {
     "data": {
      "text/plain": [
       "[A]    2747\n",
       "[B]     928\n",
       "Name: group, dtype: int64"
      ]
     },
     "metadata": {},
     "output_type": "display_data"
    }
   ],
   "source": [
    "\n",
    "both = participants_upd.pivot_table(index='user_id',values='ab_test', aggfunc='count')\n",
    "print(both[both['ab_test']>1])\n",
    "\n",
    "new =users_upd.merge(participants_upd,on='user_id')\n",
    "final_merge = events_upd.merge(participants_upd, on='user_id')\n",
    "newDate = final_merge[final_merge['ab_test']=='interface_eu_test']\n",
    "newDate2 =final_merge[final_merge['ab_test']=='recommender_system_test']\n",
    "a =new.groupby(['user_id']).agg({'group':'unique'})\n",
    "b =newDate.groupby(['user_id']).agg({'group':'unique'})\n",
    "c =newDate2.groupby(['user_id']).agg({'group':'unique'})\n",
    "\n",
    "display(a['group'].value_counts())\n",
    "display(b['group'].value_counts())\n",
    "display(c['group'].value_counts())"
   ]
  },
  {
   "cell_type": "markdown",
   "metadata": {},
   "source": [
    "Yes, some users are part of both tests but not part of both groups for the same test."
   ]
  },
  {
   "cell_type": "markdown",
   "metadata": {},
   "source": [
    "#### How is the number of events distributed by days?"
   ]
  },
  {
   "cell_type": "code",
   "execution_count": 28,
   "metadata": {},
   "outputs": [
    {
     "data": {
      "text/html": [
       "<div>\n",
       "<style scoped>\n",
       "    .dataframe tbody tr th:only-of-type {\n",
       "        vertical-align: middle;\n",
       "    }\n",
       "\n",
       "    .dataframe tbody tr th {\n",
       "        vertical-align: top;\n",
       "    }\n",
       "\n",
       "    .dataframe thead th {\n",
       "        text-align: right;\n",
       "    }\n",
       "</style>\n",
       "<table border=\"1\" class=\"dataframe\">\n",
       "  <thead>\n",
       "    <tr style=\"text-align: right;\">\n",
       "      <th>ab_test</th>\n",
       "      <th>interface_eu_test</th>\n",
       "      <th>recommender_system_test</th>\n",
       "    </tr>\n",
       "    <tr>\n",
       "      <th>event_day</th>\n",
       "      <th></th>\n",
       "      <th></th>\n",
       "    </tr>\n",
       "  </thead>\n",
       "  <tbody>\n",
       "    <tr>\n",
       "      <td>7</td>\n",
       "      <td>2068</td>\n",
       "      <td>709</td>\n",
       "    </tr>\n",
       "    <tr>\n",
       "      <td>8</td>\n",
       "      <td>2311</td>\n",
       "      <td>593</td>\n",
       "    </tr>\n",
       "    <tr>\n",
       "      <td>9</td>\n",
       "      <td>2333</td>\n",
       "      <td>746</td>\n",
       "    </tr>\n",
       "    <tr>\n",
       "      <td>10</td>\n",
       "      <td>2551</td>\n",
       "      <td>613</td>\n",
       "    </tr>\n",
       "    <tr>\n",
       "      <td>11</td>\n",
       "      <td>2603</td>\n",
       "      <td>542</td>\n",
       "    </tr>\n",
       "    <tr>\n",
       "      <td>12</td>\n",
       "      <td>3482</td>\n",
       "      <td>558</td>\n",
       "    </tr>\n",
       "    <tr>\n",
       "      <td>13</td>\n",
       "      <td>3974</td>\n",
       "      <td>504</td>\n",
       "    </tr>\n",
       "    <tr>\n",
       "      <td>14</td>\n",
       "      <td>4783</td>\n",
       "      <td>1355</td>\n",
       "    </tr>\n",
       "    <tr>\n",
       "      <td>15</td>\n",
       "      <td>4333</td>\n",
       "      <td>1316</td>\n",
       "    </tr>\n",
       "    <tr>\n",
       "      <td>16</td>\n",
       "      <td>4016</td>\n",
       "      <td>1454</td>\n",
       "    </tr>\n",
       "    <tr>\n",
       "      <td>17</td>\n",
       "      <td>4115</td>\n",
       "      <td>1548</td>\n",
       "    </tr>\n",
       "    <tr>\n",
       "      <td>18</td>\n",
       "      <td>4219</td>\n",
       "      <td>1584</td>\n",
       "    </tr>\n",
       "    <tr>\n",
       "      <td>19</td>\n",
       "      <td>4360</td>\n",
       "      <td>1810</td>\n",
       "    </tr>\n",
       "    <tr>\n",
       "      <td>20</td>\n",
       "      <td>4828</td>\n",
       "      <td>1848</td>\n",
       "    </tr>\n",
       "    <tr>\n",
       "      <td>21</td>\n",
       "      <td>6070</td>\n",
       "      <td>2441</td>\n",
       "    </tr>\n",
       "    <tr>\n",
       "      <td>22</td>\n",
       "      <td>5352</td>\n",
       "      <td>1506</td>\n",
       "    </tr>\n",
       "    <tr>\n",
       "      <td>23</td>\n",
       "      <td>4907</td>\n",
       "      <td>1201</td>\n",
       "    </tr>\n",
       "    <tr>\n",
       "      <td>24</td>\n",
       "      <td>3690</td>\n",
       "      <td>1042</td>\n",
       "    </tr>\n",
       "    <tr>\n",
       "      <td>26</td>\n",
       "      <td>2633</td>\n",
       "      <td>733</td>\n",
       "    </tr>\n",
       "    <tr>\n",
       "      <td>27</td>\n",
       "      <td>2396</td>\n",
       "      <td>691</td>\n",
       "    </tr>\n",
       "    <tr>\n",
       "      <td>28</td>\n",
       "      <td>2116</td>\n",
       "      <td>603</td>\n",
       "    </tr>\n",
       "    <tr>\n",
       "      <td>29</td>\n",
       "      <td>1773</td>\n",
       "      <td>508</td>\n",
       "    </tr>\n",
       "    <tr>\n",
       "      <td>30</td>\n",
       "      <td>16</td>\n",
       "      <td>4</td>\n",
       "    </tr>\n",
       "  </tbody>\n",
       "</table>\n",
       "</div>"
      ],
      "text/plain": [
       "ab_test    interface_eu_test  recommender_system_test\n",
       "event_day                                            \n",
       "7                       2068                      709\n",
       "8                       2311                      593\n",
       "9                       2333                      746\n",
       "10                      2551                      613\n",
       "11                      2603                      542\n",
       "12                      3482                      558\n",
       "13                      3974                      504\n",
       "14                      4783                     1355\n",
       "15                      4333                     1316\n",
       "16                      4016                     1454\n",
       "17                      4115                     1548\n",
       "18                      4219                     1584\n",
       "19                      4360                     1810\n",
       "20                      4828                     1848\n",
       "21                      6070                     2441\n",
       "22                      5352                     1506\n",
       "23                      4907                     1201\n",
       "24                      3690                     1042\n",
       "26                      2633                      733\n",
       "27                      2396                      691\n",
       "28                      2116                      603\n",
       "29                      1773                      508\n",
       "30                        16                        4"
      ]
     },
     "execution_count": 28,
     "metadata": {},
     "output_type": "execute_result"
    }
   ],
   "source": [
    "merged_data['event_day'] = merged_data['event_dt'].dt.day\n",
    "merged_data.pivot_table(index='event_day',columns='ab_test', values='event_name', aggfunc='count')"
   ]
  },
  {
   "cell_type": "markdown",
   "metadata": {},
   "source": [
    "The values for both tests are increasing untill the 24 day and then are slowly decreasing up to very small values."
   ]
  },
  {
   "cell_type": "markdown",
   "metadata": {},
   "source": [
    "#### Think of the possible details in the data that you have to take into account before starting the A/B test?"
   ]
  },
  {
   "cell_type": "code",
   "execution_count": 29,
   "metadata": {},
   "outputs": [
    {
     "data": {
      "text/plain": [
       "ab_test                  group\n",
       "interface_eu_test        A        5467\n",
       "                         B        5383\n",
       "recommender_system_test  A        2747\n",
       "                         B         928\n",
       "Name: user_id, dtype: int64"
      ]
     },
     "execution_count": 29,
     "metadata": {},
     "output_type": "execute_result"
    }
   ],
   "source": [
    "participants_upd.groupby(['ab_test','group'])['user_id'].nunique()"
   ]
  },
  {
   "cell_type": "markdown",
   "metadata": {},
   "source": [
    "The number of users for the test should be close or equal but that is not the case in the suggested test, the 'recommender_system_test'. Also the number of users for the suggested test is smaller than 6000 ."
   ]
  },
  {
   "cell_type": "code",
   "execution_count": 30,
   "metadata": {},
   "outputs": [
    {
     "data": {
      "text/plain": [
       "ab_test\n",
       "interface_eu_test          1.000000\n",
       "recommender_system_test    0.947211\n",
       "Name: user_id, dtype: float64"
      ]
     },
     "metadata": {},
     "output_type": "display_data"
    }
   ],
   "source": [
    "new =users_upd.merge(participants_upd,on='user_id')\n",
    "\n",
    "new2=new[new['region']=='EU']\n",
    "display(new2.groupby('ab_test')['user_id'].nunique() /new.groupby('ab_test')['user_id'].nunique())\n"
   ]
  },
  {
   "cell_type": "markdown",
   "metadata": {},
   "source": [
    "Another criteria for the 'recommender_system_test' was the audience. It was expected to be 15% users from EU region. But as we see there are much more than 15%.  "
   ]
  },
  {
   "cell_type": "markdown",
   "metadata": {},
   "source": [
    "As a note from the previous analysis we can say that the suggested test didn't match the expected requirements and even though the other test is also not having all the expected results, the number of users is closer for both groups so this won't affect our test. The difference in the number of users for the groups in the suggested test it could be the reason for the wrong results the previous analyst had. So, we are choosing the 'interface_eu_test' for our A/B test."
   ]
  },
  {
   "cell_type": "markdown",
   "metadata": {},
   "source": [
    "#### Use the z-criterion to check the statistical difference between the proportions"
   ]
  },
  {
   "cell_type": "markdown",
   "metadata": {},
   "source": [
    "For this test we have the following hypotheses : \n",
    "* H0:'There is no difference between the A/B groups'\n",
    "* H1:'There is a difference between the A/B groups'"
   ]
  },
  {
   "cell_type": "code",
   "execution_count": 31,
   "metadata": {},
   "outputs": [],
   "source": [
    "def check_hypothesis(group1,group2, event, alpha=0.01):\n",
    "    \n",
    "    successes1=pivot[pivot.event_name==event][group1].iloc[0]\n",
    "    successes2=pivot[pivot.event_name==event][group2].iloc[0]\n",
    "    \n",
    "    trials1=newDate[newDate.group==group1]['user_id'].nunique()\n",
    "    trials2=newDate[newDate.group==group2]['user_id'].nunique()\n",
    "\n",
    "    p1 = successes1/trials1\n",
    "    p2 = successes2/trials2\n",
    "\n",
    "    p_combined = (successes1 + successes2) / (trials1 + trials2)\n",
    "\n",
    "    difference = p1 - p2 \n",
    "\n",
    "    z_value = difference / mth.sqrt(p_combined * (1 - p_combined) * (1/trials1 + 1/trials2))\n",
    "\n",
    "    distr = st.norm(0, 1)  \n",
    "\n",
    "    z_value = difference / mth.sqrt(p_combined * (1 - p_combined) * (1/trials1 + 1/trials2))\n",
    "\n",
    "    distr = st.norm(0, 1) \n",
    "\n",
    "    p_value = (1 - distr.cdf(abs(z_value))) * 2\n",
    "\n",
    "    print('p-value: ', p_value)\n",
    "\n",
    "    if (p_value < alpha):\n",
    "        print(\"Reject H0 for\",event, 'and groups',group1,group2)\n",
    "    else:\n",
    "        print(\"Fail to Reject H0 for\", event,'and groups',group1,group2)   "
   ]
  },
  {
   "cell_type": "code",
   "execution_count": 32,
   "metadata": {},
   "outputs": [
    {
     "name": "stdout",
     "output_type": "stream",
     "text": [
      "p-value:  0.32103485047255065\n",
      "Fail to Reject H0 for login and groups A B\n",
      "p-value:  0.08746918913258162\n",
      "Fail to Reject H0 for product_cart and groups A B\n",
      "p-value:  0.2518419682737163\n",
      "Fail to Reject H0 for product_page and groups A B\n",
      "p-value:  0.014959088807690257\n",
      "Reject H0 for purchase and groups A B\n"
     ]
    }
   ],
   "source": [
    "pivot = newDate.pivot_table(index='event_name', values='user_id', columns='group', \n",
    "                            aggfunc=lambda x: x.nunique()).reset_index()\n",
    "\n",
    "for i in pivot.event_name.unique():\n",
    "    check_hypothesis('A','B', i, alpha=0.05)"
   ]
  },
  {
   "cell_type": "markdown",
   "metadata": {},
   "source": [
    "The results show that there is no difference between the groups for the funnels except for the purchase funnel."
   ]
  },
  {
   "cell_type": "markdown",
   "metadata": {},
   "source": [
    "The EDA showed interesting facts. <br>\n",
    "The results from the convension date show that only 30% of the users are actually buying a product and also a bigger percentage for purchases then product_cart shows that clients buy without actually adding every time the product to the cart.<br>\n",
    "The number of events for each user have big values which means that there are clients going through more steps before buying a product.<br>\n",
    "Our results and the tehnical specifications for the suggested test were not the same.<br>\n",
    "The audience wasn't 15% for EU region but in fact, was bigger than 90%.<br>\n",
    "The number of test participants weren't even close to 6000. There were maximum 4000.\n",
    "So having all this results, we couldn't choose the suggested test for the A/B test and we decided that the other test is fitting better.\n",
    "In the test results it is clear that the results doesn't show an increase up to 10% for each funnel. Using the other test also changes results but still, the results are far from the expected results."
   ]
  }
 ],
 "metadata": {
  "ExecuteTimeLog": [
   {
    "duration": 328,
    "start_time": "2021-07-07T07:32:44.125Z"
   },
   {
    "duration": 724,
    "start_time": "2021-07-07T07:32:48.111Z"
   },
   {
    "duration": 23,
    "start_time": "2021-07-07T07:32:48.838Z"
   },
   {
    "duration": 712,
    "start_time": "2021-07-07T07:35:11.036Z"
   },
   {
    "duration": 716,
    "start_time": "2021-07-07T07:35:45.981Z"
   },
   {
    "duration": 4,
    "start_time": "2021-07-07T08:02:08.161Z"
   },
   {
    "duration": 742,
    "start_time": "2021-07-07T08:02:09.184Z"
   },
   {
    "duration": 9,
    "start_time": "2021-07-07T08:02:29.058Z"
   },
   {
    "duration": 301,
    "start_time": "2021-07-07T08:02:55.585Z"
   },
   {
    "duration": 22,
    "start_time": "2021-07-07T08:03:00.126Z"
   },
   {
    "duration": 7,
    "start_time": "2021-07-07T08:03:21.697Z"
   },
   {
    "duration": 13,
    "start_time": "2021-07-07T08:03:34.392Z"
   },
   {
    "duration": 451,
    "start_time": "2021-07-07T08:03:50.735Z"
   },
   {
    "duration": 12,
    "start_time": "2021-07-07T08:05:11.473Z"
   },
   {
    "duration": 12,
    "start_time": "2021-07-07T08:09:03.452Z"
   },
   {
    "duration": 45,
    "start_time": "2021-07-07T08:09:38.457Z"
   },
   {
    "duration": 48,
    "start_time": "2021-07-07T08:10:19.614Z"
   },
   {
    "duration": 46,
    "start_time": "2021-07-07T08:10:23.556Z"
   },
   {
    "duration": 50,
    "start_time": "2021-07-07T08:11:34.580Z"
   },
   {
    "duration": 9,
    "start_time": "2021-07-07T08:22:14.884Z"
   },
   {
    "duration": 124,
    "start_time": "2021-07-07T08:24:37.360Z"
   },
   {
    "duration": 6,
    "start_time": "2021-07-07T08:29:07.732Z"
   },
   {
    "duration": 15,
    "start_time": "2021-07-07T08:29:17.923Z"
   },
   {
    "duration": 14,
    "start_time": "2021-07-07T08:29:23.473Z"
   },
   {
    "duration": 8390,
    "start_time": "2021-07-07T08:33:18.164Z"
   },
   {
    "duration": -116,
    "start_time": "2021-07-07T08:33:49.128Z"
   },
   {
    "duration": 7183,
    "start_time": "2021-07-07T08:34:39.316Z"
   },
   {
    "duration": 732,
    "start_time": "2021-07-07T08:35:08.785Z"
   },
   {
    "duration": 749,
    "start_time": "2021-07-07T08:35:09.519Z"
   },
   {
    "duration": 58,
    "start_time": "2021-07-07T08:35:10.271Z"
   },
   {
    "duration": 146,
    "start_time": "2021-07-07T08:35:10.331Z"
   },
   {
    "duration": 7585,
    "start_time": "2021-07-07T08:35:10.479Z"
   },
   {
    "duration": -578,
    "start_time": "2021-07-07T08:35:18.644Z"
   },
   {
    "duration": 158,
    "start_time": "2021-07-07T08:35:45.263Z"
   },
   {
    "duration": 80,
    "start_time": "2021-07-07T08:35:46.418Z"
   },
   {
    "duration": 14,
    "start_time": "2021-07-07T08:36:13.503Z"
   },
   {
    "duration": 8,
    "start_time": "2021-07-07T08:36:19.350Z"
   },
   {
    "duration": 642,
    "start_time": "2021-07-07T08:36:49.549Z"
   },
   {
    "duration": 614,
    "start_time": "2021-07-07T08:36:54.751Z"
   },
   {
    "duration": 13,
    "start_time": "2021-07-07T08:37:07.465Z"
   },
   {
    "duration": 326,
    "start_time": "2021-07-07T08:38:47.471Z"
   },
   {
    "duration": 120,
    "start_time": "2021-07-07T08:39:59.924Z"
   },
   {
    "duration": 213,
    "start_time": "2021-07-07T08:40:14.012Z"
   },
   {
    "duration": 3964,
    "start_time": "2021-07-07T09:21:09.864Z"
   },
   {
    "duration": 4,
    "start_time": "2021-07-07T09:22:00.436Z"
   },
   {
    "duration": 4912,
    "start_time": "2021-07-07T09:22:05.220Z"
   },
   {
    "duration": 4849,
    "start_time": "2021-07-07T09:22:24.523Z"
   },
   {
    "duration": 673,
    "start_time": "2021-07-07T09:23:08.093Z"
   },
   {
    "duration": 4814,
    "start_time": "2021-07-07T09:23:13.485Z"
   },
   {
    "duration": 304,
    "start_time": "2021-07-07T09:23:35.868Z"
   },
   {
    "duration": 275,
    "start_time": "2021-07-07T09:23:56.759Z"
   },
   {
    "duration": 4,
    "start_time": "2021-07-07T09:24:07.577Z"
   },
   {
    "duration": 5431,
    "start_time": "2021-07-07T09:24:14.068Z"
   },
   {
    "duration": 5481,
    "start_time": "2021-07-07T09:25:29.141Z"
   },
   {
    "duration": 10,
    "start_time": "2021-07-07T09:25:56.412Z"
   },
   {
    "duration": 5659,
    "start_time": "2021-07-07T09:26:19.556Z"
   },
   {
    "duration": 8,
    "start_time": "2021-07-07T09:26:25.218Z"
   },
   {
    "duration": 5534,
    "start_time": "2021-07-07T09:27:14.991Z"
   },
   {
    "duration": 4065,
    "start_time": "2021-07-07T09:29:16.611Z"
   },
   {
    "duration": 7,
    "start_time": "2021-07-07T09:48:29.515Z"
   },
   {
    "duration": 52,
    "start_time": "2021-07-07T09:49:09.311Z"
   },
   {
    "duration": 48,
    "start_time": "2021-07-07T09:49:56.826Z"
   },
   {
    "duration": 64,
    "start_time": "2021-07-07T09:50:05.899Z"
   },
   {
    "duration": 3568,
    "start_time": "2021-07-07T09:50:32.425Z"
   },
   {
    "duration": 210,
    "start_time": "2021-07-07T09:50:49.106Z"
   },
   {
    "duration": 50,
    "start_time": "2021-07-07T09:51:10.704Z"
   },
   {
    "duration": 6,
    "start_time": "2021-07-07T09:54:13.890Z"
   },
   {
    "duration": 853,
    "start_time": "2021-07-07T09:54:19.414Z"
   },
   {
    "duration": 60,
    "start_time": "2021-07-07T09:55:42.744Z"
   },
   {
    "duration": 299,
    "start_time": "2021-07-07T09:56:06.534Z"
   },
   {
    "duration": 72,
    "start_time": "2021-07-07T09:57:33.507Z"
   },
   {
    "duration": 62,
    "start_time": "2021-07-07T09:57:52.934Z"
   },
   {
    "duration": 59,
    "start_time": "2021-07-07T09:58:04.707Z"
   },
   {
    "duration": 264,
    "start_time": "2021-07-07T09:58:32.133Z"
   },
   {
    "duration": 58,
    "start_time": "2021-07-07T09:58:44.617Z"
   },
   {
    "duration": 436,
    "start_time": "2021-07-07T10:02:21.791Z"
   },
   {
    "duration": 332,
    "start_time": "2021-07-07T10:02:59.204Z"
   },
   {
    "duration": 329,
    "start_time": "2021-07-07T10:03:49.074Z"
   },
   {
    "duration": 1493,
    "start_time": "2021-07-07T10:04:03.966Z"
   },
   {
    "duration": 710,
    "start_time": "2021-07-07T10:04:05.462Z"
   },
   {
    "duration": 80,
    "start_time": "2021-07-07T10:04:06.175Z"
   },
   {
    "duration": 119,
    "start_time": "2021-07-07T10:04:06.258Z"
   },
   {
    "duration": 196,
    "start_time": "2021-07-07T10:04:06.380Z"
   },
   {
    "duration": 104,
    "start_time": "2021-07-07T10:04:06.579Z"
   },
   {
    "duration": 390,
    "start_time": "2021-07-07T10:04:06.686Z"
   },
   {
    "duration": 167,
    "start_time": "2021-07-07T10:04:07.079Z"
   },
   {
    "duration": 5008,
    "start_time": "2021-07-07T10:04:07.254Z"
   },
   {
    "duration": 10,
    "start_time": "2021-07-07T10:04:12.255Z"
   },
   {
    "duration": 3,
    "start_time": "2021-07-07T10:05:00.158Z"
   },
   {
    "duration": 326,
    "start_time": "2021-07-07T10:05:00.629Z"
   },
   {
    "duration": 55,
    "start_time": "2021-07-07T10:05:15.634Z"
   },
   {
    "duration": 325,
    "start_time": "2021-07-07T10:05:22.201Z"
   },
   {
    "duration": 54,
    "start_time": "2021-07-07T10:05:34.941Z"
   },
   {
    "duration": 62,
    "start_time": "2021-07-07T10:06:11.655Z"
   },
   {
    "duration": 55,
    "start_time": "2021-07-07T10:06:16.306Z"
   },
   {
    "duration": 58,
    "start_time": "2021-07-07T10:06:25.655Z"
   },
   {
    "duration": 275,
    "start_time": "2021-07-07T10:08:09.936Z"
   },
   {
    "duration": 53,
    "start_time": "2021-07-07T10:08:27.119Z"
   },
   {
    "duration": 119,
    "start_time": "2021-07-07T10:14:07.207Z"
   },
   {
    "duration": 54,
    "start_time": "2021-07-07T10:14:13.396Z"
   },
   {
    "duration": 75,
    "start_time": "2021-07-07T11:39:40.636Z"
   },
   {
    "duration": 62,
    "start_time": "2021-07-07T11:40:02.595Z"
   },
   {
    "duration": 63,
    "start_time": "2021-07-07T11:40:07.179Z"
   },
   {
    "duration": 62,
    "start_time": "2021-07-07T11:41:29.404Z"
   },
   {
    "duration": 114,
    "start_time": "2021-07-07T11:42:07.538Z"
   },
   {
    "duration": 405,
    "start_time": "2021-07-07T11:42:38.752Z"
   },
   {
    "duration": -238,
    "start_time": "2021-07-07T11:43:08.375Z"
   },
   {
    "duration": 67,
    "start_time": "2021-07-07T11:43:13.934Z"
   },
   {
    "duration": 398,
    "start_time": "2021-07-07T11:43:40.601Z"
   },
   {
    "duration": 83,
    "start_time": "2021-07-07T11:43:47.945Z"
   },
   {
    "duration": -236,
    "start_time": "2021-07-07T11:44:51.926Z"
   },
   {
    "duration": -238,
    "start_time": "2021-07-07T11:45:12.096Z"
   },
   {
    "duration": 77,
    "start_time": "2021-07-07T11:45:59.840Z"
   },
   {
    "duration": 75,
    "start_time": "2021-07-07T11:46:14.467Z"
   },
   {
    "duration": 8950,
    "start_time": "2021-07-07T11:47:24.572Z"
   },
   {
    "duration": 81,
    "start_time": "2021-07-07T11:47:35.990Z"
   },
   {
    "duration": 101,
    "start_time": "2021-07-07T11:47:41.541Z"
   },
   {
    "duration": 6865,
    "start_time": "2021-07-07T11:48:43.892Z"
   },
   {
    "duration": 78,
    "start_time": "2021-07-07T11:48:50.931Z"
   },
   {
    "duration": 79,
    "start_time": "2021-07-07T11:49:21.334Z"
   },
   {
    "duration": 116,
    "start_time": "2021-07-07T11:49:51.307Z"
   },
   {
    "duration": 59,
    "start_time": "2021-07-07T11:50:24.775Z"
   },
   {
    "duration": 58,
    "start_time": "2021-07-07T11:50:36.731Z"
   },
   {
    "duration": 399,
    "start_time": "2021-07-07T12:00:45.083Z"
   },
   {
    "duration": 321,
    "start_time": "2021-07-07T12:00:57.691Z"
   },
   {
    "duration": 303,
    "start_time": "2021-07-07T12:01:19.535Z"
   },
   {
    "duration": 370,
    "start_time": "2021-07-07T12:01:24.855Z"
   },
   {
    "duration": 354,
    "start_time": "2021-07-07T12:01:32.505Z"
   },
   {
    "duration": 764,
    "start_time": "2021-07-07T12:01:35.613Z"
   },
   {
    "duration": 304,
    "start_time": "2021-07-07T12:01:41.277Z"
   },
   {
    "duration": 94,
    "start_time": "2021-07-07T12:02:19.794Z"
   },
   {
    "duration": 317,
    "start_time": "2021-07-07T12:02:32.884Z"
   },
   {
    "duration": 316,
    "start_time": "2021-07-07T12:02:40.162Z"
   },
   {
    "duration": 314,
    "start_time": "2021-07-07T12:03:20.242Z"
   },
   {
    "duration": 61,
    "start_time": "2021-07-07T12:03:59.380Z"
   },
   {
    "duration": 57,
    "start_time": "2021-07-07T12:04:31.521Z"
   },
   {
    "duration": 58,
    "start_time": "2021-07-07T12:04:43.474Z"
   },
   {
    "duration": 60,
    "start_time": "2021-07-07T12:04:51.514Z"
   },
   {
    "duration": 316,
    "start_time": "2021-07-07T12:05:29.581Z"
   },
   {
    "duration": 58,
    "start_time": "2021-07-07T12:06:04.459Z"
   },
   {
    "duration": 387,
    "start_time": "2021-07-07T12:06:50.098Z"
   },
   {
    "duration": 55,
    "start_time": "2021-07-07T12:07:00.011Z"
   },
   {
    "duration": 59,
    "start_time": "2021-07-07T12:07:16.483Z"
   },
   {
    "duration": 819,
    "start_time": "2021-07-07T12:08:31.028Z"
   },
   {
    "duration": 211,
    "start_time": "2021-07-07T12:08:39.246Z"
   },
   {
    "duration": 187,
    "start_time": "2021-07-07T12:09:27.324Z"
   },
   {
    "duration": 667,
    "start_time": "2021-07-07T12:09:43.700Z"
   },
   {
    "duration": 676,
    "start_time": "2021-07-07T12:09:49.618Z"
   },
   {
    "duration": 753,
    "start_time": "2021-07-07T12:10:24.172Z"
   },
   {
    "duration": 432,
    "start_time": "2021-07-07T12:10:56.577Z"
   },
   {
    "duration": 500,
    "start_time": "2021-07-07T12:11:21.095Z"
   },
   {
    "duration": 348,
    "start_time": "2021-07-07T12:11:25.591Z"
   },
   {
    "duration": 360,
    "start_time": "2021-07-07T12:11:32.581Z"
   },
   {
    "duration": 821,
    "start_time": "2021-07-07T12:11:37.902Z"
   },
   {
    "duration": 205,
    "start_time": "2021-07-07T12:11:57.319Z"
   },
   {
    "duration": 861,
    "start_time": "2021-07-07T12:12:32.334Z"
   },
   {
    "duration": 747,
    "start_time": "2021-07-07T12:12:58.255Z"
   },
   {
    "duration": 61,
    "start_time": "2021-07-07T12:13:06.924Z"
   },
   {
    "duration": 65,
    "start_time": "2021-07-07T12:13:12.919Z"
   },
   {
    "duration": 56,
    "start_time": "2021-07-07T12:16:50.205Z"
   },
   {
    "duration": 56,
    "start_time": "2021-07-07T12:17:49.774Z"
   },
   {
    "duration": 665,
    "start_time": "2021-07-07T12:18:14.823Z"
   },
   {
    "duration": 62,
    "start_time": "2021-07-07T12:18:55.983Z"
   },
   {
    "duration": 791,
    "start_time": "2021-07-07T12:19:48.655Z"
   },
   {
    "duration": 319,
    "start_time": "2021-07-07T14:37:50.197Z"
   },
   {
    "duration": 271,
    "start_time": "2021-07-07T14:37:55.942Z"
   },
   {
    "duration": 1726,
    "start_time": "2021-07-07T14:38:03.065Z"
   },
   {
    "duration": 2863,
    "start_time": "2021-07-07T14:38:04.793Z"
   },
   {
    "duration": 52,
    "start_time": "2021-07-07T14:38:07.659Z"
   },
   {
    "duration": 121,
    "start_time": "2021-07-07T14:38:07.714Z"
   },
   {
    "duration": 172,
    "start_time": "2021-07-07T14:38:07.837Z"
   },
   {
    "duration": 101,
    "start_time": "2021-07-07T14:38:08.011Z"
   },
   {
    "duration": 361,
    "start_time": "2021-07-07T14:38:08.114Z"
   },
   {
    "duration": 170,
    "start_time": "2021-07-07T14:38:08.477Z"
   },
   {
    "duration": 707,
    "start_time": "2021-07-07T14:38:08.650Z"
   },
   {
    "duration": 3,
    "start_time": "2021-07-07T14:38:09.360Z"
   },
   {
    "duration": 401,
    "start_time": "2021-07-07T14:38:30.633Z"
   },
   {
    "duration": 6,
    "start_time": "2021-07-07T14:38:36.442Z"
   },
   {
    "duration": 6,
    "start_time": "2021-07-07T14:39:09.468Z"
   },
   {
    "duration": 6,
    "start_time": "2021-07-07T14:40:16.449Z"
   },
   {
    "duration": 6,
    "start_time": "2021-07-07T14:40:49.627Z"
   },
   {
    "duration": 6,
    "start_time": "2021-07-07T14:41:03.871Z"
   },
   {
    "duration": 7,
    "start_time": "2021-07-07T14:41:56.356Z"
   },
   {
    "duration": 6,
    "start_time": "2021-07-07T14:42:19.862Z"
   },
   {
    "duration": 6,
    "start_time": "2021-07-07T14:42:56.024Z"
   },
   {
    "duration": 7,
    "start_time": "2021-07-07T14:43:20.335Z"
   },
   {
    "duration": 6,
    "start_time": "2021-07-07T14:44:10.764Z"
   },
   {
    "duration": 7,
    "start_time": "2021-07-07T14:45:18.412Z"
   },
   {
    "duration": 8,
    "start_time": "2021-07-07T14:51:24.005Z"
   },
   {
    "duration": 7,
    "start_time": "2021-07-07T14:55:15.717Z"
   },
   {
    "duration": 8,
    "start_time": "2021-07-07T14:56:04.564Z"
   },
   {
    "duration": 7,
    "start_time": "2021-07-07T14:57:17.341Z"
   },
   {
    "duration": 10,
    "start_time": "2021-07-07T14:57:42.339Z"
   },
   {
    "duration": -327,
    "start_time": "2021-07-07T14:58:51.673Z"
   },
   {
    "duration": 7,
    "start_time": "2021-07-07T14:59:24.589Z"
   },
   {
    "duration": 6,
    "start_time": "2021-07-07T15:01:34.595Z"
   },
   {
    "duration": 61,
    "start_time": "2021-07-07T15:03:57.201Z"
   },
   {
    "duration": 206,
    "start_time": "2021-07-07T15:06:26.274Z"
   },
   {
    "duration": 199,
    "start_time": "2021-07-07T15:06:51.253Z"
   },
   {
    "duration": 272,
    "start_time": "2021-07-07T15:07:38.800Z"
   },
   {
    "duration": 405,
    "start_time": "2021-07-07T15:16:12.019Z"
   },
   {
    "duration": 179,
    "start_time": "2021-07-07T15:16:44.697Z"
   },
   {
    "duration": 57,
    "start_time": "2021-07-07T15:24:36.426Z"
   },
   {
    "duration": 26,
    "start_time": "2021-07-07T15:27:09.766Z"
   },
   {
    "duration": 190,
    "start_time": "2021-07-07T15:28:37.400Z"
   },
   {
    "duration": 199,
    "start_time": "2021-07-07T15:28:46.472Z"
   },
   {
    "duration": 202,
    "start_time": "2021-07-07T15:29:17.805Z"
   },
   {
    "duration": 289,
    "start_time": "2021-07-07T15:29:27.239Z"
   },
   {
    "duration": 230,
    "start_time": "2021-07-07T15:38:46.738Z"
   },
   {
    "duration": 229,
    "start_time": "2021-07-07T15:40:15.894Z"
   },
   {
    "duration": 486,
    "start_time": "2021-07-07T15:41:24.047Z"
   },
   {
    "duration": 261,
    "start_time": "2021-07-07T15:41:31.297Z"
   },
   {
    "duration": 165,
    "start_time": "2021-07-07T15:43:41.490Z"
   },
   {
    "duration": 30,
    "start_time": "2021-07-07T15:43:53.508Z"
   },
   {
    "duration": 35,
    "start_time": "2021-07-07T15:44:18.923Z"
   },
   {
    "duration": 37,
    "start_time": "2021-07-07T15:44:36.119Z"
   },
   {
    "duration": 37,
    "start_time": "2021-07-07T15:45:41.563Z"
   },
   {
    "duration": 450,
    "start_time": "2021-07-07T15:45:51.093Z"
   },
   {
    "duration": 37,
    "start_time": "2021-07-07T15:45:59.458Z"
   },
   {
    "duration": 7363,
    "start_time": "2021-07-07T15:46:12.065Z"
   },
   {
    "duration": 39,
    "start_time": "2021-07-07T15:47:16.254Z"
   },
   {
    "duration": 308,
    "start_time": "2021-07-07T15:48:12.628Z"
   },
   {
    "duration": 36,
    "start_time": "2021-07-07T15:49:45.996Z"
   },
   {
    "duration": 35,
    "start_time": "2021-07-07T15:53:08.352Z"
   },
   {
    "duration": 36,
    "start_time": "2021-07-07T15:53:25.561Z"
   },
   {
    "duration": 47,
    "start_time": "2021-07-07T15:59:22.191Z"
   },
   {
    "duration": 52,
    "start_time": "2021-07-07T15:59:54.225Z"
   },
   {
    "duration": 770,
    "start_time": "2021-07-07T16:01:39.596Z"
   },
   {
    "duration": 37,
    "start_time": "2021-07-07T16:01:49.461Z"
   },
   {
    "duration": 259,
    "start_time": "2021-07-07T16:03:13.020Z"
   },
   {
    "duration": 211,
    "start_time": "2021-07-07T16:04:06.477Z"
   },
   {
    "duration": 248,
    "start_time": "2021-07-07T16:06:41.819Z"
   },
   {
    "duration": 231,
    "start_time": "2021-07-07T16:07:17.117Z"
   },
   {
    "duration": 305,
    "start_time": "2021-07-07T16:07:23.942Z"
   },
   {
    "duration": 237,
    "start_time": "2021-07-07T16:08:28.106Z"
   },
   {
    "duration": 24,
    "start_time": "2021-07-07T16:10:09.609Z"
   },
   {
    "duration": 44,
    "start_time": "2021-07-07T16:10:49.949Z"
   },
   {
    "duration": 67,
    "start_time": "2021-07-07T16:12:45.375Z"
   },
   {
    "duration": 58,
    "start_time": "2021-07-07T16:13:21.693Z"
   },
   {
    "duration": 73,
    "start_time": "2021-07-07T16:14:10.699Z"
   },
   {
    "duration": 93,
    "start_time": "2021-07-07T16:14:25.272Z"
   },
   {
    "duration": 278,
    "start_time": "2021-07-07T16:15:12.426Z"
   },
   {
    "duration": 63,
    "start_time": "2021-07-07T16:15:17.311Z"
   },
   {
    "duration": 1565,
    "start_time": "2021-07-07T16:15:26.393Z"
   },
   {
    "duration": 710,
    "start_time": "2021-07-07T16:15:27.961Z"
   },
   {
    "duration": 55,
    "start_time": "2021-07-07T16:15:28.675Z"
   },
   {
    "duration": 133,
    "start_time": "2021-07-07T16:15:28.733Z"
   },
   {
    "duration": 171,
    "start_time": "2021-07-07T16:15:28.869Z"
   },
   {
    "duration": 98,
    "start_time": "2021-07-07T16:15:29.043Z"
   },
   {
    "duration": 344,
    "start_time": "2021-07-07T16:15:29.144Z"
   },
   {
    "duration": 156,
    "start_time": "2021-07-07T16:15:29.501Z"
   },
   {
    "duration": 170,
    "start_time": "2021-07-07T16:15:29.662Z"
   },
   {
    "duration": 45,
    "start_time": "2021-07-07T16:15:29.835Z"
   },
   {
    "duration": 254,
    "start_time": "2021-07-07T16:15:29.882Z"
   },
   {
    "duration": 72,
    "start_time": "2021-07-07T16:15:30.139Z"
   },
   {
    "duration": 75,
    "start_time": "2021-07-07T16:16:16.475Z"
   },
   {
    "duration": 58,
    "start_time": "2021-07-07T16:16:32.252Z"
   },
   {
    "duration": 65,
    "start_time": "2021-07-07T16:16:42.551Z"
   },
   {
    "duration": 57,
    "start_time": "2021-07-07T16:18:53.132Z"
   },
   {
    "duration": 28,
    "start_time": "2021-07-07T16:19:47.709Z"
   },
   {
    "duration": 41,
    "start_time": "2021-07-07T16:20:08.669Z"
   },
   {
    "duration": 36,
    "start_time": "2021-07-07T16:20:19.988Z"
   },
   {
    "duration": 50,
    "start_time": "2021-07-07T16:20:53.267Z"
   },
   {
    "duration": 60,
    "start_time": "2021-07-07T16:21:59.282Z"
   },
   {
    "duration": 11,
    "start_time": "2021-07-07T16:23:50.213Z"
   },
   {
    "duration": 32,
    "start_time": "2021-07-07T16:24:03.667Z"
   },
   {
    "duration": 36,
    "start_time": "2021-07-07T16:24:38.972Z"
   },
   {
    "duration": 18,
    "start_time": "2021-07-07T16:27:37.674Z"
   },
   {
    "duration": 411,
    "start_time": "2021-07-07T16:28:16.511Z"
   },
   {
    "duration": 288,
    "start_time": "2021-07-07T16:28:25.947Z"
   },
   {
    "duration": 303,
    "start_time": "2021-07-07T16:28:32.645Z"
   },
   {
    "duration": 422,
    "start_time": "2021-07-07T16:28:45.617Z"
   },
   {
    "duration": 394,
    "start_time": "2021-07-07T16:29:38.278Z"
   },
   {
    "duration": 32,
    "start_time": "2021-07-07T16:30:36.058Z"
   },
   {
    "duration": 39,
    "start_time": "2021-07-07T16:33:00.062Z"
   },
   {
    "duration": 320,
    "start_time": "2021-07-07T16:34:01.036Z"
   },
   {
    "duration": 317,
    "start_time": "2021-07-07T16:34:13.832Z"
   },
   {
    "duration": 10,
    "start_time": "2021-07-07T16:35:41.601Z"
   },
   {
    "duration": 8,
    "start_time": "2021-07-07T16:36:12.672Z"
   },
   {
    "duration": 323,
    "start_time": "2021-07-07T16:36:22.150Z"
   },
   {
    "duration": 295,
    "start_time": "2021-07-07T16:40:54.084Z"
   },
   {
    "duration": 283,
    "start_time": "2021-07-07T16:40:59.077Z"
   },
   {
    "duration": 27,
    "start_time": "2021-07-07T16:41:09.712Z"
   },
   {
    "duration": 58,
    "start_time": "2021-07-07T16:42:41.917Z"
   },
   {
    "duration": 51,
    "start_time": "2021-07-07T16:43:02.894Z"
   },
   {
    "duration": 49,
    "start_time": "2021-07-07T16:43:35.879Z"
   },
   {
    "duration": -256,
    "start_time": "2021-07-07T16:44:11.795Z"
   },
   {
    "duration": 7536,
    "start_time": "2021-07-07T16:44:14.463Z"
   },
   {
    "duration": 86,
    "start_time": "2021-07-07T16:44:36.756Z"
   },
   {
    "duration": 78,
    "start_time": "2021-07-07T16:45:20.630Z"
   },
   {
    "duration": 98,
    "start_time": "2021-07-07T16:45:28.038Z"
   },
   {
    "duration": 54,
    "start_time": "2021-07-07T16:46:00.903Z"
   },
   {
    "duration": 86,
    "start_time": "2021-07-07T16:46:30.265Z"
   },
   {
    "duration": 104,
    "start_time": "2021-07-07T16:46:35.424Z"
   },
   {
    "duration": 312,
    "start_time": "2021-07-07T16:46:39.646Z"
   },
   {
    "duration": 57,
    "start_time": "2021-07-07T16:46:47.016Z"
   },
   {
    "duration": 56,
    "start_time": "2021-07-07T16:47:10.510Z"
   },
   {
    "duration": 62,
    "start_time": "2021-07-07T16:48:01.184Z"
   },
   {
    "duration": 7042,
    "start_time": "2021-07-07T16:48:35.827Z"
   },
   {
    "duration": 6871,
    "start_time": "2021-07-07T16:49:16.144Z"
   },
   {
    "duration": 6673,
    "start_time": "2021-07-07T16:50:08.822Z"
   },
   {
    "duration": 6692,
    "start_time": "2021-07-07T16:50:38.286Z"
   },
   {
    "duration": 7578,
    "start_time": "2021-07-07T16:51:48.970Z"
   },
   {
    "duration": 62,
    "start_time": "2021-07-07T16:52:05.374Z"
   },
   {
    "duration": 6652,
    "start_time": "2021-07-07T16:52:56.585Z"
   },
   {
    "duration": 57,
    "start_time": "2021-07-07T16:53:48.952Z"
   },
   {
    "duration": 57,
    "start_time": "2021-07-07T16:54:14.004Z"
   },
   {
    "duration": 61,
    "start_time": "2021-07-07T16:54:37.486Z"
   },
   {
    "duration": 112,
    "start_time": "2021-07-07T16:55:14.071Z"
   },
   {
    "duration": 334,
    "start_time": "2021-07-07T16:55:23.000Z"
   },
   {
    "duration": 131,
    "start_time": "2021-07-07T16:56:22.140Z"
   },
   {
    "duration": 1094,
    "start_time": "2021-07-07T16:56:28.567Z"
   },
   {
    "duration": 1434,
    "start_time": "2021-07-07T16:56:57.624Z"
   },
   {
    "duration": 89,
    "start_time": "2021-07-07T16:57:12.533Z"
   },
   {
    "duration": 1124,
    "start_time": "2021-07-07T16:57:17.082Z"
   },
   {
    "duration": 1331,
    "start_time": "2021-07-07T16:57:31.784Z"
   },
   {
    "duration": 59,
    "start_time": "2021-07-07T16:58:04.836Z"
   },
   {
    "duration": 339,
    "start_time": "2021-07-07T16:58:15.787Z"
   },
   {
    "duration": 77,
    "start_time": "2021-07-07T16:58:43.188Z"
   },
   {
    "duration": 58,
    "start_time": "2021-07-07T16:59:15.826Z"
   },
   {
    "duration": 73,
    "start_time": "2021-07-07T16:59:35.378Z"
   },
   {
    "duration": 64,
    "start_time": "2021-07-07T17:00:19.051Z"
   },
   {
    "duration": 58,
    "start_time": "2021-07-07T17:03:17.833Z"
   },
   {
    "duration": 83,
    "start_time": "2021-07-07T17:03:50.774Z"
   },
   {
    "duration": 67,
    "start_time": "2021-07-07T17:05:00.170Z"
   },
   {
    "duration": 56,
    "start_time": "2021-07-07T17:05:16.834Z"
   },
   {
    "duration": 80,
    "start_time": "2021-07-07T17:05:43.547Z"
   },
   {
    "duration": 114,
    "start_time": "2021-07-07T17:11:12.567Z"
   },
   {
    "duration": 6593,
    "start_time": "2021-07-07T17:11:22.474Z"
   },
   {
    "duration": 38,
    "start_time": "2021-07-07T17:12:18.022Z"
   },
   {
    "duration": 410,
    "start_time": "2021-07-07T17:20:07.001Z"
   },
   {
    "duration": 409,
    "start_time": "2021-07-07T17:20:24.154Z"
   },
   {
    "duration": 443,
    "start_time": "2021-07-07T17:21:29.555Z"
   },
   {
    "duration": 306,
    "start_time": "2021-07-07T17:21:47.174Z"
   },
   {
    "duration": 41,
    "start_time": "2021-07-07T17:21:52.461Z"
   },
   {
    "duration": 56,
    "start_time": "2021-07-07T17:21:53.060Z"
   },
   {
    "duration": 59,
    "start_time": "2021-07-07T17:22:33.386Z"
   },
   {
    "duration": 101,
    "start_time": "2021-07-07T17:24:17.845Z"
   },
   {
    "duration": 53,
    "start_time": "2021-07-07T17:27:25.828Z"
   },
   {
    "duration": 82,
    "start_time": "2021-07-07T17:28:09.182Z"
   },
   {
    "duration": 297,
    "start_time": "2021-07-07T17:40:30.786Z"
   },
   {
    "duration": 274,
    "start_time": "2021-07-07T17:40:57.741Z"
   },
   {
    "duration": 111,
    "start_time": "2021-07-07T17:42:12.061Z"
   },
   {
    "duration": 227,
    "start_time": "2021-07-07T17:42:44.180Z"
   },
   {
    "duration": 119,
    "start_time": "2021-07-07T17:45:24.124Z"
   },
   {
    "duration": 144,
    "start_time": "2021-07-07T17:46:07.790Z"
   },
   {
    "duration": 67,
    "start_time": "2021-07-07T17:48:13.311Z"
   },
   {
    "duration": 90,
    "start_time": "2021-07-07T17:50:14.876Z"
   },
   {
    "duration": 67,
    "start_time": "2021-07-07T17:50:34.077Z"
   },
   {
    "duration": 91,
    "start_time": "2021-07-07T17:50:52.598Z"
   },
   {
    "duration": 103,
    "start_time": "2021-07-07T17:51:05.878Z"
   },
   {
    "duration": 65,
    "start_time": "2021-07-07T17:54:25.994Z"
   },
   {
    "duration": 278,
    "start_time": "2021-07-07T17:55:04.129Z"
   },
   {
    "duration": 50,
    "start_time": "2021-07-07T17:55:31.167Z"
   },
   {
    "duration": 26,
    "start_time": "2021-07-07T17:55:47.432Z"
   },
   {
    "duration": 311,
    "start_time": "2021-07-07T17:56:58.408Z"
   },
   {
    "duration": 43,
    "start_time": "2021-07-07T17:59:30.101Z"
   },
   {
    "duration": 42,
    "start_time": "2021-07-07T18:00:13.789Z"
   },
   {
    "duration": 24,
    "start_time": "2021-07-07T18:06:33.455Z"
   },
   {
    "duration": 289,
    "start_time": "2021-07-07T18:08:09.639Z"
   },
   {
    "duration": 61,
    "start_time": "2021-07-07T18:08:15.434Z"
   },
   {
    "duration": 46,
    "start_time": "2021-07-07T18:08:34.263Z"
   },
   {
    "duration": 280,
    "start_time": "2021-07-07T18:09:13.817Z"
   },
   {
    "duration": 264,
    "start_time": "2021-07-07T18:10:05.692Z"
   },
   {
    "duration": 284,
    "start_time": "2021-07-07T18:11:05.795Z"
   },
   {
    "duration": 34,
    "start_time": "2021-07-07T18:12:24.137Z"
   },
   {
    "duration": 34,
    "start_time": "2021-07-07T18:13:28.587Z"
   },
   {
    "duration": 70,
    "start_time": "2021-07-07T18:15:03.904Z"
   },
   {
    "duration": 92,
    "start_time": "2021-07-07T18:15:13.882Z"
   },
   {
    "duration": 67,
    "start_time": "2021-07-07T18:17:21.078Z"
   },
   {
    "duration": 71,
    "start_time": "2021-07-07T18:18:50.460Z"
   },
   {
    "duration": 78,
    "start_time": "2021-07-07T18:19:06.763Z"
   },
   {
    "duration": 60,
    "start_time": "2021-07-07T18:19:12.004Z"
   },
   {
    "duration": 64,
    "start_time": "2021-07-07T18:19:27.136Z"
   },
   {
    "duration": 74,
    "start_time": "2021-07-07T18:21:12.702Z"
   },
   {
    "duration": 99,
    "start_time": "2021-07-07T18:22:29.724Z"
   },
   {
    "duration": 112,
    "start_time": "2021-07-07T18:22:53.859Z"
   },
   {
    "duration": 86,
    "start_time": "2021-07-07T18:24:30.558Z"
   },
   {
    "duration": 113,
    "start_time": "2021-07-07T18:24:47.650Z"
   },
   {
    "duration": 80,
    "start_time": "2021-07-07T18:25:17.328Z"
   },
   {
    "duration": 4,
    "start_time": "2021-07-07T18:35:57.570Z"
   },
   {
    "duration": 9,
    "start_time": "2021-07-07T18:44:50.784Z"
   },
   {
    "duration": 83,
    "start_time": "2021-07-07T18:46:51.604Z"
   },
   {
    "duration": 517,
    "start_time": "2021-07-07T18:48:56.557Z"
   },
   {
    "duration": 235,
    "start_time": "2021-07-07T18:49:39.047Z"
   },
   {
    "duration": 343,
    "start_time": "2021-07-07T18:50:24.282Z"
   },
   {
    "duration": 9,
    "start_time": "2021-07-07T18:55:45.231Z"
   },
   {
    "duration": 337,
    "start_time": "2021-07-07T18:55:47.132Z"
   },
   {
    "duration": 348,
    "start_time": "2021-07-07T18:56:28.148Z"
   },
   {
    "duration": 892,
    "start_time": "2021-07-07T18:56:43.520Z"
   },
   {
    "duration": 5,
    "start_time": "2021-07-07T18:57:24.731Z"
   },
   {
    "duration": 209,
    "start_time": "2021-07-07T18:57:30.897Z"
   },
   {
    "duration": 9,
    "start_time": "2021-07-07T18:58:09.623Z"
   },
   {
    "duration": 268,
    "start_time": "2021-07-07T18:58:10.526Z"
   },
   {
    "duration": 244,
    "start_time": "2021-07-07T18:59:19.384Z"
   },
   {
    "duration": 9,
    "start_time": "2021-07-07T18:59:19.911Z"
   },
   {
    "duration": 98,
    "start_time": "2021-07-07T18:59:20.406Z"
   },
   {
    "duration": 275,
    "start_time": "2021-07-07T19:02:00.892Z"
   },
   {
    "duration": 9,
    "start_time": "2021-07-07T19:02:01.628Z"
   },
   {
    "duration": 207,
    "start_time": "2021-07-07T19:02:02.100Z"
   },
   {
    "duration": 331,
    "start_time": "2021-07-07T19:36:02.290Z"
   },
   {
    "duration": 307,
    "start_time": "2021-07-07T19:36:23.673Z"
   },
   {
    "duration": 396,
    "start_time": "2021-07-07T19:36:46.755Z"
   },
   {
    "duration": 399,
    "start_time": "2021-07-07T19:38:34.157Z"
   },
   {
    "duration": 372,
    "start_time": "2021-07-07T19:39:52.048Z"
   },
   {
    "duration": 358,
    "start_time": "2021-07-07T19:40:18.850Z"
   },
   {
    "duration": 352,
    "start_time": "2021-07-07T19:40:37.061Z"
   },
   {
    "duration": 375,
    "start_time": "2021-07-07T19:40:50.202Z"
   },
   {
    "duration": 412,
    "start_time": "2021-07-07T19:42:19.869Z"
   },
   {
    "duration": 10676,
    "start_time": "2021-07-07T19:42:34.969Z"
   },
   {
    "duration": 299,
    "start_time": "2021-07-07T19:42:50.263Z"
   },
   {
    "duration": 7018,
    "start_time": "2021-07-07T19:43:55.047Z"
   },
   {
    "duration": 435,
    "start_time": "2021-07-07T19:44:04.948Z"
   },
   {
    "duration": 307,
    "start_time": "2021-07-07T19:44:54.644Z"
   },
   {
    "duration": 329,
    "start_time": "2021-07-07T19:45:13.303Z"
   },
   {
    "duration": 300,
    "start_time": "2021-07-07T19:45:43.454Z"
   },
   {
    "duration": 291,
    "start_time": "2021-07-07T19:45:58.036Z"
   },
   {
    "duration": 530,
    "start_time": "2021-07-07T19:46:24.704Z"
   },
   {
    "duration": 309,
    "start_time": "2021-07-07T19:46:48.363Z"
   },
   {
    "duration": 664,
    "start_time": "2021-07-07T19:47:10.958Z"
   },
   {
    "duration": 568,
    "start_time": "2021-07-07T19:47:27.850Z"
   },
   {
    "duration": 551,
    "start_time": "2021-07-07T19:48:08.495Z"
   },
   {
    "duration": 547,
    "start_time": "2021-07-07T19:48:51.195Z"
   },
   {
    "duration": 554,
    "start_time": "2021-07-07T19:49:16.372Z"
   },
   {
    "duration": 565,
    "start_time": "2021-07-07T19:49:42.098Z"
   },
   {
    "duration": 308,
    "start_time": "2021-07-07T19:50:04.994Z"
   },
   {
    "duration": 288,
    "start_time": "2021-07-07T19:50:58.314Z"
   },
   {
    "duration": 580,
    "start_time": "2021-07-07T19:53:06.746Z"
   },
   {
    "duration": 582,
    "start_time": "2021-07-07T19:53:47.085Z"
   },
   {
    "duration": 321,
    "start_time": "2021-07-07T19:53:52.320Z"
   },
   {
    "duration": 578,
    "start_time": "2021-07-07T19:56:25.737Z"
   },
   {
    "duration": 533,
    "start_time": "2021-07-07T19:56:36.016Z"
   },
   {
    "duration": 370,
    "start_time": "2021-07-07T19:57:14.461Z"
   },
   {
    "duration": 404,
    "start_time": "2021-07-07T19:57:23.020Z"
   },
   {
    "duration": 532,
    "start_time": "2021-07-07T19:58:08.027Z"
   },
   {
    "duration": 581,
    "start_time": "2021-07-07T20:00:01.019Z"
   },
   {
    "duration": 391,
    "start_time": "2021-07-07T20:00:35.133Z"
   },
   {
    "duration": 689,
    "start_time": "2021-07-07T20:01:15.603Z"
   },
   {
    "duration": 704,
    "start_time": "2021-07-07T20:01:32.727Z"
   },
   {
    "duration": 579,
    "start_time": "2021-07-07T20:02:18.831Z"
   },
   {
    "duration": 622,
    "start_time": "2021-07-07T20:02:48.114Z"
   },
   {
    "duration": 565,
    "start_time": "2021-07-07T20:03:27.082Z"
   },
   {
    "duration": 84,
    "start_time": "2021-07-07T20:07:03.749Z"
   },
   {
    "duration": 527,
    "start_time": "2021-07-07T20:07:10.018Z"
   },
   {
    "duration": 536,
    "start_time": "2021-07-07T20:07:31.934Z"
   },
   {
    "duration": 715,
    "start_time": "2021-07-07T20:08:31.078Z"
   },
   {
    "duration": 508,
    "start_time": "2021-07-07T20:08:49.444Z"
   },
   {
    "duration": 335,
    "start_time": "2021-07-07T20:08:57.143Z"
   },
   {
    "duration": 5272,
    "start_time": "2021-07-07T20:09:10.838Z"
   },
   {
    "duration": -524,
    "start_time": "2021-07-07T20:10:17.080Z"
   },
   {
    "duration": 5272,
    "start_time": "2021-07-07T20:11:06.299Z"
   },
   {
    "duration": 5072,
    "start_time": "2021-07-07T20:11:32.477Z"
   },
   {
    "duration": 283,
    "start_time": "2021-07-07T20:12:21.791Z"
   },
   {
    "duration": 304,
    "start_time": "2021-07-07T20:12:41.161Z"
   },
   {
    "duration": 304,
    "start_time": "2021-07-07T20:13:31.490Z"
   },
   {
    "duration": 4885,
    "start_time": "2021-07-07T20:13:47.840Z"
   },
   {
    "duration": 4882,
    "start_time": "2021-07-07T20:14:03.312Z"
   },
   {
    "duration": 1460,
    "start_time": "2021-07-07T20:14:31.986Z"
   },
   {
    "duration": 3696,
    "start_time": "2021-07-07T20:15:01.871Z"
   },
   {
    "duration": 3951,
    "start_time": "2021-07-07T20:16:18.830Z"
   },
   {
    "duration": 4057,
    "start_time": "2021-07-07T20:17:16.157Z"
   },
   {
    "duration": 9775,
    "start_time": "2021-07-07T20:18:53.268Z"
   },
   {
    "duration": 9576,
    "start_time": "2021-07-07T20:40:03.025Z"
   },
   {
    "duration": 9959,
    "start_time": "2021-07-07T20:40:48.622Z"
   },
   {
    "duration": 84,
    "start_time": "2021-07-07T20:49:27.933Z"
   },
   {
    "duration": 9,
    "start_time": "2021-07-07T21:11:09.217Z"
   },
   {
    "duration": 1638,
    "start_time": "2021-07-08T09:07:55.924Z"
   },
   {
    "duration": 6931,
    "start_time": "2021-07-08T09:07:57.565Z"
   },
   {
    "duration": 56,
    "start_time": "2021-07-08T09:08:04.499Z"
   },
   {
    "duration": 110,
    "start_time": "2021-07-08T09:08:04.557Z"
   },
   {
    "duration": 171,
    "start_time": "2021-07-08T09:08:04.670Z"
   },
   {
    "duration": 131,
    "start_time": "2021-07-08T09:08:04.843Z"
   },
   {
    "duration": 452,
    "start_time": "2021-07-08T09:08:04.980Z"
   },
   {
    "duration": 178,
    "start_time": "2021-07-08T09:08:05.435Z"
   },
   {
    "duration": 231,
    "start_time": "2021-07-08T09:08:05.615Z"
   },
   {
    "duration": 330,
    "start_time": "2021-07-08T09:08:05.856Z"
   },
   {
    "duration": 9632,
    "start_time": "2021-07-08T09:08:06.188Z"
   },
   {
    "duration": 77,
    "start_time": "2021-07-08T09:08:15.823Z"
   },
   {
    "duration": 25,
    "start_time": "2021-07-08T09:08:15.903Z"
   },
   {
    "duration": 111,
    "start_time": "2021-07-08T09:08:15.931Z"
   },
   {
    "duration": 19,
    "start_time": "2021-07-08T09:08:16.044Z"
   },
   {
    "duration": 207,
    "start_time": "2021-07-08T09:08:16.065Z"
   },
   {
    "duration": 4,
    "start_time": "2021-07-08T15:14:51.505Z"
   },
   {
    "duration": 2405,
    "start_time": "2021-07-08T15:14:51.512Z"
   },
   {
    "duration": 49,
    "start_time": "2021-07-08T15:14:53.920Z"
   },
   {
    "duration": 128,
    "start_time": "2021-07-08T15:14:53.971Z"
   },
   {
    "duration": 165,
    "start_time": "2021-07-08T15:14:54.102Z"
   },
   {
    "duration": 91,
    "start_time": "2021-07-08T15:14:54.271Z"
   },
   {
    "duration": 324,
    "start_time": "2021-07-08T15:14:54.366Z"
   },
   {
    "duration": 135,
    "start_time": "2021-07-08T15:14:54.693Z"
   },
   {
    "duration": 207,
    "start_time": "2021-07-08T15:14:54.830Z"
   },
   {
    "duration": 300,
    "start_time": "2021-07-08T15:14:55.040Z"
   },
   {
    "duration": 9585,
    "start_time": "2021-07-08T15:14:55.342Z"
   },
   {
    "duration": 74,
    "start_time": "2021-07-08T15:15:04.930Z"
   },
   {
    "duration": 53,
    "start_time": "2021-07-08T15:15:05.006Z"
   },
   {
    "duration": 83,
    "start_time": "2021-07-08T15:15:05.062Z"
   },
   {
    "duration": 11,
    "start_time": "2021-07-08T15:15:05.156Z"
   },
   {
    "duration": 207,
    "start_time": "2021-07-08T15:15:05.169Z"
   }
  ],
  "kernelspec": {
   "display_name": "Python 3",
   "language": "python",
   "name": "python3"
  },
  "language_info": {
   "codemirror_mode": {
    "name": "ipython",
    "version": 3
   },
   "file_extension": ".py",
   "mimetype": "text/x-python",
   "name": "python",
   "nbconvert_exporter": "python",
   "pygments_lexer": "ipython3",
   "version": "3.8.8"
  },
  "toc": {
   "base_numbering": 1,
   "nav_menu": {},
   "number_sections": true,
   "sideBar": true,
   "skip_h1_title": true,
   "title_cell": "Table of Contents",
   "title_sidebar": "Contents",
   "toc_cell": false,
   "toc_position": {},
   "toc_section_display": true,
   "toc_window_display": false
  }
 },
 "nbformat": 4,
 "nbformat_minor": 2
}
