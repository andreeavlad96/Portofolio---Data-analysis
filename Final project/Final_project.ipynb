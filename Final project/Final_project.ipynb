{
 "cells": [
  {
   "cell_type": "markdown",
   "id": "02366baf",
   "metadata": {},
   "source": [
    "Link archive : https://drive.google.com/file/d/1HGDp7CJtugifk_qWTNgILLiXsz8rjoKQ/view?usp=sharing"
   ]
  },
  {
   "cell_type": "markdown",
   "id": "763be16a",
   "metadata": {},
   "source": [
    "### Project description : <br>\n",
    "The datasets contain data on the use of the virtual telephony service CallMeMaybe. Its clients are organizations that need to distribute large numbers of incoming calls among various operators, or make outgoing calls through their operators. Operators can also make internal calls to communicate with one another. These calls go through CallMeMaybe's network."
   ]
  },
  {
   "cell_type": "markdown",
   "id": "32b0d288",
   "metadata": {},
   "source": [
    "### Task : <br>\n",
    "Determinate ineffective operators by finding the probability that an operator is missing a large number of incoming calls, has a long waiting time for incoming calls and a small number of outgoing calls."
   ]
  },
  {
   "cell_type": "markdown",
   "id": "0607f44f",
   "metadata": {},
   "source": [
    "### Task decomposed :<br>\n",
    "####    * Data preprocessing :\n",
    "        * Study missing values ;\n",
    "        * Study data type ;\n",
    "####    * Exploratory data analysis :\n",
    "        * Analyse the number of calls per day based on call direction, look at the average number and decide which number should be considered too small for the sample . Plot a histogram and describe the results.\n",
    "        * Study the share of internal and external calls for each day and describe the findings. Plot a pie chart.\n",
    "        * Study the call length for incoming calls for those with waiting time and without waiting time. Compare the results. Plot a histogram for each of them.\n",
    "        * Calculate the number of missing calls per day for each operator. Plot a histogram.\n",
    "        * Determinate ineffective operators.\n",
    "####     * Test the hypotheses :\n",
    "        * Incoming calls have a larger number of missing calls than outcoming calls ;\n",
    "        * Users with A tariff plan have a longer waiting time for incoming calls than average ; \n",
    "        * Users with C tariff plan have a smaller number of outgoing calls than users with B tariff plan ;\n",
    "####     * Conclusion ;"
   ]
  },
  {
   "cell_type": "code",
   "execution_count": 1,
   "id": "9fa2713c",
   "metadata": {},
   "outputs": [],
   "source": [
    "import pandas as pd\n",
    "import numpy as np\n",
    "import matplotlib.pyplot as plt\n",
    "import seaborn as sns\n",
    "from scipy import stats as st\n",
    "import sys\n",
    "import warnings\n",
    "if not sys.warnoptions:\n",
    "       warnings.simplefilter(\"ignore\")\n"
   ]
  },
  {
   "cell_type": "code",
   "execution_count": 2,
   "id": "ce0b114f",
   "metadata": {},
   "outputs": [],
   "source": [
    "dataset = pd.read_csv('/datasets/telecom_dataset_us.csv')\n",
    "clients = pd.read_csv('/datasets/telecom_clients_us.csv')"
   ]
  },
  {
   "cell_type": "code",
   "execution_count": 3,
   "id": "9b62a327",
   "metadata": {},
   "outputs": [
    {
     "data": {
      "text/html": [
       "<div>\n",
       "<style scoped>\n",
       "    .dataframe tbody tr th:only-of-type {\n",
       "        vertical-align: middle;\n",
       "    }\n",
       "\n",
       "    .dataframe tbody tr th {\n",
       "        vertical-align: top;\n",
       "    }\n",
       "\n",
       "    .dataframe thead th {\n",
       "        text-align: right;\n",
       "    }\n",
       "</style>\n",
       "<table border=\"1\" class=\"dataframe\">\n",
       "  <thead>\n",
       "    <tr style=\"text-align: right;\">\n",
       "      <th></th>\n",
       "      <th>user_id</th>\n",
       "      <th>date</th>\n",
       "      <th>direction</th>\n",
       "      <th>internal</th>\n",
       "      <th>operator_id</th>\n",
       "      <th>is_missed_call</th>\n",
       "      <th>calls_count</th>\n",
       "      <th>call_duration</th>\n",
       "      <th>total_call_duration</th>\n",
       "    </tr>\n",
       "  </thead>\n",
       "  <tbody>\n",
       "    <tr>\n",
       "      <td>0</td>\n",
       "      <td>166377</td>\n",
       "      <td>2019-08-04 00:00:00+03:00</td>\n",
       "      <td>in</td>\n",
       "      <td>False</td>\n",
       "      <td>NaN</td>\n",
       "      <td>True</td>\n",
       "      <td>2</td>\n",
       "      <td>0</td>\n",
       "      <td>4</td>\n",
       "    </tr>\n",
       "    <tr>\n",
       "      <td>1</td>\n",
       "      <td>166377</td>\n",
       "      <td>2019-08-05 00:00:00+03:00</td>\n",
       "      <td>out</td>\n",
       "      <td>True</td>\n",
       "      <td>880022.0</td>\n",
       "      <td>True</td>\n",
       "      <td>3</td>\n",
       "      <td>0</td>\n",
       "      <td>5</td>\n",
       "    </tr>\n",
       "    <tr>\n",
       "      <td>2</td>\n",
       "      <td>166377</td>\n",
       "      <td>2019-08-05 00:00:00+03:00</td>\n",
       "      <td>out</td>\n",
       "      <td>True</td>\n",
       "      <td>880020.0</td>\n",
       "      <td>True</td>\n",
       "      <td>1</td>\n",
       "      <td>0</td>\n",
       "      <td>1</td>\n",
       "    </tr>\n",
       "    <tr>\n",
       "      <td>3</td>\n",
       "      <td>166377</td>\n",
       "      <td>2019-08-05 00:00:00+03:00</td>\n",
       "      <td>out</td>\n",
       "      <td>True</td>\n",
       "      <td>880020.0</td>\n",
       "      <td>False</td>\n",
       "      <td>1</td>\n",
       "      <td>10</td>\n",
       "      <td>18</td>\n",
       "    </tr>\n",
       "    <tr>\n",
       "      <td>4</td>\n",
       "      <td>166377</td>\n",
       "      <td>2019-08-05 00:00:00+03:00</td>\n",
       "      <td>out</td>\n",
       "      <td>False</td>\n",
       "      <td>880022.0</td>\n",
       "      <td>True</td>\n",
       "      <td>3</td>\n",
       "      <td>0</td>\n",
       "      <td>25</td>\n",
       "    </tr>\n",
       "    <tr>\n",
       "      <td>...</td>\n",
       "      <td>...</td>\n",
       "      <td>...</td>\n",
       "      <td>...</td>\n",
       "      <td>...</td>\n",
       "      <td>...</td>\n",
       "      <td>...</td>\n",
       "      <td>...</td>\n",
       "      <td>...</td>\n",
       "      <td>...</td>\n",
       "    </tr>\n",
       "    <tr>\n",
       "      <td>53897</td>\n",
       "      <td>168606</td>\n",
       "      <td>2019-11-10 00:00:00+03:00</td>\n",
       "      <td>out</td>\n",
       "      <td>True</td>\n",
       "      <td>957922.0</td>\n",
       "      <td>True</td>\n",
       "      <td>1</td>\n",
       "      <td>0</td>\n",
       "      <td>38</td>\n",
       "    </tr>\n",
       "    <tr>\n",
       "      <td>53898</td>\n",
       "      <td>168606</td>\n",
       "      <td>2019-11-11 00:00:00+03:00</td>\n",
       "      <td>out</td>\n",
       "      <td>True</td>\n",
       "      <td>957922.0</td>\n",
       "      <td>False</td>\n",
       "      <td>2</td>\n",
       "      <td>479</td>\n",
       "      <td>501</td>\n",
       "    </tr>\n",
       "    <tr>\n",
       "      <td>53899</td>\n",
       "      <td>168606</td>\n",
       "      <td>2019-11-15 00:00:00+03:00</td>\n",
       "      <td>out</td>\n",
       "      <td>True</td>\n",
       "      <td>957922.0</td>\n",
       "      <td>False</td>\n",
       "      <td>4</td>\n",
       "      <td>3130</td>\n",
       "      <td>3190</td>\n",
       "    </tr>\n",
       "    <tr>\n",
       "      <td>53900</td>\n",
       "      <td>168606</td>\n",
       "      <td>2019-11-15 00:00:00+03:00</td>\n",
       "      <td>out</td>\n",
       "      <td>True</td>\n",
       "      <td>957922.0</td>\n",
       "      <td>False</td>\n",
       "      <td>4</td>\n",
       "      <td>3130</td>\n",
       "      <td>3190</td>\n",
       "    </tr>\n",
       "    <tr>\n",
       "      <td>53901</td>\n",
       "      <td>168606</td>\n",
       "      <td>2019-11-19 00:00:00+03:00</td>\n",
       "      <td>in</td>\n",
       "      <td>False</td>\n",
       "      <td>NaN</td>\n",
       "      <td>True</td>\n",
       "      <td>2</td>\n",
       "      <td>0</td>\n",
       "      <td>64</td>\n",
       "    </tr>\n",
       "  </tbody>\n",
       "</table>\n",
       "<p>53902 rows × 9 columns</p>\n",
       "</div>"
      ],
      "text/plain": [
       "       user_id                       date direction internal  operator_id  \\\n",
       "0       166377  2019-08-04 00:00:00+03:00        in    False          NaN   \n",
       "1       166377  2019-08-05 00:00:00+03:00       out     True     880022.0   \n",
       "2       166377  2019-08-05 00:00:00+03:00       out     True     880020.0   \n",
       "3       166377  2019-08-05 00:00:00+03:00       out     True     880020.0   \n",
       "4       166377  2019-08-05 00:00:00+03:00       out    False     880022.0   \n",
       "...        ...                        ...       ...      ...          ...   \n",
       "53897   168606  2019-11-10 00:00:00+03:00       out     True     957922.0   \n",
       "53898   168606  2019-11-11 00:00:00+03:00       out     True     957922.0   \n",
       "53899   168606  2019-11-15 00:00:00+03:00       out     True     957922.0   \n",
       "53900   168606  2019-11-15 00:00:00+03:00       out     True     957922.0   \n",
       "53901   168606  2019-11-19 00:00:00+03:00        in    False          NaN   \n",
       "\n",
       "       is_missed_call  calls_count  call_duration  total_call_duration  \n",
       "0                True            2              0                    4  \n",
       "1                True            3              0                    5  \n",
       "2                True            1              0                    1  \n",
       "3               False            1             10                   18  \n",
       "4                True            3              0                   25  \n",
       "...               ...          ...            ...                  ...  \n",
       "53897            True            1              0                   38  \n",
       "53898           False            2            479                  501  \n",
       "53899           False            4           3130                 3190  \n",
       "53900           False            4           3130                 3190  \n",
       "53901            True            2              0                   64  \n",
       "\n",
       "[53902 rows x 9 columns]"
      ]
     },
     "execution_count": 3,
     "metadata": {},
     "output_type": "execute_result"
    }
   ],
   "source": [
    "dataset"
   ]
  },
  {
   "cell_type": "code",
   "execution_count": 4,
   "id": "9353bbff",
   "metadata": {},
   "outputs": [
    {
     "data": {
      "text/html": [
       "<div>\n",
       "<style scoped>\n",
       "    .dataframe tbody tr th:only-of-type {\n",
       "        vertical-align: middle;\n",
       "    }\n",
       "\n",
       "    .dataframe tbody tr th {\n",
       "        vertical-align: top;\n",
       "    }\n",
       "\n",
       "    .dataframe thead th {\n",
       "        text-align: right;\n",
       "    }\n",
       "</style>\n",
       "<table border=\"1\" class=\"dataframe\">\n",
       "  <thead>\n",
       "    <tr style=\"text-align: right;\">\n",
       "      <th></th>\n",
       "      <th>user_id</th>\n",
       "      <th>tariff_plan</th>\n",
       "      <th>date_start</th>\n",
       "    </tr>\n",
       "  </thead>\n",
       "  <tbody>\n",
       "    <tr>\n",
       "      <td>0</td>\n",
       "      <td>166713</td>\n",
       "      <td>A</td>\n",
       "      <td>2019-08-15</td>\n",
       "    </tr>\n",
       "    <tr>\n",
       "      <td>1</td>\n",
       "      <td>166901</td>\n",
       "      <td>A</td>\n",
       "      <td>2019-08-23</td>\n",
       "    </tr>\n",
       "    <tr>\n",
       "      <td>2</td>\n",
       "      <td>168527</td>\n",
       "      <td>A</td>\n",
       "      <td>2019-10-29</td>\n",
       "    </tr>\n",
       "    <tr>\n",
       "      <td>3</td>\n",
       "      <td>167097</td>\n",
       "      <td>A</td>\n",
       "      <td>2019-09-01</td>\n",
       "    </tr>\n",
       "    <tr>\n",
       "      <td>4</td>\n",
       "      <td>168193</td>\n",
       "      <td>A</td>\n",
       "      <td>2019-10-16</td>\n",
       "    </tr>\n",
       "    <tr>\n",
       "      <td>...</td>\n",
       "      <td>...</td>\n",
       "      <td>...</td>\n",
       "      <td>...</td>\n",
       "    </tr>\n",
       "    <tr>\n",
       "      <td>727</td>\n",
       "      <td>166554</td>\n",
       "      <td>B</td>\n",
       "      <td>2019-08-08</td>\n",
       "    </tr>\n",
       "    <tr>\n",
       "      <td>728</td>\n",
       "      <td>166911</td>\n",
       "      <td>B</td>\n",
       "      <td>2019-08-23</td>\n",
       "    </tr>\n",
       "    <tr>\n",
       "      <td>729</td>\n",
       "      <td>167012</td>\n",
       "      <td>B</td>\n",
       "      <td>2019-08-28</td>\n",
       "    </tr>\n",
       "    <tr>\n",
       "      <td>730</td>\n",
       "      <td>166867</td>\n",
       "      <td>B</td>\n",
       "      <td>2019-08-22</td>\n",
       "    </tr>\n",
       "    <tr>\n",
       "      <td>731</td>\n",
       "      <td>166565</td>\n",
       "      <td>B</td>\n",
       "      <td>2019-08-08</td>\n",
       "    </tr>\n",
       "  </tbody>\n",
       "</table>\n",
       "<p>732 rows × 3 columns</p>\n",
       "</div>"
      ],
      "text/plain": [
       "     user_id tariff_plan  date_start\n",
       "0     166713           A  2019-08-15\n",
       "1     166901           A  2019-08-23\n",
       "2     168527           A  2019-10-29\n",
       "3     167097           A  2019-09-01\n",
       "4     168193           A  2019-10-16\n",
       "..       ...         ...         ...\n",
       "727   166554           B  2019-08-08\n",
       "728   166911           B  2019-08-23\n",
       "729   167012           B  2019-08-28\n",
       "730   166867           B  2019-08-22\n",
       "731   166565           B  2019-08-08\n",
       "\n",
       "[732 rows x 3 columns]"
      ]
     },
     "execution_count": 4,
     "metadata": {},
     "output_type": "execute_result"
    }
   ],
   "source": [
    "clients"
   ]
  },
  {
   "cell_type": "code",
   "execution_count": 5,
   "id": "babb4800",
   "metadata": {},
   "outputs": [
    {
     "name": "stdout",
     "output_type": "stream",
     "text": [
      "<class 'pandas.core.frame.DataFrame'>\n",
      "RangeIndex: 53902 entries, 0 to 53901\n",
      "Data columns (total 9 columns):\n",
      "user_id                53902 non-null int64\n",
      "date                   53902 non-null object\n",
      "direction              53902 non-null object\n",
      "internal               53785 non-null object\n",
      "operator_id            45730 non-null float64\n",
      "is_missed_call         53902 non-null bool\n",
      "calls_count            53902 non-null int64\n",
      "call_duration          53902 non-null int64\n",
      "total_call_duration    53902 non-null int64\n",
      "dtypes: bool(1), float64(1), int64(4), object(3)\n",
      "memory usage: 3.3+ MB\n"
     ]
    }
   ],
   "source": [
    "dataset.info()"
   ]
  },
  {
   "cell_type": "code",
   "execution_count": 6,
   "id": "4a20e5c8",
   "metadata": {},
   "outputs": [
    {
     "name": "stdout",
     "output_type": "stream",
     "text": [
      "<class 'pandas.core.frame.DataFrame'>\n",
      "RangeIndex: 732 entries, 0 to 731\n",
      "Data columns (total 3 columns):\n",
      "user_id        732 non-null int64\n",
      "tariff_plan    732 non-null object\n",
      "date_start     732 non-null object\n",
      "dtypes: int64(1), object(2)\n",
      "memory usage: 17.3+ KB\n"
     ]
    }
   ],
   "source": [
    "clients.info()"
   ]
  },
  {
   "cell_type": "markdown",
   "id": "f3609132",
   "metadata": {},
   "source": [
    "#### Study the missing values"
   ]
  },
  {
   "cell_type": "code",
   "execution_count": 7,
   "id": "6dac3957",
   "metadata": {},
   "outputs": [
    {
     "data": {
      "text/plain": [
       "user_id                53902\n",
       "date                   53902\n",
       "direction              53902\n",
       "internal               53902\n",
       "operator_id            53902\n",
       "is_missed_call         53902\n",
       "calls_count            53902\n",
       "call_duration          53902\n",
       "total_call_duration    53902\n",
       "dtype: int64"
      ]
     },
     "execution_count": 7,
     "metadata": {},
     "output_type": "execute_result"
    }
   ],
   "source": [
    "dataset.isnull().count()"
   ]
  },
  {
   "cell_type": "code",
   "execution_count": 8,
   "id": "a315bdd2",
   "metadata": {},
   "outputs": [
    {
     "data": {
      "text/plain": [
       "user_id        732\n",
       "tariff_plan    732\n",
       "date_start     732\n",
       "dtype: int64"
      ]
     },
     "execution_count": 8,
     "metadata": {},
     "output_type": "execute_result"
    }
   ],
   "source": [
    "clients.isnull().count()"
   ]
  },
  {
   "cell_type": "code",
   "execution_count": 9,
   "id": "89ddd495",
   "metadata": {},
   "outputs": [
    {
     "data": {
      "text/plain": [
       "user_id                   0\n",
       "date                      0\n",
       "direction                 0\n",
       "internal                117\n",
       "operator_id            8172\n",
       "is_missed_call            0\n",
       "calls_count               0\n",
       "call_duration             0\n",
       "total_call_duration       0\n",
       "dtype: int64"
      ]
     },
     "execution_count": 9,
     "metadata": {},
     "output_type": "execute_result"
    }
   ],
   "source": [
    "dataset.isnull().sum()"
   ]
  },
  {
   "cell_type": "code",
   "execution_count": 10,
   "id": "645027bc",
   "metadata": {},
   "outputs": [
    {
     "data": {
      "text/html": [
       "<div>\n",
       "<style scoped>\n",
       "    .dataframe tbody tr th:only-of-type {\n",
       "        vertical-align: middle;\n",
       "    }\n",
       "\n",
       "    .dataframe tbody tr th {\n",
       "        vertical-align: top;\n",
       "    }\n",
       "\n",
       "    .dataframe thead th {\n",
       "        text-align: right;\n",
       "    }\n",
       "</style>\n",
       "<table border=\"1\" class=\"dataframe\">\n",
       "  <thead>\n",
       "    <tr style=\"text-align: right;\">\n",
       "      <th></th>\n",
       "      <th>user_id</th>\n",
       "      <th>date</th>\n",
       "      <th>direction</th>\n",
       "      <th>internal</th>\n",
       "      <th>operator_id</th>\n",
       "      <th>is_missed_call</th>\n",
       "      <th>calls_count</th>\n",
       "      <th>call_duration</th>\n",
       "      <th>total_call_duration</th>\n",
       "    </tr>\n",
       "  </thead>\n",
       "  <tbody>\n",
       "    <tr>\n",
       "      <td>1007</td>\n",
       "      <td>166405</td>\n",
       "      <td>2019-09-18 00:00:00+03:00</td>\n",
       "      <td>in</td>\n",
       "      <td>NaN</td>\n",
       "      <td>NaN</td>\n",
       "      <td>True</td>\n",
       "      <td>1</td>\n",
       "      <td>0</td>\n",
       "      <td>59</td>\n",
       "    </tr>\n",
       "    <tr>\n",
       "      <td>1090</td>\n",
       "      <td>166405</td>\n",
       "      <td>2019-10-01 00:00:00+03:00</td>\n",
       "      <td>in</td>\n",
       "      <td>NaN</td>\n",
       "      <td>NaN</td>\n",
       "      <td>True</td>\n",
       "      <td>1</td>\n",
       "      <td>0</td>\n",
       "      <td>1</td>\n",
       "    </tr>\n",
       "    <tr>\n",
       "      <td>1864</td>\n",
       "      <td>166406</td>\n",
       "      <td>2019-08-20 00:00:00+03:00</td>\n",
       "      <td>in</td>\n",
       "      <td>NaN</td>\n",
       "      <td>NaN</td>\n",
       "      <td>True</td>\n",
       "      <td>1</td>\n",
       "      <td>0</td>\n",
       "      <td>36</td>\n",
       "    </tr>\n",
       "    <tr>\n",
       "      <td>7523</td>\n",
       "      <td>166604</td>\n",
       "      <td>2019-10-31 00:00:00+03:00</td>\n",
       "      <td>in</td>\n",
       "      <td>NaN</td>\n",
       "      <td>NaN</td>\n",
       "      <td>True</td>\n",
       "      <td>1</td>\n",
       "      <td>0</td>\n",
       "      <td>5</td>\n",
       "    </tr>\n",
       "    <tr>\n",
       "      <td>15046</td>\n",
       "      <td>166884</td>\n",
       "      <td>2019-08-30 00:00:00+03:00</td>\n",
       "      <td>in</td>\n",
       "      <td>NaN</td>\n",
       "      <td>NaN</td>\n",
       "      <td>True</td>\n",
       "      <td>36</td>\n",
       "      <td>0</td>\n",
       "      <td>4</td>\n",
       "    </tr>\n",
       "    <tr>\n",
       "      <td>15055</td>\n",
       "      <td>166884</td>\n",
       "      <td>2019-09-02 00:00:00+03:00</td>\n",
       "      <td>in</td>\n",
       "      <td>NaN</td>\n",
       "      <td>NaN</td>\n",
       "      <td>True</td>\n",
       "      <td>7</td>\n",
       "      <td>0</td>\n",
       "      <td>2</td>\n",
       "    </tr>\n",
       "    <tr>\n",
       "      <td>15093</td>\n",
       "      <td>166884</td>\n",
       "      <td>2019-09-17 00:00:00+03:00</td>\n",
       "      <td>in</td>\n",
       "      <td>NaN</td>\n",
       "      <td>NaN</td>\n",
       "      <td>True</td>\n",
       "      <td>21</td>\n",
       "      <td>0</td>\n",
       "      <td>9</td>\n",
       "    </tr>\n",
       "    <tr>\n",
       "      <td>15136</td>\n",
       "      <td>166884</td>\n",
       "      <td>2019-10-16 00:00:00+03:00</td>\n",
       "      <td>in</td>\n",
       "      <td>NaN</td>\n",
       "      <td>NaN</td>\n",
       "      <td>True</td>\n",
       "      <td>15</td>\n",
       "      <td>0</td>\n",
       "      <td>10</td>\n",
       "    </tr>\n",
       "    <tr>\n",
       "      <td>20904</td>\n",
       "      <td>167011</td>\n",
       "      <td>2019-09-13 00:00:00+03:00</td>\n",
       "      <td>in</td>\n",
       "      <td>NaN</td>\n",
       "      <td>NaN</td>\n",
       "      <td>True</td>\n",
       "      <td>1</td>\n",
       "      <td>0</td>\n",
       "      <td>7</td>\n",
       "    </tr>\n",
       "    <tr>\n",
       "      <td>21004</td>\n",
       "      <td>167016</td>\n",
       "      <td>2019-10-23 00:00:00+03:00</td>\n",
       "      <td>out</td>\n",
       "      <td>NaN</td>\n",
       "      <td>NaN</td>\n",
       "      <td>True</td>\n",
       "      <td>3</td>\n",
       "      <td>0</td>\n",
       "      <td>196</td>\n",
       "    </tr>\n",
       "    <tr>\n",
       "      <td>24477</td>\n",
       "      <td>167110</td>\n",
       "      <td>2019-09-11 00:00:00+03:00</td>\n",
       "      <td>in</td>\n",
       "      <td>NaN</td>\n",
       "      <td>NaN</td>\n",
       "      <td>True</td>\n",
       "      <td>1</td>\n",
       "      <td>0</td>\n",
       "      <td>4</td>\n",
       "    </tr>\n",
       "    <tr>\n",
       "      <td>24489</td>\n",
       "      <td>167110</td>\n",
       "      <td>2019-09-19 00:00:00+03:00</td>\n",
       "      <td>in</td>\n",
       "      <td>NaN</td>\n",
       "      <td>NaN</td>\n",
       "      <td>True</td>\n",
       "      <td>1</td>\n",
       "      <td>0</td>\n",
       "      <td>5</td>\n",
       "    </tr>\n",
       "    <tr>\n",
       "      <td>24493</td>\n",
       "      <td>167110</td>\n",
       "      <td>2019-09-20 00:00:00+03:00</td>\n",
       "      <td>in</td>\n",
       "      <td>NaN</td>\n",
       "      <td>NaN</td>\n",
       "      <td>True</td>\n",
       "      <td>1</td>\n",
       "      <td>0</td>\n",
       "      <td>4</td>\n",
       "    </tr>\n",
       "    <tr>\n",
       "      <td>24494</td>\n",
       "      <td>167110</td>\n",
       "      <td>2019-09-23 00:00:00+03:00</td>\n",
       "      <td>in</td>\n",
       "      <td>NaN</td>\n",
       "      <td>NaN</td>\n",
       "      <td>True</td>\n",
       "      <td>1</td>\n",
       "      <td>0</td>\n",
       "      <td>12</td>\n",
       "    </tr>\n",
       "    <tr>\n",
       "      <td>24497</td>\n",
       "      <td>167110</td>\n",
       "      <td>2019-09-23 00:00:00+03:00</td>\n",
       "      <td>in</td>\n",
       "      <td>NaN</td>\n",
       "      <td>NaN</td>\n",
       "      <td>True</td>\n",
       "      <td>1</td>\n",
       "      <td>0</td>\n",
       "      <td>12</td>\n",
       "    </tr>\n",
       "    <tr>\n",
       "      <td>24500</td>\n",
       "      <td>167110</td>\n",
       "      <td>2019-10-11 00:00:00+03:00</td>\n",
       "      <td>in</td>\n",
       "      <td>NaN</td>\n",
       "      <td>NaN</td>\n",
       "      <td>True</td>\n",
       "      <td>2</td>\n",
       "      <td>0</td>\n",
       "      <td>8</td>\n",
       "    </tr>\n",
       "    <tr>\n",
       "      <td>24505</td>\n",
       "      <td>167110</td>\n",
       "      <td>2019-10-16 00:00:00+03:00</td>\n",
       "      <td>in</td>\n",
       "      <td>NaN</td>\n",
       "      <td>NaN</td>\n",
       "      <td>True</td>\n",
       "      <td>1</td>\n",
       "      <td>0</td>\n",
       "      <td>4</td>\n",
       "    </tr>\n",
       "    <tr>\n",
       "      <td>24508</td>\n",
       "      <td>167110</td>\n",
       "      <td>2019-11-07 00:00:00+03:00</td>\n",
       "      <td>in</td>\n",
       "      <td>NaN</td>\n",
       "      <td>NaN</td>\n",
       "      <td>True</td>\n",
       "      <td>2</td>\n",
       "      <td>0</td>\n",
       "      <td>10</td>\n",
       "    </tr>\n",
       "    <tr>\n",
       "      <td>24509</td>\n",
       "      <td>167110</td>\n",
       "      <td>2019-11-08 00:00:00+03:00</td>\n",
       "      <td>in</td>\n",
       "      <td>NaN</td>\n",
       "      <td>NaN</td>\n",
       "      <td>True</td>\n",
       "      <td>2</td>\n",
       "      <td>0</td>\n",
       "      <td>9</td>\n",
       "    </tr>\n",
       "    <tr>\n",
       "      <td>24513</td>\n",
       "      <td>167110</td>\n",
       "      <td>2019-11-12 00:00:00+03:00</td>\n",
       "      <td>in</td>\n",
       "      <td>NaN</td>\n",
       "      <td>NaN</td>\n",
       "      <td>True</td>\n",
       "      <td>1</td>\n",
       "      <td>0</td>\n",
       "      <td>4</td>\n",
       "    </tr>\n",
       "    <tr>\n",
       "      <td>25139</td>\n",
       "      <td>167125</td>\n",
       "      <td>2019-09-26 00:00:00+03:00</td>\n",
       "      <td>in</td>\n",
       "      <td>NaN</td>\n",
       "      <td>NaN</td>\n",
       "      <td>True</td>\n",
       "      <td>1</td>\n",
       "      <td>0</td>\n",
       "      <td>22</td>\n",
       "    </tr>\n",
       "    <tr>\n",
       "      <td>29986</td>\n",
       "      <td>167272</td>\n",
       "      <td>2019-10-09 00:00:00+03:00</td>\n",
       "      <td>in</td>\n",
       "      <td>NaN</td>\n",
       "      <td>NaN</td>\n",
       "      <td>True</td>\n",
       "      <td>1</td>\n",
       "      <td>0</td>\n",
       "      <td>8</td>\n",
       "    </tr>\n",
       "    <tr>\n",
       "      <td>30048</td>\n",
       "      <td>167272</td>\n",
       "      <td>2019-11-25 00:00:00+03:00</td>\n",
       "      <td>in</td>\n",
       "      <td>NaN</td>\n",
       "      <td>NaN</td>\n",
       "      <td>True</td>\n",
       "      <td>1</td>\n",
       "      <td>0</td>\n",
       "      <td>4</td>\n",
       "    </tr>\n",
       "    <tr>\n",
       "      <td>35725</td>\n",
       "      <td>167534</td>\n",
       "      <td>2019-10-15 00:00:00+03:00</td>\n",
       "      <td>in</td>\n",
       "      <td>NaN</td>\n",
       "      <td>NaN</td>\n",
       "      <td>True</td>\n",
       "      <td>1</td>\n",
       "      <td>0</td>\n",
       "      <td>15</td>\n",
       "    </tr>\n",
       "    <tr>\n",
       "      <td>35859</td>\n",
       "      <td>167545</td>\n",
       "      <td>2019-11-02 00:00:00+03:00</td>\n",
       "      <td>in</td>\n",
       "      <td>NaN</td>\n",
       "      <td>NaN</td>\n",
       "      <td>True</td>\n",
       "      <td>2</td>\n",
       "      <td>0</td>\n",
       "      <td>30</td>\n",
       "    </tr>\n",
       "    <tr>\n",
       "      <td>36251</td>\n",
       "      <td>167599</td>\n",
       "      <td>2019-11-03 00:00:00+03:00</td>\n",
       "      <td>in</td>\n",
       "      <td>NaN</td>\n",
       "      <td>NaN</td>\n",
       "      <td>True</td>\n",
       "      <td>1</td>\n",
       "      <td>0</td>\n",
       "      <td>2</td>\n",
       "    </tr>\n",
       "    <tr>\n",
       "      <td>36640</td>\n",
       "      <td>167626</td>\n",
       "      <td>2019-09-30 00:00:00+03:00</td>\n",
       "      <td>in</td>\n",
       "      <td>NaN</td>\n",
       "      <td>NaN</td>\n",
       "      <td>True</td>\n",
       "      <td>1</td>\n",
       "      <td>0</td>\n",
       "      <td>31</td>\n",
       "    </tr>\n",
       "    <tr>\n",
       "      <td>36806</td>\n",
       "      <td>167626</td>\n",
       "      <td>2019-10-03 00:00:00+03:00</td>\n",
       "      <td>in</td>\n",
       "      <td>NaN</td>\n",
       "      <td>NaN</td>\n",
       "      <td>True</td>\n",
       "      <td>1</td>\n",
       "      <td>0</td>\n",
       "      <td>1</td>\n",
       "    </tr>\n",
       "    <tr>\n",
       "      <td>36915</td>\n",
       "      <td>167626</td>\n",
       "      <td>2019-10-04 00:00:00+03:00</td>\n",
       "      <td>in</td>\n",
       "      <td>NaN</td>\n",
       "      <td>NaN</td>\n",
       "      <td>True</td>\n",
       "      <td>6</td>\n",
       "      <td>0</td>\n",
       "      <td>5</td>\n",
       "    </tr>\n",
       "    <tr>\n",
       "      <td>36963</td>\n",
       "      <td>167626</td>\n",
       "      <td>2019-10-05 00:00:00+03:00</td>\n",
       "      <td>in</td>\n",
       "      <td>NaN</td>\n",
       "      <td>NaN</td>\n",
       "      <td>True</td>\n",
       "      <td>2</td>\n",
       "      <td>0</td>\n",
       "      <td>0</td>\n",
       "    </tr>\n",
       "    <tr>\n",
       "      <td>37156</td>\n",
       "      <td>167626</td>\n",
       "      <td>2019-10-09 00:00:00+03:00</td>\n",
       "      <td>in</td>\n",
       "      <td>NaN</td>\n",
       "      <td>NaN</td>\n",
       "      <td>True</td>\n",
       "      <td>1</td>\n",
       "      <td>0</td>\n",
       "      <td>0</td>\n",
       "    </tr>\n",
       "    <tr>\n",
       "      <td>37306</td>\n",
       "      <td>167626</td>\n",
       "      <td>2019-10-11 00:00:00+03:00</td>\n",
       "      <td>in</td>\n",
       "      <td>NaN</td>\n",
       "      <td>NaN</td>\n",
       "      <td>True</td>\n",
       "      <td>5</td>\n",
       "      <td>0</td>\n",
       "      <td>1</td>\n",
       "    </tr>\n",
       "    <tr>\n",
       "      <td>37353</td>\n",
       "      <td>167626</td>\n",
       "      <td>2019-10-12 00:00:00+03:00</td>\n",
       "      <td>in</td>\n",
       "      <td>NaN</td>\n",
       "      <td>NaN</td>\n",
       "      <td>True</td>\n",
       "      <td>2</td>\n",
       "      <td>0</td>\n",
       "      <td>0</td>\n",
       "    </tr>\n",
       "    <tr>\n",
       "      <td>37580</td>\n",
       "      <td>167626</td>\n",
       "      <td>2019-10-18 00:00:00+03:00</td>\n",
       "      <td>in</td>\n",
       "      <td>NaN</td>\n",
       "      <td>NaN</td>\n",
       "      <td>True</td>\n",
       "      <td>2</td>\n",
       "      <td>0</td>\n",
       "      <td>4</td>\n",
       "    </tr>\n",
       "    <tr>\n",
       "      <td>38000</td>\n",
       "      <td>167650</td>\n",
       "      <td>2019-10-06 00:00:00+03:00</td>\n",
       "      <td>in</td>\n",
       "      <td>NaN</td>\n",
       "      <td>NaN</td>\n",
       "      <td>True</td>\n",
       "      <td>3</td>\n",
       "      <td>0</td>\n",
       "      <td>0</td>\n",
       "    </tr>\n",
       "    <tr>\n",
       "      <td>38070</td>\n",
       "      <td>167650</td>\n",
       "      <td>2019-10-14 00:00:00+03:00</td>\n",
       "      <td>in</td>\n",
       "      <td>NaN</td>\n",
       "      <td>NaN</td>\n",
       "      <td>True</td>\n",
       "      <td>1</td>\n",
       "      <td>0</td>\n",
       "      <td>27</td>\n",
       "    </tr>\n",
       "    <tr>\n",
       "      <td>38113</td>\n",
       "      <td>167650</td>\n",
       "      <td>2019-10-19 00:00:00+03:00</td>\n",
       "      <td>in</td>\n",
       "      <td>NaN</td>\n",
       "      <td>NaN</td>\n",
       "      <td>True</td>\n",
       "      <td>2</td>\n",
       "      <td>0</td>\n",
       "      <td>7</td>\n",
       "    </tr>\n",
       "    <tr>\n",
       "      <td>38153</td>\n",
       "      <td>167650</td>\n",
       "      <td>2019-10-23 00:00:00+03:00</td>\n",
       "      <td>in</td>\n",
       "      <td>NaN</td>\n",
       "      <td>NaN</td>\n",
       "      <td>True</td>\n",
       "      <td>1</td>\n",
       "      <td>0</td>\n",
       "      <td>39</td>\n",
       "    </tr>\n",
       "    <tr>\n",
       "      <td>38166</td>\n",
       "      <td>167650</td>\n",
       "      <td>2019-10-24 00:00:00+03:00</td>\n",
       "      <td>in</td>\n",
       "      <td>NaN</td>\n",
       "      <td>NaN</td>\n",
       "      <td>True</td>\n",
       "      <td>2</td>\n",
       "      <td>0</td>\n",
       "      <td>106</td>\n",
       "    </tr>\n",
       "    <tr>\n",
       "      <td>38358</td>\n",
       "      <td>167650</td>\n",
       "      <td>2019-11-11 00:00:00+03:00</td>\n",
       "      <td>in</td>\n",
       "      <td>NaN</td>\n",
       "      <td>NaN</td>\n",
       "      <td>True</td>\n",
       "      <td>1</td>\n",
       "      <td>0</td>\n",
       "      <td>49</td>\n",
       "    </tr>\n",
       "    <tr>\n",
       "      <td>38426</td>\n",
       "      <td>167650</td>\n",
       "      <td>2019-11-17 00:00:00+03:00</td>\n",
       "      <td>in</td>\n",
       "      <td>NaN</td>\n",
       "      <td>NaN</td>\n",
       "      <td>True</td>\n",
       "      <td>1</td>\n",
       "      <td>0</td>\n",
       "      <td>28</td>\n",
       "    </tr>\n",
       "    <tr>\n",
       "      <td>39518</td>\n",
       "      <td>167747</td>\n",
       "      <td>2019-10-07 00:00:00+03:00</td>\n",
       "      <td>in</td>\n",
       "      <td>NaN</td>\n",
       "      <td>NaN</td>\n",
       "      <td>True</td>\n",
       "      <td>1</td>\n",
       "      <td>0</td>\n",
       "      <td>9</td>\n",
       "    </tr>\n",
       "    <tr>\n",
       "      <td>39519</td>\n",
       "      <td>167747</td>\n",
       "      <td>2019-10-18 00:00:00+03:00</td>\n",
       "      <td>in</td>\n",
       "      <td>NaN</td>\n",
       "      <td>NaN</td>\n",
       "      <td>True</td>\n",
       "      <td>1</td>\n",
       "      <td>0</td>\n",
       "      <td>8</td>\n",
       "    </tr>\n",
       "    <tr>\n",
       "      <td>41379</td>\n",
       "      <td>167852</td>\n",
       "      <td>2019-10-23 00:00:00+03:00</td>\n",
       "      <td>in</td>\n",
       "      <td>NaN</td>\n",
       "      <td>NaN</td>\n",
       "      <td>True</td>\n",
       "      <td>1</td>\n",
       "      <td>0</td>\n",
       "      <td>31</td>\n",
       "    </tr>\n",
       "    <tr>\n",
       "      <td>41407</td>\n",
       "      <td>167852</td>\n",
       "      <td>2019-11-07 00:00:00+03:00</td>\n",
       "      <td>in</td>\n",
       "      <td>NaN</td>\n",
       "      <td>NaN</td>\n",
       "      <td>True</td>\n",
       "      <td>1</td>\n",
       "      <td>0</td>\n",
       "      <td>4</td>\n",
       "    </tr>\n",
       "    <tr>\n",
       "      <td>42922</td>\n",
       "      <td>167977</td>\n",
       "      <td>2019-11-04 00:00:00+03:00</td>\n",
       "      <td>in</td>\n",
       "      <td>NaN</td>\n",
       "      <td>NaN</td>\n",
       "      <td>True</td>\n",
       "      <td>1</td>\n",
       "      <td>0</td>\n",
       "      <td>6</td>\n",
       "    </tr>\n",
       "    <tr>\n",
       "      <td>43466</td>\n",
       "      <td>167998</td>\n",
       "      <td>2019-10-23 00:00:00+03:00</td>\n",
       "      <td>in</td>\n",
       "      <td>NaN</td>\n",
       "      <td>NaN</td>\n",
       "      <td>True</td>\n",
       "      <td>1</td>\n",
       "      <td>0</td>\n",
       "      <td>2</td>\n",
       "    </tr>\n",
       "    <tr>\n",
       "      <td>43860</td>\n",
       "      <td>168018</td>\n",
       "      <td>2019-11-28 00:00:00+03:00</td>\n",
       "      <td>in</td>\n",
       "      <td>NaN</td>\n",
       "      <td>NaN</td>\n",
       "      <td>True</td>\n",
       "      <td>1</td>\n",
       "      <td>0</td>\n",
       "      <td>2</td>\n",
       "    </tr>\n",
       "    <tr>\n",
       "      <td>44353</td>\n",
       "      <td>168041</td>\n",
       "      <td>2019-11-06 00:00:00+03:00</td>\n",
       "      <td>in</td>\n",
       "      <td>NaN</td>\n",
       "      <td>NaN</td>\n",
       "      <td>True</td>\n",
       "      <td>2</td>\n",
       "      <td>0</td>\n",
       "      <td>51</td>\n",
       "    </tr>\n",
       "    <tr>\n",
       "      <td>51367</td>\n",
       "      <td>168291</td>\n",
       "      <td>2019-11-28 00:00:00+03:00</td>\n",
       "      <td>out</td>\n",
       "      <td>NaN</td>\n",
       "      <td>NaN</td>\n",
       "      <td>True</td>\n",
       "      <td>3</td>\n",
       "      <td>0</td>\n",
       "      <td>93</td>\n",
       "    </tr>\n",
       "    <tr>\n",
       "      <td>52042</td>\n",
       "      <td>168361</td>\n",
       "      <td>2019-10-28 00:00:00+03:00</td>\n",
       "      <td>in</td>\n",
       "      <td>NaN</td>\n",
       "      <td>NaN</td>\n",
       "      <td>True</td>\n",
       "      <td>3</td>\n",
       "      <td>0</td>\n",
       "      <td>15</td>\n",
       "    </tr>\n",
       "    <tr>\n",
       "      <td>52187</td>\n",
       "      <td>168361</td>\n",
       "      <td>2019-11-01 00:00:00+03:00</td>\n",
       "      <td>in</td>\n",
       "      <td>NaN</td>\n",
       "      <td>NaN</td>\n",
       "      <td>True</td>\n",
       "      <td>3</td>\n",
       "      <td>0</td>\n",
       "      <td>15</td>\n",
       "    </tr>\n",
       "    <tr>\n",
       "      <td>52202</td>\n",
       "      <td>168361</td>\n",
       "      <td>2019-11-01 00:00:00+03:00</td>\n",
       "      <td>in</td>\n",
       "      <td>NaN</td>\n",
       "      <td>NaN</td>\n",
       "      <td>True</td>\n",
       "      <td>3</td>\n",
       "      <td>0</td>\n",
       "      <td>15</td>\n",
       "    </tr>\n",
       "    <tr>\n",
       "      <td>52462</td>\n",
       "      <td>168361</td>\n",
       "      <td>2019-11-09 00:00:00+03:00</td>\n",
       "      <td>in</td>\n",
       "      <td>NaN</td>\n",
       "      <td>NaN</td>\n",
       "      <td>True</td>\n",
       "      <td>6</td>\n",
       "      <td>0</td>\n",
       "      <td>14</td>\n",
       "    </tr>\n",
       "    <tr>\n",
       "      <td>52590</td>\n",
       "      <td>168361</td>\n",
       "      <td>2019-11-13 00:00:00+03:00</td>\n",
       "      <td>in</td>\n",
       "      <td>NaN</td>\n",
       "      <td>NaN</td>\n",
       "      <td>True</td>\n",
       "      <td>2</td>\n",
       "      <td>0</td>\n",
       "      <td>6</td>\n",
       "    </tr>\n",
       "    <tr>\n",
       "      <td>52621</td>\n",
       "      <td>168361</td>\n",
       "      <td>2019-11-14 00:00:00+03:00</td>\n",
       "      <td>in</td>\n",
       "      <td>NaN</td>\n",
       "      <td>NaN</td>\n",
       "      <td>True</td>\n",
       "      <td>1</td>\n",
       "      <td>0</td>\n",
       "      <td>2</td>\n",
       "    </tr>\n",
       "    <tr>\n",
       "      <td>53717</td>\n",
       "      <td>168579</td>\n",
       "      <td>2019-11-09 00:00:00+03:00</td>\n",
       "      <td>in</td>\n",
       "      <td>NaN</td>\n",
       "      <td>NaN</td>\n",
       "      <td>True</td>\n",
       "      <td>1</td>\n",
       "      <td>0</td>\n",
       "      <td>18</td>\n",
       "    </tr>\n",
       "  </tbody>\n",
       "</table>\n",
       "</div>"
      ],
      "text/plain": [
       "       user_id                       date direction internal  operator_id  \\\n",
       "1007    166405  2019-09-18 00:00:00+03:00        in      NaN          NaN   \n",
       "1090    166405  2019-10-01 00:00:00+03:00        in      NaN          NaN   \n",
       "1864    166406  2019-08-20 00:00:00+03:00        in      NaN          NaN   \n",
       "7523    166604  2019-10-31 00:00:00+03:00        in      NaN          NaN   \n",
       "15046   166884  2019-08-30 00:00:00+03:00        in      NaN          NaN   \n",
       "15055   166884  2019-09-02 00:00:00+03:00        in      NaN          NaN   \n",
       "15093   166884  2019-09-17 00:00:00+03:00        in      NaN          NaN   \n",
       "15136   166884  2019-10-16 00:00:00+03:00        in      NaN          NaN   \n",
       "20904   167011  2019-09-13 00:00:00+03:00        in      NaN          NaN   \n",
       "21004   167016  2019-10-23 00:00:00+03:00       out      NaN          NaN   \n",
       "24477   167110  2019-09-11 00:00:00+03:00        in      NaN          NaN   \n",
       "24489   167110  2019-09-19 00:00:00+03:00        in      NaN          NaN   \n",
       "24493   167110  2019-09-20 00:00:00+03:00        in      NaN          NaN   \n",
       "24494   167110  2019-09-23 00:00:00+03:00        in      NaN          NaN   \n",
       "24497   167110  2019-09-23 00:00:00+03:00        in      NaN          NaN   \n",
       "24500   167110  2019-10-11 00:00:00+03:00        in      NaN          NaN   \n",
       "24505   167110  2019-10-16 00:00:00+03:00        in      NaN          NaN   \n",
       "24508   167110  2019-11-07 00:00:00+03:00        in      NaN          NaN   \n",
       "24509   167110  2019-11-08 00:00:00+03:00        in      NaN          NaN   \n",
       "24513   167110  2019-11-12 00:00:00+03:00        in      NaN          NaN   \n",
       "25139   167125  2019-09-26 00:00:00+03:00        in      NaN          NaN   \n",
       "29986   167272  2019-10-09 00:00:00+03:00        in      NaN          NaN   \n",
       "30048   167272  2019-11-25 00:00:00+03:00        in      NaN          NaN   \n",
       "35725   167534  2019-10-15 00:00:00+03:00        in      NaN          NaN   \n",
       "35859   167545  2019-11-02 00:00:00+03:00        in      NaN          NaN   \n",
       "36251   167599  2019-11-03 00:00:00+03:00        in      NaN          NaN   \n",
       "36640   167626  2019-09-30 00:00:00+03:00        in      NaN          NaN   \n",
       "36806   167626  2019-10-03 00:00:00+03:00        in      NaN          NaN   \n",
       "36915   167626  2019-10-04 00:00:00+03:00        in      NaN          NaN   \n",
       "36963   167626  2019-10-05 00:00:00+03:00        in      NaN          NaN   \n",
       "37156   167626  2019-10-09 00:00:00+03:00        in      NaN          NaN   \n",
       "37306   167626  2019-10-11 00:00:00+03:00        in      NaN          NaN   \n",
       "37353   167626  2019-10-12 00:00:00+03:00        in      NaN          NaN   \n",
       "37580   167626  2019-10-18 00:00:00+03:00        in      NaN          NaN   \n",
       "38000   167650  2019-10-06 00:00:00+03:00        in      NaN          NaN   \n",
       "38070   167650  2019-10-14 00:00:00+03:00        in      NaN          NaN   \n",
       "38113   167650  2019-10-19 00:00:00+03:00        in      NaN          NaN   \n",
       "38153   167650  2019-10-23 00:00:00+03:00        in      NaN          NaN   \n",
       "38166   167650  2019-10-24 00:00:00+03:00        in      NaN          NaN   \n",
       "38358   167650  2019-11-11 00:00:00+03:00        in      NaN          NaN   \n",
       "38426   167650  2019-11-17 00:00:00+03:00        in      NaN          NaN   \n",
       "39518   167747  2019-10-07 00:00:00+03:00        in      NaN          NaN   \n",
       "39519   167747  2019-10-18 00:00:00+03:00        in      NaN          NaN   \n",
       "41379   167852  2019-10-23 00:00:00+03:00        in      NaN          NaN   \n",
       "41407   167852  2019-11-07 00:00:00+03:00        in      NaN          NaN   \n",
       "42922   167977  2019-11-04 00:00:00+03:00        in      NaN          NaN   \n",
       "43466   167998  2019-10-23 00:00:00+03:00        in      NaN          NaN   \n",
       "43860   168018  2019-11-28 00:00:00+03:00        in      NaN          NaN   \n",
       "44353   168041  2019-11-06 00:00:00+03:00        in      NaN          NaN   \n",
       "51367   168291  2019-11-28 00:00:00+03:00       out      NaN          NaN   \n",
       "52042   168361  2019-10-28 00:00:00+03:00        in      NaN          NaN   \n",
       "52187   168361  2019-11-01 00:00:00+03:00        in      NaN          NaN   \n",
       "52202   168361  2019-11-01 00:00:00+03:00        in      NaN          NaN   \n",
       "52462   168361  2019-11-09 00:00:00+03:00        in      NaN          NaN   \n",
       "52590   168361  2019-11-13 00:00:00+03:00        in      NaN          NaN   \n",
       "52621   168361  2019-11-14 00:00:00+03:00        in      NaN          NaN   \n",
       "53717   168579  2019-11-09 00:00:00+03:00        in      NaN          NaN   \n",
       "\n",
       "       is_missed_call  calls_count  call_duration  total_call_duration  \n",
       "1007             True            1              0                   59  \n",
       "1090             True            1              0                    1  \n",
       "1864             True            1              0                   36  \n",
       "7523             True            1              0                    5  \n",
       "15046            True           36              0                    4  \n",
       "15055            True            7              0                    2  \n",
       "15093            True           21              0                    9  \n",
       "15136            True           15              0                   10  \n",
       "20904            True            1              0                    7  \n",
       "21004            True            3              0                  196  \n",
       "24477            True            1              0                    4  \n",
       "24489            True            1              0                    5  \n",
       "24493            True            1              0                    4  \n",
       "24494            True            1              0                   12  \n",
       "24497            True            1              0                   12  \n",
       "24500            True            2              0                    8  \n",
       "24505            True            1              0                    4  \n",
       "24508            True            2              0                   10  \n",
       "24509            True            2              0                    9  \n",
       "24513            True            1              0                    4  \n",
       "25139            True            1              0                   22  \n",
       "29986            True            1              0                    8  \n",
       "30048            True            1              0                    4  \n",
       "35725            True            1              0                   15  \n",
       "35859            True            2              0                   30  \n",
       "36251            True            1              0                    2  \n",
       "36640            True            1              0                   31  \n",
       "36806            True            1              0                    1  \n",
       "36915            True            6              0                    5  \n",
       "36963            True            2              0                    0  \n",
       "37156            True            1              0                    0  \n",
       "37306            True            5              0                    1  \n",
       "37353            True            2              0                    0  \n",
       "37580            True            2              0                    4  \n",
       "38000            True            3              0                    0  \n",
       "38070            True            1              0                   27  \n",
       "38113            True            2              0                    7  \n",
       "38153            True            1              0                   39  \n",
       "38166            True            2              0                  106  \n",
       "38358            True            1              0                   49  \n",
       "38426            True            1              0                   28  \n",
       "39518            True            1              0                    9  \n",
       "39519            True            1              0                    8  \n",
       "41379            True            1              0                   31  \n",
       "41407            True            1              0                    4  \n",
       "42922            True            1              0                    6  \n",
       "43466            True            1              0                    2  \n",
       "43860            True            1              0                    2  \n",
       "44353            True            2              0                   51  \n",
       "51367            True            3              0                   93  \n",
       "52042            True            3              0                   15  \n",
       "52187            True            3              0                   15  \n",
       "52202            True            3              0                   15  \n",
       "52462            True            6              0                   14  \n",
       "52590            True            2              0                    6  \n",
       "52621            True            1              0                    2  \n",
       "53717            True            1              0                   18  "
      ]
     },
     "execution_count": 10,
     "metadata": {},
     "output_type": "execute_result"
    }
   ],
   "source": [
    "dataset[dataset['internal'].isnull() & dataset['operator_id'].isnull()]"
   ]
  },
  {
   "cell_type": "code",
   "execution_count": 11,
   "id": "2929621f",
   "metadata": {},
   "outputs": [
    {
     "data": {
      "text/html": [
       "<div>\n",
       "<style scoped>\n",
       "    .dataframe tbody tr th:only-of-type {\n",
       "        vertical-align: middle;\n",
       "    }\n",
       "\n",
       "    .dataframe tbody tr th {\n",
       "        vertical-align: top;\n",
       "    }\n",
       "\n",
       "    .dataframe thead th {\n",
       "        text-align: right;\n",
       "    }\n",
       "</style>\n",
       "<table border=\"1\" class=\"dataframe\">\n",
       "  <thead>\n",
       "    <tr style=\"text-align: right;\">\n",
       "      <th></th>\n",
       "      <th>user_id</th>\n",
       "      <th>date</th>\n",
       "      <th>direction</th>\n",
       "      <th>internal</th>\n",
       "      <th>operator_id</th>\n",
       "      <th>is_missed_call</th>\n",
       "      <th>calls_count</th>\n",
       "      <th>call_duration</th>\n",
       "      <th>total_call_duration</th>\n",
       "    </tr>\n",
       "  </thead>\n",
       "  <tbody>\n",
       "    <tr>\n",
       "      <td>0</td>\n",
       "      <td>166377</td>\n",
       "      <td>2019-08-04 00:00:00+03:00</td>\n",
       "      <td>in</td>\n",
       "      <td>False</td>\n",
       "      <td>NaN</td>\n",
       "      <td>True</td>\n",
       "      <td>2</td>\n",
       "      <td>0</td>\n",
       "      <td>4</td>\n",
       "    </tr>\n",
       "    <tr>\n",
       "      <td>1</td>\n",
       "      <td>166377</td>\n",
       "      <td>2019-08-05 00:00:00+03:00</td>\n",
       "      <td>out</td>\n",
       "      <td>True</td>\n",
       "      <td>880022.0</td>\n",
       "      <td>True</td>\n",
       "      <td>3</td>\n",
       "      <td>0</td>\n",
       "      <td>5</td>\n",
       "    </tr>\n",
       "    <tr>\n",
       "      <td>2</td>\n",
       "      <td>166377</td>\n",
       "      <td>2019-08-05 00:00:00+03:00</td>\n",
       "      <td>out</td>\n",
       "      <td>True</td>\n",
       "      <td>880020.0</td>\n",
       "      <td>True</td>\n",
       "      <td>1</td>\n",
       "      <td>0</td>\n",
       "      <td>1</td>\n",
       "    </tr>\n",
       "    <tr>\n",
       "      <td>3</td>\n",
       "      <td>166377</td>\n",
       "      <td>2019-08-05 00:00:00+03:00</td>\n",
       "      <td>out</td>\n",
       "      <td>True</td>\n",
       "      <td>880020.0</td>\n",
       "      <td>False</td>\n",
       "      <td>1</td>\n",
       "      <td>10</td>\n",
       "      <td>18</td>\n",
       "    </tr>\n",
       "    <tr>\n",
       "      <td>4</td>\n",
       "      <td>166377</td>\n",
       "      <td>2019-08-05 00:00:00+03:00</td>\n",
       "      <td>out</td>\n",
       "      <td>False</td>\n",
       "      <td>880022.0</td>\n",
       "      <td>True</td>\n",
       "      <td>3</td>\n",
       "      <td>0</td>\n",
       "      <td>25</td>\n",
       "    </tr>\n",
       "    <tr>\n",
       "      <td>...</td>\n",
       "      <td>...</td>\n",
       "      <td>...</td>\n",
       "      <td>...</td>\n",
       "      <td>...</td>\n",
       "      <td>...</td>\n",
       "      <td>...</td>\n",
       "      <td>...</td>\n",
       "      <td>...</td>\n",
       "      <td>...</td>\n",
       "    </tr>\n",
       "    <tr>\n",
       "      <td>53897</td>\n",
       "      <td>168606</td>\n",
       "      <td>2019-11-10 00:00:00+03:00</td>\n",
       "      <td>out</td>\n",
       "      <td>True</td>\n",
       "      <td>957922.0</td>\n",
       "      <td>True</td>\n",
       "      <td>1</td>\n",
       "      <td>0</td>\n",
       "      <td>38</td>\n",
       "    </tr>\n",
       "    <tr>\n",
       "      <td>53898</td>\n",
       "      <td>168606</td>\n",
       "      <td>2019-11-11 00:00:00+03:00</td>\n",
       "      <td>out</td>\n",
       "      <td>True</td>\n",
       "      <td>957922.0</td>\n",
       "      <td>False</td>\n",
       "      <td>2</td>\n",
       "      <td>479</td>\n",
       "      <td>501</td>\n",
       "    </tr>\n",
       "    <tr>\n",
       "      <td>53899</td>\n",
       "      <td>168606</td>\n",
       "      <td>2019-11-15 00:00:00+03:00</td>\n",
       "      <td>out</td>\n",
       "      <td>True</td>\n",
       "      <td>957922.0</td>\n",
       "      <td>False</td>\n",
       "      <td>4</td>\n",
       "      <td>3130</td>\n",
       "      <td>3190</td>\n",
       "    </tr>\n",
       "    <tr>\n",
       "      <td>53900</td>\n",
       "      <td>168606</td>\n",
       "      <td>2019-11-15 00:00:00+03:00</td>\n",
       "      <td>out</td>\n",
       "      <td>True</td>\n",
       "      <td>957922.0</td>\n",
       "      <td>False</td>\n",
       "      <td>4</td>\n",
       "      <td>3130</td>\n",
       "      <td>3190</td>\n",
       "    </tr>\n",
       "    <tr>\n",
       "      <td>53901</td>\n",
       "      <td>168606</td>\n",
       "      <td>2019-11-19 00:00:00+03:00</td>\n",
       "      <td>in</td>\n",
       "      <td>False</td>\n",
       "      <td>NaN</td>\n",
       "      <td>True</td>\n",
       "      <td>2</td>\n",
       "      <td>0</td>\n",
       "      <td>64</td>\n",
       "    </tr>\n",
       "  </tbody>\n",
       "</table>\n",
       "<p>53785 rows × 9 columns</p>\n",
       "</div>"
      ],
      "text/plain": [
       "       user_id                       date direction internal  operator_id  \\\n",
       "0       166377  2019-08-04 00:00:00+03:00        in    False          NaN   \n",
       "1       166377  2019-08-05 00:00:00+03:00       out     True     880022.0   \n",
       "2       166377  2019-08-05 00:00:00+03:00       out     True     880020.0   \n",
       "3       166377  2019-08-05 00:00:00+03:00       out     True     880020.0   \n",
       "4       166377  2019-08-05 00:00:00+03:00       out    False     880022.0   \n",
       "...        ...                        ...       ...      ...          ...   \n",
       "53897   168606  2019-11-10 00:00:00+03:00       out     True     957922.0   \n",
       "53898   168606  2019-11-11 00:00:00+03:00       out     True     957922.0   \n",
       "53899   168606  2019-11-15 00:00:00+03:00       out     True     957922.0   \n",
       "53900   168606  2019-11-15 00:00:00+03:00       out     True     957922.0   \n",
       "53901   168606  2019-11-19 00:00:00+03:00        in    False          NaN   \n",
       "\n",
       "       is_missed_call  calls_count  call_duration  total_call_duration  \n",
       "0                True            2              0                    4  \n",
       "1                True            3              0                    5  \n",
       "2                True            1              0                    1  \n",
       "3               False            1             10                   18  \n",
       "4                True            3              0                   25  \n",
       "...               ...          ...            ...                  ...  \n",
       "53897            True            1              0                   38  \n",
       "53898           False            2            479                  501  \n",
       "53899           False            4           3130                 3190  \n",
       "53900           False            4           3130                 3190  \n",
       "53901            True            2              0                   64  \n",
       "\n",
       "[53785 rows x 9 columns]"
      ]
     },
     "execution_count": 11,
     "metadata": {},
     "output_type": "execute_result"
    }
   ],
   "source": [
    "dataset.dropna(subset = ['internal'])"
   ]
  },
  {
   "cell_type": "markdown",
   "id": "9698043d",
   "metadata": {},
   "source": [
    "There are not so many missing values in 'internal' column and there is no relationship with other columns so I thought that deleting the rows containing those missing values won't affect the results."
   ]
  },
  {
   "cell_type": "code",
   "execution_count": 12,
   "id": "90879f0d",
   "metadata": {},
   "outputs": [],
   "source": [
    "dataset['operator_id']=dataset['operator_id'].fillna(0)"
   ]
  },
  {
   "cell_type": "code",
   "execution_count": 13,
   "id": "97968993",
   "metadata": {},
   "outputs": [
    {
     "data": {
      "text/plain": [
       "0             0.0\n",
       "1        880022.0\n",
       "2        880020.0\n",
       "3        880020.0\n",
       "4        880022.0\n",
       "           ...   \n",
       "53897    957922.0\n",
       "53898    957922.0\n",
       "53899    957922.0\n",
       "53900    957922.0\n",
       "53901         0.0\n",
       "Name: operator_id, Length: 53902, dtype: float64"
      ]
     },
     "execution_count": 13,
     "metadata": {},
     "output_type": "execute_result"
    }
   ],
   "source": [
    "dataset.isnull().sum()\n",
    "dataset['operator_id']"
   ]
  },
  {
   "cell_type": "markdown",
   "id": "2c6a6ad7",
   "metadata": {},
   "source": [
    "Also no relationship between the missing values from 'operator_id' column and the rest of the columns. But since there are more missing values,deleting the rows is not an option because it could affect the results so I just filled the missing values with 0.  "
   ]
  },
  {
   "cell_type": "code",
   "execution_count": 14,
   "id": "7a012c8d",
   "metadata": {
    "scrolled": true
   },
   "outputs": [
    {
     "data": {
      "text/html": [
       "<div>\n",
       "<style scoped>\n",
       "    .dataframe tbody tr th:only-of-type {\n",
       "        vertical-align: middle;\n",
       "    }\n",
       "\n",
       "    .dataframe tbody tr th {\n",
       "        vertical-align: top;\n",
       "    }\n",
       "\n",
       "    .dataframe thead th {\n",
       "        text-align: right;\n",
       "    }\n",
       "</style>\n",
       "<table border=\"1\" class=\"dataframe\">\n",
       "  <thead>\n",
       "    <tr style=\"text-align: right;\">\n",
       "      <th></th>\n",
       "      <th>user_id</th>\n",
       "      <th>date</th>\n",
       "      <th>direction</th>\n",
       "      <th>internal</th>\n",
       "      <th>operator_id</th>\n",
       "      <th>is_missed_call</th>\n",
       "      <th>calls_count</th>\n",
       "      <th>call_duration</th>\n",
       "      <th>total_call_duration</th>\n",
       "    </tr>\n",
       "  </thead>\n",
       "  <tbody>\n",
       "    <tr>\n",
       "      <td>8</td>\n",
       "      <td>166377</td>\n",
       "      <td>2019-08-05 00:00:00+03:00</td>\n",
       "      <td>out</td>\n",
       "      <td>False</td>\n",
       "      <td>880020.0</td>\n",
       "      <td>True</td>\n",
       "      <td>8</td>\n",
       "      <td>0</td>\n",
       "      <td>50</td>\n",
       "    </tr>\n",
       "    <tr>\n",
       "      <td>28</td>\n",
       "      <td>166377</td>\n",
       "      <td>2019-08-12 00:00:00+03:00</td>\n",
       "      <td>in</td>\n",
       "      <td>False</td>\n",
       "      <td>0.0</td>\n",
       "      <td>True</td>\n",
       "      <td>2</td>\n",
       "      <td>0</td>\n",
       "      <td>34</td>\n",
       "    </tr>\n",
       "    <tr>\n",
       "      <td>44</td>\n",
       "      <td>166377</td>\n",
       "      <td>2019-08-14 00:00:00+03:00</td>\n",
       "      <td>out</td>\n",
       "      <td>False</td>\n",
       "      <td>880026.0</td>\n",
       "      <td>False</td>\n",
       "      <td>10</td>\n",
       "      <td>1567</td>\n",
       "      <td>1654</td>\n",
       "    </tr>\n",
       "    <tr>\n",
       "      <td>45</td>\n",
       "      <td>166377</td>\n",
       "      <td>2019-08-14 00:00:00+03:00</td>\n",
       "      <td>in</td>\n",
       "      <td>False</td>\n",
       "      <td>0.0</td>\n",
       "      <td>True</td>\n",
       "      <td>1</td>\n",
       "      <td>0</td>\n",
       "      <td>3</td>\n",
       "    </tr>\n",
       "    <tr>\n",
       "      <td>51</td>\n",
       "      <td>166377</td>\n",
       "      <td>2019-08-15 00:00:00+03:00</td>\n",
       "      <td>out</td>\n",
       "      <td>False</td>\n",
       "      <td>880026.0</td>\n",
       "      <td>False</td>\n",
       "      <td>11</td>\n",
       "      <td>1413</td>\n",
       "      <td>1473</td>\n",
       "    </tr>\n",
       "    <tr>\n",
       "      <td>...</td>\n",
       "      <td>...</td>\n",
       "      <td>...</td>\n",
       "      <td>...</td>\n",
       "      <td>...</td>\n",
       "      <td>...</td>\n",
       "      <td>...</td>\n",
       "      <td>...</td>\n",
       "      <td>...</td>\n",
       "      <td>...</td>\n",
       "    </tr>\n",
       "    <tr>\n",
       "      <td>53869</td>\n",
       "      <td>168601</td>\n",
       "      <td>2019-11-25 00:00:00+03:00</td>\n",
       "      <td>in</td>\n",
       "      <td>False</td>\n",
       "      <td>952914.0</td>\n",
       "      <td>False</td>\n",
       "      <td>7</td>\n",
       "      <td>1229</td>\n",
       "      <td>1282</td>\n",
       "    </tr>\n",
       "    <tr>\n",
       "      <td>53874</td>\n",
       "      <td>168601</td>\n",
       "      <td>2019-11-26 00:00:00+03:00</td>\n",
       "      <td>in</td>\n",
       "      <td>False</td>\n",
       "      <td>952914.0</td>\n",
       "      <td>False</td>\n",
       "      <td>4</td>\n",
       "      <td>539</td>\n",
       "      <td>562</td>\n",
       "    </tr>\n",
       "    <tr>\n",
       "      <td>53875</td>\n",
       "      <td>168601</td>\n",
       "      <td>2019-11-26 00:00:00+03:00</td>\n",
       "      <td>in</td>\n",
       "      <td>False</td>\n",
       "      <td>0.0</td>\n",
       "      <td>True</td>\n",
       "      <td>3</td>\n",
       "      <td>0</td>\n",
       "      <td>35</td>\n",
       "    </tr>\n",
       "    <tr>\n",
       "      <td>53885</td>\n",
       "      <td>168603</td>\n",
       "      <td>2019-11-20 00:00:00+03:00</td>\n",
       "      <td>out</td>\n",
       "      <td>False</td>\n",
       "      <td>959118.0</td>\n",
       "      <td>True</td>\n",
       "      <td>3</td>\n",
       "      <td>0</td>\n",
       "      <td>89</td>\n",
       "    </tr>\n",
       "    <tr>\n",
       "      <td>53900</td>\n",
       "      <td>168606</td>\n",
       "      <td>2019-11-15 00:00:00+03:00</td>\n",
       "      <td>out</td>\n",
       "      <td>True</td>\n",
       "      <td>957922.0</td>\n",
       "      <td>False</td>\n",
       "      <td>4</td>\n",
       "      <td>3130</td>\n",
       "      <td>3190</td>\n",
       "    </tr>\n",
       "  </tbody>\n",
       "</table>\n",
       "<p>4900 rows × 9 columns</p>\n",
       "</div>"
      ],
      "text/plain": [
       "       user_id                       date direction internal  operator_id  \\\n",
       "8       166377  2019-08-05 00:00:00+03:00       out    False     880020.0   \n",
       "28      166377  2019-08-12 00:00:00+03:00        in    False          0.0   \n",
       "44      166377  2019-08-14 00:00:00+03:00       out    False     880026.0   \n",
       "45      166377  2019-08-14 00:00:00+03:00        in    False          0.0   \n",
       "51      166377  2019-08-15 00:00:00+03:00       out    False     880026.0   \n",
       "...        ...                        ...       ...      ...          ...   \n",
       "53869   168601  2019-11-25 00:00:00+03:00        in    False     952914.0   \n",
       "53874   168601  2019-11-26 00:00:00+03:00        in    False     952914.0   \n",
       "53875   168601  2019-11-26 00:00:00+03:00        in    False          0.0   \n",
       "53885   168603  2019-11-20 00:00:00+03:00       out    False     959118.0   \n",
       "53900   168606  2019-11-15 00:00:00+03:00       out     True     957922.0   \n",
       "\n",
       "       is_missed_call  calls_count  call_duration  total_call_duration  \n",
       "8                True            8              0                   50  \n",
       "28               True            2              0                   34  \n",
       "44              False           10           1567                 1654  \n",
       "45               True            1              0                    3  \n",
       "51              False           11           1413                 1473  \n",
       "...               ...          ...            ...                  ...  \n",
       "53869           False            7           1229                 1282  \n",
       "53874           False            4            539                  562  \n",
       "53875            True            3              0                   35  \n",
       "53885            True            3              0                   89  \n",
       "53900           False            4           3130                 3190  \n",
       "\n",
       "[4900 rows x 9 columns]"
      ]
     },
     "execution_count": 14,
     "metadata": {},
     "output_type": "execute_result"
    }
   ],
   "source": [
    "dataset[dataset.duplicated()]"
   ]
  },
  {
   "cell_type": "code",
   "execution_count": 15,
   "id": "42c5a096",
   "metadata": {},
   "outputs": [],
   "source": [
    "dataset = dataset.drop_duplicates()"
   ]
  },
  {
   "cell_type": "code",
   "execution_count": 16,
   "id": "c2690a27",
   "metadata": {},
   "outputs": [
    {
     "data": {
      "text/html": [
       "<div>\n",
       "<style scoped>\n",
       "    .dataframe tbody tr th:only-of-type {\n",
       "        vertical-align: middle;\n",
       "    }\n",
       "\n",
       "    .dataframe tbody tr th {\n",
       "        vertical-align: top;\n",
       "    }\n",
       "\n",
       "    .dataframe thead th {\n",
       "        text-align: right;\n",
       "    }\n",
       "</style>\n",
       "<table border=\"1\" class=\"dataframe\">\n",
       "  <thead>\n",
       "    <tr style=\"text-align: right;\">\n",
       "      <th></th>\n",
       "      <th>user_id</th>\n",
       "      <th>date</th>\n",
       "      <th>direction</th>\n",
       "      <th>internal</th>\n",
       "      <th>operator_id</th>\n",
       "      <th>is_missed_call</th>\n",
       "      <th>calls_count</th>\n",
       "      <th>call_duration</th>\n",
       "      <th>total_call_duration</th>\n",
       "    </tr>\n",
       "  </thead>\n",
       "  <tbody>\n",
       "    <tr>\n",
       "      <td>0</td>\n",
       "      <td>166377</td>\n",
       "      <td>2019-08-04 00:00:00+03:00</td>\n",
       "      <td>in</td>\n",
       "      <td>False</td>\n",
       "      <td>0.0</td>\n",
       "      <td>True</td>\n",
       "      <td>2</td>\n",
       "      <td>0</td>\n",
       "      <td>4</td>\n",
       "    </tr>\n",
       "    <tr>\n",
       "      <td>1</td>\n",
       "      <td>166377</td>\n",
       "      <td>2019-08-05 00:00:00+03:00</td>\n",
       "      <td>out</td>\n",
       "      <td>True</td>\n",
       "      <td>880022.0</td>\n",
       "      <td>True</td>\n",
       "      <td>3</td>\n",
       "      <td>0</td>\n",
       "      <td>5</td>\n",
       "    </tr>\n",
       "    <tr>\n",
       "      <td>2</td>\n",
       "      <td>166377</td>\n",
       "      <td>2019-08-05 00:00:00+03:00</td>\n",
       "      <td>out</td>\n",
       "      <td>True</td>\n",
       "      <td>880020.0</td>\n",
       "      <td>True</td>\n",
       "      <td>1</td>\n",
       "      <td>0</td>\n",
       "      <td>1</td>\n",
       "    </tr>\n",
       "    <tr>\n",
       "      <td>3</td>\n",
       "      <td>166377</td>\n",
       "      <td>2019-08-05 00:00:00+03:00</td>\n",
       "      <td>out</td>\n",
       "      <td>True</td>\n",
       "      <td>880020.0</td>\n",
       "      <td>False</td>\n",
       "      <td>1</td>\n",
       "      <td>10</td>\n",
       "      <td>18</td>\n",
       "    </tr>\n",
       "    <tr>\n",
       "      <td>4</td>\n",
       "      <td>166377</td>\n",
       "      <td>2019-08-05 00:00:00+03:00</td>\n",
       "      <td>out</td>\n",
       "      <td>False</td>\n",
       "      <td>880022.0</td>\n",
       "      <td>True</td>\n",
       "      <td>3</td>\n",
       "      <td>0</td>\n",
       "      <td>25</td>\n",
       "    </tr>\n",
       "    <tr>\n",
       "      <td>...</td>\n",
       "      <td>...</td>\n",
       "      <td>...</td>\n",
       "      <td>...</td>\n",
       "      <td>...</td>\n",
       "      <td>...</td>\n",
       "      <td>...</td>\n",
       "      <td>...</td>\n",
       "      <td>...</td>\n",
       "      <td>...</td>\n",
       "    </tr>\n",
       "    <tr>\n",
       "      <td>53896</td>\n",
       "      <td>168606</td>\n",
       "      <td>2019-11-10 00:00:00+03:00</td>\n",
       "      <td>out</td>\n",
       "      <td>True</td>\n",
       "      <td>957922.0</td>\n",
       "      <td>False</td>\n",
       "      <td>1</td>\n",
       "      <td>0</td>\n",
       "      <td>25</td>\n",
       "    </tr>\n",
       "    <tr>\n",
       "      <td>53897</td>\n",
       "      <td>168606</td>\n",
       "      <td>2019-11-10 00:00:00+03:00</td>\n",
       "      <td>out</td>\n",
       "      <td>True</td>\n",
       "      <td>957922.0</td>\n",
       "      <td>True</td>\n",
       "      <td>1</td>\n",
       "      <td>0</td>\n",
       "      <td>38</td>\n",
       "    </tr>\n",
       "    <tr>\n",
       "      <td>53898</td>\n",
       "      <td>168606</td>\n",
       "      <td>2019-11-11 00:00:00+03:00</td>\n",
       "      <td>out</td>\n",
       "      <td>True</td>\n",
       "      <td>957922.0</td>\n",
       "      <td>False</td>\n",
       "      <td>2</td>\n",
       "      <td>479</td>\n",
       "      <td>501</td>\n",
       "    </tr>\n",
       "    <tr>\n",
       "      <td>53899</td>\n",
       "      <td>168606</td>\n",
       "      <td>2019-11-15 00:00:00+03:00</td>\n",
       "      <td>out</td>\n",
       "      <td>True</td>\n",
       "      <td>957922.0</td>\n",
       "      <td>False</td>\n",
       "      <td>4</td>\n",
       "      <td>3130</td>\n",
       "      <td>3190</td>\n",
       "    </tr>\n",
       "    <tr>\n",
       "      <td>53901</td>\n",
       "      <td>168606</td>\n",
       "      <td>2019-11-19 00:00:00+03:00</td>\n",
       "      <td>in</td>\n",
       "      <td>False</td>\n",
       "      <td>0.0</td>\n",
       "      <td>True</td>\n",
       "      <td>2</td>\n",
       "      <td>0</td>\n",
       "      <td>64</td>\n",
       "    </tr>\n",
       "  </tbody>\n",
       "</table>\n",
       "<p>49002 rows × 9 columns</p>\n",
       "</div>"
      ],
      "text/plain": [
       "       user_id                       date direction internal  operator_id  \\\n",
       "0       166377  2019-08-04 00:00:00+03:00        in    False          0.0   \n",
       "1       166377  2019-08-05 00:00:00+03:00       out     True     880022.0   \n",
       "2       166377  2019-08-05 00:00:00+03:00       out     True     880020.0   \n",
       "3       166377  2019-08-05 00:00:00+03:00       out     True     880020.0   \n",
       "4       166377  2019-08-05 00:00:00+03:00       out    False     880022.0   \n",
       "...        ...                        ...       ...      ...          ...   \n",
       "53896   168606  2019-11-10 00:00:00+03:00       out     True     957922.0   \n",
       "53897   168606  2019-11-10 00:00:00+03:00       out     True     957922.0   \n",
       "53898   168606  2019-11-11 00:00:00+03:00       out     True     957922.0   \n",
       "53899   168606  2019-11-15 00:00:00+03:00       out     True     957922.0   \n",
       "53901   168606  2019-11-19 00:00:00+03:00        in    False          0.0   \n",
       "\n",
       "       is_missed_call  calls_count  call_duration  total_call_duration  \n",
       "0                True            2              0                    4  \n",
       "1                True            3              0                    5  \n",
       "2                True            1              0                    1  \n",
       "3               False            1             10                   18  \n",
       "4                True            3              0                   25  \n",
       "...               ...          ...            ...                  ...  \n",
       "53896           False            1              0                   25  \n",
       "53897            True            1              0                   38  \n",
       "53898           False            2            479                  501  \n",
       "53899           False            4           3130                 3190  \n",
       "53901            True            2              0                   64  \n",
       "\n",
       "[49002 rows x 9 columns]"
      ]
     },
     "execution_count": 16,
     "metadata": {},
     "output_type": "execute_result"
    }
   ],
   "source": [
    "#dataset[dataset.duplicated()]\n",
    "dataset"
   ]
  },
  {
   "cell_type": "code",
   "execution_count": 17,
   "id": "97059074",
   "metadata": {},
   "outputs": [
    {
     "data": {
      "text/html": [
       "<div>\n",
       "<style scoped>\n",
       "    .dataframe tbody tr th:only-of-type {\n",
       "        vertical-align: middle;\n",
       "    }\n",
       "\n",
       "    .dataframe tbody tr th {\n",
       "        vertical-align: top;\n",
       "    }\n",
       "\n",
       "    .dataframe thead th {\n",
       "        text-align: right;\n",
       "    }\n",
       "</style>\n",
       "<table border=\"1\" class=\"dataframe\">\n",
       "  <thead>\n",
       "    <tr style=\"text-align: right;\">\n",
       "      <th></th>\n",
       "      <th>user_id</th>\n",
       "      <th>date</th>\n",
       "      <th>direction</th>\n",
       "      <th>internal</th>\n",
       "      <th>operator_id</th>\n",
       "      <th>is_missed_call</th>\n",
       "      <th>calls_count</th>\n",
       "      <th>call_duration</th>\n",
       "      <th>total_call_duration</th>\n",
       "    </tr>\n",
       "  </thead>\n",
       "  <tbody>\n",
       "    <tr>\n",
       "      <td>1078</td>\n",
       "      <td>166405</td>\n",
       "      <td>2019-09-30 00:00:00+03:00</td>\n",
       "      <td>in</td>\n",
       "      <td>False</td>\n",
       "      <td>0.0</td>\n",
       "      <td>True</td>\n",
       "      <td>598</td>\n",
       "      <td>0</td>\n",
       "      <td>352</td>\n",
       "    </tr>\n",
       "    <tr>\n",
       "      <td>1085</td>\n",
       "      <td>166405</td>\n",
       "      <td>2019-10-01 00:00:00+03:00</td>\n",
       "      <td>in</td>\n",
       "      <td>False</td>\n",
       "      <td>0.0</td>\n",
       "      <td>True</td>\n",
       "      <td>714</td>\n",
       "      <td>0</td>\n",
       "      <td>467</td>\n",
       "    </tr>\n",
       "    <tr>\n",
       "      <td>1094</td>\n",
       "      <td>166405</td>\n",
       "      <td>2019-10-02 00:00:00+03:00</td>\n",
       "      <td>in</td>\n",
       "      <td>False</td>\n",
       "      <td>0.0</td>\n",
       "      <td>True</td>\n",
       "      <td>357</td>\n",
       "      <td>0</td>\n",
       "      <td>3940</td>\n",
       "    </tr>\n",
       "    <tr>\n",
       "      <td>6579</td>\n",
       "      <td>166582</td>\n",
       "      <td>2019-08-13 00:00:00+03:00</td>\n",
       "      <td>out</td>\n",
       "      <td>False</td>\n",
       "      <td>885890.0</td>\n",
       "      <td>False</td>\n",
       "      <td>308</td>\n",
       "      <td>35126</td>\n",
       "      <td>40739</td>\n",
       "    </tr>\n",
       "    <tr>\n",
       "      <td>6599</td>\n",
       "      <td>166582</td>\n",
       "      <td>2019-08-15 00:00:00+03:00</td>\n",
       "      <td>out</td>\n",
       "      <td>False</td>\n",
       "      <td>885890.0</td>\n",
       "      <td>False</td>\n",
       "      <td>417</td>\n",
       "      <td>42258</td>\n",
       "      <td>49942</td>\n",
       "    </tr>\n",
       "    <tr>\n",
       "      <td>...</td>\n",
       "      <td>...</td>\n",
       "      <td>...</td>\n",
       "      <td>...</td>\n",
       "      <td>...</td>\n",
       "      <td>...</td>\n",
       "      <td>...</td>\n",
       "      <td>...</td>\n",
       "      <td>...</td>\n",
       "      <td>...</td>\n",
       "    </tr>\n",
       "    <tr>\n",
       "      <td>52950</td>\n",
       "      <td>168361</td>\n",
       "      <td>2019-11-23 00:00:00+03:00</td>\n",
       "      <td>in</td>\n",
       "      <td>False</td>\n",
       "      <td>0.0</td>\n",
       "      <td>True</td>\n",
       "      <td>409</td>\n",
       "      <td>0</td>\n",
       "      <td>843</td>\n",
       "    </tr>\n",
       "    <tr>\n",
       "      <td>53034</td>\n",
       "      <td>168361</td>\n",
       "      <td>2019-11-25 00:00:00+03:00</td>\n",
       "      <td>in</td>\n",
       "      <td>False</td>\n",
       "      <td>0.0</td>\n",
       "      <td>True</td>\n",
       "      <td>465</td>\n",
       "      <td>0</td>\n",
       "      <td>1012</td>\n",
       "    </tr>\n",
       "    <tr>\n",
       "      <td>53042</td>\n",
       "      <td>168361</td>\n",
       "      <td>2019-11-26 00:00:00+03:00</td>\n",
       "      <td>in</td>\n",
       "      <td>False</td>\n",
       "      <td>0.0</td>\n",
       "      <td>True</td>\n",
       "      <td>604</td>\n",
       "      <td>0</td>\n",
       "      <td>1331</td>\n",
       "    </tr>\n",
       "    <tr>\n",
       "      <td>53083</td>\n",
       "      <td>168361</td>\n",
       "      <td>2019-11-27 00:00:00+03:00</td>\n",
       "      <td>in</td>\n",
       "      <td>False</td>\n",
       "      <td>0.0</td>\n",
       "      <td>True</td>\n",
       "      <td>698</td>\n",
       "      <td>0</td>\n",
       "      <td>1500</td>\n",
       "    </tr>\n",
       "    <tr>\n",
       "      <td>53138</td>\n",
       "      <td>168361</td>\n",
       "      <td>2019-11-28 00:00:00+03:00</td>\n",
       "      <td>in</td>\n",
       "      <td>False</td>\n",
       "      <td>0.0</td>\n",
       "      <td>True</td>\n",
       "      <td>748</td>\n",
       "      <td>0</td>\n",
       "      <td>1616</td>\n",
       "    </tr>\n",
       "  </tbody>\n",
       "</table>\n",
       "<p>305 rows × 9 columns</p>\n",
       "</div>"
      ],
      "text/plain": [
       "       user_id                       date direction internal  operator_id  \\\n",
       "1078    166405  2019-09-30 00:00:00+03:00        in    False          0.0   \n",
       "1085    166405  2019-10-01 00:00:00+03:00        in    False          0.0   \n",
       "1094    166405  2019-10-02 00:00:00+03:00        in    False          0.0   \n",
       "6579    166582  2019-08-13 00:00:00+03:00       out    False     885890.0   \n",
       "6599    166582  2019-08-15 00:00:00+03:00       out    False     885890.0   \n",
       "...        ...                        ...       ...      ...          ...   \n",
       "52950   168361  2019-11-23 00:00:00+03:00        in    False          0.0   \n",
       "53034   168361  2019-11-25 00:00:00+03:00        in    False          0.0   \n",
       "53042   168361  2019-11-26 00:00:00+03:00        in    False          0.0   \n",
       "53083   168361  2019-11-27 00:00:00+03:00        in    False          0.0   \n",
       "53138   168361  2019-11-28 00:00:00+03:00        in    False          0.0   \n",
       "\n",
       "       is_missed_call  calls_count  call_duration  total_call_duration  \n",
       "1078             True          598              0                  352  \n",
       "1085             True          714              0                  467  \n",
       "1094             True          357              0                 3940  \n",
       "6579            False          308          35126                40739  \n",
       "6599            False          417          42258                49942  \n",
       "...               ...          ...            ...                  ...  \n",
       "52950            True          409              0                  843  \n",
       "53034            True          465              0                 1012  \n",
       "53042            True          604              0                 1331  \n",
       "53083            True          698              0                 1500  \n",
       "53138            True          748              0                 1616  \n",
       "\n",
       "[305 rows x 9 columns]"
      ]
     },
     "execution_count": 17,
     "metadata": {},
     "output_type": "execute_result"
    }
   ],
   "source": [
    "dataset[dataset['calls_count'] > 300] "
   ]
  },
  {
   "cell_type": "code",
   "execution_count": 18,
   "id": "4e7eb781",
   "metadata": {},
   "outputs": [
    {
     "data": {
      "text/html": [
       "<div>\n",
       "<style scoped>\n",
       "    .dataframe tbody tr th:only-of-type {\n",
       "        vertical-align: middle;\n",
       "    }\n",
       "\n",
       "    .dataframe tbody tr th {\n",
       "        vertical-align: top;\n",
       "    }\n",
       "\n",
       "    .dataframe thead th {\n",
       "        text-align: right;\n",
       "    }\n",
       "</style>\n",
       "<table border=\"1\" class=\"dataframe\">\n",
       "  <thead>\n",
       "    <tr style=\"text-align: right;\">\n",
       "      <th></th>\n",
       "      <th>user_id</th>\n",
       "      <th>date</th>\n",
       "      <th>direction</th>\n",
       "      <th>internal</th>\n",
       "      <th>operator_id</th>\n",
       "      <th>is_missed_call</th>\n",
       "      <th>calls_count</th>\n",
       "      <th>call_duration</th>\n",
       "      <th>total_call_duration</th>\n",
       "    </tr>\n",
       "  </thead>\n",
       "  <tbody>\n",
       "    <tr>\n",
       "      <td>0</td>\n",
       "      <td>166377</td>\n",
       "      <td>2019-08-04 00:00:00+03:00</td>\n",
       "      <td>in</td>\n",
       "      <td>False</td>\n",
       "      <td>0.0</td>\n",
       "      <td>True</td>\n",
       "      <td>2</td>\n",
       "      <td>0</td>\n",
       "      <td>4</td>\n",
       "    </tr>\n",
       "    <tr>\n",
       "      <td>1</td>\n",
       "      <td>166377</td>\n",
       "      <td>2019-08-05 00:00:00+03:00</td>\n",
       "      <td>out</td>\n",
       "      <td>True</td>\n",
       "      <td>880022.0</td>\n",
       "      <td>True</td>\n",
       "      <td>3</td>\n",
       "      <td>0</td>\n",
       "      <td>5</td>\n",
       "    </tr>\n",
       "    <tr>\n",
       "      <td>2</td>\n",
       "      <td>166377</td>\n",
       "      <td>2019-08-05 00:00:00+03:00</td>\n",
       "      <td>out</td>\n",
       "      <td>True</td>\n",
       "      <td>880020.0</td>\n",
       "      <td>True</td>\n",
       "      <td>1</td>\n",
       "      <td>0</td>\n",
       "      <td>1</td>\n",
       "    </tr>\n",
       "    <tr>\n",
       "      <td>3</td>\n",
       "      <td>166377</td>\n",
       "      <td>2019-08-05 00:00:00+03:00</td>\n",
       "      <td>out</td>\n",
       "      <td>True</td>\n",
       "      <td>880020.0</td>\n",
       "      <td>False</td>\n",
       "      <td>1</td>\n",
       "      <td>10</td>\n",
       "      <td>18</td>\n",
       "    </tr>\n",
       "    <tr>\n",
       "      <td>4</td>\n",
       "      <td>166377</td>\n",
       "      <td>2019-08-05 00:00:00+03:00</td>\n",
       "      <td>out</td>\n",
       "      <td>False</td>\n",
       "      <td>880022.0</td>\n",
       "      <td>True</td>\n",
       "      <td>3</td>\n",
       "      <td>0</td>\n",
       "      <td>25</td>\n",
       "    </tr>\n",
       "    <tr>\n",
       "      <td>...</td>\n",
       "      <td>...</td>\n",
       "      <td>...</td>\n",
       "      <td>...</td>\n",
       "      <td>...</td>\n",
       "      <td>...</td>\n",
       "      <td>...</td>\n",
       "      <td>...</td>\n",
       "      <td>...</td>\n",
       "      <td>...</td>\n",
       "    </tr>\n",
       "    <tr>\n",
       "      <td>53896</td>\n",
       "      <td>168606</td>\n",
       "      <td>2019-11-10 00:00:00+03:00</td>\n",
       "      <td>out</td>\n",
       "      <td>True</td>\n",
       "      <td>957922.0</td>\n",
       "      <td>False</td>\n",
       "      <td>1</td>\n",
       "      <td>0</td>\n",
       "      <td>25</td>\n",
       "    </tr>\n",
       "    <tr>\n",
       "      <td>53897</td>\n",
       "      <td>168606</td>\n",
       "      <td>2019-11-10 00:00:00+03:00</td>\n",
       "      <td>out</td>\n",
       "      <td>True</td>\n",
       "      <td>957922.0</td>\n",
       "      <td>True</td>\n",
       "      <td>1</td>\n",
       "      <td>0</td>\n",
       "      <td>38</td>\n",
       "    </tr>\n",
       "    <tr>\n",
       "      <td>53898</td>\n",
       "      <td>168606</td>\n",
       "      <td>2019-11-11 00:00:00+03:00</td>\n",
       "      <td>out</td>\n",
       "      <td>True</td>\n",
       "      <td>957922.0</td>\n",
       "      <td>False</td>\n",
       "      <td>2</td>\n",
       "      <td>479</td>\n",
       "      <td>501</td>\n",
       "    </tr>\n",
       "    <tr>\n",
       "      <td>53899</td>\n",
       "      <td>168606</td>\n",
       "      <td>2019-11-15 00:00:00+03:00</td>\n",
       "      <td>out</td>\n",
       "      <td>True</td>\n",
       "      <td>957922.0</td>\n",
       "      <td>False</td>\n",
       "      <td>4</td>\n",
       "      <td>3130</td>\n",
       "      <td>3190</td>\n",
       "    </tr>\n",
       "    <tr>\n",
       "      <td>53901</td>\n",
       "      <td>168606</td>\n",
       "      <td>2019-11-19 00:00:00+03:00</td>\n",
       "      <td>in</td>\n",
       "      <td>False</td>\n",
       "      <td>0.0</td>\n",
       "      <td>True</td>\n",
       "      <td>2</td>\n",
       "      <td>0</td>\n",
       "      <td>64</td>\n",
       "    </tr>\n",
       "  </tbody>\n",
       "</table>\n",
       "<p>48697 rows × 9 columns</p>\n",
       "</div>"
      ],
      "text/plain": [
       "       user_id                       date direction internal  operator_id  \\\n",
       "0       166377  2019-08-04 00:00:00+03:00        in    False          0.0   \n",
       "1       166377  2019-08-05 00:00:00+03:00       out     True     880022.0   \n",
       "2       166377  2019-08-05 00:00:00+03:00       out     True     880020.0   \n",
       "3       166377  2019-08-05 00:00:00+03:00       out     True     880020.0   \n",
       "4       166377  2019-08-05 00:00:00+03:00       out    False     880022.0   \n",
       "...        ...                        ...       ...      ...          ...   \n",
       "53896   168606  2019-11-10 00:00:00+03:00       out     True     957922.0   \n",
       "53897   168606  2019-11-10 00:00:00+03:00       out     True     957922.0   \n",
       "53898   168606  2019-11-11 00:00:00+03:00       out     True     957922.0   \n",
       "53899   168606  2019-11-15 00:00:00+03:00       out     True     957922.0   \n",
       "53901   168606  2019-11-19 00:00:00+03:00        in    False          0.0   \n",
       "\n",
       "       is_missed_call  calls_count  call_duration  total_call_duration  \n",
       "0                True            2              0                    4  \n",
       "1                True            3              0                    5  \n",
       "2                True            1              0                    1  \n",
       "3               False            1             10                   18  \n",
       "4                True            3              0                   25  \n",
       "...               ...          ...            ...                  ...  \n",
       "53896           False            1              0                   25  \n",
       "53897            True            1              0                   38  \n",
       "53898           False            2            479                  501  \n",
       "53899           False            4           3130                 3190  \n",
       "53901            True            2              0                   64  \n",
       "\n",
       "[48697 rows x 9 columns]"
      ]
     },
     "execution_count": 18,
     "metadata": {},
     "output_type": "execute_result"
    }
   ],
   "source": [
    "dataset= dataset[dataset['calls_count'] < 300]\n",
    "dataset"
   ]
  },
  {
   "cell_type": "code",
   "execution_count": 19,
   "id": "4d2d8388",
   "metadata": {},
   "outputs": [
    {
     "data": {
      "text/plain": [
       "0       20999\n",
       "1         184\n",
       "7         124\n",
       "8         114\n",
       "15        114\n",
       "        ...  \n",
       "2252        1\n",
       "6318        1\n",
       "4239        1\n",
       "3547        1\n",
       "2938        1\n",
       "Name: call_duration, Length: 5243, dtype: int64"
      ]
     },
     "execution_count": 19,
     "metadata": {},
     "output_type": "execute_result"
    }
   ],
   "source": [
    "dataset['call_duration'].value_counts()"
   ]
  },
  {
   "cell_type": "code",
   "execution_count": 20,
   "id": "3d7f185c",
   "metadata": {},
   "outputs": [
    {
     "data": {
      "text/html": [
       "<div>\n",
       "<style scoped>\n",
       "    .dataframe tbody tr th:only-of-type {\n",
       "        vertical-align: middle;\n",
       "    }\n",
       "\n",
       "    .dataframe tbody tr th {\n",
       "        vertical-align: top;\n",
       "    }\n",
       "\n",
       "    .dataframe thead th {\n",
       "        text-align: right;\n",
       "    }\n",
       "</style>\n",
       "<table border=\"1\" class=\"dataframe\">\n",
       "  <thead>\n",
       "    <tr style=\"text-align: right;\">\n",
       "      <th></th>\n",
       "      <th></th>\n",
       "      <th>user_id</th>\n",
       "      <th>is_missed_call</th>\n",
       "      <th>calls_count</th>\n",
       "      <th>call_duration</th>\n",
       "      <th>total_call_duration</th>\n",
       "    </tr>\n",
       "    <tr>\n",
       "      <th>date</th>\n",
       "      <th>operator_id</th>\n",
       "      <th></th>\n",
       "      <th></th>\n",
       "      <th></th>\n",
       "      <th></th>\n",
       "      <th></th>\n",
       "    </tr>\n",
       "  </thead>\n",
       "  <tbody>\n",
       "    <tr>\n",
       "      <td>2019-08-03 00:00:00+03:00</td>\n",
       "      <td>879898.0</td>\n",
       "      <td>166406</td>\n",
       "      <td>False</td>\n",
       "      <td>14</td>\n",
       "      <td>898</td>\n",
       "      <td>1048</td>\n",
       "    </tr>\n",
       "    <tr>\n",
       "      <td rowspan=\"2\" valign=\"top\">2019-08-05 00:00:00+03:00</td>\n",
       "      <td>879896.0</td>\n",
       "      <td>166406</td>\n",
       "      <td>False</td>\n",
       "      <td>25</td>\n",
       "      <td>1785</td>\n",
       "      <td>1998</td>\n",
       "    </tr>\n",
       "    <tr>\n",
       "      <td>879898.0</td>\n",
       "      <td>166406</td>\n",
       "      <td>False</td>\n",
       "      <td>103</td>\n",
       "      <td>5445</td>\n",
       "      <td>6198</td>\n",
       "    </tr>\n",
       "    <tr>\n",
       "      <td rowspan=\"2\" valign=\"top\">2019-08-06 00:00:00+03:00</td>\n",
       "      <td>879896.0</td>\n",
       "      <td>332812</td>\n",
       "      <td>False</td>\n",
       "      <td>41</td>\n",
       "      <td>4925</td>\n",
       "      <td>5334</td>\n",
       "    </tr>\n",
       "    <tr>\n",
       "      <td>879898.0</td>\n",
       "      <td>166406</td>\n",
       "      <td>False</td>\n",
       "      <td>82</td>\n",
       "      <td>4910</td>\n",
       "      <td>5441</td>\n",
       "    </tr>\n",
       "    <tr>\n",
       "      <td>...</td>\n",
       "      <td>...</td>\n",
       "      <td>...</td>\n",
       "      <td>...</td>\n",
       "      <td>...</td>\n",
       "      <td>...</td>\n",
       "      <td>...</td>\n",
       "    </tr>\n",
       "    <tr>\n",
       "      <td rowspan=\"5\" valign=\"top\">2019-11-28 00:00:00+03:00</td>\n",
       "      <td>970242.0</td>\n",
       "      <td>168225</td>\n",
       "      <td>False</td>\n",
       "      <td>3</td>\n",
       "      <td>1106</td>\n",
       "      <td>1146</td>\n",
       "    </tr>\n",
       "    <tr>\n",
       "      <td>971102.0</td>\n",
       "      <td>168054</td>\n",
       "      <td>False</td>\n",
       "      <td>27</td>\n",
       "      <td>2980</td>\n",
       "      <td>3437</td>\n",
       "    </tr>\n",
       "    <tr>\n",
       "      <td>972410.0</td>\n",
       "      <td>166680</td>\n",
       "      <td>False</td>\n",
       "      <td>26</td>\n",
       "      <td>2283</td>\n",
       "      <td>2552</td>\n",
       "    </tr>\n",
       "    <tr>\n",
       "      <td>972412.0</td>\n",
       "      <td>166680</td>\n",
       "      <td>False</td>\n",
       "      <td>23</td>\n",
       "      <td>1928</td>\n",
       "      <td>2183</td>\n",
       "    </tr>\n",
       "    <tr>\n",
       "      <td>972460.0</td>\n",
       "      <td>166940</td>\n",
       "      <td>False</td>\n",
       "      <td>18</td>\n",
       "      <td>1089</td>\n",
       "      <td>1266</td>\n",
       "    </tr>\n",
       "  </tbody>\n",
       "</table>\n",
       "<p>10589 rows × 5 columns</p>\n",
       "</div>"
      ],
      "text/plain": [
       "                                       user_id  is_missed_call  calls_count  \\\n",
       "date                      operator_id                                         \n",
       "2019-08-03 00:00:00+03:00 879898.0      166406           False           14   \n",
       "2019-08-05 00:00:00+03:00 879896.0      166406           False           25   \n",
       "                          879898.0      166406           False          103   \n",
       "2019-08-06 00:00:00+03:00 879896.0      332812           False           41   \n",
       "                          879898.0      166406           False           82   \n",
       "...                                        ...             ...          ...   \n",
       "2019-11-28 00:00:00+03:00 970242.0      168225           False            3   \n",
       "                          971102.0      168054           False           27   \n",
       "                          972410.0      166680           False           26   \n",
       "                          972412.0      166680           False           23   \n",
       "                          972460.0      166940           False           18   \n",
       "\n",
       "                                       call_duration  total_call_duration  \n",
       "date                      operator_id                                      \n",
       "2019-08-03 00:00:00+03:00 879898.0               898                 1048  \n",
       "2019-08-05 00:00:00+03:00 879896.0              1785                 1998  \n",
       "                          879898.0              5445                 6198  \n",
       "2019-08-06 00:00:00+03:00 879896.0              4925                 5334  \n",
       "                          879898.0              4910                 5441  \n",
       "...                                              ...                  ...  \n",
       "2019-11-28 00:00:00+03:00 970242.0              1106                 1146  \n",
       "                          971102.0              2980                 3437  \n",
       "                          972410.0              2283                 2552  \n",
       "                          972412.0              1928                 2183  \n",
       "                          972460.0              1089                 1266  \n",
       "\n",
       "[10589 rows x 5 columns]"
      ]
     },
     "execution_count": 20,
     "metadata": {},
     "output_type": "execute_result"
    }
   ],
   "source": [
    "dataset[dataset['call_duration']>500].groupby(['date','operator_id']).sum()"
   ]
  },
  {
   "cell_type": "code",
   "execution_count": 21,
   "id": "3d3862a4",
   "metadata": {},
   "outputs": [
    {
     "data": {
      "text/html": [
       "<div>\n",
       "<style scoped>\n",
       "    .dataframe tbody tr th:only-of-type {\n",
       "        vertical-align: middle;\n",
       "    }\n",
       "\n",
       "    .dataframe tbody tr th {\n",
       "        vertical-align: top;\n",
       "    }\n",
       "\n",
       "    .dataframe thead th {\n",
       "        text-align: right;\n",
       "    }\n",
       "</style>\n",
       "<table border=\"1\" class=\"dataframe\">\n",
       "  <thead>\n",
       "    <tr style=\"text-align: right;\">\n",
       "      <th></th>\n",
       "      <th>user_id</th>\n",
       "      <th>date</th>\n",
       "      <th>direction</th>\n",
       "      <th>internal</th>\n",
       "      <th>operator_id</th>\n",
       "      <th>is_missed_call</th>\n",
       "      <th>calls_count</th>\n",
       "      <th>call_duration</th>\n",
       "      <th>total_call_duration</th>\n",
       "    </tr>\n",
       "  </thead>\n",
       "  <tbody>\n",
       "    <tr>\n",
       "      <td>0</td>\n",
       "      <td>166377</td>\n",
       "      <td>2019-08-04 00:00:00+03:00</td>\n",
       "      <td>in</td>\n",
       "      <td>False</td>\n",
       "      <td>0.0</td>\n",
       "      <td>True</td>\n",
       "      <td>2</td>\n",
       "      <td>0</td>\n",
       "      <td>4</td>\n",
       "    </tr>\n",
       "    <tr>\n",
       "      <td>1</td>\n",
       "      <td>166377</td>\n",
       "      <td>2019-08-05 00:00:00+03:00</td>\n",
       "      <td>out</td>\n",
       "      <td>True</td>\n",
       "      <td>880022.0</td>\n",
       "      <td>True</td>\n",
       "      <td>3</td>\n",
       "      <td>0</td>\n",
       "      <td>5</td>\n",
       "    </tr>\n",
       "    <tr>\n",
       "      <td>2</td>\n",
       "      <td>166377</td>\n",
       "      <td>2019-08-05 00:00:00+03:00</td>\n",
       "      <td>out</td>\n",
       "      <td>True</td>\n",
       "      <td>880020.0</td>\n",
       "      <td>True</td>\n",
       "      <td>1</td>\n",
       "      <td>0</td>\n",
       "      <td>1</td>\n",
       "    </tr>\n",
       "    <tr>\n",
       "      <td>3</td>\n",
       "      <td>166377</td>\n",
       "      <td>2019-08-05 00:00:00+03:00</td>\n",
       "      <td>out</td>\n",
       "      <td>True</td>\n",
       "      <td>880020.0</td>\n",
       "      <td>False</td>\n",
       "      <td>1</td>\n",
       "      <td>10</td>\n",
       "      <td>18</td>\n",
       "    </tr>\n",
       "    <tr>\n",
       "      <td>4</td>\n",
       "      <td>166377</td>\n",
       "      <td>2019-08-05 00:00:00+03:00</td>\n",
       "      <td>out</td>\n",
       "      <td>False</td>\n",
       "      <td>880022.0</td>\n",
       "      <td>True</td>\n",
       "      <td>3</td>\n",
       "      <td>0</td>\n",
       "      <td>25</td>\n",
       "    </tr>\n",
       "    <tr>\n",
       "      <td>...</td>\n",
       "      <td>...</td>\n",
       "      <td>...</td>\n",
       "      <td>...</td>\n",
       "      <td>...</td>\n",
       "      <td>...</td>\n",
       "      <td>...</td>\n",
       "      <td>...</td>\n",
       "      <td>...</td>\n",
       "      <td>...</td>\n",
       "    </tr>\n",
       "    <tr>\n",
       "      <td>53891</td>\n",
       "      <td>168606</td>\n",
       "      <td>2019-11-08 00:00:00+03:00</td>\n",
       "      <td>in</td>\n",
       "      <td>False</td>\n",
       "      <td>957922.0</td>\n",
       "      <td>True</td>\n",
       "      <td>1</td>\n",
       "      <td>0</td>\n",
       "      <td>7</td>\n",
       "    </tr>\n",
       "    <tr>\n",
       "      <td>53893</td>\n",
       "      <td>168606</td>\n",
       "      <td>2019-11-08 00:00:00+03:00</td>\n",
       "      <td>in</td>\n",
       "      <td>False</td>\n",
       "      <td>0.0</td>\n",
       "      <td>True</td>\n",
       "      <td>6</td>\n",
       "      <td>0</td>\n",
       "      <td>121</td>\n",
       "    </tr>\n",
       "    <tr>\n",
       "      <td>53896</td>\n",
       "      <td>168606</td>\n",
       "      <td>2019-11-10 00:00:00+03:00</td>\n",
       "      <td>out</td>\n",
       "      <td>True</td>\n",
       "      <td>957922.0</td>\n",
       "      <td>False</td>\n",
       "      <td>1</td>\n",
       "      <td>0</td>\n",
       "      <td>25</td>\n",
       "    </tr>\n",
       "    <tr>\n",
       "      <td>53897</td>\n",
       "      <td>168606</td>\n",
       "      <td>2019-11-10 00:00:00+03:00</td>\n",
       "      <td>out</td>\n",
       "      <td>True</td>\n",
       "      <td>957922.0</td>\n",
       "      <td>True</td>\n",
       "      <td>1</td>\n",
       "      <td>0</td>\n",
       "      <td>38</td>\n",
       "    </tr>\n",
       "    <tr>\n",
       "      <td>53901</td>\n",
       "      <td>168606</td>\n",
       "      <td>2019-11-19 00:00:00+03:00</td>\n",
       "      <td>in</td>\n",
       "      <td>False</td>\n",
       "      <td>0.0</td>\n",
       "      <td>True</td>\n",
       "      <td>2</td>\n",
       "      <td>0</td>\n",
       "      <td>64</td>\n",
       "    </tr>\n",
       "  </tbody>\n",
       "</table>\n",
       "<p>27705 rows × 9 columns</p>\n",
       "</div>"
      ],
      "text/plain": [
       "       user_id                       date direction internal  operator_id  \\\n",
       "0       166377  2019-08-04 00:00:00+03:00        in    False          0.0   \n",
       "1       166377  2019-08-05 00:00:00+03:00       out     True     880022.0   \n",
       "2       166377  2019-08-05 00:00:00+03:00       out     True     880020.0   \n",
       "3       166377  2019-08-05 00:00:00+03:00       out     True     880020.0   \n",
       "4       166377  2019-08-05 00:00:00+03:00       out    False     880022.0   \n",
       "...        ...                        ...       ...      ...          ...   \n",
       "53891   168606  2019-11-08 00:00:00+03:00        in    False     957922.0   \n",
       "53893   168606  2019-11-08 00:00:00+03:00        in    False          0.0   \n",
       "53896   168606  2019-11-10 00:00:00+03:00       out     True     957922.0   \n",
       "53897   168606  2019-11-10 00:00:00+03:00       out     True     957922.0   \n",
       "53901   168606  2019-11-19 00:00:00+03:00        in    False          0.0   \n",
       "\n",
       "       is_missed_call  calls_count  call_duration  total_call_duration  \n",
       "0                True            2              0                    4  \n",
       "1                True            3              0                    5  \n",
       "2                True            1              0                    1  \n",
       "3               False            1             10                   18  \n",
       "4                True            3              0                   25  \n",
       "...               ...          ...            ...                  ...  \n",
       "53891            True            1              0                    7  \n",
       "53893            True            6              0                  121  \n",
       "53896           False            1              0                   25  \n",
       "53897            True            1              0                   38  \n",
       "53901            True            2              0                   64  \n",
       "\n",
       "[27705 rows x 9 columns]"
      ]
     },
     "execution_count": 21,
     "metadata": {},
     "output_type": "execute_result"
    }
   ],
   "source": [
    "dataset = dataset [dataset['call_duration'] < 100]\n",
    "dataset"
   ]
  },
  {
   "cell_type": "code",
   "execution_count": 22,
   "id": "d82ea289",
   "metadata": {},
   "outputs": [
    {
     "data": {
      "text/plain": [
       "0      1195\n",
       "2       769\n",
       "1       486\n",
       "4       428\n",
       "6       345\n",
       "       ... \n",
       "327       3\n",
       "367       2\n",
       "399       2\n",
       "386       1\n",
       "387       1\n",
       "Name: total_call_duration, Length: 400, dtype: int64"
      ]
     },
     "execution_count": 22,
     "metadata": {},
     "output_type": "execute_result"
    }
   ],
   "source": [
    "dataset = dataset[dataset['total_call_duration'] < 400]\n",
    "dataset['total_call_duration'].value_counts()"
   ]
  },
  {
   "cell_type": "markdown",
   "id": "deb9f642",
   "metadata": {},
   "source": [
    "#### Study data types"
   ]
  },
  {
   "cell_type": "code",
   "execution_count": 23,
   "id": "dc18f033",
   "metadata": {},
   "outputs": [
    {
     "name": "stdout",
     "output_type": "stream",
     "text": [
      "<class 'pandas.core.frame.DataFrame'>\n",
      "Int64Index: 24158 entries, 0 to 53901\n",
      "Data columns (total 9 columns):\n",
      "user_id                24158 non-null int64\n",
      "date                   24158 non-null object\n",
      "direction              24158 non-null object\n",
      "internal               24068 non-null object\n",
      "operator_id            24158 non-null float64\n",
      "is_missed_call         24158 non-null bool\n",
      "calls_count            24158 non-null int64\n",
      "call_duration          24158 non-null int64\n",
      "total_call_duration    24158 non-null int64\n",
      "dtypes: bool(1), float64(1), int64(4), object(3)\n",
      "memory usage: 1.7+ MB\n"
     ]
    },
    {
     "data": {
      "text/plain": [
       "2019-11-25 00:00:00+03:00    522\n",
       "2019-11-28 00:00:00+03:00    495\n",
       "2019-11-21 00:00:00+03:00    495\n",
       "2019-11-22 00:00:00+03:00    492\n",
       "2019-11-27 00:00:00+03:00    485\n",
       "                            ... \n",
       "2019-08-03 00:00:00+03:00      7\n",
       "2019-08-02 00:00:00+03:00      7\n",
       "2019-08-10 00:00:00+03:00      6\n",
       "2019-08-04 00:00:00+03:00      3\n",
       "2019-08-11 00:00:00+03:00      2\n",
       "Name: date, Length: 119, dtype: int64"
      ]
     },
     "execution_count": 23,
     "metadata": {},
     "output_type": "execute_result"
    }
   ],
   "source": [
    "dataset.info()\n",
    "dataset['date'].value_counts()"
   ]
  },
  {
   "cell_type": "code",
   "execution_count": 24,
   "id": "52263051",
   "metadata": {},
   "outputs": [
    {
     "name": "stdout",
     "output_type": "stream",
     "text": [
      "<class 'pandas.core.frame.DataFrame'>\n",
      "Int64Index: 24158 entries, 0 to 53901\n",
      "Data columns (total 9 columns):\n",
      "user_id                24158 non-null int64\n",
      "date                   24158 non-null datetime64[ns, pytz.FixedOffset(180)]\n",
      "direction              24158 non-null object\n",
      "internal               24068 non-null object\n",
      "operator_id            24158 non-null float64\n",
      "is_missed_call         24158 non-null bool\n",
      "calls_count            24158 non-null int64\n",
      "call_duration          24158 non-null int64\n",
      "total_call_duration    24158 non-null int64\n",
      "dtypes: bool(1), datetime64[ns, pytz.FixedOffset(180)](1), float64(1), int64(4), object(2)\n",
      "memory usage: 1.7+ MB\n"
     ]
    },
    {
     "data": {
      "text/plain": [
       "0       2019-08-04 00:00:00+03:00\n",
       "1       2019-08-05 00:00:00+03:00\n",
       "2       2019-08-05 00:00:00+03:00\n",
       "3       2019-08-05 00:00:00+03:00\n",
       "4       2019-08-05 00:00:00+03:00\n",
       "                   ...           \n",
       "53891   2019-11-08 00:00:00+03:00\n",
       "53893   2019-11-08 00:00:00+03:00\n",
       "53896   2019-11-10 00:00:00+03:00\n",
       "53897   2019-11-10 00:00:00+03:00\n",
       "53901   2019-11-19 00:00:00+03:00\n",
       "Name: date, Length: 24158, dtype: datetime64[ns, pytz.FixedOffset(180)]"
      ]
     },
     "execution_count": 24,
     "metadata": {},
     "output_type": "execute_result"
    }
   ],
   "source": [
    "dataset['date'] = pd.to_datetime(dataset['date'], format= '%Y-%m-%d %H:%M:%S%z')\n",
    "dataset.info()\n",
    "dataset['date']"
   ]
  },
  {
   "cell_type": "code",
   "execution_count": 25,
   "id": "f94a52a4",
   "metadata": {},
   "outputs": [
    {
     "name": "stdout",
     "output_type": "stream",
     "text": [
      "<class 'pandas.core.frame.DataFrame'>\n",
      "Int64Index: 24158 entries, 0 to 53901\n",
      "Data columns (total 9 columns):\n",
      "user_id                24158 non-null int64\n",
      "date                   24158 non-null datetime64[ns, pytz.FixedOffset(180)]\n",
      "direction              24158 non-null object\n",
      "internal               24158 non-null bool\n",
      "operator_id            24158 non-null float64\n",
      "is_missed_call         24158 non-null bool\n",
      "calls_count            24158 non-null int64\n",
      "call_duration          24158 non-null int64\n",
      "total_call_duration    24158 non-null int64\n",
      "dtypes: bool(2), datetime64[ns, pytz.FixedOffset(180)](1), float64(1), int64(4), object(1)\n",
      "memory usage: 1.5+ MB\n"
     ]
    },
    {
     "data": {
      "text/plain": [
       "0        False\n",
       "1         True\n",
       "2         True\n",
       "3         True\n",
       "4        False\n",
       "         ...  \n",
       "53891    False\n",
       "53893    False\n",
       "53896     True\n",
       "53897     True\n",
       "53901    False\n",
       "Name: internal, Length: 24158, dtype: bool"
      ]
     },
     "execution_count": 25,
     "metadata": {},
     "output_type": "execute_result"
    }
   ],
   "source": [
    "dataset['internal'] = dataset['internal'].astype('bool')\n",
    "dataset.info()\n",
    "dataset['internal']"
   ]
  },
  {
   "cell_type": "code",
   "execution_count": 26,
   "id": "5bfb0f8e",
   "metadata": {},
   "outputs": [
    {
     "name": "stdout",
     "output_type": "stream",
     "text": [
      "<class 'pandas.core.frame.DataFrame'>\n",
      "Int64Index: 24158 entries, 0 to 53901\n",
      "Data columns (total 9 columns):\n",
      "user_id                24158 non-null int64\n",
      "date                   24158 non-null datetime64[ns, pytz.FixedOffset(180)]\n",
      "direction              24158 non-null object\n",
      "internal               24158 non-null bool\n",
      "operator_id            24158 non-null int64\n",
      "is_missed_call         24158 non-null bool\n",
      "calls_count            24158 non-null int64\n",
      "call_duration          24158 non-null int64\n",
      "total_call_duration    24158 non-null int64\n",
      "dtypes: bool(2), datetime64[ns, pytz.FixedOffset(180)](1), int64(5), object(1)\n",
      "memory usage: 1.5+ MB\n"
     ]
    },
    {
     "data": {
      "text/plain": [
       "0         6713\n",
       "905564     132\n",
       "891410     131\n",
       "891414     126\n",
       "901884     126\n",
       "          ... \n",
       "965544       1\n",
       "937720       1\n",
       "905308       1\n",
       "954284       1\n",
       "945274       1\n",
       "Name: operator_id, Length: 1038, dtype: int64"
      ]
     },
     "execution_count": 26,
     "metadata": {},
     "output_type": "execute_result"
    }
   ],
   "source": [
    "dataset['operator_id'] = dataset['operator_id'].astype('int64')\n",
    "dataset.info()\n",
    "dataset['operator_id'].value_counts()"
   ]
  },
  {
   "cell_type": "code",
   "execution_count": 27,
   "id": "8a4cabb2",
   "metadata": {},
   "outputs": [
    {
     "name": "stdout",
     "output_type": "stream",
     "text": [
      "<class 'pandas.core.frame.DataFrame'>\n",
      "RangeIndex: 732 entries, 0 to 731\n",
      "Data columns (total 3 columns):\n",
      "user_id        732 non-null int64\n",
      "tariff_plan    732 non-null object\n",
      "date_start     732 non-null object\n",
      "dtypes: int64(1), object(2)\n",
      "memory usage: 17.3+ KB\n"
     ]
    }
   ],
   "source": [
    "clients.info()"
   ]
  },
  {
   "cell_type": "code",
   "execution_count": 28,
   "id": "9fe544ab",
   "metadata": {},
   "outputs": [
    {
     "data": {
      "text/html": [
       "<div>\n",
       "<style scoped>\n",
       "    .dataframe tbody tr th:only-of-type {\n",
       "        vertical-align: middle;\n",
       "    }\n",
       "\n",
       "    .dataframe tbody tr th {\n",
       "        vertical-align: top;\n",
       "    }\n",
       "\n",
       "    .dataframe thead th {\n",
       "        text-align: right;\n",
       "    }\n",
       "</style>\n",
       "<table border=\"1\" class=\"dataframe\">\n",
       "  <thead>\n",
       "    <tr style=\"text-align: right;\">\n",
       "      <th></th>\n",
       "      <th>user_id</th>\n",
       "      <th>tariff_plan</th>\n",
       "      <th>date_start</th>\n",
       "    </tr>\n",
       "  </thead>\n",
       "  <tbody>\n",
       "    <tr>\n",
       "      <td>0</td>\n",
       "      <td>166713</td>\n",
       "      <td>A</td>\n",
       "      <td>2019-08-15</td>\n",
       "    </tr>\n",
       "    <tr>\n",
       "      <td>1</td>\n",
       "      <td>166901</td>\n",
       "      <td>A</td>\n",
       "      <td>2019-08-23</td>\n",
       "    </tr>\n",
       "    <tr>\n",
       "      <td>2</td>\n",
       "      <td>168527</td>\n",
       "      <td>A</td>\n",
       "      <td>2019-10-29</td>\n",
       "    </tr>\n",
       "    <tr>\n",
       "      <td>3</td>\n",
       "      <td>167097</td>\n",
       "      <td>A</td>\n",
       "      <td>2019-09-01</td>\n",
       "    </tr>\n",
       "    <tr>\n",
       "      <td>4</td>\n",
       "      <td>168193</td>\n",
       "      <td>A</td>\n",
       "      <td>2019-10-16</td>\n",
       "    </tr>\n",
       "    <tr>\n",
       "      <td>...</td>\n",
       "      <td>...</td>\n",
       "      <td>...</td>\n",
       "      <td>...</td>\n",
       "    </tr>\n",
       "    <tr>\n",
       "      <td>727</td>\n",
       "      <td>166554</td>\n",
       "      <td>B</td>\n",
       "      <td>2019-08-08</td>\n",
       "    </tr>\n",
       "    <tr>\n",
       "      <td>728</td>\n",
       "      <td>166911</td>\n",
       "      <td>B</td>\n",
       "      <td>2019-08-23</td>\n",
       "    </tr>\n",
       "    <tr>\n",
       "      <td>729</td>\n",
       "      <td>167012</td>\n",
       "      <td>B</td>\n",
       "      <td>2019-08-28</td>\n",
       "    </tr>\n",
       "    <tr>\n",
       "      <td>730</td>\n",
       "      <td>166867</td>\n",
       "      <td>B</td>\n",
       "      <td>2019-08-22</td>\n",
       "    </tr>\n",
       "    <tr>\n",
       "      <td>731</td>\n",
       "      <td>166565</td>\n",
       "      <td>B</td>\n",
       "      <td>2019-08-08</td>\n",
       "    </tr>\n",
       "  </tbody>\n",
       "</table>\n",
       "<p>732 rows × 3 columns</p>\n",
       "</div>"
      ],
      "text/plain": [
       "     user_id tariff_plan  date_start\n",
       "0     166713           A  2019-08-15\n",
       "1     166901           A  2019-08-23\n",
       "2     168527           A  2019-10-29\n",
       "3     167097           A  2019-09-01\n",
       "4     168193           A  2019-10-16\n",
       "..       ...         ...         ...\n",
       "727   166554           B  2019-08-08\n",
       "728   166911           B  2019-08-23\n",
       "729   167012           B  2019-08-28\n",
       "730   166867           B  2019-08-22\n",
       "731   166565           B  2019-08-08\n",
       "\n",
       "[732 rows x 3 columns]"
      ]
     },
     "execution_count": 28,
     "metadata": {},
     "output_type": "execute_result"
    }
   ],
   "source": [
    "clients"
   ]
  },
  {
   "cell_type": "code",
   "execution_count": 29,
   "id": "ea47b918",
   "metadata": {},
   "outputs": [],
   "source": [
    "clients['date_start'] = pd.to_datetime(clients['date_start'])"
   ]
  },
  {
   "cell_type": "code",
   "execution_count": 30,
   "id": "607796bd",
   "metadata": {},
   "outputs": [
    {
     "name": "stdout",
     "output_type": "stream",
     "text": [
      "<class 'pandas.core.frame.DataFrame'>\n",
      "RangeIndex: 732 entries, 0 to 731\n",
      "Data columns (total 3 columns):\n",
      "user_id        732 non-null int64\n",
      "tariff_plan    732 non-null object\n",
      "date_start     732 non-null datetime64[ns]\n",
      "dtypes: datetime64[ns](1), int64(1), object(1)\n",
      "memory usage: 17.3+ KB\n"
     ]
    }
   ],
   "source": [
    "clients.info()"
   ]
  },
  {
   "cell_type": "markdown",
   "id": "b88ed2dc",
   "metadata": {},
   "source": [
    "The data type looked right, except for the date, so I change it to datetime. Also the int type fits better for 'operator_id' rather than float and the 'internal' column has only True and False values so I changed the data type to Bool."
   ]
  },
  {
   "cell_type": "markdown",
   "id": "2525f52d",
   "metadata": {},
   "source": [
    "#### Analyse the number of calls per day based on call direction, look at the average number and decide which number should be considered too small for the sample . Plot a histogram and describe the results."
   ]
  },
  {
   "cell_type": "code",
   "execution_count": 31,
   "id": "3b51a016",
   "metadata": {},
   "outputs": [
    {
     "name": "stdout",
     "output_type": "stream",
     "text": [
      "4.218163854286303\n"
     ]
    }
   ],
   "source": [
    "nr_call = dataset.groupby(['date','operator_id','direction']).agg({'calls_count' : 'mean'}).reset_index()\n",
    "data_in = nr_call[nr_call['direction']=='in']\n",
    "data_out = nr_call[nr_call['direction']=='out']\n",
    "print(nr_call[nr_call['direction']=='out']['calls_count'].mean())"
   ]
  },
  {
   "cell_type": "code",
   "execution_count": 32,
   "id": "1719bf3e",
   "metadata": {
    "scrolled": false
   },
   "outputs": [
    {
     "data": {
      "image/png": "[encoded data removed]",
      "text/plain": [
       "<Figure size 1080x432 with 1 Axes>"
      ]
     },
     "metadata": {
      "needs_background": "light"
     },
     "output_type": "display_data"
    }
   ],
   "source": [
    "fig,data = plt.subplots()\n",
    "data.bar(data_out['date'], data_out['calls_count'],color='red');\n",
    "data.bar(data_in['date'], data_in['calls_count']);\n",
    "data.set_title(' Number of calls by day');\n",
    "data.set_xlabel('date');\n",
    "data.set_ylabel('number of calls');\n",
    "data.legend(['out','in']);\n",
    "fig.set_figheight(6)\n",
    "fig.set_figwidth(15)"
   ]
  },
  {
   "cell_type": "markdown",
   "id": "970c3718",
   "metadata": {},
   "source": [
    "The graph shows greater values for outgoing calls. A small number of incoming calls per day could be considered for values lower than 5 and for outgoing calls values lower than 10."
   ]
  },
  {
   "cell_type": "markdown",
   "id": "9b4f22fe",
   "metadata": {},
   "source": [
    "#### Study the share of internal and external calls for each day and describe the findings. Plot a histogram.\n"
   ]
  },
  {
   "cell_type": "code",
   "execution_count": 33,
   "id": "7e7265d4",
   "metadata": {},
   "outputs": [],
   "source": [
    "dataset['month'] = dataset['date'].dt.month\n",
    "\n",
    "data_ext = dataset[dataset['internal']==False]\n",
    "ext=data_ext.groupby(['month','date'],as_index=False)['internal'].count()\n",
    "\n",
    "data_int = dataset[dataset['internal']==True]\n",
    "inte=data_int.groupby(['month'],as_index=False)['internal'].count()"
   ]
  },
  {
   "cell_type": "code",
   "execution_count": 34,
   "id": "cfc7ddf8",
   "metadata": {},
   "outputs": [
    {
     "data": {
      "image/png": "[encoded data removed]",
      "text/plain": [
       "<Figure size 432x288 with 1 Axes>"
      ]
     },
     "metadata": {
      "needs_background": "light"
     },
     "output_type": "display_data"
    }
   ],
   "source": [
    "plt.bar(inte['month'], inte['internal'],color='red');\n",
    "plt.bar(ext['month'], ext['internal']);\n",
    "plt.title('The share of internal and external calls by month');\n",
    "plt.xlabel('month');\n",
    "plt.ylabel('nr internal calls');"
   ]
  },
  {
   "cell_type": "markdown",
   "id": "df55e604",
   "metadata": {},
   "source": [
    "Way more internal calls , the difference between external and internal calls are rising by month, external calls not exceeding 500."
   ]
  },
  {
   "cell_type": "code",
   "execution_count": 35,
   "id": "98d5d64b",
   "metadata": {},
   "outputs": [
    {
     "data": {
      "image/png": "[encoded data removed]",
      "text/plain": [
       "<Figure size 1080x432 with 1 Axes>"
      ]
     },
     "metadata": {
      "needs_background": "light"
     },
     "output_type": "display_data"
    }
   ],
   "source": [
    "intern=data_int.groupby(['date'],as_index=False)['internal'].count()\n",
    "extern=data_ext.groupby(['date'],as_index=False)['internal'].count()\n",
    "fig,data=plt.subplots()\n",
    "data.bar(extern['date'], extern['internal'],color='blue');\n",
    "data.bar(intern['date'], intern['internal'],color='red');\n",
    "data.set_title(' The share of internal and external calls by day');\n",
    "data.set_xlabel('date');\n",
    "data.set_ylabel('number of internal calls');\n",
    "data.legend(['Internal','External'])\n",
    "fig.set_figheight(6);\n",
    "fig.set_figwidth(15);"
   ]
  },
  {
   "cell_type": "markdown",
   "id": "0a343839",
   "metadata": {},
   "source": [
    "For daily calls, we can see that values are rising for both internal and external calls, especially from monday to friday. The values on weekend are almost half the values from the rest of the week. As the values are still rising, for incoming calls ,  from monday to friday, we can say that values lower than 600 are low values and on weekend values lower than 200. For outgoing calls : 10 on weekend and 50 for the rest of the week. "
   ]
  },
  {
   "cell_type": "markdown",
   "id": "431abc51",
   "metadata": {},
   "source": [
    "#### Study the call length for incoming calls for those with waiting time and without waiting time. Compare the results. Plot a histogram for each of them."
   ]
  },
  {
   "cell_type": "code",
   "execution_count": 36,
   "id": "8915d8ca",
   "metadata": {},
   "outputs": [
    {
     "data": {
      "text/plain": [
       "61.19179111486804"
      ]
     },
     "execution_count": 36,
     "metadata": {},
     "output_type": "execute_result"
    }
   ],
   "source": [
    "dataset[dataset['direction']=='in']['total_call_duration'].mean()"
   ]
  },
  {
   "cell_type": "code",
   "execution_count": 37,
   "id": "8a76536b",
   "metadata": {},
   "outputs": [],
   "source": [
    "dataset[dataset['direction']=='in']['call_duration'].mean()\n",
    "\n",
    "dataset['waiting_time'] = dataset['total_call_duration']-dataset['call_duration']\n",
    "time = dataset.groupby(['date','operator_id','direction']).agg({'waiting_time' : 'mean'}).reset_index()\n"
   ]
  },
  {
   "cell_type": "code",
   "execution_count": 38,
   "id": "1c1a9790",
   "metadata": {},
   "outputs": [
    {
     "data": {
      "image/png": "[encoded data removed]",
      "text/plain": [
       "<Figure size 432x288 with 1 Axes>"
      ]
     },
     "metadata": {
      "needs_background": "light"
     },
     "output_type": "display_data"
    }
   ],
   "source": [
    "plt.hist(dataset[dataset['direction']=='in']['total_call_duration']);\n",
    "plt.title('The call length with waiting time for incoming calls ');\n",
    "plt.xlabel('call duration');\n",
    "plt.ylabel('nr incoming calls');"
   ]
  },
  {
   "cell_type": "code",
   "execution_count": 39,
   "id": "feae50d4",
   "metadata": {
    "scrolled": true
   },
   "outputs": [
    {
     "data": {
      "image/png": "[encoded data removed]",
      "text/plain": [
       "<Figure size 432x288 with 1 Axes>"
      ]
     },
     "metadata": {
      "needs_background": "light"
     },
     "output_type": "display_data"
    }
   ],
   "source": [
    "plt.hist(dataset[dataset['direction']=='in']['call_duration']);\n",
    "plt.title('The call length without waiting time for incoming calls ');\n",
    "plt.xlabel('call duration');\n",
    "plt.ylabel('nr incoming calls');"
   ]
  },
  {
   "cell_type": "code",
   "execution_count": 40,
   "id": "08f3d069",
   "metadata": {},
   "outputs": [
    {
     "data": {
      "image/png": "[encoded data removed]",
      "text/plain": [
       "<Figure size 1080x432 with 1 Axes>"
      ]
     },
     "metadata": {
      "needs_background": "light"
     },
     "output_type": "display_data"
    }
   ],
   "source": [
    "fig,graph = plt.subplots()\n",
    "graph.bar(time['date'],time['waiting_time']);\n",
    "graph.set_title('The waiting time for incoming calls ');\n",
    "graph.set_xlabel('date');\n",
    "graph.set_ylabel('waiting_time');\n",
    "fig.set_figheight(6);\n",
    "fig.set_figwidth(15);"
   ]
  },
  {
   "cell_type": "markdown",
   "id": "ca9d362d",
   "metadata": {},
   "source": [
    "From the graphs we can observe that the clients are waiting almost 300 minutes for incoming calls. "
   ]
  },
  {
   "cell_type": "markdown",
   "id": "8276e7c8",
   "metadata": {},
   "source": [
    "#### Calculate the number of missing calls per day for each operator. Plot a histogram.\n"
   ]
  },
  {
   "cell_type": "code",
   "execution_count": 46,
   "id": "9184d9e5",
   "metadata": {
    "scrolled": false
   },
   "outputs": [
    {
     "name": "stdout",
     "output_type": "stream",
     "text": [
      "0.731020779865883\n"
     ]
    },
    {
     "data": {
      "image/png": "[encoded data removed]",
      "text/plain": [
       "<Figure size 720x432 with 1 Axes>"
      ]
     },
     "metadata": {
      "needs_background": "light"
     },
     "output_type": "display_data"
    }
   ],
   "source": [
    "missing = dataset.groupby(['date','direction','operator_id'], as_index=False)['is_missed_call'].mean()\n",
    "fig,mis=plt.subplots()\n",
    "mis.hist( missing['is_missed_call'],bins=100);\n",
    "mis.set_title(' Number of missing calls by day');\n",
    "mis.set_xlabel('date');\n",
    "mis.set_ylabel('number of missing calls');\n",
    "fig.set_figheight(6);\n",
    "fig.set_figwidth(10);\n",
    "print(dataset['is_missed_call'].mean())"
   ]
  },
  {
   "cell_type": "markdown",
   "id": "51e068c4",
   "metadata": {},
   "source": [
    "The graph is showing that most of the operators are missing usually 1 to no call per day . This means that an effective operator is not having a value more than 0.5 per day."
   ]
  },
  {
   "cell_type": "markdown",
   "id": "85d0e1d0",
   "metadata": {},
   "source": [
    "#### Determinate ineffective operators."
   ]
  },
  {
   "cell_type": "markdown",
   "id": "a17062f3",
   "metadata": {},
   "source": [
    "Based on the previous analysis, the ineffective operators are those with more than 1 missing incoming calls per day, has less than 10 outgoing calls per day and the waiting time for incoming calls is more than 300 minutes. "
   ]
  },
  {
   "cell_type": "code",
   "execution_count": 42,
   "id": "30be70d5",
   "metadata": {},
   "outputs": [
    {
     "name": "stdout",
     "output_type": "stream",
     "text": [
      "{0, 919552, 919554, 882690, 899076, 882688, 897030, 937984, 937988, 954376, 899082, 954378, 954380, 958468, 958470, 958472, 958478, 923666, 935958, 888868, 938022, 915504, 964666, 901178, 948286, 948288, 913474, 952392, 944210, 905300, 929876, 903254, 944216, 944218, 944220, 905308, 944222, 929884, 938078, 942174, 933986, 944226, 915556, 962658, 915558, 944228, 964712, 960620, 933996, 964716, 934000, 944246, 928926, 903292, 925826, 925828, 960648, 952458, 952460, 952462, 903312, 952466, 952468, 903318, 915614, 960670, 960672, 960674, 927910, 927912, 927916, 950444, 958640, 907440, 899250, 907442, 917680, 917682, 934074, 934076, 909502, 899268, 895172, 958672, 934098, 884946, 932050, 905430, 921814, 921818, 925922, 930020, 907502, 919790, 919792, 907504, 919794, 893172, 932088, 905470, 905472, 905480, 891152, 891154, 954642, 891156, 891158, 946454, 891160, 954650, 891162, 891166, 895266, 891170, 934188, 973120, 905538, 905542, 883018, 952656, 917846, 962902, 919896, 962904, 917850, 944474, 917852, 905564, 905566, 944476, 917856, 905570, 917858, 919906, 905574, 919910, 936296, 891252, 901492, 917876, 913788, 954750, 936324, 895370, 930186, 940430, 940432, 950672, 940434, 940436, 932246, 940438, 940440, 946582, 940442, 940456, 940458, 940460, 938414, 944560, 960950, 940474, 936382, 930242, 932292, 940486, 913868, 901584, 932304, 901586, 901588, 893400, 893402, 913886, 928228, 926184, 887276, 893420, 887278, 887280, 887282, 915958, 922114, 944644, 944646, 944648, 913938, 891410, 948756, 913942, 891414, 948758, 891416, 934426, 940568, 928282, 928284, 934430, 922142, 967204, 940588, 969262, 940596, 969268, 969272, 928312, 913984, 936514, 889410, 909892, 940610, 940614, 969284, 940616, 969288, 969286, 934476, 940622, 969294, 940624, 920146, 952914, 952916, 895574, 940630, 895576, 909910, 940634, 957022, 926312, 932460, 940652, 895598, 937980, 905840, 965232, 940658, 905842, 952948, 905844, 938614, 914036, 938612, 944764, 928382, 944766, 881278, 914050, 914052, 905862, 934534, 952968, 912010, 905870, 959118, 967310, 932498, 932500, 932502, 955032, 945316, 969380, 969386, 907952, 907964, 950972, 955068, 907970, 907972, 924356, 905930, 955082, 899788, 905932, 907982, 899790, 905934, 965328, 907986, 924370, 955090, 955086, 955094, 907994, 907998, 908002, 893674, 940782, 940788, 901880, 914168, 914170, 901884, 901886, 940802, 893700, 951046, 940814, 926486, 926490, 930586, 955164, 940828, 895774, 930590, 895776, 930594, 903978, 940842, 946988, 908078, 940848, 908082, 922428, 914238, 914240, 932676, 904014, 904016, 897872, 959312, 914256, 906070, 914266, 938842, 899932, 906076, 891744, 920416, 891746, 914272, 930660, 904038, 930662, 901992, 922474, 904044, 893804, 901996, 922476, 918390, 922486, 899964, 912252, 899968, 924544, 924546, 930690, 899972, 930692, 932750, 938896, 910226, 932754, 951186, 945046, 940952, 889754, 945052, 924572, 914338, 945058, 918436, 965540, 965542, 912296, 965544, 882684, 914348, 891824, 885682, 945074, 918452, 932798, 924614, 916424, 943066, 932836, 932856, 887802, 914426, 951290, 930814, 930816, 891908, 930820, 914440, 896008, 896010, 904202, 896012, 904200, 896014, 904204, 896016, 891918, 896018, 953362, 961552, 951332, 891946, 939698, 906294, 906296, 891970, 891976, 922698, 891988, 900180, 920666, 930908, 902238, 930910, 900192, 930912, 900194, 930914, 947304, 959596, 951408, 953458, 885876, 916596, 928886, 953460, 928888, 953464, 945274, 953462, 892028, 945278, 945280, 885890, 920706, 945282, 945284, 945286, 963716, 941192, 916618, 920720, 945296, 945298, 920726, 945302, 906392, 926872, 920728, 904344, 906396, 906394, 906398, 920732, 906400, 945308, 906402, 945312, 906404, 945310, 906406, 945314, 894120, 906408, 906410, 945320, 906412, 945324, 945322, 949420, 906416, 906418, 906420, 887992, 910520, 883898, 910524, 951490, 910530, 910532, 937156, 914630, 951492, 914626, 910540, 914636, 933070, 939212, 939218, 951506, 951508, 939222, 939224, 958456, 883940, 883942, 900352, 924928, 900354, 924930, 910594, 924932, 920838, 924934, 924936, 924940, 894224, 894226, 924946, 920852, 924948, 924950, 894230, 894232, 879896, 924954, 879898, 924952, 924956, 924958, 947480, 924960, 912684, 935216, 920902, 941384, 935244, 935246, 941390, 912722, 908640, 920928, 935264, 951650, 918888, 939370, 900458, 898414, 902510, 939376, 890226, 890228, 898422, 890234, 933244, 896382, 914816, 886146, 898434, 902532, 896390, 947590, 937352, 947592, 900492, 947596, 947598, 947600, 937362, 880020, 947604, 880022, 937366, 937368, 880026, 937370, 880028, 937372, 947610, 947612, 914848, 947616, 947618, 947614, 947620, 927142, 896428, 918956, 896430, 908718, 925104, 918958, 955820, 935348, 947636, 914870, 947638, 906680, 947640, 947642, 947644, 947646, 947648, 918978, 947650, 947652, 947654, 918986, 947658, 918988, 929228, 937422, 939470, 902608, 939474, 939476, 937428, 937430, 939478, 937432, 968150, 957922, 921062, 900592, 900594, 970240, 970242, 970244, 900614, 970250, 970252, 921102, 966158, 921104, 970254, 970258, 896536, 896538, 921116, 890402, 908834, 890404, 890406, 890410, 890412, 890416, 890420, 890422, 941628, 902720, 945728, 933452, 888406, 902742, 902744, 919128, 902746, 919126, 902748, 947816, 947818, 947820, 880240, 892530, 906866, 892532, 892534, 902774, 892536, 902776, 892538, 902778, 919164, 935548, 919166, 902782, 919162, 950806, 931458, 937604, 900742, 900746, 929424, 929426, 968338, 919188, 929428, 894614, 919192, 919194, 908958, 919198, 908960, 919200, 919204, 939684, 919206, 941736, 941740, 972460, 919214, 919218, 884402, 900788, 937650, 900790, 884406, 884408, 900792, 939706, 908984, 939708, 884412, 894656, 896708, 939716, 894662, 939718, 943818, 937678, 888532, 888534, 890582, 888536, 939736, 921306, 900826, 888540, 939738, 888538, 962268, 921316, 921318, 945894, 921320, 954086, 945898, 909308, 937708, 945900, 945902, 945904, 937710, 917234, 939762, 941810, 937716, 970484, 970486, 941816, 937720, 890618, 911102, 902910, 884478, 941826, 937732, 917252, 919302, 929542, 937736, 929544, 919306, 972408, 919310, 941838, 937742, 919314, 941842, 941844, 937750, 919318, 937752, 900892, 900894, 911136, 937760, 911138, 937762, 911140, 911142, 960294, 960296, 937770, 937772, 882478, 937774, 952114, 937778, 937780, 937782, 937786, 937788, 919364, 898892, 919372, 909134, 937808, 919376, 937810, 937812, 898902, 929622, 919382, 898906, 929626, 919390, 898920, 956268, 939886, 956276, 919418, 892798, 937854, 892800, 937856, 917378, 937860, 952196, 923526, 937862, 937864, 923528, 956292, 956298, 937868, 937870, 905104, 937872, 937874, 946072, 964510, 915358, 915360, 937888, 907174, 919464, 937898, 901034, 907178, 907180, 937902, 901038, 907182, 933806, 933810, 954284, 919476, 937900, 948150, 919490, 917446, 911310, 954318, 958416, 958418, 894934, 948182, 907224, 958430, 958432, 958434, 937956, 937958, 937960, 958440, 937962, 958444, 937966, 919536, 921584, 958452, 958454, 882680, 958458, 958460, 882686}\n",
      "The number of ineffective operators :  866\n"
     ]
    }
   ],
   "source": [
    "inc1= missing[((missing['is_missed_call'] >= 1.0) &( missing['direction']=='in'))]['operator_id'].unique()\n",
    "out1 =nr_call[((nr_call['direction']=='out')& (nr_call['calls_count'] < 10))]['operator_id'].unique()\n",
    "wait = time[((time['direction']=='in')& (time['waiting_time'] > 300))]['operator_id'].unique()\n",
    "\n",
    "list_1 =list(inc1)\n",
    "list_2 = list(out1)\n",
    "list_3 = list(wait)\n",
    "print (set().union(list_1,list_2,list_3))\n",
    "print ( 'The number of ineffective operators : ',len(set().union(list_1,list_2,list_3)))"
   ]
  },
  {
   "cell_type": "markdown",
   "id": "c1be49b3",
   "metadata": {},
   "source": [
    "#### Test the hypotheses "
   ]
  },
  {
   "cell_type": "markdown",
   "id": "77f237c4",
   "metadata": {},
   "source": [
    "#### Incoming calls have a larger number of missing calls than outcoming calls ;"
   ]
  },
  {
   "cell_type": "code",
   "execution_count": 43,
   "id": "913d9646",
   "metadata": {},
   "outputs": [
    {
     "name": "stdout",
     "output_type": "stream",
     "text": [
      "34.68078175895766\n",
      "61.13574660633484\n",
      "p-value:  3.36889869327546e-05\n",
      "We reject the null hypothesis\n"
     ]
    }
   ],
   "source": [
    "incoming_calls = dataset[dataset['direction']=='in'].groupby('user_id')['is_missed_call'].count()\n",
    "outgoing_calls = dataset[dataset['direction']=='out'].groupby('user_id')['is_missed_call'].count()\n",
    "\n",
    "alpha = 0.05\n",
    "results = st.ttest_ind(incoming_calls, outgoing_calls)\n",
    "print(incoming_calls.mean())\n",
    "print(outgoing_calls.mean())\n",
    "print('p-value: ', results.pvalue)\n",
    "\n",
    "if results.pvalue < alpha:\n",
    "    print(\"We reject the null hypothesis\")\n",
    "else:\n",
    "    print(\"We can't reject the null hypothesis\") \n"
   ]
  },
  {
   "cell_type": "markdown",
   "id": "804bd24c",
   "metadata": {},
   "source": [
    "H0 : 'There is no difference between the samples '<br>\n",
    "H1 : 'There is a significant difference between the samples' <br>\n",
    "The probability value shows that there is a significant difference between the incoming and outgoing calls, outgoing calls having larger number of missing values."
   ]
  },
  {
   "cell_type": "markdown",
   "id": "7817d77a",
   "metadata": {},
   "source": [
    "#### Users with A tariff plan have a longer waiting time for incoming calls than average ;"
   ]
  },
  {
   "cell_type": "code",
   "execution_count": 44,
   "id": "715b3bf4",
   "metadata": {},
   "outputs": [
    {
     "name": "stdout",
     "output_type": "stream",
     "text": [
      "37.61134185817323\n",
      "36.13353348358662\n",
      "p-value:  0.7877780060019433\n",
      "We can't reject the null hypothesis\n"
     ]
    }
   ],
   "source": [
    "sample_1 = dataset.merge(clients, on='user_id')\n",
    "a = sample_1[((sample_1['direction']=='in') & (sample_1['tariff_plan'] == 'A'))].groupby('user_id')['total_call_duration'].mean()\n",
    "b = sample_1[((sample_1['direction']=='in')&(sample_1['tariff_plan']=='A'))].groupby('user_id')['call_duration'].mean()\n",
    "c=a-b\n",
    "\n",
    "d = sample_1[(sample_1['direction']=='in')].groupby('user_id')['total_call_duration'].mean()\n",
    "e = sample_1[(sample_1['direction']=='in')].groupby('user_id')['call_duration'].mean()\n",
    "f=d-e\n",
    "print(c.mean())\n",
    "print(f.mean())\n",
    "alpha = 0.05\n",
    "results = st.ttest_ind(c,f)\n",
    "\n",
    "print('p-value: ', results.pvalue)\n",
    "\n",
    "if results.pvalue < alpha:\n",
    "    print(\"We reject the null hypothesis\")\n",
    "else:\n",
    "    print(\"We can't reject the null hypothesis\") \n"
   ]
  },
  {
   "cell_type": "markdown",
   "id": "7b07cd05",
   "metadata": {},
   "source": [
    "H0 : 'There is no difference between the samples '<br>\n",
    "H1 : 'There is a significant difference between the samples' <br>\n",
    "There is a difference between the sample, users with A tariff plan having a longer waiting time for incoming calls than average."
   ]
  },
  {
   "cell_type": "markdown",
   "id": "b6ba8d6e",
   "metadata": {},
   "source": [
    "#### Users with C tariff plan have a smaller number of outgoing calls than users with B tariff plan ;"
   ]
  },
  {
   "cell_type": "code",
   "execution_count": 45,
   "id": "264fae94",
   "metadata": {},
   "outputs": [
    {
     "name": "stdout",
     "output_type": "stream",
     "text": [
      "54.32801405024186\n",
      "70.06531571700629\n",
      "p-value:  0.024486434240766252\n",
      "We reject the null hypothesis\n"
     ]
    }
   ],
   "source": [
    "a = sample_1[((sample_1['direction']=='out') & (sample_1['tariff_plan'] == 'C'))].groupby('user_id')['total_call_duration'].mean()\n",
    "b = sample_1[((sample_1['direction']=='out')&(sample_1['tariff_plan']=='C'))].groupby('user_id')['call_duration'].mean()\n",
    "c=a-b\n",
    "\n",
    "d = sample_1[((sample_1['direction']=='out') & (sample_1['tariff_plan'] == 'B'))].groupby('user_id')['total_call_duration'].mean()\n",
    "e = sample_1[((sample_1['direction']=='out') & (sample_1['tariff_plan'] == 'B'))].groupby('user_id')['call_duration'].mean()\n",
    "f=d-e\n",
    "print(c.mean())\n",
    "print(f.mean())\n",
    "alpha = 0.05\n",
    "results = st.ttest_ind(c,f)\n",
    "\n",
    "print('p-value: ', results.pvalue)\n",
    "\n",
    "if results.pvalue < alpha:\n",
    "    print(\"We reject the null hypothesis\")\n",
    "else:\n",
    "    print(\"We can't reject the null hypothesis\") \n"
   ]
  },
  {
   "cell_type": "markdown",
   "id": "7a2eafc0",
   "metadata": {},
   "source": [
    "H0 : 'There is no difference between the samples '<br>\n",
    "H1 : 'There is a significant difference between the samples' <br>\n",
    "There is no difference between the samples, users with C tariff having similar number of outgoing calls to users with B tariff plan."
   ]
  },
  {
   "cell_type": "markdown",
   "id": "89774704",
   "metadata": {},
   "source": [
    "In the process of finding the ineffective operators we found out some anomalies and duplicates.Also the tests showed that the tariffs doesn't influence the number of outgoing calls, the outgoing calls have a larger number of missing calls than incoming calls and that the tariff A have longer waiting time for incoming calls than average. The graphs showed that the number of missing calls by day for an ineffective operator is one,less than 10 outgoing calls per day and the waiting time for incoming calls is more than 200 minutes."
   ]
  }
 ],
 "metadata": {
  "ExecuteTimeLog": [
   {
    "duration": 1399,
    "start_time": "2021-07-14T18:45:42.413Z"
   },
   {
    "duration": 2032,
    "start_time": "2021-07-14T18:45:43.815Z"
   },
   {
    "duration": -646,
    "start_time": "2021-07-14T18:45:46.497Z"
   },
   {
    "duration": -649,
    "start_time": "2021-07-14T18:45:46.501Z"
   },
   {
    "duration": -650,
    "start_time": "2021-07-14T18:45:46.503Z"
   },
   {
    "duration": -650,
    "start_time": "2021-07-14T18:45:46.505Z"
   },
   {
    "duration": -653,
    "start_time": "2021-07-14T18:45:46.509Z"
   },
   {
    "duration": -655,
    "start_time": "2021-07-14T18:45:46.512Z"
   },
   {
    "duration": -657,
    "start_time": "2021-07-14T18:45:46.515Z"
   },
   {
    "duration": -659,
    "start_time": "2021-07-14T18:45:46.518Z"
   },
   {
    "duration": -659,
    "start_time": "2021-07-14T18:45:46.520Z"
   },
   {
    "duration": -661,
    "start_time": "2021-07-14T18:45:46.523Z"
   },
   {
    "duration": -663,
    "start_time": "2021-07-14T18:45:46.526Z"
   },
   {
    "duration": -664,
    "start_time": "2021-07-14T18:45:46.528Z"
   },
   {
    "duration": -664,
    "start_time": "2021-07-14T18:45:46.530Z"
   },
   {
    "duration": -665,
    "start_time": "2021-07-14T18:45:46.532Z"
   },
   {
    "duration": -667,
    "start_time": "2021-07-14T18:45:46.535Z"
   },
   {
    "duration": -668,
    "start_time": "2021-07-14T18:45:46.537Z"
   },
   {
    "duration": -680,
    "start_time": "2021-07-14T18:45:46.551Z"
   },
   {
    "duration": -682,
    "start_time": "2021-07-14T18:45:46.554Z"
   },
   {
    "duration": -683,
    "start_time": "2021-07-14T18:45:46.556Z"
   },
   {
    "duration": -686,
    "start_time": "2021-07-14T18:45:46.560Z"
   },
   {
    "duration": -688,
    "start_time": "2021-07-14T18:45:46.563Z"
   },
   {
    "duration": -690,
    "start_time": "2021-07-14T18:45:46.567Z"
   },
   {
    "duration": -692,
    "start_time": "2021-07-14T18:45:46.570Z"
   },
   {
    "duration": -693,
    "start_time": "2021-07-14T18:45:46.572Z"
   },
   {
    "duration": -696,
    "start_time": "2021-07-14T18:45:46.576Z"
   },
   {
    "duration": -697,
    "start_time": "2021-07-14T18:45:46.579Z"
   },
   {
    "duration": -699,
    "start_time": "2021-07-14T18:45:46.582Z"
   },
   {
    "duration": -701,
    "start_time": "2021-07-14T18:45:46.585Z"
   },
   {
    "duration": -704,
    "start_time": "2021-07-14T18:45:46.589Z"
   },
   {
    "duration": -711,
    "start_time": "2021-07-14T18:45:46.597Z"
   },
   {
    "duration": -712,
    "start_time": "2021-07-14T18:45:46.600Z"
   },
   {
    "duration": -713,
    "start_time": "2021-07-14T18:45:46.602Z"
   },
   {
    "duration": -713,
    "start_time": "2021-07-14T18:45:46.604Z"
   },
   {
    "duration": -715,
    "start_time": "2021-07-14T18:45:46.607Z"
   },
   {
    "duration": 1805,
    "start_time": "2021-07-14T18:47:48.552Z"
   },
   {
    "duration": 97,
    "start_time": "2021-07-14T18:48:13.017Z"
   },
   {
    "duration": 26,
    "start_time": "2021-07-14T18:48:14.910Z"
   },
   {
    "duration": 13,
    "start_time": "2021-07-14T18:48:15.621Z"
   },
   {
    "duration": 17,
    "start_time": "2021-07-14T18:48:16.359Z"
   },
   {
    "duration": 9,
    "start_time": "2021-07-14T18:48:16.580Z"
   },
   {
    "duration": 348,
    "start_time": "2021-07-14T18:48:16.941Z"
   },
   {
    "duration": -599,
    "start_time": "2021-07-14T18:48:17.891Z"
   },
   {
    "duration": 17,
    "start_time": "2021-07-14T18:48:17.309Z"
   },
   {
    "duration": 33,
    "start_time": "2021-07-14T18:48:17.501Z"
   },
   {
    "duration": 33,
    "start_time": "2021-07-14T18:48:17.704Z"
   },
   {
    "duration": 26,
    "start_time": "2021-07-14T18:48:30.654Z"
   },
   {
    "duration": 261,
    "start_time": "2021-07-14T18:48:31.651Z"
   },
   {
    "duration": 8,
    "start_time": "2021-07-14T18:48:43.163Z"
   },
   {
    "duration": 18,
    "start_time": "2021-07-14T18:48:53.389Z"
   },
   {
    "duration": 8,
    "start_time": "2021-07-14T18:48:54.789Z"
   },
   {
    "duration": 15,
    "start_time": "2021-07-14T18:48:55.511Z"
   },
   {
    "duration": 32,
    "start_time": "2021-07-14T18:48:56.846Z"
   },
   {
    "duration": 33,
    "start_time": "2021-07-14T18:48:57.838Z"
   },
   {
    "duration": 5,
    "start_time": "2021-07-14T18:48:59.216Z"
   },
   {
    "duration": 18,
    "start_time": "2021-07-14T18:49:00.637Z"
   },
   {
    "duration": 26,
    "start_time": "2021-07-14T18:49:06.562Z"
   },
   {
    "duration": 47,
    "start_time": "2021-07-14T18:49:07.293Z"
   },
   {
    "duration": 20,
    "start_time": "2021-07-14T18:49:07.902Z"
   },
   {
    "duration": 24,
    "start_time": "2021-07-14T18:49:08.390Z"
   },
   {
    "duration": 8,
    "start_time": "2021-07-14T18:49:08.825Z"
   },
   {
    "duration": 14,
    "start_time": "2021-07-14T18:49:09.455Z"
   },
   {
    "duration": 7,
    "start_time": "2021-07-14T18:49:10.107Z"
   },
   {
    "duration": 10,
    "start_time": "2021-07-14T18:49:10.694Z"
   },
   {
    "duration": 46,
    "start_time": "2021-07-14T18:49:15.320Z"
   },
   {
    "duration": 198089,
    "start_time": "2021-07-14T18:49:16.776Z"
   },
   {
    "duration": 31,
    "start_time": "2021-07-14T18:52:34.867Z"
   },
   {
    "duration": 648,
    "start_time": "2021-07-14T18:52:34.901Z"
   },
   {
    "duration": 1222,
    "start_time": "2021-07-14T18:52:35.557Z"
   },
   {
    "duration": 12,
    "start_time": "2021-07-14T18:52:36.782Z"
   },
   {
    "duration": 36,
    "start_time": "2021-07-14T18:52:36.797Z"
   },
   {
    "duration": 301,
    "start_time": "2021-07-14T18:52:36.835Z"
   },
   {
    "duration": 295,
    "start_time": "2021-07-14T18:52:37.139Z"
   },
   {
    "duration": 308,
    "start_time": "2021-07-14T18:52:37.437Z"
   },
   {
    "duration": 611,
    "start_time": "2021-07-14T18:52:37.748Z"
   },
   {
    "duration": 30,
    "start_time": "2021-07-14T18:52:38.361Z"
   },
   {
    "duration": 24,
    "start_time": "2021-07-14T18:52:38.394Z"
   },
   {
    "duration": 99,
    "start_time": "2021-07-14T18:52:38.420Z"
   },
   {
    "duration": 67,
    "start_time": "2021-07-14T18:52:38.521Z"
   },
   {
    "duration": 1448,
    "start_time": "2021-07-15T08:42:59.224Z"
   },
   {
    "duration": 100,
    "start_time": "2021-07-15T08:43:00.675Z"
   },
   {
    "duration": 28,
    "start_time": "2021-07-15T08:43:00.778Z"
   },
   {
    "duration": 20,
    "start_time": "2021-07-15T08:43:00.809Z"
   },
   {
    "duration": 47,
    "start_time": "2021-07-15T08:43:00.832Z"
   },
   {
    "duration": 21,
    "start_time": "2021-07-15T08:43:00.882Z"
   },
   {
    "duration": 35,
    "start_time": "2021-07-15T08:43:00.906Z"
   },
   {
    "duration": 18,
    "start_time": "2021-07-15T08:43:00.946Z"
   },
   {
    "duration": 26,
    "start_time": "2021-07-15T08:43:00.968Z"
   },
   {
    "duration": 69,
    "start_time": "2021-07-15T08:43:00.997Z"
   },
   {
    "duration": 37,
    "start_time": "2021-07-15T08:43:01.069Z"
   },
   {
    "duration": 5,
    "start_time": "2021-07-15T08:43:01.109Z"
   },
   {
    "duration": 52,
    "start_time": "2021-07-15T08:43:01.117Z"
   },
   {
    "duration": 37,
    "start_time": "2021-07-15T08:43:01.172Z"
   },
   {
    "duration": 68,
    "start_time": "2021-07-15T08:43:01.212Z"
   },
   {
    "duration": 24,
    "start_time": "2021-07-15T08:43:01.283Z"
   },
   {
    "duration": 55,
    "start_time": "2021-07-15T08:43:01.309Z"
   },
   {
    "duration": 11,
    "start_time": "2021-07-15T08:43:01.366Z"
   },
   {
    "duration": 21,
    "start_time": "2021-07-15T08:43:01.380Z"
   },
   {
    "duration": 18,
    "start_time": "2021-07-15T08:43:01.404Z"
   },
   {
    "duration": 30,
    "start_time": "2021-07-15T08:43:01.425Z"
   },
   {
    "duration": 50,
    "start_time": "2021-07-15T08:43:01.458Z"
   },
   {
    "duration": 162381,
    "start_time": "2021-07-15T08:43:01.513Z"
   },
   {
    "duration": 29,
    "start_time": "2021-07-15T08:45:43.896Z"
   },
   {
    "duration": 470,
    "start_time": "2021-07-15T08:45:43.927Z"
   },
   {
    "duration": 1095,
    "start_time": "2021-07-15T08:45:44.400Z"
   },
   {
    "duration": 13,
    "start_time": "2021-07-15T08:45:45.497Z"
   },
   {
    "duration": 49,
    "start_time": "2021-07-15T08:45:45.512Z"
   },
   {
    "duration": 194,
    "start_time": "2021-07-15T08:45:45.564Z"
   },
   {
    "duration": 208,
    "start_time": "2021-07-15T08:45:45.760Z"
   },
   {
    "duration": 230,
    "start_time": "2021-07-15T08:45:45.970Z"
   },
   {
    "duration": 431,
    "start_time": "2021-07-15T08:45:46.202Z"
   },
   {
    "duration": 38,
    "start_time": "2021-07-15T08:45:46.635Z"
   },
   {
    "duration": 26,
    "start_time": "2021-07-15T08:45:46.676Z"
   },
   {
    "duration": 95,
    "start_time": "2021-07-15T08:45:46.705Z"
   },
   {
    "duration": 66,
    "start_time": "2021-07-15T08:45:46.803Z"
   },
   {
    "duration": 16,
    "start_time": "2021-07-15T08:59:06.332Z"
   },
   {
    "duration": 21,
    "start_time": "2021-07-15T08:59:17.690Z"
   },
   {
    "duration": 14,
    "start_time": "2021-07-15T08:59:43.800Z"
   },
   {
    "duration": 21160,
    "start_time": "2021-07-15T09:00:12.164Z"
   },
   {
    "duration": 8376,
    "start_time": "2021-07-15T09:00:24.952Z"
   },
   {
    "duration": 40,
    "start_time": "2021-07-15T09:00:37.403Z"
   },
   {
    "duration": 20,
    "start_time": "2021-07-15T09:00:37.832Z"
   },
   {
    "duration": 172013,
    "start_time": "2021-07-15T09:00:46.237Z"
   },
   {
    "duration": 251,
    "start_time": "2021-07-15T09:17:46.343Z"
   },
   {
    "duration": 287,
    "start_time": "2021-07-15T09:17:49.390Z"
   },
   {
    "duration": 2549,
    "start_time": "2021-07-15T09:17:53.059Z"
   },
   {
    "duration": 2643,
    "start_time": "2021-07-15T09:18:03.280Z"
   },
   {
    "duration": 281,
    "start_time": "2021-07-15T09:18:09.644Z"
   },
   {
    "duration": 185,
    "start_time": "2021-07-15T09:18:20.683Z"
   },
   {
    "duration": 43,
    "start_time": "2021-07-15T09:25:53.062Z"
   },
   {
    "duration": 44,
    "start_time": "2021-07-15T09:25:58.366Z"
   },
   {
    "duration": 30,
    "start_time": "2021-07-15T09:28:20.295Z"
   },
   {
    "duration": 6,
    "start_time": "2021-07-15T09:28:31.913Z"
   },
   {
    "duration": 27,
    "start_time": "2021-07-15T09:29:00.118Z"
   },
   {
    "duration": 6,
    "start_time": "2021-07-15T09:29:15.063Z"
   },
   {
    "duration": 27,
    "start_time": "2021-07-15T09:29:31.063Z"
   },
   {
    "duration": 14,
    "start_time": "2021-07-15T09:29:37.472Z"
   },
   {
    "duration": 32,
    "start_time": "2021-07-15T09:29:45.151Z"
   },
   {
    "duration": 32,
    "start_time": "2021-07-15T09:30:26.424Z"
   },
   {
    "duration": 46,
    "start_time": "2021-07-15T10:36:49.518Z"
   },
   {
    "duration": 43,
    "start_time": "2021-07-15T10:39:35.688Z"
   },
   {
    "duration": 164963,
    "start_time": "2021-07-15T10:39:35.734Z"
   },
   {
    "duration": 37,
    "start_time": "2021-07-15T11:39:45.066Z"
   },
   {
    "duration": 28,
    "start_time": "2021-07-15T11:40:28.320Z"
   },
   {
    "duration": 42,
    "start_time": "2021-07-15T11:40:54.329Z"
   },
   {
    "duration": 537,
    "start_time": "2021-07-15T11:41:01.564Z"
   },
   {
    "duration": 42,
    "start_time": "2021-07-15T11:41:08.371Z"
   },
   {
    "duration": 40,
    "start_time": "2021-07-15T11:42:00.858Z"
   },
   {
    "duration": 53,
    "start_time": "2021-07-15T11:42:04.377Z"
   },
   {
    "duration": 50,
    "start_time": "2021-07-15T11:42:26.929Z"
   },
   {
    "duration": 277,
    "start_time": "2021-07-16T08:37:07.190Z"
   },
   {
    "duration": 1057,
    "start_time": "2021-07-16T08:37:18.269Z"
   },
   {
    "duration": 80,
    "start_time": "2021-07-16T08:37:19.328Z"
   },
   {
    "duration": 18,
    "start_time": "2021-07-16T08:37:19.410Z"
   },
   {
    "duration": 13,
    "start_time": "2021-07-16T08:37:19.430Z"
   },
   {
    "duration": 17,
    "start_time": "2021-07-16T08:37:19.445Z"
   },
   {
    "duration": 7,
    "start_time": "2021-07-16T08:37:19.464Z"
   },
   {
    "duration": 24,
    "start_time": "2021-07-16T08:37:19.472Z"
   },
   {
    "duration": 6,
    "start_time": "2021-07-16T08:37:19.499Z"
   },
   {
    "duration": 20,
    "start_time": "2021-07-16T08:37:19.507Z"
   },
   {
    "duration": 26,
    "start_time": "2021-07-16T08:37:19.528Z"
   },
   {
    "duration": 20,
    "start_time": "2021-07-16T08:37:19.555Z"
   },
   {
    "duration": 3,
    "start_time": "2021-07-16T08:37:19.584Z"
   },
   {
    "duration": 19,
    "start_time": "2021-07-16T08:37:19.589Z"
   },
   {
    "duration": 262,
    "start_time": "2021-07-16T08:37:19.609Z"
   },
   {
    "duration": -1878,
    "start_time": "2021-07-16T08:37:21.753Z"
   },
   {
    "duration": -1881,
    "start_time": "2021-07-16T08:37:21.757Z"
   },
   {
    "duration": -1883,
    "start_time": "2021-07-16T08:37:21.760Z"
   },
   {
    "duration": -1885,
    "start_time": "2021-07-16T08:37:21.763Z"
   },
   {
    "duration": -1887,
    "start_time": "2021-07-16T08:37:21.766Z"
   },
   {
    "duration": -1893,
    "start_time": "2021-07-16T08:37:21.773Z"
   },
   {
    "duration": -1895,
    "start_time": "2021-07-16T08:37:21.777Z"
   },
   {
    "duration": -1898,
    "start_time": "2021-07-16T08:37:21.781Z"
   },
   {
    "duration": -1912,
    "start_time": "2021-07-16T08:37:21.796Z"
   },
   {
    "duration": -1915,
    "start_time": "2021-07-16T08:37:21.800Z"
   },
   {
    "duration": -1916,
    "start_time": "2021-07-16T08:37:21.802Z"
   },
   {
    "duration": -1918,
    "start_time": "2021-07-16T08:37:21.805Z"
   },
   {
    "duration": -1932,
    "start_time": "2021-07-16T08:37:21.820Z"
   },
   {
    "duration": -1934,
    "start_time": "2021-07-16T08:37:21.823Z"
   },
   {
    "duration": -1937,
    "start_time": "2021-07-16T08:37:21.826Z"
   },
   {
    "duration": -1939,
    "start_time": "2021-07-16T08:37:21.829Z"
   },
   {
    "duration": -1940,
    "start_time": "2021-07-16T08:37:21.831Z"
   },
   {
    "duration": -1942,
    "start_time": "2021-07-16T08:37:21.834Z"
   },
   {
    "duration": -1944,
    "start_time": "2021-07-16T08:37:21.837Z"
   },
   {
    "duration": -1946,
    "start_time": "2021-07-16T08:37:21.840Z"
   },
   {
    "duration": -1947,
    "start_time": "2021-07-16T08:37:21.842Z"
   },
   {
    "duration": -1949,
    "start_time": "2021-07-16T08:37:21.846Z"
   },
   {
    "duration": -1952,
    "start_time": "2021-07-16T08:37:21.850Z"
   },
   {
    "duration": 195,
    "start_time": "2021-07-16T08:37:39.223Z"
   },
   {
    "duration": 21,
    "start_time": "2021-07-16T08:37:41.745Z"
   },
   {
    "duration": 19,
    "start_time": "2021-07-16T08:37:47.532Z"
   },
   {
    "duration": 20,
    "start_time": "2021-07-16T08:37:57.344Z"
   },
   {
    "duration": 18,
    "start_time": "2021-07-16T08:38:08.968Z"
   },
   {
    "duration": 19,
    "start_time": "2021-07-16T08:38:57.748Z"
   },
   {
    "duration": 19,
    "start_time": "2021-07-16T08:39:13.136Z"
   },
   {
    "duration": 29,
    "start_time": "2021-07-16T08:39:20.834Z"
   },
   {
    "duration": 193,
    "start_time": "2021-07-16T08:40:26.421Z"
   },
   {
    "duration": 23,
    "start_time": "2021-07-16T08:40:35.011Z"
   },
   {
    "duration": 4397,
    "start_time": "2021-07-16T08:41:03.518Z"
   },
   {
    "duration": 22,
    "start_time": "2021-07-16T08:41:12.515Z"
   },
   {
    "duration": 33,
    "start_time": "2021-07-16T08:41:41.910Z"
   },
   {
    "duration": 8,
    "start_time": "2021-07-16T08:42:42.705Z"
   },
   {
    "duration": 8,
    "start_time": "2021-07-16T08:42:48.230Z"
   },
   {
    "duration": 23,
    "start_time": "2021-07-16T08:43:03.180Z"
   },
   {
    "duration": 14,
    "start_time": "2021-07-16T08:43:33.934Z"
   },
   {
    "duration": 31,
    "start_time": "2021-07-16T08:43:47.429Z"
   },
   {
    "duration": 34,
    "start_time": "2021-07-16T08:44:33.497Z"
   },
   {
    "duration": 405,
    "start_time": "2021-07-16T08:45:23.316Z"
   },
   {
    "duration": 29,
    "start_time": "2021-07-16T08:45:30.886Z"
   },
   {
    "duration": 18,
    "start_time": "2021-07-16T08:45:48.813Z"
   },
   {
    "duration": 22,
    "start_time": "2021-07-16T08:45:50.868Z"
   },
   {
    "duration": 25,
    "start_time": "2021-07-16T08:46:00.821Z"
   },
   {
    "duration": 1070,
    "start_time": "2021-07-16T08:47:01.455Z"
   },
   {
    "duration": 83,
    "start_time": "2021-07-16T08:47:02.526Z"
   },
   {
    "duration": 17,
    "start_time": "2021-07-16T08:47:02.611Z"
   },
   {
    "duration": 9,
    "start_time": "2021-07-16T08:47:02.630Z"
   },
   {
    "duration": 32,
    "start_time": "2021-07-16T08:47:02.640Z"
   },
   {
    "duration": 8,
    "start_time": "2021-07-16T08:47:02.673Z"
   },
   {
    "duration": 16,
    "start_time": "2021-07-16T08:47:02.682Z"
   },
   {
    "duration": 13,
    "start_time": "2021-07-16T08:47:02.700Z"
   },
   {
    "duration": 21,
    "start_time": "2021-07-16T08:47:02.714Z"
   },
   {
    "duration": 26,
    "start_time": "2021-07-16T08:47:02.736Z"
   },
   {
    "duration": 27,
    "start_time": "2021-07-16T08:47:02.764Z"
   },
   {
    "duration": 4,
    "start_time": "2021-07-16T08:47:02.793Z"
   },
   {
    "duration": 21,
    "start_time": "2021-07-16T08:47:02.798Z"
   },
   {
    "duration": 41,
    "start_time": "2021-07-16T08:47:02.821Z"
   },
   {
    "duration": 3,
    "start_time": "2021-07-16T08:47:02.863Z"
   },
   {
    "duration": 40,
    "start_time": "2021-07-16T08:47:02.869Z"
   },
   {
    "duration": 18,
    "start_time": "2021-07-16T08:47:02.911Z"
   },
   {
    "duration": 29,
    "start_time": "2021-07-16T08:47:02.930Z"
   },
   {
    "duration": 37,
    "start_time": "2021-07-16T08:47:02.960Z"
   },
   {
    "duration": 17,
    "start_time": "2021-07-16T08:47:02.999Z"
   },
   {
    "duration": 6,
    "start_time": "2021-07-16T08:47:03.018Z"
   },
   {
    "duration": 10,
    "start_time": "2021-07-16T08:47:03.026Z"
   },
   {
    "duration": 7,
    "start_time": "2021-07-16T08:47:03.039Z"
   },
   {
    "duration": 40,
    "start_time": "2021-07-16T08:47:03.047Z"
   },
   {
    "duration": 37,
    "start_time": "2021-07-16T08:47:03.089Z"
   },
   {
    "duration": 1075,
    "start_time": "2021-07-16T08:49:06.358Z"
   },
   {
    "duration": 79,
    "start_time": "2021-07-16T08:49:07.435Z"
   },
   {
    "duration": 18,
    "start_time": "2021-07-16T08:49:07.517Z"
   },
   {
    "duration": 9,
    "start_time": "2021-07-16T08:49:07.537Z"
   },
   {
    "duration": 13,
    "start_time": "2021-07-16T08:49:07.547Z"
   },
   {
    "duration": 5,
    "start_time": "2021-07-16T08:49:07.561Z"
   },
   {
    "duration": 21,
    "start_time": "2021-07-16T08:49:07.568Z"
   },
   {
    "duration": 6,
    "start_time": "2021-07-16T08:49:07.590Z"
   },
   {
    "duration": 14,
    "start_time": "2021-07-16T08:49:07.598Z"
   },
   {
    "duration": 23,
    "start_time": "2021-07-16T08:49:07.614Z"
   },
   {
    "duration": 47,
    "start_time": "2021-07-16T08:49:07.639Z"
   },
   {
    "duration": 4,
    "start_time": "2021-07-16T08:49:07.687Z"
   },
   {
    "duration": 20,
    "start_time": "2021-07-16T08:49:07.692Z"
   },
   {
    "duration": 32,
    "start_time": "2021-07-16T08:49:07.714Z"
   },
   {
    "duration": 51,
    "start_time": "2021-07-16T08:49:07.747Z"
   },
   {
    "duration": 13,
    "start_time": "2021-07-16T08:49:07.800Z"
   },
   {
    "duration": 19,
    "start_time": "2021-07-16T08:49:07.815Z"
   },
   {
    "duration": 53,
    "start_time": "2021-07-16T08:49:07.835Z"
   },
   {
    "duration": 11,
    "start_time": "2021-07-16T08:49:07.890Z"
   },
   {
    "duration": 15,
    "start_time": "2021-07-16T08:49:07.903Z"
   },
   {
    "duration": 5,
    "start_time": "2021-07-16T08:49:07.919Z"
   },
   {
    "duration": 10,
    "start_time": "2021-07-16T08:49:07.925Z"
   },
   {
    "duration": 6,
    "start_time": "2021-07-16T08:49:07.936Z"
   },
   {
    "duration": 7,
    "start_time": "2021-07-16T08:49:07.944Z"
   },
   {
    "duration": 31,
    "start_time": "2021-07-16T08:49:07.985Z"
   },
   {
    "duration": 126620,
    "start_time": "2021-07-16T08:49:08.018Z"
   },
   {
    "duration": 23,
    "start_time": "2021-07-16T08:51:14.641Z"
   },
   {
    "duration": 411,
    "start_time": "2021-07-16T08:51:14.666Z"
   },
   {
    "duration": 767,
    "start_time": "2021-07-16T08:51:15.078Z"
   },
   {
    "duration": 9,
    "start_time": "2021-07-16T08:51:15.847Z"
   },
   {
    "duration": 32,
    "start_time": "2021-07-16T08:51:15.858Z"
   },
   {
    "duration": 184,
    "start_time": "2021-07-16T08:51:15.892Z"
   },
   {
    "duration": 191,
    "start_time": "2021-07-16T08:51:16.084Z"
   },
   {
    "duration": 215,
    "start_time": "2021-07-16T08:51:16.277Z"
   },
   {
    "duration": 391,
    "start_time": "2021-07-16T08:51:16.494Z"
   },
   {
    "duration": 22,
    "start_time": "2021-07-16T08:51:16.887Z"
   },
   {
    "duration": 17,
    "start_time": "2021-07-16T08:51:16.910Z"
   },
   {
    "duration": 70,
    "start_time": "2021-07-16T08:51:16.929Z"
   },
   {
    "duration": 38,
    "start_time": "2021-07-16T08:51:17.000Z"
   },
   {
    "duration": 19,
    "start_time": "2021-07-16T08:51:17.040Z"
   },
   {
    "duration": 37,
    "start_time": "2021-07-16T08:51:17.060Z"
   },
   {
    "duration": 5,
    "start_time": "2021-07-16T08:52:17.634Z"
   },
   {
    "duration": 8,
    "start_time": "2021-07-16T08:52:25.427Z"
   },
   {
    "duration": 5,
    "start_time": "2021-07-16T08:53:03.924Z"
   },
   {
    "duration": 6,
    "start_time": "2021-07-16T08:53:16.705Z"
   },
   {
    "duration": 263,
    "start_time": "2021-07-16T08:53:51.407Z"
   },
   {
    "duration": 19,
    "start_time": "2021-07-16T08:53:57.172Z"
   },
   {
    "duration": 19,
    "start_time": "2021-07-16T08:54:16.158Z"
   },
   {
    "duration": 19,
    "start_time": "2021-07-16T08:54:44.598Z"
   },
   {
    "duration": 20,
    "start_time": "2021-07-16T08:58:55.823Z"
   },
   {
    "duration": 4,
    "start_time": "2021-07-16T08:59:45.047Z"
   },
   {
    "duration": 19,
    "start_time": "2021-07-16T08:59:49.968Z"
   },
   {
    "duration": 9,
    "start_time": "2021-07-16T09:00:12.336Z"
   },
   {
    "duration": 1038,
    "start_time": "2021-07-16T09:00:25.297Z"
   },
   {
    "duration": 79,
    "start_time": "2021-07-16T09:00:26.337Z"
   },
   {
    "duration": 17,
    "start_time": "2021-07-16T09:00:26.418Z"
   },
   {
    "duration": 8,
    "start_time": "2021-07-16T09:00:26.436Z"
   },
   {
    "duration": 12,
    "start_time": "2021-07-16T09:00:26.445Z"
   },
   {
    "duration": 6,
    "start_time": "2021-07-16T09:00:26.458Z"
   },
   {
    "duration": 20,
    "start_time": "2021-07-16T09:00:26.465Z"
   },
   {
    "duration": 5,
    "start_time": "2021-07-16T09:00:26.488Z"
   },
   {
    "duration": 14,
    "start_time": "2021-07-16T09:00:26.494Z"
   },
   {
    "duration": 19,
    "start_time": "2021-07-16T09:00:26.509Z"
   },
   {
    "duration": 21,
    "start_time": "2021-07-16T09:00:26.529Z"
   },
   {
    "duration": 3,
    "start_time": "2021-07-16T09:00:26.552Z"
   },
   {
    "duration": 39,
    "start_time": "2021-07-16T09:00:26.556Z"
   },
   {
    "duration": 31,
    "start_time": "2021-07-16T09:00:26.597Z"
   },
   {
    "duration": 19,
    "start_time": "2021-07-16T09:00:26.630Z"
   },
   {
    "duration": 40,
    "start_time": "2021-07-16T09:00:26.650Z"
   },
   {
    "duration": 14,
    "start_time": "2021-07-16T09:00:26.692Z"
   },
   {
    "duration": 18,
    "start_time": "2021-07-16T09:00:26.708Z"
   },
   {
    "duration": 18,
    "start_time": "2021-07-16T09:00:26.727Z"
   },
   {
    "duration": 52,
    "start_time": "2021-07-16T09:00:26.746Z"
   },
   {
    "duration": 12,
    "start_time": "2021-07-16T09:00:26.800Z"
   },
   {
    "duration": 15,
    "start_time": "2021-07-16T09:00:26.814Z"
   },
   {
    "duration": 5,
    "start_time": "2021-07-16T09:00:26.832Z"
   },
   {
    "duration": 47,
    "start_time": "2021-07-16T09:00:26.839Z"
   },
   {
    "duration": 5,
    "start_time": "2021-07-16T09:00:26.887Z"
   },
   {
    "duration": 7,
    "start_time": "2021-07-16T09:00:26.894Z"
   },
   {
    "duration": 31,
    "start_time": "2021-07-16T09:00:26.902Z"
   },
   {
    "duration": 114632,
    "start_time": "2021-07-16T09:00:26.935Z"
   },
   {
    "duration": 32,
    "start_time": "2021-07-16T09:02:21.568Z"
   },
   {
    "duration": 385,
    "start_time": "2021-07-16T09:02:21.602Z"
   },
   {
    "duration": 759,
    "start_time": "2021-07-16T09:02:21.989Z"
   },
   {
    "duration": 9,
    "start_time": "2021-07-16T09:02:22.749Z"
   },
   {
    "duration": 35,
    "start_time": "2021-07-16T09:02:22.760Z"
   },
   {
    "duration": 213,
    "start_time": "2021-07-16T09:02:22.797Z"
   },
   {
    "duration": 213,
    "start_time": "2021-07-16T09:02:23.012Z"
   },
   {
    "duration": 264,
    "start_time": "2021-07-16T09:02:23.228Z"
   },
   {
    "duration": 378,
    "start_time": "2021-07-16T09:02:23.494Z"
   },
   {
    "duration": 25,
    "start_time": "2021-07-16T09:02:23.874Z"
   },
   {
    "duration": 16,
    "start_time": "2021-07-16T09:02:23.901Z"
   },
   {
    "duration": 66,
    "start_time": "2021-07-16T09:02:23.919Z"
   },
   {
    "duration": 40,
    "start_time": "2021-07-16T09:02:23.987Z"
   },
   {
    "duration": 6,
    "start_time": "2021-07-16T09:02:24.037Z"
   },
   {
    "duration": 6,
    "start_time": "2021-07-16T09:03:07.557Z"
   },
   {
    "duration": 19,
    "start_time": "2021-07-16T09:03:59.623Z"
   },
   {
    "duration": 20,
    "start_time": "2021-07-16T09:05:41.012Z"
   },
   {
    "duration": 21,
    "start_time": "2021-07-16T09:12:40.822Z"
   },
   {
    "duration": 20,
    "start_time": "2021-07-16T09:12:53.770Z"
   },
   {
    "duration": 9,
    "start_time": "2021-07-16T09:13:54.750Z"
   },
   {
    "duration": 13,
    "start_time": "2021-07-16T09:15:05.040Z"
   },
   {
    "duration": 294,
    "start_time": "2021-07-16T09:16:15.845Z"
   },
   {
    "duration": 7,
    "start_time": "2021-07-16T09:16:46.559Z"
   },
   {
    "duration": 18,
    "start_time": "2021-07-16T09:17:00.984Z"
   },
   {
    "duration": 19,
    "start_time": "2021-07-16T09:18:40.029Z"
   },
   {
    "duration": 17,
    "start_time": "2021-07-16T09:20:20.706Z"
   },
   {
    "duration": 17,
    "start_time": "2021-07-16T09:21:10.473Z"
   },
   {
    "duration": 16,
    "start_time": "2021-07-16T09:21:37.042Z"
   },
   {
    "duration": 8,
    "start_time": "2021-07-16T09:22:30.682Z"
   },
   {
    "duration": 19,
    "start_time": "2021-07-16T09:22:36.167Z"
   },
   {
    "duration": 8,
    "start_time": "2021-07-16T09:24:03.592Z"
   },
   {
    "duration": 30,
    "start_time": "2021-07-16T09:24:10.359Z"
   },
   {
    "duration": 28,
    "start_time": "2021-07-16T09:25:16.549Z"
   },
   {
    "duration": 7,
    "start_time": "2021-07-16T09:26:48.341Z"
   },
   {
    "duration": 184,
    "start_time": "2021-07-16T09:27:02.318Z"
   },
   {
    "duration": 179,
    "start_time": "2021-07-16T09:27:04.695Z"
   },
   {
    "duration": 1297,
    "start_time": "2021-07-16T09:27:15.925Z"
   },
   {
    "duration": 102,
    "start_time": "2021-07-16T09:27:17.224Z"
   },
   {
    "duration": 19,
    "start_time": "2021-07-16T09:27:17.328Z"
   },
   {
    "duration": 9,
    "start_time": "2021-07-16T09:27:17.349Z"
   },
   {
    "duration": 15,
    "start_time": "2021-07-16T09:27:17.359Z"
   },
   {
    "duration": 5,
    "start_time": "2021-07-16T09:27:17.376Z"
   },
   {
    "duration": 11,
    "start_time": "2021-07-16T09:27:17.383Z"
   },
   {
    "duration": 5,
    "start_time": "2021-07-16T09:27:17.396Z"
   },
   {
    "duration": 12,
    "start_time": "2021-07-16T09:27:17.403Z"
   },
   {
    "duration": 20,
    "start_time": "2021-07-16T09:27:17.416Z"
   },
   {
    "duration": 50,
    "start_time": "2021-07-16T09:27:17.438Z"
   },
   {
    "duration": 4,
    "start_time": "2021-07-16T09:27:17.490Z"
   },
   {
    "duration": 12,
    "start_time": "2021-07-16T09:27:17.496Z"
   },
   {
    "duration": 30,
    "start_time": "2021-07-16T09:27:17.510Z"
   },
   {
    "duration": 44,
    "start_time": "2021-07-16T09:27:17.541Z"
   },
   {
    "duration": 15,
    "start_time": "2021-07-16T09:27:17.586Z"
   },
   {
    "duration": 19,
    "start_time": "2021-07-16T09:27:17.603Z"
   },
   {
    "duration": 17,
    "start_time": "2021-07-16T09:27:17.623Z"
   },
   {
    "duration": 6,
    "start_time": "2021-07-16T09:27:17.642Z"
   },
   {
    "duration": 46,
    "start_time": "2021-07-16T09:27:17.650Z"
   },
   {
    "duration": 7,
    "start_time": "2021-07-16T09:27:17.698Z"
   },
   {
    "duration": 261,
    "start_time": "2021-07-16T09:27:17.707Z"
   },
   {
    "duration": -1236,
    "start_time": "2021-07-16T09:27:19.207Z"
   },
   {
    "duration": -1238,
    "start_time": "2021-07-16T09:27:19.211Z"
   },
   {
    "duration": -1244,
    "start_time": "2021-07-16T09:27:19.218Z"
   },
   {
    "duration": -1245,
    "start_time": "2021-07-16T09:27:19.221Z"
   },
   {
    "duration": -1248,
    "start_time": "2021-07-16T09:27:19.225Z"
   },
   {
    "duration": -1249,
    "start_time": "2021-07-16T09:27:19.227Z"
   },
   {
    "duration": -1252,
    "start_time": "2021-07-16T09:27:19.232Z"
   },
   {
    "duration": -1254,
    "start_time": "2021-07-16T09:27:19.235Z"
   },
   {
    "duration": -1254,
    "start_time": "2021-07-16T09:27:19.237Z"
   },
   {
    "duration": -1256,
    "start_time": "2021-07-16T09:27:19.240Z"
   },
   {
    "duration": -1258,
    "start_time": "2021-07-16T09:27:19.243Z"
   },
   {
    "duration": -1259,
    "start_time": "2021-07-16T09:27:19.246Z"
   },
   {
    "duration": -1261,
    "start_time": "2021-07-16T09:27:19.249Z"
   },
   {
    "duration": -1262,
    "start_time": "2021-07-16T09:27:19.251Z"
   },
   {
    "duration": -1263,
    "start_time": "2021-07-16T09:27:19.254Z"
   },
   {
    "duration": -1266,
    "start_time": "2021-07-16T09:27:19.258Z"
   },
   {
    "duration": -1269,
    "start_time": "2021-07-16T09:27:19.262Z"
   },
   {
    "duration": -1271,
    "start_time": "2021-07-16T09:27:19.266Z"
   },
   {
    "duration": -1273,
    "start_time": "2021-07-16T09:27:19.269Z"
   },
   {
    "duration": -1274,
    "start_time": "2021-07-16T09:27:19.271Z"
   },
   {
    "duration": -1276,
    "start_time": "2021-07-16T09:27:19.274Z"
   },
   {
    "duration": -1278,
    "start_time": "2021-07-16T09:27:19.277Z"
   },
   {
    "duration": 178,
    "start_time": "2021-07-16T09:27:45.212Z"
   },
   {
    "duration": 177,
    "start_time": "2021-07-16T09:27:56.759Z"
   },
   {
    "duration": 4,
    "start_time": "2021-07-16T09:29:20.997Z"
   },
   {
    "duration": 28,
    "start_time": "2021-07-16T09:29:25.541Z"
   },
   {
    "duration": 1049,
    "start_time": "2021-07-16T09:29:45.187Z"
   },
   {
    "duration": 90,
    "start_time": "2021-07-16T09:29:46.237Z"
   },
   {
    "duration": 23,
    "start_time": "2021-07-16T09:29:46.329Z"
   },
   {
    "duration": 9,
    "start_time": "2021-07-16T09:29:46.353Z"
   },
   {
    "duration": 13,
    "start_time": "2021-07-16T09:29:46.363Z"
   },
   {
    "duration": 5,
    "start_time": "2021-07-16T09:29:46.377Z"
   },
   {
    "duration": 12,
    "start_time": "2021-07-16T09:29:46.383Z"
   },
   {
    "duration": 5,
    "start_time": "2021-07-16T09:29:46.398Z"
   },
   {
    "duration": 10,
    "start_time": "2021-07-16T09:29:46.405Z"
   },
   {
    "duration": 25,
    "start_time": "2021-07-16T09:29:46.417Z"
   },
   {
    "duration": 45,
    "start_time": "2021-07-16T09:29:46.443Z"
   },
   {
    "duration": 3,
    "start_time": "2021-07-16T09:29:46.490Z"
   },
   {
    "duration": 14,
    "start_time": "2021-07-16T09:29:46.494Z"
   },
   {
    "duration": 29,
    "start_time": "2021-07-16T09:29:46.510Z"
   },
   {
    "duration": 19,
    "start_time": "2021-07-16T09:29:46.541Z"
   },
   {
    "duration": 33,
    "start_time": "2021-07-16T09:29:46.562Z"
   },
   {
    "duration": 13,
    "start_time": "2021-07-16T09:29:46.597Z"
   },
   {
    "duration": 16,
    "start_time": "2021-07-16T09:29:46.612Z"
   },
   {
    "duration": 6,
    "start_time": "2021-07-16T09:29:46.630Z"
   },
   {
    "duration": 54,
    "start_time": "2021-07-16T09:29:46.637Z"
   },
   {
    "duration": 2121,
    "start_time": "2021-07-16T09:29:46.693Z"
   },
   {
    "duration": 18,
    "start_time": "2021-07-16T09:29:48.816Z"
   },
   {
    "duration": 28,
    "start_time": "2021-07-16T09:29:48.837Z"
   },
   {
    "duration": 13,
    "start_time": "2021-07-16T09:29:48.885Z"
   },
   {
    "duration": 13,
    "start_time": "2021-07-16T09:29:48.899Z"
   },
   {
    "duration": 5,
    "start_time": "2021-07-16T09:29:48.914Z"
   },
   {
    "duration": 11,
    "start_time": "2021-07-16T09:29:48.920Z"
   },
   {
    "duration": 6,
    "start_time": "2021-07-16T09:29:48.932Z"
   },
   {
    "duration": 6,
    "start_time": "2021-07-16T09:29:48.939Z"
   },
   {
    "duration": 68,
    "start_time": "2021-07-16T09:29:48.946Z"
   },
   {
    "duration": 1066,
    "start_time": "2021-07-16T09:31:36.158Z"
   },
   {
    "duration": 92,
    "start_time": "2021-07-16T09:31:37.226Z"
   },
   {
    "duration": 18,
    "start_time": "2021-07-16T09:31:37.320Z"
   },
   {
    "duration": 8,
    "start_time": "2021-07-16T09:31:37.340Z"
   },
   {
    "duration": 13,
    "start_time": "2021-07-16T09:31:37.350Z"
   },
   {
    "duration": 5,
    "start_time": "2021-07-16T09:31:37.364Z"
   },
   {
    "duration": 13,
    "start_time": "2021-07-16T09:31:37.371Z"
   },
   {
    "duration": 5,
    "start_time": "2021-07-16T09:31:37.387Z"
   },
   {
    "duration": 11,
    "start_time": "2021-07-16T09:31:37.394Z"
   },
   {
    "duration": 20,
    "start_time": "2021-07-16T09:31:37.407Z"
   },
   {
    "duration": 21,
    "start_time": "2021-07-16T09:31:37.428Z"
   },
   {
    "duration": 34,
    "start_time": "2021-07-16T09:31:37.451Z"
   },
   {
    "duration": 12,
    "start_time": "2021-07-16T09:31:37.487Z"
   },
   {
    "duration": 30,
    "start_time": "2021-07-16T09:31:37.501Z"
   },
   {
    "duration": 20,
    "start_time": "2021-07-16T09:31:37.533Z"
   },
   {
    "duration": 38,
    "start_time": "2021-07-16T09:31:37.555Z"
   },
   {
    "duration": 15,
    "start_time": "2021-07-16T09:31:37.595Z"
   },
   {
    "duration": 17,
    "start_time": "2021-07-16T09:31:37.611Z"
   },
   {
    "duration": 6,
    "start_time": "2021-07-16T09:31:37.630Z"
   },
   {
    "duration": 50,
    "start_time": "2021-07-16T09:31:37.637Z"
   },
   {
    "duration": 14,
    "start_time": "2021-07-16T09:31:37.689Z"
   },
   {
    "duration": 16,
    "start_time": "2021-07-16T09:31:37.704Z"
   },
   {
    "duration": 27,
    "start_time": "2021-07-16T09:31:37.723Z"
   },
   {
    "duration": 41,
    "start_time": "2021-07-16T09:31:37.752Z"
   },
   {
    "duration": 15,
    "start_time": "2021-07-16T09:31:37.795Z"
   },
   {
    "duration": 5,
    "start_time": "2021-07-16T09:31:37.811Z"
   },
   {
    "duration": 10,
    "start_time": "2021-07-16T09:31:37.817Z"
   },
   {
    "duration": 5,
    "start_time": "2021-07-16T09:31:37.828Z"
   },
   {
    "duration": 7,
    "start_time": "2021-07-16T09:31:37.834Z"
   },
   {
    "duration": 61,
    "start_time": "2021-07-16T09:31:37.842Z"
   },
   {
    "duration": 116211,
    "start_time": "2021-07-16T09:31:37.905Z"
   },
   {
    "duration": 22,
    "start_time": "2021-07-16T09:33:34.117Z"
   },
   {
    "duration": 410,
    "start_time": "2021-07-16T09:33:34.140Z"
   },
   {
    "duration": 762,
    "start_time": "2021-07-16T09:33:34.552Z"
   },
   {
    "duration": 8,
    "start_time": "2021-07-16T09:33:35.316Z"
   },
   {
    "duration": 18,
    "start_time": "2021-07-16T09:33:35.326Z"
   },
   {
    "duration": 220,
    "start_time": "2021-07-16T09:33:35.346Z"
   },
   {
    "duration": 203,
    "start_time": "2021-07-16T09:33:35.567Z"
   },
   {
    "duration": 225,
    "start_time": "2021-07-16T09:33:35.771Z"
   },
   {
    "duration": 398,
    "start_time": "2021-07-16T09:33:35.997Z"
   },
   {
    "duration": 22,
    "start_time": "2021-07-16T09:33:36.397Z"
   },
   {
    "duration": 16,
    "start_time": "2021-07-16T09:33:36.421Z"
   },
   {
    "duration": 65,
    "start_time": "2021-07-16T09:33:36.438Z"
   },
   {
    "duration": 36,
    "start_time": "2021-07-16T09:33:36.505Z"
   },
   {
    "duration": 18,
    "start_time": "2021-07-16T09:33:36.543Z"
   },
   {
    "duration": 13,
    "start_time": "2021-07-16T09:35:03.362Z"
   },
   {
    "duration": 15,
    "start_time": "2021-07-16T09:35:25.233Z"
   },
   {
    "duration": 13,
    "start_time": "2021-07-16T09:35:25.702Z"
   },
   {
    "duration": 14,
    "start_time": "2021-07-16T09:35:26.220Z"
   },
   {
    "duration": 7,
    "start_time": "2021-07-16T09:35:27.026Z"
   },
   {
    "duration": 10,
    "start_time": "2021-07-16T09:35:27.986Z"
   },
   {
    "duration": 4,
    "start_time": "2021-07-16T09:35:28.798Z"
   },
   {
    "duration": 5,
    "start_time": "2021-07-16T09:35:38.819Z"
   },
   {
    "duration": 6,
    "start_time": "2021-07-16T09:35:39.415Z"
   },
   {
    "duration": 27,
    "start_time": "2021-07-16T09:35:45.327Z"
   },
   {
    "duration": 92243,
    "start_time": "2021-07-16T09:37:06.118Z"
   },
   {
    "duration": 19,
    "start_time": "2021-07-16T09:40:37.184Z"
   },
   {
    "duration": 395,
    "start_time": "2021-07-16T09:40:46.682Z"
   },
   {
    "duration": 790,
    "start_time": "2021-07-16T09:42:06.832Z"
   },
   {
    "duration": 9,
    "start_time": "2021-07-16T09:42:34.251Z"
   },
   {
    "duration": 18,
    "start_time": "2021-07-16T09:42:34.759Z"
   },
   {
    "duration": 201,
    "start_time": "2021-07-16T09:42:36.005Z"
   },
   {
    "duration": 187,
    "start_time": "2021-07-16T09:42:38.691Z"
   },
   {
    "duration": 218,
    "start_time": "2021-07-16T09:42:47.961Z"
   },
   {
    "duration": 379,
    "start_time": "2021-07-16T09:43:36.618Z"
   },
   {
    "duration": 19,
    "start_time": "2021-07-16T09:44:08.786Z"
   },
   {
    "duration": 19,
    "start_time": "2021-07-16T09:45:20.274Z"
   },
   {
    "duration": 3,
    "start_time": "2021-07-16T11:10:06.000Z"
   },
   {
    "duration": 84,
    "start_time": "2021-07-16T11:10:07.339Z"
   },
   {
    "duration": 16,
    "start_time": "2021-07-16T11:10:07.604Z"
   },
   {
    "duration": 9,
    "start_time": "2021-07-16T11:10:07.796Z"
   },
   {
    "duration": 12,
    "start_time": "2021-07-16T11:10:07.985Z"
   },
   {
    "duration": 6,
    "start_time": "2021-07-16T11:10:08.192Z"
   },
   {
    "duration": 12,
    "start_time": "2021-07-16T11:10:08.580Z"
   },
   {
    "duration": 6,
    "start_time": "2021-07-16T11:10:08.788Z"
   },
   {
    "duration": 13,
    "start_time": "2021-07-16T11:10:08.977Z"
   },
   {
    "duration": 23,
    "start_time": "2021-07-16T11:10:09.177Z"
   },
   {
    "duration": 24,
    "start_time": "2021-07-16T11:10:09.604Z"
   },
   {
    "duration": 4,
    "start_time": "2021-07-16T11:10:10.187Z"
   },
   {
    "duration": 14,
    "start_time": "2021-07-16T11:10:10.517Z"
   },
   {
    "duration": 33,
    "start_time": "2021-07-16T11:10:11.966Z"
   },
   {
    "duration": 19,
    "start_time": "2021-07-16T11:10:12.179Z"
   },
   {
    "duration": 17,
    "start_time": "2021-07-16T11:10:12.428Z"
   },
   {
    "duration": 16,
    "start_time": "2021-07-16T11:10:12.629Z"
   },
   {
    "duration": 19,
    "start_time": "2021-07-16T11:10:12.806Z"
   },
   {
    "duration": 7,
    "start_time": "2021-07-16T11:10:13.042Z"
   },
   {
    "duration": 24,
    "start_time": "2021-07-16T11:10:13.284Z"
   },
   {
    "duration": 18,
    "start_time": "2021-07-16T11:10:13.542Z"
   },
   {
    "duration": 17,
    "start_time": "2021-07-16T11:10:13.994Z"
   },
   {
    "duration": 26,
    "start_time": "2021-07-16T11:10:14.232Z"
   },
   {
    "duration": 15,
    "start_time": "2021-07-16T11:10:14.850Z"
   },
   {
    "duration": 17,
    "start_time": "2021-07-16T11:10:15.066Z"
   },
   {
    "duration": 6,
    "start_time": "2021-07-16T11:10:16.076Z"
   },
   {
    "duration": 9,
    "start_time": "2021-07-16T11:10:16.617Z"
   },
   {
    "duration": 5,
    "start_time": "2021-07-16T11:10:17.049Z"
   },
   {
    "duration": 7,
    "start_time": "2021-07-16T11:10:17.428Z"
   },
   {
    "duration": 28,
    "start_time": "2021-07-16T11:10:20.644Z"
   },
   {
    "duration": 93631,
    "start_time": "2021-07-16T11:10:21.588Z"
   },
   {
    "duration": 21,
    "start_time": "2021-07-16T11:11:55.221Z"
   },
   {
    "duration": 417,
    "start_time": "2021-07-16T11:11:55.244Z"
   },
   {
    "duration": 831,
    "start_time": "2021-07-16T11:11:55.663Z"
   },
   {
    "duration": 8,
    "start_time": "2021-07-16T11:11:56.496Z"
   },
   {
    "duration": 16,
    "start_time": "2021-07-16T11:11:56.506Z"
   },
   {
    "duration": 229,
    "start_time": "2021-07-16T11:11:56.523Z"
   },
   {
    "duration": 203,
    "start_time": "2021-07-16T11:11:56.755Z"
   },
   {
    "duration": 238,
    "start_time": "2021-07-16T11:11:56.960Z"
   },
   {
    "duration": 405,
    "start_time": "2021-07-16T11:11:57.199Z"
   },
   {
    "duration": 19,
    "start_time": "2021-07-16T11:11:57.606Z"
   },
   {
    "duration": 16,
    "start_time": "2021-07-16T11:11:57.626Z"
   },
   {
    "duration": 60,
    "start_time": "2021-07-16T11:11:57.643Z"
   },
   {
    "duration": 33,
    "start_time": "2021-07-16T11:11:57.705Z"
   },
   {
    "duration": 12,
    "start_time": "2021-07-16T11:12:22.280Z"
   },
   {
    "duration": 5,
    "start_time": "2021-07-16T11:12:22.620Z"
   },
   {
    "duration": 8,
    "start_time": "2021-07-16T11:12:24.200Z"
   },
   {
    "duration": 30,
    "start_time": "2021-07-16T11:12:26.678Z"
   },
   {
    "duration": 93009,
    "start_time": "2021-07-16T11:12:27.751Z"
   },
   {
    "duration": 27,
    "start_time": "2021-07-16T11:14:00.762Z"
   },
   {
    "duration": 396,
    "start_time": "2021-07-16T11:14:00.791Z"
   },
   {
    "duration": 396,
    "start_time": "2021-07-16T11:17:13.396Z"
   },
   {
    "duration": 339,
    "start_time": "2021-07-16T11:20:50.590Z"
   },
   {
    "duration": 201,
    "start_time": "2021-07-16T11:22:27.559Z"
   },
   {
    "duration": 180,
    "start_time": "2021-07-16T11:22:38.401Z"
   },
   {
    "duration": 197,
    "start_time": "2021-07-16T11:22:49.813Z"
   },
   {
    "duration": 71190,
    "start_time": "2021-07-16T11:24:32.067Z"
   },
   {
    "duration": 1030,
    "start_time": "2021-07-16T11:27:03.298Z"
   },
   {
    "duration": 91,
    "start_time": "2021-07-16T11:27:04.330Z"
   },
   {
    "duration": 17,
    "start_time": "2021-07-16T11:27:04.423Z"
   },
   {
    "duration": 7,
    "start_time": "2021-07-16T11:27:04.442Z"
   },
   {
    "duration": 21,
    "start_time": "2021-07-16T11:27:04.451Z"
   },
   {
    "duration": 5,
    "start_time": "2021-07-16T11:27:04.474Z"
   },
   {
    "duration": 17,
    "start_time": "2021-07-16T11:27:04.481Z"
   },
   {
    "duration": 7,
    "start_time": "2021-07-16T11:27:04.500Z"
   },
   {
    "duration": 18,
    "start_time": "2021-07-16T11:27:04.510Z"
   },
   {
    "duration": 23,
    "start_time": "2021-07-16T11:27:04.530Z"
   },
   {
    "duration": 35,
    "start_time": "2021-07-16T11:27:04.554Z"
   },
   {
    "duration": 4,
    "start_time": "2021-07-16T11:27:04.590Z"
   },
   {
    "duration": 15,
    "start_time": "2021-07-16T11:27:04.595Z"
   },
   {
    "duration": 30,
    "start_time": "2021-07-16T11:27:04.611Z"
   },
   {
    "duration": 44,
    "start_time": "2021-07-16T11:27:04.643Z"
   },
   {
    "duration": 14,
    "start_time": "2021-07-16T11:27:04.688Z"
   },
   {
    "duration": 20,
    "start_time": "2021-07-16T11:27:04.703Z"
   },
   {
    "duration": 19,
    "start_time": "2021-07-16T11:27:04.724Z"
   },
   {
    "duration": 7,
    "start_time": "2021-07-16T11:27:04.744Z"
   },
   {
    "duration": 46,
    "start_time": "2021-07-16T11:27:04.753Z"
   },
   {
    "duration": 16,
    "start_time": "2021-07-16T11:27:04.801Z"
   },
   {
    "duration": 16,
    "start_time": "2021-07-16T11:27:04.818Z"
   },
   {
    "duration": 59,
    "start_time": "2021-07-16T11:27:04.835Z"
   },
   {
    "duration": 12,
    "start_time": "2021-07-16T11:27:04.895Z"
   },
   {
    "duration": 14,
    "start_time": "2021-07-16T11:27:04.908Z"
   },
   {
    "duration": 6,
    "start_time": "2021-07-16T11:27:04.924Z"
   },
   {
    "duration": 9,
    "start_time": "2021-07-16T11:27:04.935Z"
   },
   {
    "duration": 39,
    "start_time": "2021-07-16T11:27:04.946Z"
   },
   {
    "duration": 8,
    "start_time": "2021-07-16T11:27:04.987Z"
   },
   {
    "duration": 30,
    "start_time": "2021-07-16T11:27:04.996Z"
   },
   {
    "duration": 86351,
    "start_time": "2021-07-16T11:27:05.028Z"
   },
   {
    "duration": 21,
    "start_time": "2021-07-16T11:28:31.384Z"
   },
   {
    "duration": 409,
    "start_time": "2021-07-16T11:28:31.406Z"
   },
   {
    "duration": 781,
    "start_time": "2021-07-16T11:28:31.816Z"
   },
   {
    "duration": 8,
    "start_time": "2021-07-16T11:28:32.598Z"
   },
   {
    "duration": 15,
    "start_time": "2021-07-16T11:28:32.608Z"
   },
   {
    "duration": 208,
    "start_time": "2021-07-16T11:28:32.625Z"
   },
   {
    "duration": 191,
    "start_time": "2021-07-16T11:28:32.835Z"
   },
   {
    "duration": 75962,
    "start_time": "2021-07-16T11:28:33.028Z"
   },
   {
    "duration": 397,
    "start_time": "2021-07-16T11:29:48.992Z"
   },
   {
    "duration": 18,
    "start_time": "2021-07-16T11:29:49.391Z"
   },
   {
    "duration": 15,
    "start_time": "2021-07-16T11:29:49.411Z"
   },
   {
    "duration": 62,
    "start_time": "2021-07-16T11:29:49.428Z"
   },
   {
    "duration": 32,
    "start_time": "2021-07-16T11:29:49.492Z"
   },
   {
    "duration": 76464,
    "start_time": "2021-07-16T11:31:39.035Z"
   },
   {
    "duration": 75284,
    "start_time": "2021-07-16T11:33:35.608Z"
   },
   {
    "duration": 793,
    "start_time": "2021-07-16T11:34:50.894Z"
   },
   {
    "duration": 5340,
    "start_time": "2021-07-16T11:35:09.599Z"
   },
   {
    "duration": 29,
    "start_time": "2021-07-16T11:36:00.128Z"
   },
   {
    "duration": 86310,
    "start_time": "2021-07-16T11:36:06.391Z"
   },
   {
    "duration": 29,
    "start_time": "2021-07-16T11:37:32.703Z"
   },
   {
    "duration": 21,
    "start_time": "2021-07-16T11:38:19.796Z"
   },
   {
    "duration": 13,
    "start_time": "2021-07-16T11:38:26.435Z"
   },
   {
    "duration": 13,
    "start_time": "2021-07-16T11:38:26.815Z"
   },
   {
    "duration": 12,
    "start_time": "2021-07-16T11:38:27.307Z"
   },
   {
    "duration": 13,
    "start_time": "2021-07-16T11:38:27.508Z"
   },
   {
    "duration": 6,
    "start_time": "2021-07-16T11:38:27.716Z"
   },
   {
    "duration": 11,
    "start_time": "2021-07-16T11:38:27.915Z"
   },
   {
    "duration": 5,
    "start_time": "2021-07-16T11:38:28.100Z"
   },
   {
    "duration": 7,
    "start_time": "2021-07-16T11:38:28.320Z"
   },
   {
    "duration": 30,
    "start_time": "2021-07-16T11:38:30.037Z"
   },
   {
    "duration": 70458,
    "start_time": "2021-07-16T11:38:31.808Z"
   },
   {
    "duration": 21,
    "start_time": "2021-07-16T11:39:42.268Z"
   },
   {
    "duration": 411,
    "start_time": "2021-07-16T11:39:42.291Z"
   },
   {
    "duration": 758,
    "start_time": "2021-07-16T11:39:42.704Z"
   },
   {
    "duration": 9,
    "start_time": "2021-07-16T11:39:43.463Z"
   },
   {
    "duration": 22,
    "start_time": "2021-07-16T11:39:43.473Z"
   },
   {
    "duration": 197,
    "start_time": "2021-07-16T11:39:43.497Z"
   },
   {
    "duration": 201,
    "start_time": "2021-07-16T11:39:43.697Z"
   },
   {
    "duration": 58710,
    "start_time": "2021-07-16T11:39:43.900Z"
   },
   {
    "duration": 313,
    "start_time": "2021-07-16T11:43:51.941Z"
   },
   {
    "duration": 220,
    "start_time": "2021-07-16T11:44:26.133Z"
   },
   {
    "duration": 35,
    "start_time": "2021-07-16T11:46:14.288Z"
   },
   {
    "duration": 33,
    "start_time": "2021-07-16T11:46:23.364Z"
   },
   {
    "duration": 39,
    "start_time": "2021-07-16T11:46:48.670Z"
   },
   {
    "duration": 48,
    "start_time": "2021-07-16T11:47:00.975Z"
   },
   {
    "duration": 33,
    "start_time": "2021-07-16T11:47:36.292Z"
   },
   {
    "duration": 31,
    "start_time": "2021-07-16T11:48:27.225Z"
   },
   {
    "duration": 4314,
    "start_time": "2021-07-16T11:48:32.584Z"
   },
   {
    "duration": 21,
    "start_time": "2021-07-16T11:51:46.909Z"
   },
   {
    "duration": 20,
    "start_time": "2021-07-16T11:52:11.570Z"
   },
   {
    "duration": 20,
    "start_time": "2021-07-16T11:52:42.869Z"
   },
   {
    "duration": 61,
    "start_time": "2021-07-16T11:57:27.988Z"
   },
   {
    "duration": 18,
    "start_time": "2021-07-16T11:57:38.172Z"
   },
   {
    "duration": 378,
    "start_time": "2021-07-16T11:58:34.919Z"
   },
   {
    "duration": 385,
    "start_time": "2021-07-16T11:59:20.467Z"
   },
   {
    "duration": 537,
    "start_time": "2021-07-16T12:00:42.251Z"
   },
   {
    "duration": 387,
    "start_time": "2021-07-16T12:01:05.424Z"
   },
   {
    "duration": 689,
    "start_time": "2021-07-16T12:01:24.205Z"
   },
   {
    "duration": 393,
    "start_time": "2021-07-16T12:01:49.455Z"
   },
   {
    "duration": 15,
    "start_time": "2021-07-16T12:02:49.138Z"
   },
   {
    "duration": 186,
    "start_time": "2021-07-16T12:02:50.837Z"
   },
   {
    "duration": 196,
    "start_time": "2021-07-16T12:02:53.954Z"
   },
   {
    "duration": 55465,
    "start_time": "2021-07-16T12:02:57.334Z"
   },
   {
    "duration": 16,
    "start_time": "2021-07-16T12:04:11.319Z"
   },
   {
    "duration": 27,
    "start_time": "2021-07-16T12:05:30.333Z"
   },
   {
    "duration": 242,
    "start_time": "2021-07-16T12:05:53.964Z"
   },
   {
    "duration": 17,
    "start_time": "2021-07-16T12:06:00.860Z"
   },
   {
    "duration": 201,
    "start_time": "2021-07-16T12:08:30.773Z"
   },
   {
    "duration": 216,
    "start_time": "2021-07-16T12:09:14.866Z"
   },
   {
    "duration": 17,
    "start_time": "2021-07-16T12:09:43.963Z"
   },
   {
    "duration": 10,
    "start_time": "2021-07-16T12:10:52.573Z"
   },
   {
    "duration": 234,
    "start_time": "2021-07-16T12:11:00.615Z"
   },
   {
    "duration": 193,
    "start_time": "2021-07-16T12:11:14.271Z"
   },
   {
    "duration": 186,
    "start_time": "2021-07-16T12:11:38.015Z"
   },
   {
    "duration": 10,
    "start_time": "2021-07-16T12:11:48.114Z"
   },
   {
    "duration": 189,
    "start_time": "2021-07-16T12:12:26.577Z"
   },
   {
    "duration": 16,
    "start_time": "2021-07-16T12:12:59.846Z"
   },
   {
    "duration": 14,
    "start_time": "2021-07-16T12:13:03.879Z"
   },
   {
    "duration": 23,
    "start_time": "2021-07-16T12:13:06.308Z"
   },
   {
    "duration": 23,
    "start_time": "2021-07-16T12:13:25.982Z"
   },
   {
    "duration": 598,
    "start_time": "2021-07-16T12:14:03.235Z"
   },
   {
    "duration": 4262,
    "start_time": "2021-07-16T12:15:35.776Z"
   },
   {
    "duration": 751,
    "start_time": "2021-07-16T12:16:37.254Z"
   },
   {
    "duration": 759,
    "start_time": "2021-07-16T12:17:01.968Z"
   },
   {
    "duration": 815,
    "start_time": "2021-07-16T12:17:15.144Z"
   },
   {
    "duration": 903,
    "start_time": "2021-07-16T12:17:48.897Z"
   },
   {
    "duration": 667,
    "start_time": "2021-07-16T12:17:59.860Z"
   },
   {
    "duration": 545,
    "start_time": "2021-07-16T12:20:42.450Z"
   },
   {
    "duration": 424,
    "start_time": "2021-07-16T12:20:47.987Z"
   },
   {
    "duration": 496,
    "start_time": "2021-07-16T12:21:16.468Z"
   },
   {
    "duration": 365,
    "start_time": "2021-07-16T12:22:30.603Z"
   },
   {
    "duration": 373,
    "start_time": "2021-07-16T12:22:40.521Z"
   },
   {
    "duration": 387,
    "start_time": "2021-07-16T12:23:26.991Z"
   },
   {
    "duration": 367,
    "start_time": "2021-07-16T12:23:33.125Z"
   },
   {
    "duration": 19,
    "start_time": "2021-07-16T12:25:30.172Z"
   },
   {
    "duration": 21,
    "start_time": "2021-07-16T12:25:39.877Z"
   },
   {
    "duration": 20,
    "start_time": "2021-07-16T12:25:51.395Z"
   },
   {
    "duration": 202,
    "start_time": "2021-07-16T12:26:00.575Z"
   },
   {
    "duration": 60,
    "start_time": "2021-07-16T12:26:11.415Z"
   },
   {
    "duration": 20,
    "start_time": "2021-07-16T12:26:16.314Z"
   },
   {
    "duration": 211,
    "start_time": "2021-07-16T12:26:35.490Z"
   },
   {
    "duration": 17,
    "start_time": "2021-07-16T12:26:48.622Z"
   },
   {
    "duration": 17,
    "start_time": "2021-07-16T12:26:59.839Z"
   },
   {
    "duration": 16,
    "start_time": "2021-07-16T12:27:15.354Z"
   },
   {
    "duration": 17,
    "start_time": "2021-07-16T12:27:39.959Z"
   },
   {
    "duration": 17,
    "start_time": "2021-07-16T12:27:58.400Z"
   },
   {
    "duration": 19,
    "start_time": "2021-07-16T12:28:03.319Z"
   },
   {
    "duration": 189,
    "start_time": "2021-07-16T12:28:26.041Z"
   },
   {
    "duration": 18,
    "start_time": "2021-07-16T12:28:29.430Z"
   },
   {
    "duration": 17,
    "start_time": "2021-07-16T12:29:28.435Z"
   },
   {
    "duration": 17,
    "start_time": "2021-07-16T12:29:35.105Z"
   },
   {
    "duration": 18,
    "start_time": "2021-07-16T12:29:41.804Z"
   },
   {
    "duration": 689,
    "start_time": "2021-07-16T12:30:57.273Z"
   },
   {
    "duration": 384,
    "start_time": "2021-07-16T12:31:36.113Z"
   },
   {
    "duration": 378,
    "start_time": "2021-07-16T12:31:42.986Z"
   },
   {
    "duration": 18,
    "start_time": "2021-07-16T12:34:39.749Z"
   },
   {
    "duration": 18,
    "start_time": "2021-07-16T12:34:46.942Z"
   },
   {
    "duration": 16,
    "start_time": "2021-07-16T12:34:52.878Z"
   },
   {
    "duration": 19,
    "start_time": "2021-07-16T12:35:55.876Z"
   },
   {
    "duration": 18,
    "start_time": "2021-07-16T12:36:03.905Z"
   },
   {
    "duration": 19,
    "start_time": "2021-07-16T12:36:59.372Z"
   },
   {
    "duration": 17,
    "start_time": "2021-07-16T12:37:07.438Z"
   },
   {
    "duration": 18,
    "start_time": "2021-07-16T12:37:12.049Z"
   },
   {
    "duration": 17,
    "start_time": "2021-07-16T12:37:17.827Z"
   },
   {
    "duration": 18,
    "start_time": "2021-07-16T12:37:23.789Z"
   },
   {
    "duration": 18,
    "start_time": "2021-07-16T12:37:48.455Z"
   },
   {
    "duration": 18,
    "start_time": "2021-07-16T12:37:53.775Z"
   },
   {
    "duration": 18,
    "start_time": "2021-07-16T12:37:57.902Z"
   },
   {
    "duration": 17,
    "start_time": "2021-07-16T12:38:03.780Z"
   },
   {
    "duration": 19,
    "start_time": "2021-07-16T12:38:09.370Z"
   },
   {
    "duration": 24,
    "start_time": "2021-07-16T12:38:32.570Z"
   },
   {
    "duration": 200,
    "start_time": "2021-07-16T12:38:46.417Z"
   },
   {
    "duration": 23,
    "start_time": "2021-07-16T12:38:58.940Z"
   },
   {
    "duration": 22,
    "start_time": "2021-07-16T12:39:23.481Z"
   },
   {
    "duration": 201,
    "start_time": "2021-07-16T12:40:52.672Z"
   },
   {
    "duration": 24,
    "start_time": "2021-07-16T12:41:06.342Z"
   },
   {
    "duration": 25,
    "start_time": "2021-07-16T12:41:13.891Z"
   },
   {
    "duration": 23,
    "start_time": "2021-07-16T12:41:30.832Z"
   },
   {
    "duration": 23,
    "start_time": "2021-07-16T12:41:41.327Z"
   },
   {
    "duration": 25,
    "start_time": "2021-07-16T12:42:16.209Z"
   },
   {
    "duration": 24,
    "start_time": "2021-07-16T12:42:46.042Z"
   },
   {
    "duration": 4778,
    "start_time": "2021-07-16T12:43:17.134Z"
   },
   {
    "duration": 4502,
    "start_time": "2021-07-16T12:45:01.335Z"
   },
   {
    "duration": 5014,
    "start_time": "2021-07-16T12:46:14.477Z"
   },
   {
    "duration": 4284,
    "start_time": "2021-07-16T12:47:23.322Z"
   },
   {
    "duration": 4481,
    "start_time": "2021-07-16T12:47:44.429Z"
   },
   {
    "duration": 28,
    "start_time": "2021-07-16T12:51:01.021Z"
   },
   {
    "duration": 381,
    "start_time": "2021-07-16T12:52:57.277Z"
   },
   {
    "duration": 21,
    "start_time": "2021-07-16T12:53:04.248Z"
   },
   {
    "duration": 743,
    "start_time": "2021-07-16T12:53:42.288Z"
   },
   {
    "duration": 756,
    "start_time": "2021-07-16T12:54:11.581Z"
   },
   {
    "duration": 23,
    "start_time": "2021-07-16T12:54:42.380Z"
   },
   {
    "duration": 33,
    "start_time": "2021-07-16T12:54:55.067Z"
   },
   {
    "duration": 31,
    "start_time": "2021-07-16T12:55:25.540Z"
   },
   {
    "duration": 794,
    "start_time": "2021-07-16T12:57:36.074Z"
   },
   {
    "duration": 27,
    "start_time": "2021-07-16T12:57:47.877Z"
   },
   {
    "duration": 24,
    "start_time": "2021-07-16T12:59:12.891Z"
   },
   {
    "duration": 41619,
    "start_time": "2021-07-16T12:59:13.415Z"
   },
   {
    "duration": 17,
    "start_time": "2021-07-16T12:59:55.036Z"
   },
   {
    "duration": 412,
    "start_time": "2021-07-16T12:59:55.055Z"
   },
   {
    "duration": 764,
    "start_time": "2021-07-16T12:59:55.468Z"
   },
   {
    "duration": 8,
    "start_time": "2021-07-16T12:59:56.233Z"
   },
   {
    "duration": 14,
    "start_time": "2021-07-16T12:59:56.243Z"
   },
   {
    "duration": 213,
    "start_time": "2021-07-16T12:59:56.258Z"
   },
   {
    "duration": 195,
    "start_time": "2021-07-16T12:59:56.473Z"
   },
   {
    "duration": 666,
    "start_time": "2021-07-16T12:59:56.670Z"
   },
   {
    "duration": 397,
    "start_time": "2021-07-16T12:59:57.338Z"
   },
   {
    "duration": 32,
    "start_time": "2021-07-16T13:01:01.783Z"
   },
   {
    "duration": 30,
    "start_time": "2021-07-16T13:01:43.799Z"
   },
   {
    "duration": 25,
    "start_time": "2021-07-16T13:01:56.572Z"
   },
   {
    "duration": 19,
    "start_time": "2021-07-16T13:02:38.086Z"
   },
   {
    "duration": 192,
    "start_time": "2021-07-16T13:02:38.874Z"
   },
   {
    "duration": 193,
    "start_time": "2021-07-16T13:02:39.122Z"
   },
   {
    "duration": 35307,
    "start_time": "2021-07-16T13:02:39.421Z"
   },
   {
    "duration": 414,
    "start_time": "2021-07-16T13:03:14.730Z"
   },
   {
    "duration": 26,
    "start_time": "2021-07-16T13:03:51.904Z"
   },
   {
    "duration": 26,
    "start_time": "2021-07-16T13:03:56.946Z"
   },
   {
    "duration": 28,
    "start_time": "2021-07-16T13:04:49.466Z"
   },
   {
    "duration": 27,
    "start_time": "2021-07-16T13:05:16.495Z"
   },
   {
    "duration": 795,
    "start_time": "2021-07-16T13:08:48.727Z"
   },
   {
    "duration": 759,
    "start_time": "2021-07-16T13:09:00.567Z"
   },
   {
    "duration": 35932,
    "start_time": "2021-07-16T13:10:06.370Z"
   },
   {
    "duration": 251,
    "start_time": "2021-07-16T13:10:42.359Z"
   },
   {
    "duration": 22,
    "start_time": "2021-07-16T13:12:10.354Z"
   },
   {
    "duration": 22,
    "start_time": "2021-07-16T13:12:18.335Z"
   },
   {
    "duration": 13,
    "start_time": "2021-07-16T13:15:12.097Z"
   },
   {
    "duration": 12,
    "start_time": "2021-07-16T13:15:22.220Z"
   },
   {
    "duration": 21,
    "start_time": "2021-07-16T13:19:49.826Z"
   },
   {
    "duration": 20,
    "start_time": "2021-07-16T13:22:17.648Z"
   },
   {
    "duration": 7,
    "start_time": "2021-07-16T13:22:45.497Z"
   },
   {
    "duration": 19,
    "start_time": "2021-07-16T13:23:34.753Z"
   },
   {
    "duration": 8,
    "start_time": "2021-07-16T13:24:25.342Z"
   },
   {
    "duration": 9,
    "start_time": "2021-07-16T13:24:53.734Z"
   },
   {
    "duration": 10,
    "start_time": "2021-07-16T13:25:25.734Z"
   },
   {
    "duration": 769,
    "start_time": "2021-07-16T13:26:22.916Z"
   },
   {
    "duration": 11,
    "start_time": "2021-07-16T13:26:27.986Z"
   },
   {
    "duration": 7,
    "start_time": "2021-07-16T13:28:28.190Z"
   },
   {
    "duration": 6,
    "start_time": "2021-07-16T13:28:57.644Z"
   },
   {
    "duration": 21,
    "start_time": "2021-07-16T13:29:02.478Z"
   },
   {
    "duration": 10,
    "start_time": "2021-07-16T13:29:26.280Z"
   },
   {
    "duration": 7,
    "start_time": "2021-07-16T13:29:47.403Z"
   },
   {
    "duration": 1129,
    "start_time": "2021-07-16T13:30:46.677Z"
   },
   {
    "duration": 83,
    "start_time": "2021-07-16T13:30:47.808Z"
   },
   {
    "duration": 17,
    "start_time": "2021-07-16T13:30:47.893Z"
   },
   {
    "duration": 8,
    "start_time": "2021-07-16T13:30:47.912Z"
   },
   {
    "duration": 13,
    "start_time": "2021-07-16T13:30:47.922Z"
   },
   {
    "duration": 5,
    "start_time": "2021-07-16T13:30:47.937Z"
   },
   {
    "duration": 11,
    "start_time": "2021-07-16T13:30:47.944Z"
   },
   {
    "duration": 30,
    "start_time": "2021-07-16T13:30:47.958Z"
   },
   {
    "duration": 10,
    "start_time": "2021-07-16T13:30:47.990Z"
   },
   {
    "duration": 19,
    "start_time": "2021-07-16T13:30:48.002Z"
   },
   {
    "duration": 21,
    "start_time": "2021-07-16T13:30:48.022Z"
   },
   {
    "duration": 3,
    "start_time": "2021-07-16T13:30:48.045Z"
   },
   {
    "duration": 42,
    "start_time": "2021-07-16T13:30:48.049Z"
   },
   {
    "duration": 30,
    "start_time": "2021-07-16T13:30:48.093Z"
   },
   {
    "duration": 21,
    "start_time": "2021-07-16T13:30:48.125Z"
   },
   {
    "duration": 38,
    "start_time": "2021-07-16T13:30:48.147Z"
   },
   {
    "duration": 15,
    "start_time": "2021-07-16T13:30:48.187Z"
   },
   {
    "duration": 17,
    "start_time": "2021-07-16T13:30:48.204Z"
   },
   {
    "duration": 7,
    "start_time": "2021-07-16T13:30:48.222Z"
   },
   {
    "duration": 54,
    "start_time": "2021-07-16T13:30:48.231Z"
   },
   {
    "duration": 16,
    "start_time": "2021-07-16T13:30:48.287Z"
   },
   {
    "duration": 5,
    "start_time": "2021-07-16T13:30:48.305Z"
   },
   {
    "duration": 14,
    "start_time": "2021-07-16T13:30:48.313Z"
   },
   {
    "duration": 22,
    "start_time": "2021-07-16T13:30:48.329Z"
   },
   {
    "duration": 41,
    "start_time": "2021-07-16T13:30:48.353Z"
   },
   {
    "duration": 13,
    "start_time": "2021-07-16T13:30:48.395Z"
   },
   {
    "duration": 5,
    "start_time": "2021-07-16T13:30:48.409Z"
   },
   {
    "duration": 11,
    "start_time": "2021-07-16T13:30:48.415Z"
   },
   {
    "duration": 7,
    "start_time": "2021-07-16T13:30:48.427Z"
   },
   {
    "duration": 10,
    "start_time": "2021-07-16T13:30:48.436Z"
   },
   {
    "duration": 50,
    "start_time": "2021-07-16T13:30:48.447Z"
   },
   {
    "duration": 41251,
    "start_time": "2021-07-16T13:30:48.499Z"
   },
   {
    "duration": 18,
    "start_time": "2021-07-16T13:31:29.752Z"
   },
   {
    "duration": 409,
    "start_time": "2021-07-16T13:31:29.771Z"
   },
   {
    "duration": 767,
    "start_time": "2021-07-16T13:31:30.181Z"
   },
   {
    "duration": 8,
    "start_time": "2021-07-16T13:31:30.949Z"
   },
   {
    "duration": 36,
    "start_time": "2021-07-16T13:31:30.958Z"
   },
   {
    "duration": 196,
    "start_time": "2021-07-16T13:31:30.995Z"
   },
   {
    "duration": 201,
    "start_time": "2021-07-16T13:31:31.193Z"
   },
   {
    "duration": 33998,
    "start_time": "2021-07-16T13:31:31.395Z"
   },
   {
    "duration": 382,
    "start_time": "2021-07-16T13:32:05.394Z"
   },
   {
    "duration": 20,
    "start_time": "2021-07-16T13:32:05.779Z"
   },
   {
    "duration": 16,
    "start_time": "2021-07-16T13:32:05.801Z"
   },
   {
    "duration": 39,
    "start_time": "2021-07-16T13:32:05.819Z"
   },
   {
    "duration": 57,
    "start_time": "2021-07-16T13:32:05.859Z"
   },
   {
    "duration": 9,
    "start_time": "2021-07-16T13:32:05.929Z"
   },
   {
    "duration": 14,
    "start_time": "2021-07-16T13:32:25.561Z"
   },
   {
    "duration": 14,
    "start_time": "2021-07-16T13:32:26.233Z"
   },
   {
    "duration": 12,
    "start_time": "2021-07-16T13:32:26.986Z"
   },
   {
    "duration": 12,
    "start_time": "2021-07-16T13:32:27.852Z"
   },
   {
    "duration": 6,
    "start_time": "2021-07-16T13:32:29.005Z"
   },
   {
    "duration": 11,
    "start_time": "2021-07-16T13:32:29.290Z"
   },
   {
    "duration": 6,
    "start_time": "2021-07-16T13:32:29.476Z"
   },
   {
    "duration": 6,
    "start_time": "2021-07-16T13:32:29.719Z"
   },
   {
    "duration": 21,
    "start_time": "2021-07-16T13:32:33.965Z"
   },
   {
    "duration": 34249,
    "start_time": "2021-07-16T13:32:35.562Z"
   },
   {
    "duration": 20,
    "start_time": "2021-07-16T13:34:29.438Z"
   },
   {
    "duration": 22,
    "start_time": "2021-07-16T13:34:42.308Z"
   },
   {
    "duration": 21,
    "start_time": "2021-07-16T13:35:34.082Z"
   },
   {
    "duration": 21,
    "start_time": "2021-07-16T13:36:00.615Z"
   },
   {
    "duration": 20,
    "start_time": "2021-07-16T13:36:10.760Z"
   },
   {
    "duration": 27,
    "start_time": "2021-07-16T13:36:19.849Z"
   },
   {
    "duration": 27,
    "start_time": "2021-07-16T13:36:29.164Z"
   },
   {
    "duration": 26,
    "start_time": "2021-07-16T13:36:34.983Z"
   },
   {
    "duration": 21,
    "start_time": "2021-07-16T13:36:40.793Z"
   },
   {
    "duration": 17,
    "start_time": "2021-07-16T13:36:51.124Z"
   },
   {
    "duration": 193,
    "start_time": "2021-07-16T13:36:54.501Z"
   },
   {
    "duration": 192,
    "start_time": "2021-07-16T13:37:05.657Z"
   },
   {
    "duration": 27782,
    "start_time": "2021-07-16T13:37:08.676Z"
   },
   {
    "duration": 9,
    "start_time": "2021-07-16T13:38:46.627Z"
   },
   {
    "duration": 8,
    "start_time": "2021-07-16T13:38:57.861Z"
   },
   {
    "duration": 17,
    "start_time": "2021-07-16T13:38:58.135Z"
   },
   {
    "duration": 194,
    "start_time": "2021-07-16T13:39:02.198Z"
   },
   {
    "duration": 1284,
    "start_time": "2021-07-16T13:39:05.363Z"
   },
   {
    "duration": 29302,
    "start_time": "2021-07-16T13:39:06.649Z"
   },
   {
    "duration": 1076,
    "start_time": "2021-07-16T13:40:01.245Z"
   },
   {
    "duration": 83,
    "start_time": "2021-07-16T13:40:02.322Z"
   },
   {
    "duration": 16,
    "start_time": "2021-07-16T13:40:02.407Z"
   },
   {
    "duration": 9,
    "start_time": "2021-07-16T13:40:02.425Z"
   },
   {
    "duration": 19,
    "start_time": "2021-07-16T13:40:02.435Z"
   },
   {
    "duration": 5,
    "start_time": "2021-07-16T13:40:02.456Z"
   },
   {
    "duration": 17,
    "start_time": "2021-07-16T13:40:02.463Z"
   },
   {
    "duration": 6,
    "start_time": "2021-07-16T13:40:02.482Z"
   },
   {
    "duration": 14,
    "start_time": "2021-07-16T13:40:02.490Z"
   },
   {
    "duration": 24,
    "start_time": "2021-07-16T13:40:02.506Z"
   },
   {
    "duration": 24,
    "start_time": "2021-07-16T13:40:02.531Z"
   },
   {
    "duration": 29,
    "start_time": "2021-07-16T13:40:02.556Z"
   },
   {
    "duration": 14,
    "start_time": "2021-07-16T13:40:02.586Z"
   },
   {
    "duration": 31,
    "start_time": "2021-07-16T13:40:02.601Z"
   },
   {
    "duration": 21,
    "start_time": "2021-07-16T13:40:02.633Z"
   },
   {
    "duration": 41,
    "start_time": "2021-07-16T13:40:02.655Z"
   },
   {
    "duration": 15,
    "start_time": "2021-07-16T13:40:02.698Z"
   },
   {
    "duration": 18,
    "start_time": "2021-07-16T13:40:02.715Z"
   },
   {
    "duration": 7,
    "start_time": "2021-07-16T13:40:02.734Z"
   },
   {
    "duration": 58,
    "start_time": "2021-07-16T13:40:02.742Z"
   },
   {
    "duration": 16,
    "start_time": "2021-07-16T13:40:02.802Z"
   },
   {
    "duration": 9,
    "start_time": "2021-07-16T13:40:02.819Z"
   },
   {
    "duration": 14,
    "start_time": "2021-07-16T13:40:02.831Z"
   },
   {
    "duration": 56,
    "start_time": "2021-07-16T13:40:02.847Z"
   },
   {
    "duration": 12,
    "start_time": "2021-07-16T13:40:02.905Z"
   },
   {
    "duration": 13,
    "start_time": "2021-07-16T13:40:02.918Z"
   },
   {
    "duration": 5,
    "start_time": "2021-07-16T13:40:02.932Z"
   },
   {
    "duration": 10,
    "start_time": "2021-07-16T13:40:02.938Z"
   },
   {
    "duration": 36,
    "start_time": "2021-07-16T13:40:02.950Z"
   },
   {
    "duration": 6,
    "start_time": "2021-07-16T13:40:02.988Z"
   },
   {
    "duration": 23,
    "start_time": "2021-07-16T13:40:02.996Z"
   },
   {
    "duration": 33900,
    "start_time": "2021-07-16T13:40:03.021Z"
   },
   {
    "duration": 17,
    "start_time": "2021-07-16T13:40:36.923Z"
   },
   {
    "duration": 402,
    "start_time": "2021-07-16T13:40:36.942Z"
   },
   {
    "duration": 761,
    "start_time": "2021-07-16T13:40:37.345Z"
   },
   {
    "duration": 7,
    "start_time": "2021-07-16T13:40:38.108Z"
   },
   {
    "duration": 30,
    "start_time": "2021-07-16T13:40:38.117Z"
   },
   {
    "duration": 215,
    "start_time": "2021-07-16T13:40:38.149Z"
   },
   {
    "duration": 197,
    "start_time": "2021-07-16T13:40:38.367Z"
   },
   {
    "duration": 28830,
    "start_time": "2021-07-16T13:40:38.566Z"
   },
   {
    "duration": 379,
    "start_time": "2021-07-16T13:41:07.398Z"
   },
   {
    "duration": 18,
    "start_time": "2021-07-16T13:41:07.778Z"
   },
   {
    "duration": 25,
    "start_time": "2021-07-16T13:41:07.797Z"
   },
   {
    "duration": 34,
    "start_time": "2021-07-16T13:41:07.824Z"
   },
   {
    "duration": 42,
    "start_time": "2021-07-16T13:41:07.859Z"
   },
   {
    "duration": 739,
    "start_time": "2021-07-16T19:33:44.943Z"
   },
   {
    "duration": 1166,
    "start_time": "2021-07-16T19:33:55.008Z"
   },
   {
    "duration": 90,
    "start_time": "2021-07-16T19:33:56.176Z"
   },
   {
    "duration": 20,
    "start_time": "2021-07-16T19:33:56.269Z"
   },
   {
    "duration": 15,
    "start_time": "2021-07-16T19:33:56.291Z"
   },
   {
    "duration": 15,
    "start_time": "2021-07-16T19:33:56.308Z"
   },
   {
    "duration": 7,
    "start_time": "2021-07-16T19:33:56.324Z"
   },
   {
    "duration": 15,
    "start_time": "2021-07-16T19:33:56.332Z"
   },
   {
    "duration": 6,
    "start_time": "2021-07-16T19:33:56.349Z"
   },
   {
    "duration": 18,
    "start_time": "2021-07-16T19:33:56.357Z"
   },
   {
    "duration": 22,
    "start_time": "2021-07-16T19:33:56.377Z"
   },
   {
    "duration": 47,
    "start_time": "2021-07-16T19:33:56.400Z"
   },
   {
    "duration": 4,
    "start_time": "2021-07-16T19:33:56.449Z"
   },
   {
    "duration": 15,
    "start_time": "2021-07-16T19:33:56.455Z"
   },
   {
    "duration": 32,
    "start_time": "2021-07-16T19:33:56.471Z"
   },
   {
    "duration": 46,
    "start_time": "2021-07-16T19:33:56.506Z"
   },
   {
    "duration": 14,
    "start_time": "2021-07-16T19:33:56.554Z"
   },
   {
    "duration": 16,
    "start_time": "2021-07-16T19:33:56.570Z"
   },
   {
    "duration": 20,
    "start_time": "2021-07-16T19:33:56.588Z"
   },
   {
    "duration": 32,
    "start_time": "2021-07-16T19:33:56.610Z"
   },
   {
    "duration": 29,
    "start_time": "2021-07-16T19:33:56.644Z"
   },
   {
    "duration": 16,
    "start_time": "2021-07-16T19:33:56.675Z"
   },
   {
    "duration": 9,
    "start_time": "2021-07-16T19:33:56.693Z"
   },
   {
    "duration": 49,
    "start_time": "2021-07-16T19:33:56.705Z"
   },
   {
    "duration": 27,
    "start_time": "2021-07-16T19:33:56.756Z"
   },
   {
    "duration": 17,
    "start_time": "2021-07-16T19:33:56.785Z"
   },
   {
    "duration": 44,
    "start_time": "2021-07-16T19:33:56.804Z"
   },
   {
    "duration": 6,
    "start_time": "2021-07-16T19:33:56.850Z"
   },
   {
    "duration": 18,
    "start_time": "2021-07-16T19:33:56.857Z"
   },
   {
    "duration": 10,
    "start_time": "2021-07-16T19:33:56.877Z"
   },
   {
    "duration": 16,
    "start_time": "2021-07-16T19:33:56.888Z"
   },
   {
    "duration": 35,
    "start_time": "2021-07-16T19:33:56.906Z"
   },
   {
    "duration": 31759,
    "start_time": "2021-07-16T19:33:56.942Z"
   },
   {
    "duration": 18,
    "start_time": "2021-07-16T19:34:28.702Z"
   },
   {
    "duration": 368,
    "start_time": "2021-07-16T19:34:28.722Z"
   },
   {
    "duration": 705,
    "start_time": "2021-07-16T19:34:29.091Z"
   },
   {
    "duration": 7,
    "start_time": "2021-07-16T19:34:29.798Z"
   },
   {
    "duration": 34,
    "start_time": "2021-07-16T19:34:29.807Z"
   },
   {
    "duration": 199,
    "start_time": "2021-07-16T19:34:29.843Z"
   },
   {
    "duration": 189,
    "start_time": "2021-07-16T19:34:30.043Z"
   },
   {
    "duration": 27819,
    "start_time": "2021-07-16T19:34:30.234Z"
   },
   {
    "duration": 395,
    "start_time": "2021-07-16T19:34:58.054Z"
   },
   {
    "duration": 16,
    "start_time": "2021-07-16T19:34:58.451Z"
   },
   {
    "duration": 15,
    "start_time": "2021-07-16T19:34:58.468Z"
   },
   {
    "duration": 58,
    "start_time": "2021-07-16T19:34:58.485Z"
   },
   {
    "duration": 29,
    "start_time": "2021-07-16T19:34:58.545Z"
   },
   {
    "duration": 17,
    "start_time": "2021-07-16T19:41:50.356Z"
   },
   {
    "duration": 15,
    "start_time": "2021-07-16T20:16:53.039Z"
   },
   {
    "duration": 309,
    "start_time": "2021-07-17T06:32:03.240Z"
   },
   {
    "duration": 1072,
    "start_time": "2021-07-17T06:32:11.960Z"
   },
   {
    "duration": 118,
    "start_time": "2021-07-17T06:32:13.034Z"
   },
   {
    "duration": 16,
    "start_time": "2021-07-17T06:32:13.155Z"
   },
   {
    "duration": 8,
    "start_time": "2021-07-17T06:32:13.172Z"
   },
   {
    "duration": 12,
    "start_time": "2021-07-17T06:32:13.181Z"
   },
   {
    "duration": 4,
    "start_time": "2021-07-17T06:32:13.195Z"
   },
   {
    "duration": 11,
    "start_time": "2021-07-17T06:32:13.201Z"
   },
   {
    "duration": 5,
    "start_time": "2021-07-17T06:32:13.214Z"
   },
   {
    "duration": 10,
    "start_time": "2021-07-17T06:32:13.221Z"
   },
   {
    "duration": 18,
    "start_time": "2021-07-17T06:32:13.232Z"
   },
   {
    "duration": 41,
    "start_time": "2021-07-17T06:32:13.251Z"
   },
   {
    "duration": 3,
    "start_time": "2021-07-17T06:32:13.293Z"
   },
   {
    "duration": 12,
    "start_time": "2021-07-17T06:32:13.297Z"
   },
   {
    "duration": 29,
    "start_time": "2021-07-17T06:32:13.311Z"
   },
   {
    "duration": 19,
    "start_time": "2021-07-17T06:32:13.341Z"
   },
   {
    "duration": 37,
    "start_time": "2021-07-17T06:32:13.362Z"
   },
   {
    "duration": 14,
    "start_time": "2021-07-17T06:32:13.401Z"
   },
   {
    "duration": 17,
    "start_time": "2021-07-17T06:32:13.416Z"
   },
   {
    "duration": 7,
    "start_time": "2021-07-17T06:32:13.434Z"
   },
   {
    "duration": 57,
    "start_time": "2021-07-17T06:32:13.443Z"
   },
   {
    "duration": 15,
    "start_time": "2021-07-17T06:32:13.502Z"
   },
   {
    "duration": 9,
    "start_time": "2021-07-17T06:32:13.518Z"
   },
   {
    "duration": 13,
    "start_time": "2021-07-17T06:32:13.530Z"
   },
   {
    "duration": 51,
    "start_time": "2021-07-17T06:32:13.545Z"
   },
   {
    "duration": 11,
    "start_time": "2021-07-17T06:32:13.598Z"
   },
   {
    "duration": 12,
    "start_time": "2021-07-17T06:32:13.611Z"
   },
   {
    "duration": 5,
    "start_time": "2021-07-17T06:32:13.624Z"
   },
   {
    "duration": 8,
    "start_time": "2021-07-17T06:32:13.631Z"
   },
   {
    "duration": 4,
    "start_time": "2021-07-17T06:32:13.641Z"
   },
   {
    "duration": 12,
    "start_time": "2021-07-17T06:32:13.646Z"
   },
   {
    "duration": 18,
    "start_time": "2021-07-17T06:32:13.691Z"
   },
   {
    "duration": 31707,
    "start_time": "2021-07-17T06:32:13.710Z"
   },
   {
    "duration": 16,
    "start_time": "2021-07-17T06:32:45.419Z"
   },
   {
    "duration": 343,
    "start_time": "2021-07-17T06:32:45.436Z"
   },
   {
    "duration": 660,
    "start_time": "2021-07-17T06:32:45.781Z"
   },
   {
    "duration": 7,
    "start_time": "2021-07-17T06:32:46.443Z"
   },
   {
    "duration": 22,
    "start_time": "2021-07-17T06:32:46.452Z"
   },
   {
    "duration": 181,
    "start_time": "2021-07-17T06:32:46.475Z"
   },
   {
    "duration": 168,
    "start_time": "2021-07-17T06:32:46.657Z"
   },
   {
    "duration": 26986,
    "start_time": "2021-07-17T06:32:46.827Z"
   },
   {
    "duration": 347,
    "start_time": "2021-07-17T06:33:13.815Z"
   },
   {
    "duration": 14,
    "start_time": "2021-07-17T06:33:14.163Z"
   },
   {
    "duration": 23,
    "start_time": "2021-07-17T06:33:14.178Z"
   },
   {
    "duration": 31,
    "start_time": "2021-07-17T06:33:14.202Z"
   },
   {
    "duration": 24,
    "start_time": "2021-07-17T06:33:14.234Z"
   },
   {
    "duration": 348,
    "start_time": "2021-07-17T06:34:23.288Z"
   }
  ],
  "kernelspec": {
   "display_name": "Python 3",
   "language": "python",
   "name": "python3"
  },
  "language_info": {
   "codemirror_mode": {
    "name": "ipython",
    "version": 3
   },
   "file_extension": ".py",
   "mimetype": "text/x-python",
   "name": "python",
   "nbconvert_exporter": "python",
   "pygments_lexer": "ipython3",
   "version": "3.8.8"
  },
  "toc": {
   "base_numbering": 1,
   "nav_menu": {},
   "number_sections": true,
   "sideBar": true,
   "skip_h1_title": true,
   "title_cell": "Table of Contents",
   "title_sidebar": "Contents",
   "toc_cell": false,
   "toc_position": {},
   "toc_section_display": true,
   "toc_window_display": false
  }
 },
 "nbformat": 4,
 "nbformat_minor": 5
}
