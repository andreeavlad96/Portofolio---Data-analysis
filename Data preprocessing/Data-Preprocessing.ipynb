{
 "cells": [
  {
   "cell_type": "markdown",
   "metadata": {},
   "source": [
    "## Analyzing borrowers’ risk of defaulting\n",
    "\n",
    "Your project is to prepare a report for a bank’s loan division. You’ll need to find out if a customer’s marital status and number of children has an impact on whether they will default on a loan. The bank already has some data on customers’ credit worthiness.\n",
    "\n",
    "Your report will be considered when building a **credit scoring** of a potential customer. A ** credit scoring ** is used to evaluate the ability of a potential borrower to repay their loan."
   ]
  },
  {
   "cell_type": "markdown",
   "metadata": {},
   "source": [
    "### Step 1. Open the data file and have a look at the general information. "
   ]
  },
  {
   "cell_type": "code",
   "execution_count": 1,
   "metadata": {
    "scrolled": true
   },
   "outputs": [
    {
     "data": {
      "text/html": [
       "<div>\n",
       "<style scoped>\n",
       "    .dataframe tbody tr th:only-of-type {\n",
       "        vertical-align: middle;\n",
       "    }\n",
       "\n",
       "    .dataframe tbody tr th {\n",
       "        vertical-align: top;\n",
       "    }\n",
       "\n",
       "    .dataframe thead th {\n",
       "        text-align: right;\n",
       "    }\n",
       "</style>\n",
       "<table border=\"1\" class=\"dataframe\">\n",
       "  <thead>\n",
       "    <tr style=\"text-align: right;\">\n",
       "      <th></th>\n",
       "      <th>children</th>\n",
       "      <th>days_employed</th>\n",
       "      <th>dob_years</th>\n",
       "      <th>education</th>\n",
       "      <th>education_id</th>\n",
       "      <th>family_status</th>\n",
       "      <th>family_status_id</th>\n",
       "      <th>gender</th>\n",
       "      <th>income_type</th>\n",
       "      <th>debt</th>\n",
       "      <th>total_income</th>\n",
       "      <th>purpose</th>\n",
       "    </tr>\n",
       "  </thead>\n",
       "  <tbody>\n",
       "    <tr>\n",
       "      <th>0</th>\n",
       "      <td>1</td>\n",
       "      <td>-8437.673028</td>\n",
       "      <td>42</td>\n",
       "      <td>bachelor's degree</td>\n",
       "      <td>0</td>\n",
       "      <td>married</td>\n",
       "      <td>0</td>\n",
       "      <td>F</td>\n",
       "      <td>employee</td>\n",
       "      <td>0</td>\n",
       "      <td>40620.102</td>\n",
       "      <td>purchase of the house</td>\n",
       "    </tr>\n",
       "    <tr>\n",
       "      <th>1</th>\n",
       "      <td>1</td>\n",
       "      <td>-4024.803754</td>\n",
       "      <td>36</td>\n",
       "      <td>secondary education</td>\n",
       "      <td>1</td>\n",
       "      <td>married</td>\n",
       "      <td>0</td>\n",
       "      <td>F</td>\n",
       "      <td>employee</td>\n",
       "      <td>0</td>\n",
       "      <td>17932.802</td>\n",
       "      <td>car purchase</td>\n",
       "    </tr>\n",
       "    <tr>\n",
       "      <th>2</th>\n",
       "      <td>0</td>\n",
       "      <td>-5623.422610</td>\n",
       "      <td>33</td>\n",
       "      <td>Secondary Education</td>\n",
       "      <td>1</td>\n",
       "      <td>married</td>\n",
       "      <td>0</td>\n",
       "      <td>M</td>\n",
       "      <td>employee</td>\n",
       "      <td>0</td>\n",
       "      <td>23341.752</td>\n",
       "      <td>purchase of the house</td>\n",
       "    </tr>\n",
       "    <tr>\n",
       "      <th>3</th>\n",
       "      <td>3</td>\n",
       "      <td>-4124.747207</td>\n",
       "      <td>32</td>\n",
       "      <td>secondary education</td>\n",
       "      <td>1</td>\n",
       "      <td>married</td>\n",
       "      <td>0</td>\n",
       "      <td>M</td>\n",
       "      <td>employee</td>\n",
       "      <td>0</td>\n",
       "      <td>42820.568</td>\n",
       "      <td>supplementary education</td>\n",
       "    </tr>\n",
       "    <tr>\n",
       "      <th>4</th>\n",
       "      <td>0</td>\n",
       "      <td>340266.072047</td>\n",
       "      <td>53</td>\n",
       "      <td>secondary education</td>\n",
       "      <td>1</td>\n",
       "      <td>civil partnership</td>\n",
       "      <td>1</td>\n",
       "      <td>F</td>\n",
       "      <td>retiree</td>\n",
       "      <td>0</td>\n",
       "      <td>25378.572</td>\n",
       "      <td>to have a wedding</td>\n",
       "    </tr>\n",
       "    <tr>\n",
       "      <th>5</th>\n",
       "      <td>0</td>\n",
       "      <td>-926.185831</td>\n",
       "      <td>27</td>\n",
       "      <td>bachelor's degree</td>\n",
       "      <td>0</td>\n",
       "      <td>civil partnership</td>\n",
       "      <td>1</td>\n",
       "      <td>M</td>\n",
       "      <td>business</td>\n",
       "      <td>0</td>\n",
       "      <td>40922.170</td>\n",
       "      <td>purchase of the house</td>\n",
       "    </tr>\n",
       "    <tr>\n",
       "      <th>6</th>\n",
       "      <td>0</td>\n",
       "      <td>-2879.202052</td>\n",
       "      <td>43</td>\n",
       "      <td>bachelor's degree</td>\n",
       "      <td>0</td>\n",
       "      <td>married</td>\n",
       "      <td>0</td>\n",
       "      <td>F</td>\n",
       "      <td>business</td>\n",
       "      <td>0</td>\n",
       "      <td>38484.156</td>\n",
       "      <td>housing transactions</td>\n",
       "    </tr>\n",
       "    <tr>\n",
       "      <th>7</th>\n",
       "      <td>0</td>\n",
       "      <td>-152.779569</td>\n",
       "      <td>50</td>\n",
       "      <td>SECONDARY EDUCATION</td>\n",
       "      <td>1</td>\n",
       "      <td>married</td>\n",
       "      <td>0</td>\n",
       "      <td>M</td>\n",
       "      <td>employee</td>\n",
       "      <td>0</td>\n",
       "      <td>21731.829</td>\n",
       "      <td>education</td>\n",
       "    </tr>\n",
       "    <tr>\n",
       "      <th>8</th>\n",
       "      <td>2</td>\n",
       "      <td>-6929.865299</td>\n",
       "      <td>35</td>\n",
       "      <td>BACHELOR'S DEGREE</td>\n",
       "      <td>0</td>\n",
       "      <td>civil partnership</td>\n",
       "      <td>1</td>\n",
       "      <td>F</td>\n",
       "      <td>employee</td>\n",
       "      <td>0</td>\n",
       "      <td>15337.093</td>\n",
       "      <td>having a wedding</td>\n",
       "    </tr>\n",
       "    <tr>\n",
       "      <th>9</th>\n",
       "      <td>0</td>\n",
       "      <td>-2188.756445</td>\n",
       "      <td>41</td>\n",
       "      <td>secondary education</td>\n",
       "      <td>1</td>\n",
       "      <td>married</td>\n",
       "      <td>0</td>\n",
       "      <td>M</td>\n",
       "      <td>employee</td>\n",
       "      <td>0</td>\n",
       "      <td>23108.150</td>\n",
       "      <td>purchase of the house for my family</td>\n",
       "    </tr>\n",
       "  </tbody>\n",
       "</table>\n",
       "</div>"
      ],
      "text/plain": [
       "   children  days_employed  dob_years            education  education_id  \\\n",
       "0         1   -8437.673028         42    bachelor's degree             0   \n",
       "1         1   -4024.803754         36  secondary education             1   \n",
       "2         0   -5623.422610         33  Secondary Education             1   \n",
       "3         3   -4124.747207         32  secondary education             1   \n",
       "4         0  340266.072047         53  secondary education             1   \n",
       "5         0    -926.185831         27    bachelor's degree             0   \n",
       "6         0   -2879.202052         43    bachelor's degree             0   \n",
       "7         0    -152.779569         50  SECONDARY EDUCATION             1   \n",
       "8         2   -6929.865299         35    BACHELOR'S DEGREE             0   \n",
       "9         0   -2188.756445         41  secondary education             1   \n",
       "\n",
       "       family_status  family_status_id gender income_type  debt  total_income  \\\n",
       "0            married                 0      F    employee     0     40620.102   \n",
       "1            married                 0      F    employee     0     17932.802   \n",
       "2            married                 0      M    employee     0     23341.752   \n",
       "3            married                 0      M    employee     0     42820.568   \n",
       "4  civil partnership                 1      F     retiree     0     25378.572   \n",
       "5  civil partnership                 1      M    business     0     40922.170   \n",
       "6            married                 0      F    business     0     38484.156   \n",
       "7            married                 0      M    employee     0     21731.829   \n",
       "8  civil partnership                 1      F    employee     0     15337.093   \n",
       "9            married                 0      M    employee     0     23108.150   \n",
       "\n",
       "                               purpose  \n",
       "0                purchase of the house  \n",
       "1                         car purchase  \n",
       "2                purchase of the house  \n",
       "3              supplementary education  \n",
       "4                    to have a wedding  \n",
       "5                purchase of the house  \n",
       "6                 housing transactions  \n",
       "7                            education  \n",
       "8                     having a wedding  \n",
       "9  purchase of the house for my family  "
      ]
     },
     "execution_count": 1,
     "metadata": {},
     "output_type": "execute_result"
    }
   ],
   "source": [
    "#use read_csv() function to read the file and the functions head(),info() to look at the general information.\n",
    "import pandas as pd\n",
    "\n",
    "credit_scoring = pd.read_csv('/datasets/credit_scoring_eng.csv')\n",
    "credit_scoring.head(10)\n",
    "#credit_scoring.info()"
   ]
  },
  {
   "cell_type": "markdown",
   "metadata": {},
   "source": [
    "### Conclusion"
   ]
  },
  {
   "cell_type": "markdown",
   "metadata": {},
   "source": [
    "Looking at the general information I notice that some data in 'days_employed' column is ambiguous and need to be changed . The number of days a customer has been working can't be negative and we also should have integer numbers there. "
   ]
  },
  {
   "cell_type": "markdown",
   "metadata": {},
   "source": [
    "### Step 2. Data preprocessing"
   ]
  },
  {
   "cell_type": "markdown",
   "metadata": {},
   "source": [
    "### Processing missing values"
   ]
  },
  {
   "cell_type": "code",
   "execution_count": 2,
   "metadata": {
    "scrolled": true
   },
   "outputs": [
    {
     "name": "stdout",
     "output_type": "stream",
     "text": [
      "Percentage of missing values :\n",
      "\n",
      "children            0.000000\n",
      "days_employed       0.100999\n",
      "dob_years           0.000000\n",
      "education           0.000000\n",
      "education_id        0.000000\n",
      "family_status       0.000000\n",
      "family_status_id    0.000000\n",
      "gender              0.000000\n",
      "income_type         0.000000\n",
      "debt                0.000000\n",
      "total_income        0.100999\n",
      "purpose             0.000000\n",
      "dtype: float64\n"
     ]
    },
    {
     "data": {
      "text/plain": [
       "Series([], Name: income_type, dtype: int64)"
      ]
     },
     "execution_count": 2,
     "metadata": {},
     "output_type": "execute_result"
    }
   ],
   "source": [
    "#finding NaN values\n",
    "percentage_missing = (credit_scoring.isnull().sum())/len(credit_scoring)\n",
    "print(\"Percentage of missing values :\")\n",
    "print('')\n",
    "print(percentage_missing)\n",
    "\n",
    "#take the two columns with missing values in a variable to process them\n",
    "missing_values =['days_employed','total_income']\n",
    "\n",
    "#take a look at the income_type column where days_employed and total_income values are missing\n",
    "credit_scoring[credit_scoring['days_employed'].isnull()]['income_type'].value_counts()\n",
    "credit_scoring[credit_scoring['total_income'].isnull()]['income_type'].value_counts()\n",
    "#as I see that a lot of employees have missing values I assumed that there are some mistakes and decide to calculate the median value for the income_type 'employed' and fill the missing values with it\n",
    "medianDaysEmployed = credit_scoring[credit_scoring['income_type']=='employee']['days_employed'].median()\n",
    "medianTotalIncome = credit_scoring[credit_scoring['income_type']=='employee']['total_income'].median()\n",
    "\n",
    "#filling with median\n",
    "credit_scoring ['days_employed'] = credit_scoring['days_employed'].fillna(medianDaysEmployed)\n",
    "credit_scoring ['total_income'] = credit_scoring['total_income'].fillna(medianTotalIncome)\n",
    "#check for missing values\n",
    "credit_scoring['days_employed'].isnull().sum()\n",
    "credit_scoring['total_income'].isnull().sum()\n",
    "\n",
    "#fill the ' 0 ' age with a valid number\n",
    "credit_scoring[credit_scoring['dob_years']==0]['income_type'].value_counts()\n",
    "medianEmployed = credit_scoring[credit_scoring['income_type']=='employee']['dob_years'].median()\n",
    "#replace age '0' for employed with the median value\n",
    "credit_scoring.loc[(credit_scoring['income_type']=='employee')&(credit_scoring['dob_years']==0),'dob_years']=medianEmployed\n",
    "credit_scoring[credit_scoring['dob_years']==0]['income_type'].value_counts()\n",
    "\n",
    "#replace age '0' for retiree with the median value\n",
    "medianRetiree = credit_scoring[credit_scoring['income_type']=='retiree']['dob_years'].median()\n",
    "credit_scoring.loc[(credit_scoring['income_type']=='retiree')&(credit_scoring['dob_years']==0),'dob_years']=medianRetiree\n",
    "credit_scoring[credit_scoring['dob_years']==0]['income_type'].value_counts()\n",
    "\n",
    "#replace age '0' for business with the median value\n",
    "medianBusiness = credit_scoring[credit_scoring['income_type']=='business']['dob_years'].median()\n",
    "credit_scoring.loc[(credit_scoring['income_type']=='business')&(credit_scoring['dob_years']==0),'dob_years']=medianBusiness\n",
    "credit_scoring[credit_scoring['dob_years']==0]['income_type'].value_counts()\n",
    "\n",
    "#replace age '0' for civil servant with the median value\n",
    "medianCivil = credit_scoring[credit_scoring['income_type']=='civil servant']['dob_years'].median()\n",
    "credit_scoring.loc[(credit_scoring['income_type']=='civil servant')&(credit_scoring['dob_years']==0),'dob_years']=medianCivil\n",
    "credit_scoring[credit_scoring['dob_years']==0]['income_type'].value_counts()"
   ]
  },
  {
   "cell_type": "markdown",
   "metadata": {},
   "source": [
    " Conclusion"
   ]
  },
  {
   "cell_type": "markdown",
   "metadata": {},
   "source": [
    " I used isnull() and sum() functions to find the missing values and since days_employed and total_income have missing values I thought it could be a misspelling and decided to fill them with the median. ."
   ]
  },
  {
   "cell_type": "markdown",
   "metadata": {},
   "source": [
    "### Data type replacement"
   ]
  },
  {
   "cell_type": "code",
   "execution_count": 3,
   "metadata": {},
   "outputs": [
    {
     "name": "stdout",
     "output_type": "stream",
     "text": [
      "<class 'pandas.core.frame.DataFrame'>\n",
      "RangeIndex: 21525 entries, 0 to 21524\n",
      "Data columns (total 12 columns):\n",
      " #   Column            Non-Null Count  Dtype  \n",
      "---  ------            --------------  -----  \n",
      " 0   children          21525 non-null  int64  \n",
      " 1   days_employed     21525 non-null  float64\n",
      " 2   dob_years         21525 non-null  float64\n",
      " 3   education         21525 non-null  object \n",
      " 4   education_id      21525 non-null  int64  \n",
      " 5   family_status     21525 non-null  object \n",
      " 6   family_status_id  21525 non-null  int64  \n",
      " 7   gender            21525 non-null  object \n",
      " 8   income_type       21525 non-null  object \n",
      " 9   debt              21525 non-null  int64  \n",
      " 10  total_income      21525 non-null  float64\n",
      " 11  purpose           21525 non-null  object \n",
      "dtypes: float64(3), int64(4), object(5)\n",
      "memory usage: 2.0+ MB\n"
     ]
    }
   ],
   "source": [
    "credit_scoring.info()\n",
    "#change the data type for days_employed column from float to int\n",
    "credit_scoring['days_employed'] = credit_scoring ['days_employed'].astype(int)\n",
    "credit_scoring['days_employed'].value_counts()\n",
    "\n",
    "#change the negative numbers with the median of the positive numbers \n",
    "medianDaysEmployed=credit_scoring[credit_scoring['days_employed']>0]['days_employed'].median()\n",
    "credit_scoring.loc[credit_scoring['days_employed']<0,'days_employed']=medianDaysEmployed\n",
    "credit_scoring[credit_scoring['days_employed']<0]['days_employed'].sum()\n",
    "\n",
    "medianTotalValues=credit_scoring[credit_scoring['total_income']>0]['total_income'].median()\n",
    "credit_scoring.loc[credit_scoring['total_income']<0,'total_income']=medianTotalValues\n",
    "credit_scoring[credit_scoring['total_income']<0]['total_income'].sum()\n",
    "\n",
    "#look at the debt depending on the number of children \n",
    "credit_scoring.groupby('children')['debt'].value_counts() # we see -1\n",
    "credit_scoring.loc[credit_scoring['children'] == -1,'debt'] = 1#replace with 1\n",
    " \n",
    "credit_scoring.groupby('family_status')['debt'].value_counts()\n",
    "\n",
    "credit_scoring['differenceChild'] =credit_scoring.loc[credit_scoring['debt']==0,'children'].value_counts()- credit_scoring[credit_scoring['debt']==1]['children'].value_counts()\n",
    "credit_scoring['differenceFamilyStatus'] = credit_scoring.loc[credit_scoring['debt']==0]['family_status_id'].value_counts()- credit_scoring[credit_scoring['debt']==1]['family_status_id'].value_counts()\n",
    "\n",
    "#group the columns to see how much having childs and family status have an impact on the debt\n",
    "pivot_table_child = credit_scoring.pivot_table(index='children', columns='debt', values='differenceChild',aggfunc='mean')\n",
    "pivot_table_family = credit_scoring.pivot_table(index='debt', columns='family_status_id', values='differenceFamilyStatus',aggfunc='mean')\n",
    " "
   ]
  },
  {
   "cell_type": "markdown",
   "metadata": {},
   "source": [
    "### Conclusion"
   ]
  },
  {
   "cell_type": "markdown",
   "metadata": {},
   "source": [
    "Changing the data type from float to int and fixing the mistakes from 'children' column."
   ]
  },
  {
   "cell_type": "markdown",
   "metadata": {},
   "source": [
    "### Processing duplicates"
   ]
  },
  {
   "cell_type": "code",
   "execution_count": 4,
   "metadata": {
    "scrolled": true
   },
   "outputs": [
    {
     "data": {
      "text/plain": [
       "secondary education    15233\n",
       "bachelor's degree       5260\n",
       "some college             744\n",
       "primary education        282\n",
       "graduate degree            6\n",
       "Name: education, dtype: int64"
      ]
     },
     "execution_count": 4,
     "metadata": {},
     "output_type": "execute_result"
    }
   ],
   "source": [
    "#look for duplicates\n",
    "credit_scoring.duplicated().sum()\n",
    "\n",
    "#I think that  duplicates should not be deleted so I just decide to process the education column for a better view \n",
    "\n",
    "credit_scoring['education']=credit_scoring['education'].str.lower()\n",
    "credit_scoring['education'].value_counts()"
   ]
  },
  {
   "cell_type": "markdown",
   "metadata": {},
   "source": [
    "I just think that deleting duplicates is not a good approch because I lose a lot of data information so I just decided to work on the education column. "
   ]
  },
  {
   "cell_type": "markdown",
   "metadata": {},
   "source": [
    "### Categorizing Data"
   ]
  },
  {
   "cell_type": "code",
   "execution_count": 5,
   "metadata": {},
   "outputs": [
    {
     "name": "stdout",
     "output_type": "stream",
     "text": [
      "no children                    14149\n",
      "have children                   6996\n",
      "have more than two children      380\n",
      "Name: children_status, dtype: int64\n",
      "\n",
      "Average income      9179\n",
      "High income         4535\n",
      "Very high income    4068\n",
      "Low income          3743\n",
      "Name: income_status, dtype: int64\n"
     ]
    }
   ],
   "source": [
    "credit_scoring['purpose'].value_counts()\n",
    "#categorize data from the 'purpose' column\n",
    "\n",
    "credit_scoring.loc[credit_scoring['purpose']=='to have a wedding','purpose']='wedding'\n",
    "credit_scoring.loc[credit_scoring['purpose']=='having a wedding','purpose']='wedding'\n",
    "credit_scoring.loc[credit_scoring['purpose']=='wedding ceremony','purpose']='wedding'\n",
    "\n",
    "credit_scoring.loc[credit_scoring['purpose']=='transactions with commercial real estate','purpose']='real estate transactions'\n",
    "credit_scoring.loc[credit_scoring['purpose']=='transactions with my real estate','purpose']='real estate transactions'\n",
    "credit_scoring.loc[credit_scoring['purpose']=='buy commercial real estate','purpose']='real estate'\n",
    "credit_scoring.loc[credit_scoring['purpose']=='housing transactions','purpose']='real estate transactions'\n",
    "credit_scoring.loc[credit_scoring['purpose']=='buying property for renting out','purpose']='real estate transactions'\n",
    "credit_scoring.loc[credit_scoring['purpose']=='purchase of the house','purpose']='real estate transactions'\n",
    "credit_scoring.loc[credit_scoring['purpose']=='purchase of the house for my family','purpose']='real estate transactions'\n",
    "credit_scoring.loc[credit_scoring['purpose']=='buy real estate','purpose']='real estate transactions'\n",
    "credit_scoring.loc[credit_scoring['purpose']=='purchase of my own house','purpose']='real estate transactions'\n",
    "credit_scoring.loc[credit_scoring['purpose']=='buy residential real estate','purpose']='real estate transactions'\n",
    "\n",
    "credit_scoring.loc[credit_scoring['purpose']=='housing','purpose']='building a real estate'\n",
    "credit_scoring.loc[credit_scoring['purpose']=='construction of own property','purpose']='building a real estate'\n",
    "credit_scoring.loc[credit_scoring['purpose']=='property','purpose']='building a real estate'\n",
    "credit_scoring.loc[credit_scoring['purpose']=='building a property','purpose']='building a real estate'\n",
    "credit_scoring.loc[credit_scoring['purpose']=='housing renovation','purpose']='building a real estate'\n",
    "\n",
    "credit_scoring.loc[credit_scoring['purpose']=='going to university','purpose']='education'\n",
    "credit_scoring.loc[credit_scoring['purpose']=='supplementary education','purpose']='education'\n",
    "credit_scoring.loc[credit_scoring['purpose']=='university education','purpose']='education'\n",
    "credit_scoring.loc[credit_scoring['purpose']=='to get a supplementary education','purpose']='education'\n",
    "credit_scoring.loc[credit_scoring['purpose']=='getting an education','purpose']='education'\n",
    "credit_scoring.loc[credit_scoring['purpose']=='profile education','purpose']='education'\n",
    "credit_scoring.loc[credit_scoring['purpose']=='getting higher education','purpose']='education'\n",
    "credit_scoring.loc[credit_scoring['purpose']=='to become educated','purpose']='education'\n",
    "\n",
    "credit_scoring.loc[credit_scoring['purpose']=='buying my own car','purpose']='purchase of a car'\n",
    "credit_scoring.loc[credit_scoring['purpose']=='car','purpose']='purchase of a car'\n",
    "credit_scoring.loc[credit_scoring['purpose']=='second-hand car purchase','purpose']='purchase of a car'\n",
    "credit_scoring.loc[credit_scoring['purpose']=='to own a car','purpose']='purchase of a car'\n",
    "credit_scoring.loc[credit_scoring['purpose']=='buying a second-hand car','purpose']='purchase of a car'\n",
    "credit_scoring.loc[credit_scoring['purpose']=='cars','purpose']='purchase of a car'\n",
    "credit_scoring.loc[credit_scoring['purpose']=='to buy a car','purpose']='purchase of a car'\n",
    "credit_scoring.loc[credit_scoring['purpose']=='car purchase','purpose']='purchase of a car'\n",
    "credit_scoring.loc[credit_scoring['purpose']=='car','purpose']='purchase of a car'\n",
    "credit_scoring.loc[credit_scoring['purpose']=='car','purpose']='purchase of a car'\n",
    "credit_scoring.loc[credit_scoring['purpose']=='car','purpose']='purchase of a car'\n",
    "credit_scoring.loc[credit_scoring['purpose']=='car','purpose']='purchase of a car'\n",
    "\n",
    "credit_scoring['purpose'].value_counts()\n",
    "\n",
    "credit_scoring['children'].value_counts()\n",
    "credit_scoring.loc[credit_scoring['children'] == -1,'children'] = 1\n",
    "credit_scoring.loc[credit_scoring['children'] == 20,'children'] = 2\n",
    "credit_scoring['children'].value_counts()\n",
    "\n",
    "\n",
    "def having_children(value):\n",
    "    \n",
    "    if value == 0 :\n",
    "        return 'no children'\n",
    "    if value > 2:\n",
    "        return 'have more than two children'\n",
    "    return 'have children'\n",
    "    \n",
    "\n",
    "credit_scoring['children_status'] = credit_scoring['children'].apply(having_children)\n",
    "print(credit_scoring['children_status'].value_counts())\n",
    "print()\n",
    "\n",
    "def income_status(total_income):\n",
    "    \n",
    "    if total_income <= 15000:\n",
    "        return 'Low income'\n",
    "    if total_income <= 25000:\n",
    "        return 'Average income'\n",
    "    if total_income <= 35000:\n",
    "        return 'High income'\n",
    "    return 'Very high income'\n",
    " \n",
    "credit_scoring['income_status'] = credit_scoring['total_income'].apply(income_status)\n",
    "print(credit_scoring['income_status'].value_counts())\n"
   ]
  },
  {
   "cell_type": "markdown",
   "metadata": {},
   "source": [
    "### Conclusion"
   ]
  },
  {
   "cell_type": "markdown",
   "metadata": {},
   "source": [
    " After spending some time trying to find an easier way to categorize the 'purpose' column, I just gave up and do it this way."
   ]
  },
  {
   "cell_type": "markdown",
   "metadata": {},
   "source": [
    "### Step 3. Answer these questions"
   ]
  },
  {
   "cell_type": "markdown",
   "metadata": {},
   "source": [
    "- Is there a relation between having kids and repaying a loan on time?"
   ]
  },
  {
   "cell_type": "code",
   "execution_count": 6,
   "metadata": {},
   "outputs": [
    {
     "name": "stdout",
     "output_type": "stream",
     "text": [
      "Percentage for repaying the loan on time :\n",
      "\n",
      "no children                    0.607944\n",
      "have children                  0.292822\n",
      "have more than two children    0.016214\n",
      "Name: children_status, dtype: float64\n",
      "Percentage for defaulting on the loan :\n",
      "\n",
      "no children                    0.049384\n",
      "have children                  0.032195\n",
      "have more than two children    0.001440\n",
      "Name: children_status, dtype: float64\n"
     ]
    }
   ],
   "source": [
    "#pivot_table_child\n",
    "percentage_repay = (credit_scoring[credit_scoring['debt']==0]['children_status'].value_counts())/len(credit_scoring)\n",
    "print(\"Percentage for repaying the loan on time :\")\n",
    "print('')\n",
    "print(percentage_repay)\n",
    "percentage_not_repay = (credit_scoring[credit_scoring['debt']==1]['children_status'].value_counts())/len(credit_scoring)\n",
    "print(\"Percentage for defaulting on the loan :\")\n",
    "print('')\n",
    "print(percentage_not_repay)"
   ]
  },
  {
   "cell_type": "markdown",
   "metadata": {},
   "source": [
    "### Conclusion"
   ]
  },
  {
   "cell_type": "markdown",
   "metadata": {},
   "source": [
    "Borrowers with less than _3 kids_ are more likely to repay the loan on time."
   ]
  },
  {
   "cell_type": "markdown",
   "metadata": {},
   "source": [
    "- Is there a relation between marital status and repaying a loan on time?"
   ]
  },
  {
   "cell_type": "code",
   "execution_count": 7,
   "metadata": {},
   "outputs": [
    {
     "data": {
      "text/html": [
       "<div>\n",
       "<style scoped>\n",
       "    .dataframe tbody tr th:only-of-type {\n",
       "        vertical-align: middle;\n",
       "    }\n",
       "\n",
       "    .dataframe tbody tr th {\n",
       "        vertical-align: top;\n",
       "    }\n",
       "\n",
       "    .dataframe thead th {\n",
       "        text-align: right;\n",
       "    }\n",
       "</style>\n",
       "<table border=\"1\" class=\"dataframe\">\n",
       "  <thead>\n",
       "    <tr style=\"text-align: right;\">\n",
       "      <th>family_status_id</th>\n",
       "      <th>0</th>\n",
       "      <th>1</th>\n",
       "    </tr>\n",
       "    <tr>\n",
       "      <th>debt</th>\n",
       "      <th></th>\n",
       "      <th></th>\n",
       "    </tr>\n",
       "  </thead>\n",
       "  <tbody>\n",
       "    <tr>\n",
       "      <th>0</th>\n",
       "      <td>3924.0</td>\n",
       "      <td>2255.0</td>\n",
       "    </tr>\n",
       "  </tbody>\n",
       "</table>\n",
       "</div>"
      ],
      "text/plain": [
       "family_status_id       0       1\n",
       "debt                            \n",
       "0                 3924.0  2255.0"
      ]
     },
     "execution_count": 7,
     "metadata": {},
     "output_type": "execute_result"
    }
   ],
   "source": [
    "pivot_table_family"
   ]
  },
  {
   "cell_type": "markdown",
   "metadata": {},
   "source": [
    "### Conclusion"
   ]
  },
  {
   "cell_type": "markdown",
   "metadata": {},
   "source": [
    "People with marital and civil partnership status tend to repay the loan on time."
   ]
  },
  {
   "cell_type": "markdown",
   "metadata": {},
   "source": [
    "- Is there a relation between income level and repaying a loan on time?"
   ]
  },
  {
   "cell_type": "code",
   "execution_count": 8,
   "metadata": {},
   "outputs": [
    {
     "data": {
      "text/plain": [
       "26444.571974490827"
      ]
     },
     "execution_count": 8,
     "metadata": {},
     "output_type": "execute_result"
    }
   ],
   "source": [
    "credit_scoring[credit_scoring['debt']==1]['total_income'].median()\n",
    "credit_scoring[credit_scoring['debt']==0]['total_income'].median()\n",
    "\n",
    "credit_scoring[credit_scoring['debt']==1]['total_income'].mean()\n",
    "credit_scoring[credit_scoring['debt']==0]['total_income'].mean()"
   ]
  },
  {
   "cell_type": "markdown",
   "metadata": {},
   "source": [
    "### Conclusion"
   ]
  },
  {
   "cell_type": "markdown",
   "metadata": {},
   "source": [
    "Looks like repaying a loan on time does not depend on the income level."
   ]
  },
  {
   "cell_type": "markdown",
   "metadata": {},
   "source": [
    "- How do different loan purposes affect on-time repayment of the loan?"
   ]
  },
  {
   "cell_type": "code",
   "execution_count": 9,
   "metadata": {},
   "outputs": [
    {
     "data": {
      "text/plain": [
       "purpose                   debt\n",
       "building a real estate    0       3500\n",
       "                          1        274\n",
       "education                 0       3642\n",
       "                          1        380\n",
       "purchase of a car         0       3902\n",
       "                          1        413\n",
       "real estate               0        617\n",
       "                          1         47\n",
       "real estate transactions  0       5917\n",
       "                          1        485\n",
       "wedding                   0       2160\n",
       "                          1        188\n",
       "Name: debt, dtype: int64"
      ]
     },
     "execution_count": 9,
     "metadata": {},
     "output_type": "execute_result"
    }
   ],
   "source": [
    "credit_scoring.groupby('purpose')['debt'].value_counts()"
   ]
  },
  {
   "cell_type": "markdown",
   "metadata": {},
   "source": [
    "### Conclusion"
   ]
  },
  {
   "cell_type": "markdown",
   "metadata": {},
   "source": [
    "Looks like borrowers with 'real estate transactions' purposes are the best candidates."
   ]
  },
  {
   "cell_type": "markdown",
   "metadata": {},
   "source": [
    "### Step 4. General conclusion"
   ]
  },
  {
   "cell_type": "markdown",
   "metadata": {},
   "source": [
    "Going through the raw data I realised that preprocessing it seems to have a big role before trying to work on data. Having wrong data types and missing values can affect out predictions and categorising data is very helpful for a better view of the data."
   ]
  }
 ],
 "metadata": {
  "kernelspec": {
   "display_name": "Python 3",
   "language": "python",
   "name": "python3"
  },
  "language_info": {
   "codemirror_mode": {
    "name": "ipython",
    "version": 3
   },
   "file_extension": ".py",
   "mimetype": "text/x-python",
   "name": "python",
   "nbconvert_exporter": "python",
   "pygments_lexer": "ipython3",
   "version": "3.8.8"
  },
  "toc": {
   "base_numbering": 1,
   "nav_menu": {},
   "number_sections": true,
   "sideBar": true,
   "skip_h1_title": false,
   "title_cell": "Table of Contents",
   "title_sidebar": "Contents",
   "toc_cell": false,
   "toc_position": {},
   "toc_section_display": true,
   "toc_window_display": false
  }
 },
 "nbformat": 4,
 "nbformat_minor": 2
}
